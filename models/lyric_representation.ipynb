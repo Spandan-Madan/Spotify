{
 "cells": [
  {
   "cell_type": "markdown",
   "metadata": {},
   "source": [
    "## THINGS TO DO\n",
    " 1. TF-IDF\n",
    " 2. DOC2VEC\n",
    " 3. TOPIC MODELING"
   ]
  },
  {
   "cell_type": "code",
   "execution_count": 18,
   "metadata": {},
   "outputs": [],
   "source": [
    "import pickle\n",
    "import numpy as np\n",
    "import sys\n",
    "import gensim\n",
    "import os\n",
    "import collections\n",
    "import smart_open\n",
    "import random\n",
    "\n",
    "from IPython.display import clear_output\n"
   ]
  },
  {
   "cell_type": "code",
   "execution_count": null,
   "metadata": {
    "collapsed": true
   },
   "outputs": [],
   "source": [
    "# READ LYRIC PICKLE\n",
    "scraped_lyric_dir = \"./lyrics/song_artist_lyrics.p\"\n",
    "song_pair = pickle.load(open(scraped_lyric_dir, 'rb'))"
   ]
  },
  {
   "cell_type": "markdown",
   "metadata": {},
   "source": [
    "### DOC2VEC"
   ]
  },
  {
   "cell_type": "code",
   "execution_count": 20,
   "metadata": {},
   "outputs": [
    {
     "name": "stdout",
     "output_type": "stream",
     "text": [
      "Preprocessing...  93.97436379355712 %\n",
      "Finished\n"
     ]
    }
   ],
   "source": [
    "def progress(cnt, total, div):\n",
    "    if cnt % div == 0:\n",
    "        clear_output(wait=True)\n",
    "        print (\"Preprocessing... \", cnt / total*1.0 * 100, '%')\n",
    "    \n",
    "def read_corpus(song_pair, tokens_only=False):\n",
    "    for i, key in enumerate(song_pair):\n",
    "        progress(i, len(song_pair), 10000)\n",
    "        artist = song_pair[key][1].replace('\\n', '')\n",
    "        title = song_pair[key][0].replace('\\n', '')\n",
    "        lyric = song_pair[key][2].replace('\\n', ' ')\n",
    "        if tokens_only:\n",
    "            yield gensim.utils.simple_preprocess(lyric)\n",
    "        else:\n",
    "            # For training data, add tags\n",
    "            yield gensim.models.doc2vec.TaggedDocument(gensim.utils.simple_preprocess(lyric), [artist + '_' + title])\n",
    "\n",
    "corpus = list(read_corpus(song_pair))\n",
    "print (\"Finished\")\n",
    "# print (corpus[:2])"
   ]
  },
  {
   "cell_type": "code",
   "execution_count": 45,
   "metadata": {},
   "outputs": [
    {
     "name": "stdout",
     "output_type": "stream",
     "text": [
      "CPU times: user 2min 5s, sys: 3.48 s, total: 2min 9s\n",
      "Wall time: 50.3 s\n"
     ]
    }
   ],
   "source": [
    "# TRAINING...\n",
    "epoch = 5 # Set to 2 because slow\n",
    "model = gensim.models.doc2vec.Doc2Vec(vector_size=100, min_count=2, epochs=epoch)\n",
    "model.build_vocab(corpus)\n",
    "%time model.train(corpus, total_examples=model.corpus_count, epochs=model.epochs)"
   ]
  },
  {
   "cell_type": "code",
   "execution_count": 54,
   "metadata": {},
   "outputs": [
    {
     "name": "stdout",
     "output_type": "stream",
     "text": [
      "Doc2Vec(dm/m,d100,n5,w5,mc2,s0.001,t3)\n",
      "Key: Usher_Yeah!\n",
      "Sample Doc Embedding:\n",
      " [ 4.21131790e-01 -5.73277660e-02 -4.81016599e-02 -4.05346990e-01\n",
      " -1.66537449e-01 -7.88057894e-02 -1.25835955e-01  3.73831779e-01\n",
      " -2.66123533e-01  4.21134025e-01  4.18611094e-02 -5.71092963e-03\n",
      "  1.95088416e-01 -3.12872559e-01 -1.44553989e-01 -2.37367064e-01\n",
      " -1.16937488e-01  3.98216635e-01 -3.81563336e-01  1.12749144e-01\n",
      "  2.19683319e-01  4.11753245e-02  3.19703281e-01  2.36891359e-01\n",
      "  2.93331295e-01  3.74861270e-01  8.59662145e-02  3.62854630e-01\n",
      "  1.25365004e-01  3.76454920e-01 -5.68959951e-01 -2.85776049e-01\n",
      "  1.95158511e-01  2.36612722e-01 -7.91151896e-02 -1.31897762e-01\n",
      "  3.73833179e-01  2.12186471e-01  4.97275025e-01 -2.37590060e-01\n",
      " -4.18672681e-01  1.52167529e-01  1.51995331e-01  6.71629086e-02\n",
      "  4.38404828e-01 -6.88874512e-04  3.90874833e-01  3.44782770e-01\n",
      "  1.89395063e-02  3.35040331e-01 -5.33962727e-01  1.35052294e-01\n",
      " -4.51061130e-01  1.34803101e-01 -1.36076212e-01 -1.78043872e-01\n",
      " -6.31645918e-02  3.75386417e-01  1.77842841e-01 -2.52850968e-02\n",
      " -4.80992272e-02  2.97202855e-01  4.03568327e-01  5.17877400e-01\n",
      " -2.14927852e-01 -2.38542110e-01 -4.92434233e-01  2.03308940e-01\n",
      " -3.45496684e-01 -1.03266157e-01 -2.50620037e-01  1.60362735e-01\n",
      "  3.29045534e-01 -4.22447592e-01  1.96078956e-01 -7.96041116e-02\n",
      "  6.42301366e-02 -7.34789371e-02 -3.01551342e-01  9.65462103e-02\n",
      " -2.16948986e-01  4.57715690e-01 -2.13921696e-01  9.04431716e-02\n",
      " -5.79945184e-02  1.16179436e-01  5.97315803e-02 -2.04960167e-01\n",
      "  2.25478530e-01  2.10197479e-01 -1.62675336e-01 -1.15723629e-02\n",
      "  7.65799820e-01 -3.47432077e-01 -2.79915947e-02 -2.44566903e-01\n",
      "  1.14309348e-01  3.97960514e-01 -1.23184048e-01  2.04197451e-01]\n",
      "(100,)\n"
     ]
    }
   ],
   "source": [
    "print (model)\n",
    "upto = 10\n",
    "song_idx = 5\n",
    "print (\"Key:\" , corpus[:10][song_idx][1][0])\n",
    "print (\"Sample Doc Embedding:\\n\", model.docvecs[corpus[:upto][song_idx][1][0]])\n",
    "print (model.docvecs[corpus[:upto][song_idx][1][0]].shape)"
   ]
  },
  {
   "cell_type": "code",
   "execution_count": 55,
   "metadata": {},
   "outputs": [
    {
     "name": "stdout",
     "output_type": "stream",
     "text": [
      "SONG SIMILILIARY COMPARED TO BRITNEY SPEARS-TOXIC\n",
      "\n",
      "0 : Usher -> Yeah!\n",
      "1 : Glee Cast -> Yeah! (Glee Cast Version)\n",
      "2 : Travis Porter -> Ayy Ladies\n",
      "3 : Travis Porter -> Bring It Back\n",
      "4 : Ludacris -> Freaky Thangs\n",
      "5 : Jason Derulo -> Zipper\n",
      "6 : Project Pat -> Sucks on Dick (feat. Juicy J)\n",
      "7 : Tyga -> Bouncin On My D*ck\n",
      "8 : Macklemore -> Willy Wonka (feat. Offset)\n",
      "9 : Lil Wayne -> Weezy Baby\n"
     ]
    }
   ],
   "source": [
    "sims = model.docvecs.most_similar([model.docvecs[corpus[:upto][song_idx][1][0]]])\n",
    "print (\"SONG SIMILILIARY COMPARED TO BRITNEY SPEARS-TOXIC\\n\")\n",
    "for idx, song in enumerate(sims):\n",
    "    print (idx, ':', sims[idx][0].replace('_', \" -> \"))"
   ]
  }
 ],
 "metadata": {
  "kernelspec": {
   "display_name": "Python 3",
   "language": "python",
   "name": "python3"
  },
  "language_info": {
   "codemirror_mode": {
    "name": "ipython",
    "version": 3
   },
   "file_extension": ".py",
   "mimetype": "text/x-python",
   "name": "python",
   "nbconvert_exporter": "python",
   "pygments_lexer": "ipython3",
   "version": "3.6.3"
  }
 },
 "nbformat": 4,
 "nbformat_minor": 2
}
