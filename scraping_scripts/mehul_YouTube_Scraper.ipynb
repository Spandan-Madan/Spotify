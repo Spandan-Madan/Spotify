{
 "cells": [
  {
   "cell_type": "code",
   "execution_count": 1,
   "metadata": {
    "collapsed": true
   },
   "outputs": [],
   "source": [
    "import pandas as pd\n",
    "import numpy as np\n",
    "import json  \n",
    "import zipfile  \n",
    "import tarfile"
   ]
  },
  {
   "cell_type": "code",
   "execution_count": 3,
   "metadata": {
    "collapsed": true
   },
   "outputs": [],
   "source": [
    "### DON NOT RUN AGAIN\n",
    "tar = tarfile.open(\"mpd.v1.tar\")\n",
    "# tar.getmembers()"
   ]
  },
  {
   "cell_type": "code",
   "execution_count": 4,
   "metadata": {},
   "outputs": [
    {
     "name": "stdout",
     "output_type": "stream",
     "text": [
      "Done reading 0\n",
      "Done dumping 0\n",
      "Done reading 1000\n",
      "Done dumping 1000\n",
      "Done reading 2000\n",
      "Done dumping 2000\n",
      "Done reading 3000\n",
      "Done dumping 3000\n",
      "Done reading 4000\n",
      "Done dumping 4000\n"
     ]
    }
   ],
   "source": [
    "# DO NOT RUN AGAIN\n",
    "# Extracting single file\n",
    "for start in [0,1000,2000,3000,4000]:\n",
    "    f = tar.extractfile(\"./data/mpd.slice.\"+str(start)+\"-\"+str(start+999)+\".json\")\n",
    "    rf = json.loads(f.read())\n",
    "    print(\"Done reading \"+str(start))\n",
    "    with open('Data/data'+str(start)+'.json', 'w') as outfile:\n",
    "        json.dump(rf, outfile)\n",
    "    print(\"Done dumping \"+str(start))"
   ]
  },
  {
   "cell_type": "code",
   "execution_count": 6,
   "metadata": {
    "scrolled": true
   },
   "outputs": [
    {
     "name": "stdout",
     "output_type": "stream",
     "text": [
      "Done  0\n",
      "Done  1000\n",
      "Done  2000\n",
      "Done  3000\n",
      "Done  4000\n"
     ]
    }
   ],
   "source": [
    "# DO NOT RUN AGAIN\n",
    "# Reading songs\n",
    "for start in [0,1000,2000,3000,4000]:\n",
    "    data = json.load(open('Data/data'+str(start)+'.json'))\n",
    "    for pcount in range(0,1000):\n",
    "        with open('Songs/songs'+str(start+pcount)+'.txt', 'w') as outfile:\n",
    "            tracks = data[\"playlists\"][pcount][\"tracks\"]\n",
    "            for i in range(len(tracks)):\n",
    "                outfile.write(tracks[i][\"artist_name\"]+\";\"+tracks[i][\"track_name\"]+\"\\n\")\n",
    "    print(\"Done \", str(start))"
   ]
  },
  {
   "cell_type": "code",
   "execution_count": 2,
   "metadata": {
    "collapsed": true
   },
   "outputs": [],
   "source": [
    "from scrape_ytcomments import youtube_search"
   ]
  },
  {
   "cell_type": "code",
   "execution_count": null,
   "metadata": {
    "collapsed": true
   },
   "outputs": [],
   "source": [
    "# GETTING COMMENTS FOR FIRST 5000 PLAYLISTS\n",
    "for start in [0,1000,2000,3000,4000]:\n",
    "    for pcount in range(0,1000):\n",
    "        with open('Songs/songs'+str(start+pcount)+'.txt', 'r') as infile:\n",
    "            outfile = open('Comments/comments'+str(start+pcount)+'.txt', 'w') \n",
    "            for line in infile:\n",
    "                song = infile.readline().split(';') # print(song, end=\"\")\n",
    "                song_yt = None\n",
    "                try:\n",
    "                    song_yt = youtube_search(song)  \n",
    "                    if len(song_yt['comments'][0])>0: coms = song_yt['comments'][0]\n",
    "                    elif len(song_yt['comments'][1])>0: coms = song_yt['comments'][1]\n",
    "                    elif len(song_yt['comments'][2])>0: coms = song_yt['comments'][2]\n",
    "                    for comment in coms:\n",
    "                        outfile.write(comment+'\\n')\n",
    "                except:\n",
    "                    print('No success for song: ', song)\n",
    "            outfile.close()\n",
    "        print(\"Done Playlist \", str(start+pcount))"
   ]
  },
  {
   "cell_type": "code",
   "execution_count": null,
   "metadata": {},
   "outputs": [],
   "source": []
  }
 ],
 "metadata": {
  "kernelspec": {
   "display_name": "Python 3",
   "language": "python",
   "name": "python3"
  },
  "language_info": {
   "codemirror_mode": {
    "name": "ipython",
    "version": 3
   },
   "file_extension": ".py",
   "mimetype": "text/x-python",
   "name": "python",
   "nbconvert_exporter": "python",
   "pygments_lexer": "ipython3",
   "version": "3.6.1"
  }
 },
 "nbformat": 4,
 "nbformat_minor": 2
}
