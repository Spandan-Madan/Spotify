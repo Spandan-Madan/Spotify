{
 "cells": [
  {
   "cell_type": "code",
   "execution_count": 51,
   "metadata": {
    "ExecuteTime": {
     "end_time": "2018-02-27T21:20:46.409102Z",
     "start_time": "2018-02-27T21:20:46.395033Z"
    },
    "collapsed": true
   },
   "outputs": [],
   "source": [
    "import os\n",
    "import pandas as pd\n",
    "from spotipy.oauth2 import SpotifyClientCredentials\n",
    "import spotipy\n",
    "from tqdm import tqdm_notebook as tqdm\n",
    "from math import ceil\n",
    "def chunker(seq, size):\n",
    "    return (seq[pos:pos + size] for pos in range(0, len(seq), size))"
   ]
  },
  {
   "cell_type": "markdown",
   "metadata": {},
   "source": [
    "## Load data"
   ]
  },
  {
   "cell_type": "code",
   "execution_count": 50,
   "metadata": {
    "ExecuteTime": {
     "end_time": "2018-02-27T21:19:55.323021Z",
     "start_time": "2018-02-27T21:19:55.154625Z"
    }
   },
   "outputs": [
    {
     "name": "stdout",
     "output_type": "stream",
     "text": [
      "Index(['artist', 'pid', 'title', 'uri', 'csv_id'], dtype='object')\n",
      "(108870, 5)\n"
     ]
    },
    {
     "data": {
      "text/html": [
       "<div>\n",
       "<style>\n",
       "    .dataframe thead tr:only-child th {\n",
       "        text-align: right;\n",
       "    }\n",
       "\n",
       "    .dataframe thead th {\n",
       "        text-align: left;\n",
       "    }\n",
       "\n",
       "    .dataframe tbody tr th {\n",
       "        vertical-align: top;\n",
       "    }\n",
       "</style>\n",
       "<table border=\"1\" class=\"dataframe\">\n",
       "  <thead>\n",
       "    <tr style=\"text-align: right;\">\n",
       "      <th></th>\n",
       "      <th>artist</th>\n",
       "      <th>pid</th>\n",
       "      <th>title</th>\n",
       "      <th>uri</th>\n",
       "      <th>csv_id</th>\n",
       "    </tr>\n",
       "  </thead>\n",
       "  <tbody>\n",
       "    <tr>\n",
       "      <th>0</th>\n",
       "      <td>missy elliott</td>\n",
       "      <td>0</td>\n",
       "      <td>lose control feat ciara &amp; fat man scoop</td>\n",
       "      <td>spotify:track:0UaMYEvWZi0ZqiDOoHU3YI</td>\n",
       "      <td>0</td>\n",
       "    </tr>\n",
       "  </tbody>\n",
       "</table>\n",
       "</div>"
      ],
      "text/plain": [
       "          artist  pid                                    title  \\\n",
       "0  missy elliott    0  lose control feat ciara & fat man scoop   \n",
       "\n",
       "                                    uri  csv_id  \n",
       "0  spotify:track:0UaMYEvWZi0ZqiDOoHU3YI       0  "
      ]
     },
     "execution_count": 50,
     "metadata": {},
     "output_type": "execute_result"
    }
   ],
   "source": [
    "df = pd.read_csv('../data/interim/5k_track_uri.csv')\n",
    "df['csv_id']=df.index.tolist()\n",
    "print(df.columns)\n",
    "print(df.shape)\n",
    "df.head(1)"
   ]
  },
  {
   "cell_type": "markdown",
   "metadata": {},
   "source": [
    "## Setup spoti-py"
   ]
  },
  {
   "cell_type": "code",
   "execution_count": 19,
   "metadata": {
    "ExecuteTime": {
     "end_time": "2018-02-27T20:44:26.658650Z",
     "start_time": "2018-02-27T20:44:26.655706Z"
    },
    "collapsed": true
   },
   "outputs": [],
   "source": [
    "\n",
    "os.environ['SPOTIPY_CLIENT_ID']='55a76a654fe14f739a30dcc5fbfa055e'\n",
    "os.environ['SPOTIPY_CLIENT_SECRET']='7108a6157a8a437482f073496dd9c2a7'\n",
    "os.environ['SPOTIPY_REDIRECT_URI']='http://localhost/\n",
    "client_credentials_manager = SpotifyClientCredentials()\n",
    "sp = spotipy.Spotify(client_credentials_manager=client_credentials_manager)\n",
    "sp.trace=False"
   ]
  },
  {
   "cell_type": "markdown",
   "metadata": {},
   "source": [
    "# iterate in chunks"
   ]
  },
  {
   "cell_type": "code",
   "execution_count": 53,
   "metadata": {
    "ExecuteTime": {
     "end_time": "2018-02-27T21:26:00.082552Z",
     "start_time": "2018-02-27T21:22:04.538670Z"
    }
   },
   "outputs": [
    {
     "data": {
      "application/vnd.jupyter.widget-view+json": {
       "model_id": "94d378c4728c45a49ae6949749a0a812",
       "version_major": 2,
       "version_minor": 0
      },
      "text/html": [
       "<p>Failed to display Jupyter Widget of type <code>HBox</code>.</p>\n",
       "<p>\n",
       "  If you're reading this message in the Jupyter Notebook or JupyterLab Notebook, it may mean\n",
       "  that the widgets JavaScript is still loading. If this message persists, it\n",
       "  likely means that the widgets JavaScript library is either not installed or\n",
       "  not enabled. See the <a href=\"https://ipywidgets.readthedocs.io/en/stable/user_install.html\">Jupyter\n",
       "  Widgets Documentation</a> for setup instructions.\n",
       "</p>\n",
       "<p>\n",
       "  If you're reading this message in another frontend (for example, a static\n",
       "  rendering on GitHub or <a href=\"https://nbviewer.jupyter.org/\">NBViewer</a>),\n",
       "  it may mean that your frontend doesn't currently support widgets.\n",
       "</p>\n"
      ],
      "text/plain": [
       "HBox(children=(IntProgress(value=0, max=1089), HTML(value='')))"
      ]
     },
     "metadata": {},
     "output_type": "display_data"
    },
    {
     "name": "stdout",
     "output_type": "stream",
     "text": [
      "\n",
      "Index(['acousticness', 'analysis_url', 'danceability', 'duration_ms', 'energy',\n",
      "       'id', 'instrumentalness', 'key', 'liveness', 'loudness', 'mode',\n",
      "       'speechiness', 'tempo', 'time_signature', 'track_href', 'type', 'uri',\n",
      "       'valence'],\n",
      "      dtype='object')\n",
      "(108870, 18)\n"
     ]
    },
    {
     "data": {
      "text/html": [
       "<div>\n",
       "<style>\n",
       "    .dataframe thead tr:only-child th {\n",
       "        text-align: right;\n",
       "    }\n",
       "\n",
       "    .dataframe thead th {\n",
       "        text-align: left;\n",
       "    }\n",
       "\n",
       "    .dataframe tbody tr th {\n",
       "        vertical-align: top;\n",
       "    }\n",
       "</style>\n",
       "<table border=\"1\" class=\"dataframe\">\n",
       "  <thead>\n",
       "    <tr style=\"text-align: right;\">\n",
       "      <th></th>\n",
       "      <th>acousticness</th>\n",
       "      <th>analysis_url</th>\n",
       "      <th>danceability</th>\n",
       "      <th>duration_ms</th>\n",
       "      <th>energy</th>\n",
       "      <th>id</th>\n",
       "      <th>instrumentalness</th>\n",
       "      <th>key</th>\n",
       "      <th>liveness</th>\n",
       "      <th>loudness</th>\n",
       "      <th>mode</th>\n",
       "      <th>speechiness</th>\n",
       "      <th>tempo</th>\n",
       "      <th>time_signature</th>\n",
       "      <th>track_href</th>\n",
       "      <th>type</th>\n",
       "      <th>uri</th>\n",
       "      <th>valence</th>\n",
       "    </tr>\n",
       "  </thead>\n",
       "  <tbody>\n",
       "    <tr>\n",
       "      <th>0</th>\n",
       "      <td>0.0311</td>\n",
       "      <td>https://api.spotify.com/v1/audio-analysis/0UaM...</td>\n",
       "      <td>0.904</td>\n",
       "      <td>226864.0</td>\n",
       "      <td>0.813</td>\n",
       "      <td>0UaMYEvWZi0ZqiDOoHU3YI</td>\n",
       "      <td>0.00697</td>\n",
       "      <td>4.0</td>\n",
       "      <td>0.0471</td>\n",
       "      <td>-7.105</td>\n",
       "      <td>0.0</td>\n",
       "      <td>0.121</td>\n",
       "      <td>125.461</td>\n",
       "      <td>4.0</td>\n",
       "      <td>https://api.spotify.com/v1/tracks/0UaMYEvWZi0Z...</td>\n",
       "      <td>audio_features</td>\n",
       "      <td>spotify:track:0UaMYEvWZi0ZqiDOoHU3YI</td>\n",
       "      <td>0.81</td>\n",
       "    </tr>\n",
       "  </tbody>\n",
       "</table>\n",
       "</div>"
      ],
      "text/plain": [
       "   acousticness                                       analysis_url  \\\n",
       "0        0.0311  https://api.spotify.com/v1/audio-analysis/0UaM...   \n",
       "\n",
       "   danceability  duration_ms  energy                      id  \\\n",
       "0         0.904     226864.0   0.813  0UaMYEvWZi0ZqiDOoHU3YI   \n",
       "\n",
       "   instrumentalness  key  liveness  loudness  mode  speechiness    tempo  \\\n",
       "0           0.00697  4.0    0.0471    -7.105   0.0        0.121  125.461   \n",
       "\n",
       "   time_signature                                         track_href  \\\n",
       "0             4.0  https://api.spotify.com/v1/tracks/0UaMYEvWZi0Z...   \n",
       "\n",
       "             type                                   uri  valence  \n",
       "0  audio_features  spotify:track:0UaMYEvWZi0ZqiDOoHU3YI     0.81  "
      ]
     },
     "execution_count": 53,
     "metadata": {},
     "output_type": "execute_result"
    }
   ],
   "source": [
    "chunk_size=100\n",
    "n_chunks = ceil(len(all_tids)/chunk_size)\n",
    "rows=[]\n",
    "for chunk in tqdm(chunker(df, chunk_size),total=n_chunks):\n",
    "    tids = chunk['uri'].apply(lambda x: x.replace('spotify:track:','')).tolist()\n",
    "    afeatures = sp.audio_features(tids)\n",
    "    rows+=afeatures\n",
    "# check for None\n",
    "dummy_feature={k:None for k,v in rows[0].items()}\n",
    "for indx,row in enumerate(rows):\n",
    "    if not isinstance(row,dict):\n",
    "        rows[indx]=dummy_feature.copy()"
   ]
  },
  {
   "cell_type": "code",
   "execution_count": null,
   "metadata": {
    "collapsed": true
   },
   "outputs": [],
   "source": [
    "#pandify\n",
    "f_df = pd.DataFrame(rows)\n",
    "f_\n",
    "print(f_df.columns)\n",
    "print(f_df.shape)\n",
    "f_df.to_csv('../data/interim/5k_track_audiofeatures.csv',index=False)\n",
    "f_df.head(1)"
   ]
  }
 ],
 "metadata": {
  "kernelspec": {
   "display_name": "Python 3",
   "language": "python",
   "name": "python3"
  },
  "language_info": {
   "codemirror_mode": {
    "name": "ipython",
    "version": 3
   },
   "file_extension": ".py",
   "mimetype": "text/x-python",
   "name": "python",
   "nbconvert_exporter": "python",
   "pygments_lexer": "ipython3",
   "version": "3.6.1"
  },
  "toc": {
   "nav_menu": {},
   "number_sections": true,
   "sideBar": true,
   "skip_h1_title": false,
   "toc_cell": false,
   "toc_position": {},
   "toc_section_display": "block",
   "toc_window_display": false
  }
 },
 "nbformat": 4,
 "nbformat_minor": 2
}
