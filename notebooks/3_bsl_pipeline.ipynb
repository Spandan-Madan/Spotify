{
 "cells": [
  {
   "cell_type": "code",
   "execution_count": 1,
   "metadata": {
    "ExecuteTime": {
     "end_time": "2018-04-29T07:45:59.547290Z",
     "start_time": "2018-04-29T07:45:59.534848Z"
    }
   },
   "outputs": [],
   "source": [
    "#location of the dataset\n",
    "#DATA_SRC='/home/beangoben/ml_data/mpd.v1/data'\n",
    "DATA_SRC='/home/beangoben/data/mpd.v1/data'\n",
    "#DATA_SRC='../data/raw/5k_subset'\n",
    "# add src scripts to utilize\n",
    "import sys\n",
    "sys.path.append('../src')\n",
    "sys.path.append('../src/data/')\n",
    "sys.path.append('../src/models/')\n",
    "sys.path.append('../src/features/')\n",
    "sys.path.append('../src/visualization/')\n",
    "# will reload any library\n",
    "%load_ext autoreload\n",
    "%autoreload 2"
   ]
  },
  {
   "cell_type": "code",
   "execution_count": 2,
   "metadata": {
    "ExecuteTime": {
     "end_time": "2018-04-29T07:46:01.182793Z",
     "start_time": "2018-04-29T07:45:59.913359Z"
    }
   },
   "outputs": [],
   "source": [
    "# sportify specific\n",
    "from data.metrics_track import r_precision, cosine_sim_closest, cosine_sim_top, NDCG\n",
    "from visualization.plot_utils import write_latex_table\n",
    "# general\n",
    "import pandas as pd\n",
    "import numpy as np\n",
    "from tqdm import tqdm\n",
    "from features.audio_features import AudioFeatures\n",
    "from features.tracks_info import TrackInfo\n",
    "from collections import OrderedDict"
   ]
  },
  {
   "cell_type": "code",
   "execution_count": 3,
   "metadata": {
    "ExecuteTime": {
     "end_time": "2018-04-29T07:46:24.292132Z",
     "start_time": "2018-04-29T07:46:01.184480Z"
    }
   },
   "outputs": [
    {
     "ename": "NameError",
     "evalue": "name 'pl_uri' is not defined",
     "output_type": "error",
     "traceback": [
      "\u001b[0;31m---------------------------------------------------------------------------\u001b[0m",
      "\u001b[0;31mNameError\u001b[0m                                 Traceback (most recent call last)",
      "\u001b[0;32m<ipython-input-3-a5a8ad1cb98a>\u001b[0m in \u001b[0;36m<module>\u001b[0;34m()\u001b[0m\n\u001b[1;32m      6\u001b[0m \u001b[0mpid\u001b[0m \u001b[0;34m=\u001b[0m \u001b[0;36m194\u001b[0m\u001b[0;34m\u001b[0m\u001b[0m\n\u001b[1;32m      7\u001b[0m \u001b[0mpl_turi\u001b[0m\u001b[0;34m,\u001b[0m\u001b[0mpl_ints\u001b[0m\u001b[0;34m,\u001b[0m\u001b[0mpl_auri\u001b[0m \u001b[0;34m=\u001b[0m \u001b[0mtracks\u001b[0m\u001b[0;34m.\u001b[0m\u001b[0mget_playlist\u001b[0m\u001b[0;34m(\u001b[0m\u001b[0mpid\u001b[0m\u001b[0;34m)\u001b[0m\u001b[0;34m\u001b[0m\u001b[0m\n\u001b[0;32m----> 8\u001b[0;31m \u001b[0mn_songs\u001b[0m \u001b[0;34m=\u001b[0m \u001b[0mlen\u001b[0m\u001b[0;34m(\u001b[0m\u001b[0mpl_uri\u001b[0m\u001b[0;34m)\u001b[0m\u001b[0;34m\u001b[0m\u001b[0m\n\u001b[0m",
      "\u001b[0;31mNameError\u001b[0m: name 'pl_uri' is not defined"
     ]
    }
   ],
   "source": [
    "k_range = [1, 5, 10, 25, 100]\n",
    "max_picks = 500\n",
    "\n",
    "tracks = TrackInfo(subset='5k-')\n",
    "# load playlist\n",
    "pid = 194\n",
    "pl_turi,pl_ints,pl_auri = tracks.get_playlist(pid)\n",
    "n_songs = len(pl_uri)"
   ]
  },
  {
   "cell_type": "code",
   "execution_count": 4,
   "metadata": {
    "ExecuteTime": {
     "end_time": "2018-04-29T07:42:41.826766Z",
     "start_time": "2018-04-29T07:42:39.619099Z"
    }
   },
   "outputs": [
    {
     "name": "stdout",
     "output_type": "stream",
     "text": [
      "Index(['acousticness', 'danceability', 'duration_ms', 'energy', 'liveness',\n",
      "       'loudness', 'speechiness', 'tempo', 'valence'],\n",
      "      dtype='object')\n"
     ]
    }
   ],
   "source": [
    "# audio features\n",
    "af = AudioFeatures(subset='5k-')\n",
    "X = af.transform()\n",
    "n_cols = X.shape[1]"
   ]
  },
  {
   "cell_type": "code",
   "execution_count": 25,
   "metadata": {
    "ExecuteTime": {
     "end_time": "2018-04-29T06:50:39.187485Z",
     "start_time": "2018-04-29T06:50:39.152168Z"
    }
   },
   "outputs": [],
   "source": [
    "xp = af.subset(pl_uri)"
   ]
  },
  {
   "cell_type": "code",
   "execution_count": 26,
   "metadata": {
    "ExecuteTime": {
     "end_time": "2018-04-29T06:50:42.866809Z",
     "start_time": "2018-04-29T06:50:40.468908Z"
    }
   },
   "outputs": [
    {
     "name": "stdout",
     "output_type": "stream",
     "text": [
      "Test on playlist 194\n",
      "     k  r precision  NDGC\n",
      "0    1          0.0   0.0\n",
      "1    5          0.0   0.0\n",
      "2   10          0.0   0.0\n",
      "3   25          0.0   0.0\n",
      "4  100          0.0   0.0\n"
     ]
    }
   ],
   "source": [
    "suggest_df = pd.DataFrame()\n",
    "n_top = 10\n",
    "x_pred = OrderedDict()\n",
    "stats = []\n",
    "print('Test on playlist {:d}'.format(pid))\n",
    "for k in k_range:\n",
    "    x_pred[k] = []\n",
    "    k_picks = int(max_picks / k)\n",
    "    for i in range(k):\n",
    "        x_query = xp[i - 1, :]\n",
    "        ind, sim = cosine_sim_closest(X, x_query, k_picks)\n",
    "        x_pred[k] = x_pred[k] + list(ind)\n",
    "    subset_ids = p_ids[k:]\n",
    "    result = OrderedDict()\n",
    "    result['k'] = k\n",
    "    result['r precision'] = r_precision(subset_ids, x_pred[k])\n",
    "    result['NDGC'] = NDCG(subset_ids, x_pred[k])\n",
    "    stats.append(result)\n",
    "\n",
    "sdf = pd.DataFrame(stats)\n",
    "print(sdf)\n",
    "\n",
    "write_latex_table(sdf, 'metrics', adir='.', render=True)"
   ]
  }
 ],
 "metadata": {
  "kernelspec": {
   "display_name": "Python [conda env:anaconda3]",
   "language": "python",
   "name": "conda-env-anaconda3-py"
  },
  "language_info": {
   "codemirror_mode": {
    "name": "ipython",
    "version": 3
   },
   "file_extension": ".py",
   "mimetype": "text/x-python",
   "name": "python",
   "nbconvert_exporter": "python",
   "pygments_lexer": "ipython3",
   "version": "3.6.5"
  },
  "toc": {
   "base_numbering": 1,
   "nav_menu": {},
   "number_sections": true,
   "sideBar": true,
   "skip_h1_title": false,
   "title_cell": "Table of Contents",
   "title_sidebar": "Contents",
   "toc_cell": false,
   "toc_position": {},
   "toc_section_display": true,
   "toc_window_display": false
  }
 },
 "nbformat": 4,
 "nbformat_minor": 2
}
