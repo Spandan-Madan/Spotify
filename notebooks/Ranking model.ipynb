{
 "cells": [
  {
   "cell_type": "code",
   "execution_count": 35,
   "metadata": {},
   "outputs": [
    {
     "name": "stdout",
     "output_type": "stream",
     "text": [
      "The autoreload extension is already loaded. To reload it, use:\n",
      "  %reload_ext autoreload\n"
     ]
    }
   ],
   "source": [
    "import sys\n",
    "sys.path.append('../src')\n",
    "sys.path.append('../src/data/')\n",
    "sys.path.append('../src/models/')\n",
    "sys.path.append('../src/features/')\n",
    "sys.path.append('../src/visualization/')\n",
    "# will reload any library\n",
    "%load_ext autoreload\n",
    "%autoreload 2\n",
    "%config InlineBackend.figure_format = 'retina'\n",
    "%matplotlib inline\n",
    "from data.metrics import recall\n",
    "from visualization.plot_utils import write_latex_table, summary_pooling_table, pooling_plots, pandas_settings, plot_settings,  save_result\n",
    "# general\n",
    "import pandas as pd\n",
    "import numpy as np\n",
    "from tqdm import tqdm\n",
    "from features.tracks_info import TrackInfo\n",
    "from collections import OrderedDict\n",
    "from itertools import product\n",
    "from data_utils import product_size\n",
    "import matplotlib.pyplot as plt\n",
    "import seaborn as sns\n",
    "from collections import Counter\n"
   ]
  },
  {
   "cell_type": "code",
   "execution_count": 2,
   "metadata": {},
   "outputs": [],
   "source": [
    "from features.tracks_info import TrackInfo\n",
    "from features.popularity_feature import Popularity\n",
    "\n",
    "tracks = TrackInfo(subset='5k-')\n",
    "popularity = Popularity()"
   ]
  },
  {
   "cell_type": "code",
   "execution_count": 3,
   "metadata": {},
   "outputs": [],
   "source": [
    "import json\n",
    "from random import randint\n",
    "import os\n",
    "import json\n",
    "import lyricwikia\n",
    "import pickle\n",
    "import sys\n",
    "import numpy as np\n",
    "\n",
    "def artists_in_playlist(playlist):\n",
    "    all_ = []\n",
    "    for track in playlist['tracks']:\n",
    "        all_.append(track['artist_name'])\n",
    "    return list(set(all_))\n",
    "\n",
    "def albums_in_playlist(playlist):\n",
    "    all_ = []\n",
    "    for track in playlist['tracks']:\n",
    "        all_.append(track['album_name'])\n",
    "    return list(set(all_))\n",
    "\n",
    "def tracks_in_playlist(playlist):\n",
    "    all_ = []\n",
    "    for track in playlist['tracks']:\n",
    "        all_.append(track['track_uri'])\n",
    "    return list(set(all_))\n",
    "\n",
    "def track_names_in_playlist(playlist):\n",
    "    all_ = []\n",
    "    for track in playlist['tracks']:\n",
    "        all_.append(track['track_name'])\n",
    "    return list(set(all_))\n",
    "\n",
    "def lyrics_in_playlist(playlist):\n",
    "    all_ = {}\n",
    "    info = {}\n",
    "    ct = 0\n",
    "    failed = []\n",
    "    for track in playlist['tracks']:\n",
    "        track_uri = track['track_uri']\n",
    "        song_name = track['track_name']\n",
    "        artist_name = track['artist_name']\n",
    "        try:\n",
    "            lyrics = lyricwikia.get_lyrics(artist_name, song_name)\n",
    "            all_[track_uri] = lyrics\n",
    "            info[track_uri] = (song_name,artist_name)\n",
    "        except:\n",
    "            failed.append(ct)\n",
    "        ct += 1\n",
    "    return all_,failed,info\n",
    "\n",
    "f = open('../data/pooling/uri_to_track_info.pckl','rb')\n",
    "uri_to_name_artist = pickle.load(f)\n",
    "f.close()\n",
    "\n",
    "f = open('../data/pooling/artist_to_songs.p','rb')\n",
    "artist_to_songs = pickle.load(f)\n",
    "f.close()\n",
    "\n",
    "clean_artist_to_songs = {}\n",
    "for artist in artist_to_songs.keys():\n",
    "    clean_artist_to_songs[artist] = list(set(artist_to_songs[artist]))\n",
    "\n",
    "name_artist_to_uri = {}\n",
    "for uri in uri_to_name_artist.keys():\n",
    "    tup = uri_to_name_artist[uri]\n",
    "    name_artist_to_uri[tup] = uri"
   ]
  },
  {
   "cell_type": "code",
   "execution_count": 4,
   "metadata": {},
   "outputs": [],
   "source": [
    "# from gensim.models import Word2Vec\n",
    "# model = Word2Vec.load('../data/pooling/model_min5_new.bin')"
   ]
  },
  {
   "cell_type": "markdown",
   "metadata": {},
   "source": [
    "# Open Pooling model results"
   ]
  },
  {
   "cell_type": "code",
   "execution_count": 9,
   "metadata": {},
   "outputs": [],
   "source": [
    "pid = 1\n",
    "pl_turi,pl_auri = tracks.get_playlist(pid)\n",
    "f = open('../data/pooling/pool_songs_pid_%s.p'%pid,'rb')\n",
    "songs_pool = pickle.load(f)\n",
    "f.close()"
   ]
  },
  {
   "cell_type": "code",
   "execution_count": 20,
   "metadata": {},
   "outputs": [],
   "source": [
    "train_uri = pl_turi[:int(len(pl_turi)*0.75)]\n",
    "test_uri = pl_turi[int(len(pl_turi)*0.75):]"
   ]
  },
  {
   "cell_type": "code",
   "execution_count": 26,
   "metadata": {},
   "outputs": [],
   "source": [
    "train_songs = [uri_to_name_artist['spotify:track:'+uri] for uri in train_uri]\n",
    "test_songs = [uri_to_name_artist['spotify:track:'+uri] for uri in test_uri]"
   ]
  },
  {
   "cell_type": "code",
   "execution_count": 32,
   "metadata": {},
   "outputs": [
    {
     "name": "stdout",
     "output_type": "stream",
     "text": [
      "Survivor\n",
      "Daniel Tidwell\n",
      "Daniel Tidwell\n",
      "Daniel Tidwell\n",
      "Daniel Tidwell\n",
      "Daniel Tidwell\n",
      "Daniel Tidwell\n",
      "Kaleptik\n",
      "Ben Foster\n",
      "Leslie Odom Jr.\n",
      "Christopher Jackson\n",
      "Leslie Odom Jr.\n",
      "Lin-Manuel Miranda\n",
      "Led Zeppelin\n",
      "Collective Soul\n",
      "Nightwish\n",
      "Seal\n",
      "The Rolling Stones\n",
      "The Rolling Stones\n",
      "Lynyrd Skynyrd\n",
      "Boston\n",
      "Boston\n",
      "Toto\n",
      "Kansas\n",
      "Queen\n",
      "Lynyrd Skynyrd\n",
      "Boston\n",
      "Led Zeppelin\n",
      "Ben Foster\n"
     ]
    }
   ],
   "source": [
    "for song,artist in train_songs:\n",
    "    print(artist)"
   ]
  },
  {
   "cell_type": "code",
   "execution_count": 33,
   "metadata": {},
   "outputs": [
    {
     "name": "stdout",
     "output_type": "stream",
     "text": [
      "Guns N' Roses\n",
      "Creedence Clearwater Revival\n",
      "Scorpions\n",
      "Rush\n",
      "Rush\n",
      "Rush\n",
      "Rush\n",
      "Rush\n",
      "Rush\n",
      "Rush\n"
     ]
    }
   ],
   "source": [
    "for song,artist in test_songs:\n",
    "    print(artist)"
   ]
  },
  {
   "cell_type": "code",
   "execution_count": null,
   "metadata": {},
   "outputs": [],
   "source": [
    "from "
   ]
  },
  {
   "cell_type": "code",
   "execution_count": null,
   "metadata": {},
   "outputs": [],
   "source": []
  }
 ],
 "metadata": {
  "kernelspec": {
   "display_name": "Python 3",
   "language": "python",
   "name": "python3"
  },
  "language_info": {
   "codemirror_mode": {
    "name": "ipython",
    "version": 3
   },
   "file_extension": ".py",
   "mimetype": "text/x-python",
   "name": "python",
   "nbconvert_exporter": "python",
   "pygments_lexer": "ipython3",
   "version": "3.6.4"
  }
 },
 "nbformat": 4,
 "nbformat_minor": 2
}
