{
 "cells": [
  {
   "cell_type": "code",
   "execution_count": 84,
   "metadata": {},
   "outputs": [],
   "source": [
    "import random"
   ]
  },
  {
   "cell_type": "code",
   "execution_count": 36,
   "metadata": {},
   "outputs": [
    {
     "name": "stdout",
     "output_type": "stream",
     "text": [
      "The autoreload extension is already loaded. To reload it, use:\n",
      "  %reload_ext autoreload\n"
     ]
    }
   ],
   "source": [
    "import sys\n",
    "sys.path.append('../src')\n",
    "sys.path.append('../src/data/')\n",
    "sys.path.append('../src/models/')\n",
    "sys.path.append('../src/features/')\n",
    "sys.path.append('../src/visualization/')\n",
    "# will reload any library\n",
    "%load_ext autoreload\n",
    "%autoreload 2\n",
    "%config InlineBackend.figure_format = 'retina'\n",
    "%matplotlib inline\n",
    "from data.metrics import recall,r_precision\n",
    "from visualization.plot_utils import write_latex_table, summary_pooling_table, pooling_plots, pandas_settings, plot_settings,  save_result\n",
    "# general\n",
    "import pandas as pd\n",
    "import numpy as np\n",
    "from tqdm import tqdm\n",
    "from features.tracks_info import TrackInfo\n",
    "from collections import OrderedDict\n",
    "from itertools import product\n",
    "from data_utils import product_size\n",
    "import matplotlib.pyplot as plt\n",
    "import seaborn as sns\n",
    "from collections import Counter\n"
   ]
  },
  {
   "cell_type": "code",
   "execution_count": 37,
   "metadata": {},
   "outputs": [],
   "source": [
    "from features.tracks_info import TrackInfo\n",
    "from features.popularity_feature import Popularity\n",
    "\n",
    "tracks = TrackInfo(subset='5k-')\n",
    "popularity = Popularity()"
   ]
  },
  {
   "cell_type": "code",
   "execution_count": 38,
   "metadata": {},
   "outputs": [],
   "source": [
    "import json\n",
    "from random import randint\n",
    "import os\n",
    "import json\n",
    "import lyricwikia\n",
    "import pickle\n",
    "import sys\n",
    "import numpy as np\n",
    "\n",
    "def artists_in_playlist(playlist):\n",
    "    all_ = []\n",
    "    for track in playlist['tracks']:\n",
    "        all_.append(track['artist_name'])\n",
    "    return list(set(all_))\n",
    "\n",
    "def albums_in_playlist(playlist):\n",
    "    all_ = []\n",
    "    for track in playlist['tracks']:\n",
    "        all_.append(track['album_name'])\n",
    "    return list(set(all_))\n",
    "\n",
    "def tracks_in_playlist(playlist):\n",
    "    all_ = []\n",
    "    for track in playlist['tracks']:\n",
    "        all_.append(track['track_uri'])\n",
    "    return list(set(all_))\n",
    "\n",
    "def track_names_in_playlist(playlist):\n",
    "    all_ = []\n",
    "    for track in playlist['tracks']:\n",
    "        all_.append(track['track_name'])\n",
    "    return list(set(all_))\n",
    "\n",
    "def lyrics_in_playlist(playlist):\n",
    "    all_ = {}\n",
    "    info = {}\n",
    "    ct = 0\n",
    "    failed = []\n",
    "    for track in playlist['tracks']:\n",
    "        track_uri = track['track_uri']\n",
    "        song_name = track['track_name']\n",
    "        artist_name = track['artist_name']\n",
    "        try:\n",
    "            lyrics = lyricwikia.get_lyrics(artist_name, song_name)\n",
    "            all_[track_uri] = lyrics\n",
    "            info[track_uri] = (song_name,artist_name)\n",
    "        except:\n",
    "            failed.append(ct)\n",
    "        ct += 1\n",
    "    return all_,failed,info\n",
    "\n",
    "f = open('../data/pooling/uri_to_track_info.pckl','rb')\n",
    "uri_to_name_artist = pickle.load(f)\n",
    "f.close()\n",
    "\n",
    "f = open('../data/pooling/artist_to_songs.p','rb')\n",
    "artist_to_songs = pickle.load(f)\n",
    "f.close()\n",
    "\n",
    "clean_artist_to_songs = {}\n",
    "for artist in artist_to_songs.keys():\n",
    "    clean_artist_to_songs[artist] = list(set(artist_to_songs[artist]))\n",
    "\n",
    "name_artist_to_uri = {}\n",
    "for uri in uri_to_name_artist.keys():\n",
    "    tup = uri_to_name_artist[uri]\n",
    "    name_artist_to_uri[tup] = uri"
   ]
  },
  {
   "cell_type": "code",
   "execution_count": 39,
   "metadata": {},
   "outputs": [],
   "source": [
    "# from gensim.models import Word2Vec\n",
    "# model = Word2Vec.load('../data/pooling/model_min5_new.bin')"
   ]
  },
  {
   "cell_type": "markdown",
   "metadata": {},
   "source": [
    "# Open Pooling model results"
   ]
  },
  {
   "cell_type": "code",
   "execution_count": 119,
   "metadata": {},
   "outputs": [
    {
     "name": "stdout",
     "output_type": "stream",
     "text": [
      "0.7023830278818068\n",
      "0.02859874975148063\n"
     ]
    }
   ],
   "source": [
    "sum_recall = 0\n",
    "sum_rprec = 0\n",
    "playlist_count = 50\n",
    "for pid  in range(playlist_count):\n",
    "    pl_turi,pl_auri = tracks.get_playlist(pid)\n",
    "    train_uri = pl_turi[:int(len(pl_turi)*0.75)]\n",
    "    test_uri = pl_turi[int(len(pl_turi)*0.75):]\n",
    "    f = open('../data/pooling/pool_songs_pid_%s.p'%pid,'rb')\n",
    "    songs_pool = pickle.load(f)\n",
    "    preds = [i[0].split(':')[-1] for i in songs_pool][:10000]\n",
    "#     random.shuffle(preds)\n",
    "    ##############\n",
    "#     random.shuffle(preds)\n",
    "#     preds = preds[:len(pl_turi)*100]\n",
    "    ##############\n",
    "    \n",
    "    preds_names = [uri_to_name_artist[i[0]] for i in songs_pool]\n",
    "    f.close()\n",
    "    sum_recall += recall(test_uri,preds)\n",
    "    sum_rprec += r_precision(test_uri,preds)\n",
    "#     print('Recall: %s'%recall(test_uri,preds))\n",
    "#     print('R-Precision: %s'%r_precision(test_uri,preds))\n",
    "print(sum_recall/float(playlist_count))\n",
    "print(sum_rprec/float(playlist_count))"
   ]
  },
  {
   "cell_type": "code",
   "execution_count": 106,
   "metadata": {},
   "outputs": [
    {
     "data": {
      "text/plain": [
       "[('Big Bird - Mono', 'Eddie Floyd'),\n",
       " ('I Want to Take You Higher', 'Sly & The Family Stone'),\n",
       " ('Gimme Shelter', 'Merry Clayton'),\n",
       " ('Rumble', 'Link Wray'),\n",
       " ('96 Tears', '? & The Mysterians'),\n",
       " ('Jungle Fever', 'The Chakachas'),\n",
       " ('a) STRA (Illusions Of My Childhood-Part One) b)You Keep Me Hanging On c) WBER (Illusions Of My Childhood-Part Two)',\n",
       "  'Vanilla Fudge'),\n",
       " ('Reach Out Of The Darkness (Re-Recorded / Remastered)', 'Friend & Lover'),\n",
       " ('Bullwinkle Pt. II', 'The Centurians'),\n",
       " ('Pretty Thing', 'Bo Diddley')]"
      ]
     },
     "execution_count": 106,
     "metadata": {},
     "output_type": "execute_result"
    }
   ],
   "source": [
    "preds_names[:10]"
   ]
  },
  {
   "cell_type": "code",
   "execution_count": 82,
   "metadata": {},
   "outputs": [
    {
     "data": {
      "text/plain": [
       "[('Take My Side', 'Will Butler'),\n",
       " ('Everyday it Starts', 'Parquet Courts'),\n",
       " ('Content Nausea', 'Parquet Courts'),\n",
       " ('Urban Ease', 'Parquet Courts'),\n",
       " ('Slide Machine', 'Parquet Courts'),\n",
       " ('Kevlar Walls', 'Parquet Courts'),\n",
       " ('Pretty Machines', 'Parquet Courts'),\n",
       " ('Psycho Structures', 'Parquet Courts'),\n",
       " ('The Map', 'Parquet Courts'),\n",
       " (\"These Boots Are Made for Walkin'\", 'Parquet Courts'),\n",
       " ('Insufferable', 'Parquet Courts'),\n",
       " ('No Concept', 'Parquet Courts'),\n",
       " ('Uncast Shadow of a Southern Myth', 'Parquet Courts'),\n",
       " ('Bodies Made Of', 'Parquet Courts'),\n",
       " ('Black And White', 'Parquet Courts'),\n",
       " ('Dear Ramona', 'Parquet Courts'),\n",
       " ('What Color Is Blood', 'Parquet Courts'),\n",
       " ('Vienna II', 'Parquet Courts'),\n",
       " ('Always Back In Town', 'Parquet Courts'),\n",
       " (\"She's Rolling\", 'Parquet Courts'),\n",
       " ('Sunbathing Animal', 'Parquet Courts'),\n",
       " ('Up All Night', 'Parquet Courts'),\n",
       " ('Instant Disassembly', 'Parquet Courts'),\n",
       " ('Ducking And Dodging', 'Parquet Courts'),\n",
       " ('Raw Milk', 'Parquet Courts'),\n",
       " ('Into The Garden', 'Parquet Courts'),\n",
       " ('Everyday it Starts', 'Parquet Courts'),\n",
       " ('Content Nausea', 'Parquet Courts'),\n",
       " ('Urban Ease', 'Parquet Courts'),\n",
       " ('Slide Machine', 'Parquet Courts'),\n",
       " ('Kevlar Walls', 'Parquet Courts'),\n",
       " ('Pretty Machines', 'Parquet Courts'),\n",
       " ('Psycho Structures', 'Parquet Courts'),\n",
       " ('The Map', 'Parquet Courts'),\n",
       " (\"These Boots Are Made for Walkin'\", 'Parquet Courts'),\n",
       " ('Insufferable', 'Parquet Courts'),\n",
       " ('No Concept', 'Parquet Courts'),\n",
       " ('Uncast Shadow of a Southern Myth', 'Parquet Courts'),\n",
       " ('Master Of My Craft', 'Parquet Courts'),\n",
       " ('Borrowed Time', 'Parquet Courts'),\n",
       " ('Donuts Only', 'Parquet Courts'),\n",
       " ('Yr No Stoner', 'Parquet Courts'),\n",
       " ('Yonder Is Closer to the Heart', 'Parquet Courts'),\n",
       " ('Careers In Combat', 'Parquet Courts'),\n",
       " ('Light Up Gold I', 'Parquet Courts'),\n",
       " ('Light Up Gold, Pt. 2', 'Parquet Courts'),\n",
       " ('N Dakota', 'Parquet Courts'),\n",
       " ('Stoned And Starving', 'Parquet Courts'),\n",
       " ('No Ideas', 'Parquet Courts'),\n",
       " ('Caster Of Worthless Spells', 'Parquet Courts'),\n",
       " ('Disney P.T.', 'Parquet Courts'),\n",
       " ('Tears O Plenty', 'Parquet Courts'),\n",
       " ('Picture Of Health', 'Parquet Courts'),\n",
       " ('Danger in the Club', 'Palma Violets'),\n",
       " ('Best of Friends', 'Palma Violets'),\n",
       " ('Step Up for the Cool Cats', 'Palma Violets'),\n",
       " ('All the Garden Birds', 'Palma Violets'),\n",
       " ('Rattlesnake Highway', 'Palma Violets'),\n",
       " ('Chicken Dippers', 'Palma Violets'),\n",
       " ('Last of the Summer Wine', 'Palma Violets'),\n",
       " ('Tom the Drum', 'Palma Violets'),\n",
       " (\"Johnny Bagga' Donuts\", 'Palma Violets'),\n",
       " ('We Found Love', 'Palma Violets'),\n",
       " ('3 Stars', 'Palma Violets'),\n",
       " ('14', 'Palma Violets'),\n",
       " ('Southern Comfort', 'The Orwells'),\n",
       " ('The Righteous One', 'The Orwells'),\n",
       " ('Dirty Sheets', 'The Orwells'),\n",
       " ('Bathroom Tile Blues', 'The Orwells'),\n",
       " ('Gotta Get Down', 'The Orwells'),\n",
       " ('Let It Burn', 'The Orwells'),\n",
       " ('Who Needs You', 'The Orwells'),\n",
       " ('Norman', 'The Orwells'),\n",
       " ('Always N Forever', 'The Orwells'),\n",
       " ('Blood Bubbles', 'The Orwells'),\n",
       " ('North Ave.', 'The Orwells'),\n",
       " ('Lays At Rest', 'The Orwells'),\n",
       " ('Mallrats (La La La)', 'The Orwells'),\n",
       " ('Halloween All Year', 'The Orwells'),\n",
       " ('All The Cool Kids', 'The Orwells'),\n",
       " ('Suspended', 'The Orwells'),\n",
       " ('Painted Faces and Long Hair', 'The Orwells'),\n",
       " ('Hallway Homicide', 'The Orwells'),\n",
       " ('In My Bed', 'The Orwells'),\n",
       " ('Never Ever', 'The Orwells'),\n",
       " ('Live No One Else', 'The Orwells'),\n",
       " ('Ancient Egypt', 'The Orwells'),\n",
       " ('Under The Flowers', 'The Orwells'),\n",
       " ('The Nights of Wine and Roses', 'Japandroids'),\n",
       " (\"Fire's Highway\", 'Japandroids'),\n",
       " (\"Evil's Sway\", 'Japandroids'),\n",
       " ('For the Love of Ivy', 'Japandroids'),\n",
       " ('Adrenaline Nightshift', 'Japandroids'),\n",
       " ('Younger Us', 'Japandroids'),\n",
       " ('The House That Heaven Built', 'Japandroids'),\n",
       " ('Continuous Thunder', 'Japandroids'),\n",
       " ('Ecce Homo', 'Titus Andronicus'),\n",
       " ('Still Life With Hot Deuce On Silver Platter', 'Titus Andronicus'),\n",
       " (\"Upon Viewing Oregon's Landscape With The Flood Of Detritus\",\n",
       "  'Titus Andronicus'),\n",
       " ('Food Fight!', 'Titus Andronicus'),\n",
       " ('My Eating Disorder', 'Titus Andronicus'),\n",
       " ('Titus Andronicus vs. The Absurd Universe (3rd Round KO)',\n",
       "  'Titus Andronicus'),\n",
       " ('In A Big City', 'Titus Andronicus'),\n",
       " ('In A Small Body', 'Titus Andronicus'),\n",
       " ('(I Am The) Electric Man', 'Titus Andronicus'),\n",
       " ('Tried To Quit Smoking', 'Titus Andronicus'),\n",
       " ('A More Perfect Union', 'Titus Andronicus'),\n",
       " ('Titus Andronicus Forever', 'Titus Andronicus'),\n",
       " ('No Future Part Three: Escape From No Future', 'Titus Andronicus'),\n",
       " ('Richard II Or Extraordinary Popular Dimensions And The Madness Of Crowds (Responsible Hate Anthem)',\n",
       "  'Titus Andronicus'),\n",
       " ('A Pot In Which To Piss', 'Titus Andronicus'),\n",
       " ('Four Score And Seven', 'Titus Andronicus'),\n",
       " ('Theme From “Cheers\"', 'Titus Andronicus'),\n",
       " ('To Old Friends And New', 'Titus Andronicus'),\n",
       " ('...And Ever', 'Titus Andronicus'),\n",
       " ('The Battle Of Hampton Roads', 'Titus Andronicus'),\n",
       " ('Wales', 'Restorations')]"
      ]
     },
     "execution_count": 82,
     "metadata": {},
     "output_type": "execute_result"
    }
   ],
   "source": [
    "train_songs"
   ]
  },
  {
   "cell_type": "code",
   "execution_count": 81,
   "metadata": {},
   "outputs": [
    {
     "data": {
      "text/plain": [
       "[('Separate Songs', 'Restorations'),\n",
       " ('Misprint', 'Restorations'),\n",
       " ('Tiny Prayers', 'Restorations'),\n",
       " ('All My Home', 'Restorations'),\n",
       " ('Most Likely A Spy', 'Restorations'),\n",
       " ('No Castle', 'Restorations'),\n",
       " ('The Future', 'Restorations'),\n",
       " (\"It's Not\", 'Restorations'),\n",
       " ('D', 'Restorations'),\n",
       " (\"Let's Blow Up The Sun\", 'Restorations')]"
      ]
     },
     "execution_count": 81,
     "metadata": {},
     "output_type": "execute_result"
    }
   ],
   "source": [
    "train_songs = [uri_to_name_artist['spotify:track:'+uri] for uri in train_uri]\n",
    "test_songs = [uri_to_name_artist['spotify:track:'+uri] for uri in test_uri]\n",
    "test_songs[:min(10,len(test_songs))]"
   ]
  },
  {
   "cell_type": "code",
   "execution_count": null,
   "metadata": {},
   "outputs": [],
   "source": []
  },
  {
   "cell_type": "code",
   "execution_count": null,
   "metadata": {},
   "outputs": [],
   "source": []
  }
 ],
 "metadata": {
  "kernelspec": {
   "display_name": "Python 3",
   "language": "python",
   "name": "python3"
  },
  "language_info": {
   "codemirror_mode": {
    "name": "ipython",
    "version": 3
   },
   "file_extension": ".py",
   "mimetype": "text/x-python",
   "name": "python",
   "nbconvert_exporter": "python",
   "pygments_lexer": "ipython3",
   "version": "3.6.4"
  }
 },
 "nbformat": 4,
 "nbformat_minor": 2
}
