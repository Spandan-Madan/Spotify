{
 "cells": [
  {
   "cell_type": "code",
   "execution_count": 1,
   "metadata": {
    "collapsed": true
   },
   "outputs": [],
   "source": [
    "import pandas as pd\n",
    "import numpy as np\n",
    "import json  \n",
    "import urllib.request as urllib2\n",
    "import requests\n",
    "from dicttoxml import dicttoxml\n",
    "from lxml import etree\n",
    "from IPython.display import display"
   ]
  },
  {
   "cell_type": "code",
   "execution_count": 2,
   "metadata": {
    "collapsed": true
   },
   "outputs": [],
   "source": [
    "client_access_token = '' # GET A DEVELOPER KEY FROM GENIUS API"
   ]
  },
  {
   "cell_type": "code",
   "execution_count": null,
   "metadata": {},
   "outputs": [],
   "source": [
    "_URL_API = \"https://api.genius.com/\"\n",
    "_URL_SEARCH = \"search?q=\"\n",
    "\n",
    "for pcount in range(16,5000): \n",
    "    with open('Songs/songs'+str(pcount)+'.txt', 'r') as infile:\n",
    "        outfile = open('Genius/genius'+str(pcount)+'.txt', 'w')\n",
    "        print('No success for songs:')\n",
    "        for line in infile:\n",
    "            song = infile.readline()\n",
    "\n",
    "            try:\n",
    "                # Separating artist information\n",
    "                song = song.split(';')\n",
    "                artist_name = song[0]\n",
    "                search_term = song[1]\n",
    "                \n",
    "                # Requesting song search\n",
    "                querystring = _URL_API + _URL_SEARCH + urllib2.quote(search_term)\n",
    "                request = urllib2.Request(querystring)\n",
    "                request.add_header(\"Authorization\", \"Bearer \" + client_access_token)\n",
    "                request.add_header(\"User-Agent\", \"\") \n",
    "                \n",
    "                # Getting song id of first song from response\n",
    "                response = urllib2.urlopen(request, timeout=3)\n",
    "                raw = response.read()\n",
    "                json_obj = json.loads(raw)\n",
    "                song_id = None\n",
    "                for i in range(len(json_obj['response']['hits'])):\n",
    "                    if json_obj['response']['hits'][i]['result']['primary_artist']['name'] == artist_name:\n",
    "                        song_id = json_obj['response']['hits'][i]['result']['id']\n",
    "                        break\n",
    "                \n",
    "                # Getting song page\n",
    "                querystring = \"https://api.genius.com/songs/\" + str(song_id)\n",
    "                request = urllib2.Request(querystring)\n",
    "                request.add_header(\"Authorization\", \"Bearer \" + client_access_token)\n",
    "                request.add_header(\"User-Agent\", \"\")\n",
    "                response = urllib2.urlopen(request, timeout=3)\n",
    "                raw = response.read()\n",
    "                json_obj = json.loads(raw)['response']['song']\n",
    "                about = json_obj['description']['dom']\n",
    "                \n",
    "                # Getting song description from page\n",
    "                desc = ''\n",
    "                xml = dicttoxml(about, custom_root='children')\n",
    "                q = etree.fromstring(xml)\n",
    "                for child in q.findall(\".//item[@type='str']\"):\n",
    "                    if child.text!=None:\n",
    "                        desc += child.text\n",
    "        \n",
    "                outfile.write(desc+'\\n\\n')\n",
    "            except:\n",
    "                print(search_term[:-1]+', ', end='')\n",
    "                \n",
    "        outfile.close()\n",
    "    print(\"\\nDone Playlist \"+str(pcount)+'\\n')"
   ]
  }
 ],
 "metadata": {
  "kernelspec": {
   "display_name": "Python 3",
   "language": "python",
   "name": "python3"
  },
  "language_info": {
   "codemirror_mode": {
    "name": "ipython",
    "version": 3
   },
   "file_extension": ".py",
   "mimetype": "text/x-python",
   "name": "python",
   "nbconvert_exporter": "python",
   "pygments_lexer": "ipython3",
   "version": "3.6.1"
  }
 },
 "nbformat": 4,
 "nbformat_minor": 2
}
