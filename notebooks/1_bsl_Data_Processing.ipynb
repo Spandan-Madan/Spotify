{
 "cells": [
  {
   "cell_type": "markdown",
   "metadata": {
    "toc": true
   },
   "source": [
    "<h1>Table of Contents<span class=\"tocSkip\"></span></h1>\n",
    "<div class=\"toc\" style=\"margin-top: 1em;\"><ul class=\"toc-item\"><li><span><a href=\"#Preliminaries\" data-toc-modified-id=\"Preliminaries-1\"><span class=\"toc-item-num\">1&nbsp;&nbsp;</span>Preliminaries</a></span><ul class=\"toc-item\"><li><span><a href=\"#Data_SRC\" data-toc-modified-id=\"Data_SRC-1.1\"><span class=\"toc-item-num\">1.1&nbsp;&nbsp;</span>Data_SRC</a></span></li><li><span><a href=\"#Load-libraries\" data-toc-modified-id=\"Load-libraries-1.2\"><span class=\"toc-item-num\">1.2&nbsp;&nbsp;</span>Load libraries</a></span></li></ul></li><li><span><a href=\"#Demo-of-process_mpd\" data-toc-modified-id=\"Demo-of-process_mpd-2\"><span class=\"toc-item-num\">2&nbsp;&nbsp;</span>Demo of process_mpd</a></span><ul class=\"toc-item\"><li><span><a href=\"#counting-the-number-of-playlist\" data-toc-modified-id=\"counting-the-number-of-playlist-2.1\"><span class=\"toc-item-num\">2.1&nbsp;&nbsp;</span>counting the number of playlist</a></span></li><li><span><a href=\"#get-unique-tracks-in-all-playlist\" data-toc-modified-id=\"get-unique-tracks-in-all-playlist-2.2\"><span class=\"toc-item-num\">2.2&nbsp;&nbsp;</span>get unique tracks in all playlist</a></span></li><li><span><a href=\"#create-random-subset-of-1%-of-all-playlists\" data-toc-modified-id=\"create-random-subset-of-1%-of-all-playlists-2.3\"><span class=\"toc-item-num\">2.3&nbsp;&nbsp;</span>create random subset of 1% of all playlists</a></span></li></ul></li></ul></div>"
   ]
  },
  {
   "cell_type": "markdown",
   "metadata": {},
   "source": [
    "# Preliminaries\n",
    "## Data_SRC"
   ]
  },
  {
   "cell_type": "code",
   "execution_count": 12,
   "metadata": {
    "ExecuteTime": {
     "end_time": "2018-02-13T08:05:54.280115Z",
     "start_time": "2018-02-13T08:05:54.268286Z"
    }
   },
   "outputs": [
    {
     "name": "stdout",
     "output_type": "stream",
     "text": [
      "The autoreload extension is already loaded. To reload it, use:\n",
      "  %reload_ext autoreload\n"
     ]
    }
   ],
   "source": [
    "#location of the dataset\n",
    "DATA_SRC='/home/beangoben/ml_data/mpd.v1/data'\n",
    "# add src scripts to utilize\n",
    "import sys\n",
    "sys.path.append('../src')\n",
    "sys.path.append('../src/data/')\n",
    "sys.path.append('../src/models/')\n",
    "sys.path.append('../src/features/')\n",
    "sys.path.append('../src/visualization/')\n",
    "# will reload any library\n",
    "%load_ext autoreload\n",
    "%autoreload 2"
   ]
  },
  {
   "cell_type": "markdown",
   "metadata": {},
   "source": [
    "## Load libraries"
   ]
  },
  {
   "cell_type": "code",
   "execution_count": 33,
   "metadata": {
    "ExecuteTime": {
     "end_time": "2018-02-13T15:26:01.027961Z",
     "start_time": "2018-02-13T15:26:00.910517Z"
    },
    "collapsed": true
   },
   "outputs": [],
   "source": [
    "import os\n",
    "import json\n",
    "# utility\n",
    "from tqdm import tqdm_notebook as tqdm\n",
    "# scientific python\n",
    "import numpy as np\n",
    "import pandas as pd\n",
    "# nice printing\n",
    "from pprint import pprint\n",
    "# for plotting\n",
    "import matplotlib.pyplot as plt\n",
    "import seaborn as sns\n",
    "%matplotlib inline"
   ]
  },
  {
   "cell_type": "markdown",
   "metadata": {
    "ExecuteTime": {
     "end_time": "2018-02-13T07:46:42.099612Z",
     "start_time": "2018-02-13T07:46:42.081578Z"
    }
   },
   "source": [
    "# Demo of process_mpd\n",
    "\n",
    "Located in data/data_utils.py, **process_mpd** will take a directory path, a function to operate on a playlist and a object to store results (could be a dataframe or a dict for example). \n",
    "\n",
    "Optional is a *max_n* (max number of slices to operate on) and use *rand=False* for random or sorted files.\n",
    "\n",
    "\n",
    "## counting the number of playlist"
   ]
  },
  {
   "cell_type": "code",
   "execution_count": 9,
   "metadata": {
    "ExecuteTime": {
     "end_time": "2018-02-13T08:05:32.737615Z",
     "start_time": "2018-02-13T08:05:32.724015Z"
    }
   },
   "outputs": [],
   "source": [
    "from data_utils import process_mpd\n",
    "\n",
    "def count_playlist(playlist,results):\n",
    "    results['count']=results['count']+1\n",
    "    return"
   ]
  },
  {
   "cell_type": "code",
   "execution_count": 13,
   "metadata": {
    "ExecuteTime": {
     "end_time": "2018-02-13T08:06:01.239950Z",
     "start_time": "2018-02-13T08:05:59.488057Z"
    }
   },
   "outputs": [
    {
     "name": "stderr",
     "output_type": "stream",
     "text": [
      "100%|██████████| 10/10 [00:01<00:00,  5.82it/s]"
     ]
    },
    {
     "name": "stdout",
     "output_type": "stream",
     "text": [
      "{'count': 10000}\n"
     ]
    },
    {
     "name": "stderr",
     "output_type": "stream",
     "text": [
      "\n"
     ]
    }
   ],
   "source": [
    "results={}\n",
    "results['count']=0\n",
    "process_mpd(DATA_SRC,count_playlist,results,max_n=10,rand=True)\n",
    "pprint(results)"
   ]
  },
  {
   "cell_type": "markdown",
   "metadata": {
    "ExecuteTime": {
     "end_time": "2018-02-13T08:06:14.458761Z",
     "start_time": "2018-02-13T08:06:14.450434Z"
    }
   },
   "source": [
    "## get unique tracks in all playlist"
   ]
  },
  {
   "cell_type": "code",
   "execution_count": 28,
   "metadata": {
    "ExecuteTime": {
     "end_time": "2018-02-13T15:21:09.341229Z",
     "start_time": "2018-02-13T15:21:09.331927Z"
    }
   },
   "outputs": [],
   "source": [
    "from data_utils import process_mpd, normalize_name\n",
    "\n",
    "def unique_trackids(playlist,results):\n",
    "    for track in playlist['tracks']:\n",
    "        results.add(track['track_uri'])\n",
    "    return"
   ]
  },
  {
   "cell_type": "code",
   "execution_count": 29,
   "metadata": {
    "ExecuteTime": {
     "end_time": "2018-02-13T15:24:58.376284Z",
     "start_time": "2018-02-13T15:21:46.134608Z"
    }
   },
   "outputs": [
    {
     "name": "stderr",
     "output_type": "stream",
     "text": [
      "100%|██████████| 1000/1000 [03:12<00:00,  5.20it/s]"
     ]
    },
    {
     "name": "stdout",
     "output_type": "stream",
     "text": [
      "2262292\n"
     ]
    },
    {
     "name": "stderr",
     "output_type": "stream",
     "text": [
      "\n"
     ]
    }
   ],
   "source": [
    "results=set()\n",
    "process_mpd(DATA_SRC,unique_trackids,results)\n",
    "print(len(results))\n",
    "pd.DataFrame({'track_uri':list(results)}).to_csv('../data/interim/track_uri.csv',index=False)"
   ]
  },
  {
   "cell_type": "markdown",
   "metadata": {
    "ExecuteTime": {
     "end_time": "2018-02-13T08:16:45.719575Z",
     "start_time": "2018-02-13T08:16:45.706188Z"
    }
   },
   "source": [
    "## create random subset of 1% of all playlists"
   ]
  },
  {
   "cell_type": "code",
   "execution_count": 19,
   "metadata": {
    "ExecuteTime": {
     "end_time": "2018-02-13T08:21:59.582297Z",
     "start_time": "2018-02-13T08:21:59.571882Z"
    },
    "collapsed": true
   },
   "outputs": [],
   "source": [
    "from data_utils import process_mpd\n",
    "import random\n",
    "\n",
    "def coinflip(percent=0.01):\n",
    "    return random.uniform(0, 1) < percent\n",
    "\n",
    "def random_subset(playlist,results):\n",
    "    if coinflip(1):\n",
    "        results.append(playlist)\n",
    "    return"
   ]
  },
  {
   "cell_type": "code",
   "execution_count": 22,
   "metadata": {
    "ExecuteTime": {
     "end_time": "2018-02-13T08:25:40.558962Z",
     "start_time": "2018-02-13T08:22:55.491315Z"
    }
   },
   "outputs": [
    {
     "name": "stderr",
     "output_type": "stream",
     "text": [
      "100%|██████████| 1000/1000 [02:44<00:00,  6.06it/s]\n"
     ]
    },
    {
     "name": "stdout",
     "output_type": "stream",
     "text": [
      "{'collaborative': 'false',\n",
      " 'duration_ms': 10451507,\n",
      " 'modified_at': 1503360000,\n",
      " 'name': 'Soul',\n",
      " 'num_albums': 38,\n",
      " 'num_artists': 31,\n",
      " 'num_edits': 14,\n",
      " 'num_followers': 1,\n",
      " 'num_tracks': 46,\n",
      " 'pid': 999938,\n",
      " 'tracks': [{'album_name': 'Groovy People',\n",
      "             'album_uri': 'spotify:album:2a8IWtMGQl8oIA3lUtLDQw',\n",
      "             'artist_name': 'Marc E. Bassy',\n",
      "             'artist_uri': 'spotify:artist:3tQx1LPXbsYjE9VwN1Peaa',\n",
      "             'duration_ms': 206080,\n",
      "             'pos': 0,\n",
      "             'track_name': 'Morning',\n",
      "             'track_uri': 'spotify:track:54Yappwod1fELR5zb2gDBn'},\n",
      "            {'album_name': 'American Teen',\n",
      "             'album_uri': 'spotify:album:6kf46HbnYCZzP6rjvQHYzg',\n",
      "             'artist_name': 'Khalid',\n",
      "             'artist_uri': 'spotify:artist:6LuN9FCkKOj5PcnpouEgny',\n",
      "             'duration_ms': 219080,\n",
      "             'pos': 1,\n",
      "             'track_name': 'Location',\n",
      "             'track_uri': 'spotify:track:152lZdxL1OR0ZMW6KquMif'},\n",
      "            {'album_name': 'Reasons',\n",
      "             'album_uri': 'spotify:album:6xPKvbP9AenxkfsUHbOjt6',\n",
      "             'artist_name': 'Khalid',\n",
      "             'artist_uri': 'spotify:artist:6LuN9FCkKOj5PcnpouEgny',\n",
      "             'duration_ms': 232024,\n",
      "             'pos': 2,\n",
      "             'track_name': 'Reasons',\n",
      "             'track_uri': 'spotify:track:5hrT5sukNbTb6xKPyYdo0I'},\n",
      "            {'album_name': 'T R A P S O U L',\n",
      "             'album_uri': 'spotify:album:6eZdwrhB97A3EYx9QppGfl',\n",
      "             'artist_name': 'Bryson Tiller',\n",
      "             'artist_uri': 'spotify:artist:2EMAnMvWE2eb56ToJVfCWs',\n",
      "             'duration_ms': 199320,\n",
      "             'pos': 3,\n",
      "             'track_name': 'Been That Way',\n",
      "             'track_uri': 'spotify:track:0zg5XJPiga7E5FxiehriG2'},\n",
      "            {'album_name': 'Body Like A Back Road',\n",
      "             'album_uri': 'spotify:album:2N7kidh1wA9EoLdf16QWrz',\n",
      "             'artist_name': 'Sam Hunt',\n",
      "             'artist_uri': 'spotify:artist:2kucQ9jQwuD8jWdtR9Ef38',\n",
      "             'duration_ms': 165386,\n",
      "             'pos': 4,\n",
      "             'track_name': 'Body Like A Back Road',\n",
      "             'track_uri': 'spotify:track:7mldq42yDuxiUNn08nvzHO'},\n",
      "            {'album_name': 'GALLERY',\n",
      "             'album_uri': 'spotify:album:2FNk380jCQyICbwtkOdEHE',\n",
      "             'artist_name': 'A R I Z O N A',\n",
      "             'artist_uri': 'spotify:artist:7hOGhpa8RMSuDOWntGIAJt',\n",
      "             'duration_ms': 194013,\n",
      "             'pos': 5,\n",
      "             'track_name': 'Oceans Away',\n",
      "             'track_uri': 'spotify:track:6A8dnC0xkiuWN4BshmTB2I'},\n",
      "            {'album_name': 'American Teen',\n",
      "             'album_uri': 'spotify:album:6kf46HbnYCZzP6rjvQHYzg',\n",
      "             'artist_name': 'Khalid',\n",
      "             'artist_uri': 'spotify:artist:6LuN9FCkKOj5PcnpouEgny',\n",
      "             'duration_ms': 199120,\n",
      "             'pos': 6,\n",
      "             'track_name': 'Coaster',\n",
      "             'track_uri': 'spotify:track:39KG4kom3enSx4GTThuDGt'},\n",
      "            {'album_name': 'Views',\n",
      "             'album_uri': 'spotify:album:40GMAhriYJRO1rsY4YdrZb',\n",
      "             'artist_name': 'Drake',\n",
      "             'artist_uri': 'spotify:artist:3TVXtAsR1Inumwj472S9r4',\n",
      "             'duration_ms': 333946,\n",
      "             'pos': 7,\n",
      "             'track_name': 'Redemption',\n",
      "             'track_uri': 'spotify:track:4cRBqWBjuccCowYVHFlXK6'},\n",
      "            {'album_name': 'Beauty Behind The Madness',\n",
      "             'album_uri': 'spotify:album:28ZKQMoNBB0etKXZ97G2SN',\n",
      "             'artist_name': 'The Weeknd',\n",
      "             'artist_uri': 'spotify:artist:1Xyo4u8uXC1ZmMpatF05PJ',\n",
      "             'duration_ms': 260640,\n",
      "             'pos': 8,\n",
      "             'track_name': 'Dark Times',\n",
      "             'track_uri': 'spotify:track:0Gi17qCJh9e9RJxLaYkm9l'},\n",
      "            {'album_name': 'Lullaby EP',\n",
      "             'album_uri': 'spotify:album:6V1vNskQ7KVGhzUqqisAqq',\n",
      "             'artist_name': 'Atlas Bound',\n",
      "             'artist_uri': 'spotify:artist:6107PIkQDuEUcdpZqSzQsu',\n",
      "             'duration_ms': 188000,\n",
      "             'pos': 9,\n",
      "             'track_name': 'Lullaby - Acoustic Version',\n",
      "             'track_uri': 'spotify:track:1T2iBTY4Aiz6Yd8CEFLA9A'},\n",
      "            {'album_name': 'Coloring Book',\n",
      "             'album_uri': 'spotify:album:71QyofYesSsRMwFOTafnhB',\n",
      "             'artist_name': 'Chance The Rapper',\n",
      "             'artist_uri': 'spotify:artist:1anyVhU62p31KFi8MEzkbf',\n",
      "             'duration_ms': 219683,\n",
      "             'pos': 10,\n",
      "             'track_name': 'Juke Jam (feat. Justin Bieber & Towkio)',\n",
      "             'track_uri': 'spotify:track:3eze1OsZ1rqeXkKStNfTmi'},\n",
      "            {'album_name': 'Coloring',\n",
      "             'album_uri': 'spotify:album:0hy2FQyGcmZ9dUMWQZg3gi',\n",
      "             'artist_name': 'Kevin Garrett',\n",
      "             'artist_uri': 'spotify:artist:56tbeL5xhBPxby544GuK3E',\n",
      "             'duration_ms': 219973,\n",
      "             'pos': 11,\n",
      "             'track_name': 'Coloring',\n",
      "             'track_uri': 'spotify:track:2FFYeeIB7Vxj5qL8xr7Kd6'},\n",
      "            {'album_name': 'Freudian',\n",
      "             'album_uri': 'spotify:album:3xybjP7r2VsWzwvDQipdM0',\n",
      "             'artist_name': 'Daniel Caesar',\n",
      "             'artist_uri': 'spotify:artist:20wkVLutqVOYrc0kxFs7rA',\n",
      "             'duration_ms': 278179,\n",
      "             'pos': 12,\n",
      "             'track_name': 'Get You (feat. Kali Uchis)',\n",
      "             'track_uri': 'spotify:track:7zFXmv6vqI4qOt4yGf3jYZ'},\n",
      "            {'album_name': '÷',\n",
      "             'album_uri': 'spotify:album:3T4tUhGYeRNVUGevb0wThu',\n",
      "             'artist_name': 'Ed Sheeran',\n",
      "             'artist_uri': 'spotify:artist:6eUKZXaKkcviH0Ku9w2n3V',\n",
      "             'duration_ms': 238440,\n",
      "             'pos': 13,\n",
      "             'track_name': 'Dive',\n",
      "             'track_uri': 'spotify:track:51ChrwmUPDJvedPQnIU8Ls'},\n",
      "            {'album_name': 'iSpy (feat. Lil Yachty)',\n",
      "             'album_uri': 'spotify:album:15qLmAABocTCRBSbWWqL7K',\n",
      "             'artist_name': 'KYLE',\n",
      "             'artist_uri': 'spotify:artist:4qBgvVog0wzW75IQ48mU7v',\n",
      "             'duration_ms': 253106,\n",
      "             'pos': 14,\n",
      "             'track_name': 'iSpy (feat. Lil Yachty)',\n",
      "             'track_uri': 'spotify:track:2EEeOnHehOozLq4aS0n6SL'},\n",
      "            {'album_name': 'Late Nights: Europe',\n",
      "             'album_uri': 'spotify:album:7fA1iHkq1YpylDaZewt65w',\n",
      "             'artist_name': 'Jeremih',\n",
      "             'artist_uri': 'spotify:artist:3KV3p5EY4AvKxOlhGHORLg',\n",
      "             'duration_ms': 253933,\n",
      "             'pos': 15,\n",
      "             'track_name': 'British Headboards',\n",
      "             'track_uri': 'spotify:track:1B5B554dl0Z36trXMkpizv'},\n",
      "            {'album_name': 'Raised Under Grey Skies',\n",
      "             'album_uri': 'spotify:album:3WEeVvwxDad8bPd9ESOeuF',\n",
      "             'artist_name': 'JP Cooper',\n",
      "             'artist_uri': 'spotify:artist:4kYGAK2zu9EAomwj3hXkXy',\n",
      "             'duration_ms': 180167,\n",
      "             'pos': 16,\n",
      "             'track_name': 'Passport Home',\n",
      "             'track_uri': 'spotify:track:4ZMek0u3MkyFf03LRZZNQg'},\n",
      "            {'album_name': 'A Song For Every Moon',\n",
      "             'album_uri': 'spotify:album:5UFBJXQtytWA9vfaO2DxLx',\n",
      "             'artist_name': 'Bruno Major',\n",
      "             'artist_uri': 'spotify:artist:0hDjKSKjl1DC7ovYTDJHe8',\n",
      "             'duration_ms': 210240,\n",
      "             'pos': 17,\n",
      "             'track_name': 'Easily',\n",
      "             'track_uri': 'spotify:track:2k9N4caeCIJLOWwWwssrEM'},\n",
      "            {'album_name': 'American Teen',\n",
      "             'album_uri': 'spotify:album:6kf46HbnYCZzP6rjvQHYzg',\n",
      "             'artist_name': 'Khalid',\n",
      "             'artist_uri': 'spotify:artist:6LuN9FCkKOj5PcnpouEgny',\n",
      "             'duration_ms': 207106,\n",
      "             'pos': 18,\n",
      "             'track_name': 'Shot Down',\n",
      "             'track_uri': 'spotify:track:1Ob94QesoxHSBrypyBbdfd'},\n",
      "            {'album_name': 'Blonde',\n",
      "             'album_uri': 'spotify:album:3mH6qwIy9crq0I9YQbOuDf',\n",
      "             'artist_name': 'Frank Ocean',\n",
      "             'artist_uri': 'spotify:artist:2h93pZq0e7k5yf4dywlkpM',\n",
      "             'duration_ms': 177922,\n",
      "             'pos': 19,\n",
      "             'track_name': 'Godspeed',\n",
      "             'track_uri': 'spotify:track:34xTFwjPQ1dC6uJmleno7x'},\n",
      "            {'album_name': 'ANTI',\n",
      "             'album_uri': 'spotify:album:3Q149ZH46Z0f3oDR7vlDYV',\n",
      "             'artist_name': 'Rihanna',\n",
      "             'artist_uri': 'spotify:artist:5pKCCKE2ajJHZ9KAiaK11H',\n",
      "             'duration_ms': 224000,\n",
      "             'pos': 20,\n",
      "             'track_name': 'Love On The Brain',\n",
      "             'track_uri': 'spotify:track:2aksifNn5ph8igDOkPBA02'},\n",
      "            {'album_name': 'Coloring Book',\n",
      "             'album_uri': 'spotify:album:71QyofYesSsRMwFOTafnhB',\n",
      "             'artist_name': 'Chance The Rapper',\n",
      "             'artist_uri': 'spotify:artist:1anyVhU62p31KFi8MEzkbf',\n",
      "             'duration_ms': 257775,\n",
      "             'pos': 21,\n",
      "             'track_name': 'Same Drugs',\n",
      "             'track_uri': 'spotify:track:6m9qPYXmhge2QhBLfFKnVF'},\n",
      "            {'album_name': 'Issues',\n",
      "             'album_uri': 'spotify:album:7KjPQYz7xPvZ7mwfATL1E1',\n",
      "             'artist_name': 'Julia Michaels',\n",
      "             'artist_uri': 'spotify:artist:0ZED1XzwlLHW4ZaG4lOT6m',\n",
      "             'duration_ms': 175280,\n",
      "             'pos': 22,\n",
      "             'track_name': 'Issues - Acoustic',\n",
      "             'track_uri': 'spotify:track:7M8d1oa1Rfvik0RRHT12wt'},\n",
      "            {'album_name': 'Feel Something',\n",
      "             'album_uri': 'spotify:album:6MuWCR3WPjwyKhqsTKLZ3z',\n",
      "             'artist_name': 'Jaymes Young',\n",
      "             'artist_uri': 'spotify:artist:6QrQ7OrISRYIfS5mtacaw2',\n",
      "             'duration_ms': 240586,\n",
      "             'pos': 23,\n",
      "             'track_name': \"We Won't\",\n",
      "             'track_uri': 'spotify:track:0Zge2Kfo3Yd9JOGnAmVPbb'},\n",
      "            {'album_name': 'Jealous',\n",
      "             'album_uri': 'spotify:album:2JgVVnno2fzdmV1BqwdQBi',\n",
      "             'artist_name': 'Labrinth',\n",
      "             'artist_uri': 'spotify:artist:2feDdbD5araYcm6JhFHHw7',\n",
      "             'duration_ms': 287693,\n",
      "             'pos': 24,\n",
      "             'track_name': 'Jealous',\n",
      "             'track_uri': 'spotify:track:4L2K7JKseFCBoHMZEAszW0'},\n",
      "            {'album_name': 'Often',\n",
      "             'album_uri': 'spotify:album:3KOSzvZlRyhU6grHpI7y4m',\n",
      "             'artist_name': 'Abhi//Dijon',\n",
      "             'artist_uri': 'spotify:artist:1crlEwxm5dcQjCcgCJEyqg',\n",
      "             'duration_ms': 189786,\n",
      "             'pos': 25,\n",
      "             'track_name': 'Often',\n",
      "             'track_uri': 'spotify:track:4RdBZE3BH44wZXoj2vmjez'},\n",
      "            {'album_name': 'Portrait in Two',\n",
      "             'album_uri': 'spotify:album:1PKyn5sp4jC75UKKJUfXiA',\n",
      "             'artist_name': 'Chris McClenney',\n",
      "             'artist_uri': 'spotify:artist:44drVL4jbdo6T6llD5cMgx',\n",
      "             'duration_ms': 228367,\n",
      "             'pos': 26,\n",
      "             'track_name': 'Pearl',\n",
      "             'track_uri': 'spotify:track:5A0GWSBESInDWVR8jADYpF'},\n",
      "            {'album_name': 'This_era',\n",
      "             'album_uri': 'spotify:album:2fS1lHMmytqxSSSuGM7XtF',\n",
      "             'artist_name': 'Sylo Nozra',\n",
      "             'artist_uri': 'spotify:artist:0QitJHI0ZwMa5F9TR6EYSl',\n",
      "             'duration_ms': 246400,\n",
      "             'pos': 27,\n",
      "             'track_name': 'Losing Myself',\n",
      "             'track_uri': 'spotify:track:6Z3cp2EIj5i7xnXscgo4RV'},\n",
      "            {'album_name': 'Baby Girl',\n",
      "             'album_uri': 'spotify:album:1TFnDLXza0IMAITvqviHFB',\n",
      "             'artist_name': 'Guordan Banks',\n",
      "             'artist_uri': 'spotify:artist:4lwPGsAG5qnfn1JOtESnYZ',\n",
      "             'duration_ms': 171360,\n",
      "             'pos': 28,\n",
      "             'track_name': 'Baby Girl',\n",
      "             'track_uri': 'spotify:track:1F8eTGAJE0aQkQLLSoxmqp'},\n",
      "            {'album_name': 'Too Fast',\n",
      "             'album_uri': 'spotify:album:3VOtFn4nuS6eOiwBMnEY2j',\n",
      "             'artist_name': 'Sonder',\n",
      "             'artist_uri': 'spotify:artist:2ICR2m4hOBPhaYiZB3rnLW',\n",
      "             'duration_ms': 308005,\n",
      "             'pos': 29,\n",
      "             'track_name': 'Too Fast',\n",
      "             'track_uri': 'spotify:track:42QRyJd5x6e2TFR1S41g2p'},\n",
      "            {'album_name': 'Dead',\n",
      "             'album_uri': 'spotify:album:0Uc4E6Y5h36pCjptIv0EZB',\n",
      "             'artist_name': 'Madison Beer',\n",
      "             'artist_uri': 'spotify:artist:2kRfqPViCqYdSGhYSM9R0Q',\n",
      "             'duration_ms': 194826,\n",
      "             'pos': 30,\n",
      "             'track_name': 'Dead',\n",
      "             'track_uri': 'spotify:track:5kApwSRDqF5CKclVLw1FBM'},\n",
      "            {'album_name': 'Bad Liar',\n",
      "             'album_uri': 'spotify:album:1nIz2JbAAL6wK0HS6Wb9aC',\n",
      "             'artist_name': 'Selena Gomez',\n",
      "             'artist_uri': 'spotify:artist:0C8ZW7ezQVs4URX5aX7Kqx',\n",
      "             'duration_ms': 214647,\n",
      "             'pos': 31,\n",
      "             'track_name': 'Bad Liar',\n",
      "             'track_uri': 'spotify:track:1sCxVKWImDZSZKvG0U9B23'},\n",
      "            {'album_name': 'Ghost',\n",
      "             'album_uri': 'spotify:album:76SWw0lXwPTjbzvB7GYqd9',\n",
      "             'artist_name': 'Ellie Drennan',\n",
      "             'artist_uri': 'spotify:artist:15xcqj9BY2ZBoJujwF91CQ',\n",
      "             'duration_ms': 210959,\n",
      "             'pos': 32,\n",
      "             'track_name': 'Ghost',\n",
      "             'track_uri': 'spotify:track:5uFJG7quq30UQocWCD6Syg'},\n",
      "            {'album_name': 'Rainbow',\n",
      "             'album_uri': 'spotify:album:1IYVB8NfiRqhdZlTxjspNh',\n",
      "             'artist_name': 'Kesha',\n",
      "             'artist_uri': 'spotify:artist:6LqNN22kT3074XbTVUrhzX',\n",
      "             'duration_ms': 230266,\n",
      "             'pos': 33,\n",
      "             'track_name': 'Praying',\n",
      "             'track_uri': 'spotify:track:0jdny0dhgjUwoIp5GkqEaA'},\n",
      "            {'album_name': 'Mellow Drama',\n",
      "             'album_uri': 'spotify:album:46pEbWNC46JpM8Rza25ZkS',\n",
      "             'artist_name': 'Kevin Garrett',\n",
      "             'artist_uri': 'spotify:artist:56tbeL5xhBPxby544GuK3E',\n",
      "             'duration_ms': 279720,\n",
      "             'pos': 34,\n",
      "             'track_name': 'Never Knock',\n",
      "             'track_uri': 'spotify:track:7LfT2B5XZF5c86iNcSwYc9'},\n",
      "            {'album_name': 'Control',\n",
      "             'album_uri': 'spotify:album:5yW7ldT21htEmHxKIYXh8s',\n",
      "             'artist_name': 'Kevin Garrett',\n",
      "             'artist_uri': 'spotify:artist:56tbeL5xhBPxby544GuK3E',\n",
      "             'duration_ms': 242226,\n",
      "             'pos': 35,\n",
      "             'track_name': 'Control',\n",
      "             'track_uri': 'spotify:track:5r7No91XqX57cQ5eCVJ2kg'},\n",
      "            {'album_name': 'Get You - Single',\n",
      "             'album_uri': 'spotify:album:5qfhZ5YkZ4LhEUbYgjrWt6',\n",
      "             'artist_name': 'Daniel Caesar',\n",
      "             'artist_uri': 'spotify:artist:20wkVLutqVOYrc0kxFs7rA',\n",
      "             'duration_ms': 270846,\n",
      "             'pos': 36,\n",
      "             'track_name': 'Japanese Denim',\n",
      "             'track_uri': 'spotify:track:1boXOL0ua7N2iCOUVI1p9F'},\n",
      "            {'album_name': 'Freudian',\n",
      "             'album_uri': 'spotify:album:3xybjP7r2VsWzwvDQipdM0',\n",
      "             'artist_name': 'Daniel Caesar',\n",
      "             'artist_uri': 'spotify:artist:20wkVLutqVOYrc0kxFs7rA',\n",
      "             'duration_ms': 254919,\n",
      "             'pos': 37,\n",
      "             'track_name': 'We Find Love',\n",
      "             'track_uri': 'spotify:track:1TPLsNVlofwX1txcE9gZZF'},\n",
      "            {'album_name': \"Pilgrim's Paradise\",\n",
      "             'album_uri': 'spotify:album:4uP43hIpmEEDuW7aOfiU2C',\n",
      "             'artist_name': 'Daniel Caesar',\n",
      "             'artist_uri': 'spotify:artist:20wkVLutqVOYrc0kxFs7rA',\n",
      "             'duration_ms': 246972,\n",
      "             'pos': 38,\n",
      "             'track_name': 'Streetcar',\n",
      "             'track_uri': 'spotify:track:7Cu2COdH93MnuireuKNiS3'},\n",
      "            {'album_name': \"Pilgrim's Paradise\",\n",
      "             'album_uri': 'spotify:album:4uP43hIpmEEDuW7aOfiU2C',\n",
      "             'artist_name': 'Daniel Caesar',\n",
      "             'artist_uri': 'spotify:artist:20wkVLutqVOYrc0kxFs7rA',\n",
      "             'duration_ms': 305081,\n",
      "             'pos': 39,\n",
      "             'track_name': 'Death & Taxes',\n",
      "             'track_uri': 'spotify:track:7HnkUNPrhRurdGEm9nRYFH'},\n",
      "            {'album_name': 'Freudian',\n",
      "             'album_uri': 'spotify:album:3xybjP7r2VsWzwvDQipdM0',\n",
      "             'artist_name': 'Daniel Caesar',\n",
      "             'artist_uri': 'spotify:artist:20wkVLutqVOYrc0kxFs7rA',\n",
      "             'duration_ms': 241370,\n",
      "             'pos': 40,\n",
      "             'track_name': 'Blessed',\n",
      "             'track_uri': 'spotify:track:0KyzXQhY2yzcb1FYCHkZc2'},\n",
      "            {'album_name': 'Violet',\n",
      "             'album_uri': 'spotify:album:0jEXP19j3EI5XObHCKIuM1',\n",
      "             'artist_name': 'Daniel Caesar',\n",
      "             'artist_uri': 'spotify:artist:20wkVLutqVOYrc0kxFs7rA',\n",
      "             'duration_ms': 144000,\n",
      "             'pos': 41,\n",
      "             'track_name': 'Violet',\n",
      "             'track_uri': 'spotify:track:22jnEneSABg4vRCR1vow7F'},\n",
      "            {'album_name': \"Won't Live Here\",\n",
      "             'album_uri': 'spotify:album:5nZUOduCn57LZbmGOq0kVL',\n",
      "             'artist_name': 'Daniel Caesar',\n",
      "             'artist_uri': 'spotify:artist:20wkVLutqVOYrc0kxFs7rA',\n",
      "             'duration_ms': 312114,\n",
      "             'pos': 42,\n",
      "             'track_name': \"Won't Live Here\",\n",
      "             'track_uri': 'spotify:track:6GMblDhPDP420uc77vmqTc'},\n",
      "            {'album_name': \"Pilgrim's Paradise\",\n",
      "             'album_uri': 'spotify:album:4uP43hIpmEEDuW7aOfiU2C',\n",
      "             'artist_name': 'Daniel Caesar',\n",
      "             'artist_uri': 'spotify:artist:20wkVLutqVOYrc0kxFs7rA',\n",
      "             'duration_ms': 225254,\n",
      "             'pos': 43,\n",
      "             'track_name': 'Little Rowboat',\n",
      "             'track_uri': 'spotify:track:7fOwfp4u4UD9REy0SOXIGO'},\n",
      "            {'album_name': \"Pilgrim's Paradise\",\n",
      "             'album_uri': 'spotify:album:4uP43hIpmEEDuW7aOfiU2C',\n",
      "             'artist_name': 'Daniel Caesar',\n",
      "             'artist_uri': 'spotify:artist:20wkVLutqVOYrc0kxFs7rA',\n",
      "             'duration_ms': 88916,\n",
      "             'pos': 44,\n",
      "             'track_name': 'A Cappella',\n",
      "             'track_uri': 'spotify:track:3XlzpaHje8MlpaGe8twgr7'},\n",
      "            {'album_name': 'Cool Side Of The Pillow',\n",
      "             'album_uri': 'spotify:album:03M84CyX5c1KFygf2lXQod',\n",
      "             'artist_name': 'Kyle Dion',\n",
      "             'artist_uri': 'spotify:artist:5qfkUSH3ip5dD2eEPhjkT3',\n",
      "             'duration_ms': 223781,\n",
      "             'pos': 45,\n",
      "             'track_name': 'Cool Side Of The Pillow',\n",
      "             'track_uri': 'spotify:track:1UBCUQp3areFyJZjTwLz9g'}]}\n"
     ]
    }
   ],
   "source": [
    "results=[]\n",
    "process_mpd(DATA_SRC,random_subset,results)\n",
    "print(len(results))\n",
    "pprint(results[-1])"
   ]
  },
  {
   "cell_type": "code",
   "execution_count": 27,
   "metadata": {
    "ExecuteTime": {
     "end_time": "2018-02-13T15:12:44.002283Z",
     "start_time": "2018-02-13T15:12:42.298441Z"
    },
    "collapsed": true
   },
   "outputs": [],
   "source": [
    "a_dict={\"info\": {\n",
    "        \"generated_on\": \"2017-12-03 08:41:42.057563\", \n",
    "        \"slice\": \"random subset of 1% of playlist\", \n",
    "        \"version\": \"v1\"\n",
    "    }, \"playlists\": results}\n",
    "with open('random_1_percent.json','w') as afile:\n",
    "    afile.write(json.dumps(a_dict, indent=4))"
   ]
  },
  {
   "cell_type": "code",
   "execution_count": null,
   "metadata": {
    "collapsed": true
   },
   "outputs": [],
   "source": []
  }
 ],
 "metadata": {
  "kernelspec": {
   "display_name": "Python 3",
   "language": "python",
   "name": "python3"
  },
  "language_info": {
   "codemirror_mode": {
    "name": "ipython",
    "version": 3
   },
   "file_extension": ".py",
   "mimetype": "text/x-python",
   "name": "python",
   "nbconvert_exporter": "python",
   "pygments_lexer": "ipython3",
   "version": "3.6.3"
  },
  "toc": {
   "nav_menu": {},
   "number_sections": true,
   "sideBar": true,
   "skip_h1_title": false,
   "toc_cell": true,
   "toc_position": {},
   "toc_section_display": "block",
   "toc_window_display": true
  }
 },
 "nbformat": 4,
 "nbformat_minor": 2
}
