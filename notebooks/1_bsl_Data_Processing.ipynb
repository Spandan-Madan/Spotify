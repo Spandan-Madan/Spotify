{
 "cells": [
  {
   "cell_type": "markdown",
   "metadata": {
    "toc": true
   },
   "source": [
    "<h1>Table of Contents<span class=\"tocSkip\"></span></h1>\n",
    "<div class=\"toc\" style=\"margin-top: 1em;\"><ul class=\"toc-item\"><li><span><a href=\"#Preliminaries\" data-toc-modified-id=\"Preliminaries-1\"><span class=\"toc-item-num\">1&nbsp;&nbsp;</span>Preliminaries</a></span><ul class=\"toc-item\"><li><span><a href=\"#Data_SRC\" data-toc-modified-id=\"Data_SRC-1.1\"><span class=\"toc-item-num\">1.1&nbsp;&nbsp;</span>Data_SRC</a></span></li><li><span><a href=\"#Load-libraries\" data-toc-modified-id=\"Load-libraries-1.2\"><span class=\"toc-item-num\">1.2&nbsp;&nbsp;</span>Load libraries</a></span></li></ul></li><li><span><a href=\"#Demo-of-process_mpd\" data-toc-modified-id=\"Demo-of-process_mpd-2\"><span class=\"toc-item-num\">2&nbsp;&nbsp;</span>Demo of process_mpd</a></span><ul class=\"toc-item\"><li><span><a href=\"#counting-the-number-of-playlist\" data-toc-modified-id=\"counting-the-number-of-playlist-2.1\"><span class=\"toc-item-num\">2.1&nbsp;&nbsp;</span>counting the number of playlist</a></span></li><li><span><a href=\"#get-unique-tracks-in-all-playlist\" data-toc-modified-id=\"get-unique-tracks-in-all-playlist-2.2\"><span class=\"toc-item-num\">2.2&nbsp;&nbsp;</span>get unique tracks in all playlist</a></span></li><li><span><a href=\"#create-random-subset-of-1%-of-all-playlists\" data-toc-modified-id=\"create-random-subset-of-1%-of-all-playlists-2.3\"><span class=\"toc-item-num\">2.3&nbsp;&nbsp;</span>create random subset of 1% of all playlists</a></span></li></ul></li></ul></div>"
   ]
  },
  {
   "cell_type": "markdown",
   "metadata": {},
   "source": [
    "# Preliminaries\n",
    "## Data_SRC"
   ]
  },
  {
   "cell_type": "code",
   "execution_count": 33,
   "metadata": {
    "ExecuteTime": {
     "end_time": "2018-02-21T00:01:19.761473Z",
     "start_time": "2018-02-21T00:01:19.711048Z"
    }
   },
   "outputs": [
    {
     "name": "stdout",
     "output_type": "stream",
     "text": [
      "The autoreload extension is already loaded. To reload it, use:\n",
      "  %reload_ext autoreload\n"
     ]
    }
   ],
   "source": [
    "#location of the dataset\n",
    "#DATA_SRC='/home/beangoben/ml_data/mpd.v1/data'\n",
    "DATA_SRC='../data/raw/5k_subset'\n",
    "# add src scripts to utilize\n",
    "import sys\n",
    "sys.path.append('../src')\n",
    "sys.path.append('../src/data/')\n",
    "sys.path.append('../src/models/')\n",
    "sys.path.append('../src/features/')\n",
    "sys.path.append('../src/visualization/')\n",
    "# will reload any library\n",
    "%load_ext autoreload\n",
    "%autoreload 2"
   ]
  },
  {
   "cell_type": "markdown",
   "metadata": {},
   "source": [
    "## Load libraries"
   ]
  },
  {
   "cell_type": "code",
   "execution_count": 34,
   "metadata": {
    "ExecuteTime": {
     "end_time": "2018-02-21T00:01:20.525656Z",
     "start_time": "2018-02-21T00:01:20.508864Z"
    },
    "collapsed": true
   },
   "outputs": [],
   "source": [
    "import os\n",
    "import json\n",
    "# utility\n",
    "from tqdm import tqdm_notebook as tqdm\n",
    "# scientific python\n",
    "import numpy as np\n",
    "import pandas as pd\n",
    "# nice printing\n",
    "from pprint import pprint\n",
    "# for plotting\n",
    "import matplotlib.pyplot as plt\n",
    "import seaborn as sns\n",
    "%matplotlib inline"
   ]
  },
  {
   "cell_type": "markdown",
   "metadata": {
    "ExecuteTime": {
     "end_time": "2018-02-13T07:46:42.099612Z",
     "start_time": "2018-02-13T07:46:42.081578Z"
    }
   },
   "source": [
    "# Demo of process_mpd\n",
    "\n",
    "Located in data/data_utils.py, **process_mpd** will take a directory path, a function to operate on a playlist and a object to store results (could be a dataframe or a dict for example). \n",
    "\n",
    "Optional is a *max_n* (max number of slices to operate on) and use *rand=False* for random or sorted files.\n",
    "\n",
    "\n",
    "## counting the number of playlist"
   ]
  },
  {
   "cell_type": "code",
   "execution_count": 37,
   "metadata": {
    "ExecuteTime": {
     "end_time": "2018-02-21T00:02:30.980145Z",
     "start_time": "2018-02-21T00:02:30.970412Z"
    },
    "collapsed": true
   },
   "outputs": [],
   "source": [
    "from data_utils import process_mpd\n",
    "\n",
    "def count_playlist(playlist,results):\n",
    "    results['count']=results['count']+1\n",
    "    return"
   ]
  },
  {
   "cell_type": "code",
   "execution_count": null,
   "metadata": {
    "ExecuteTime": {
     "start_time": "2018-02-21T00:02:31.330Z"
    }
   },
   "outputs": [],
   "source": [
    "results={}\n",
    "results['count']=0\n",
    "process_mpd(DATA_SRC,count_playlist,results,max_n=10,rand=True)\n",
    "pprint(results)"
   ]
  },
  {
   "cell_type": "markdown",
   "metadata": {
    "ExecuteTime": {
     "end_time": "2018-02-13T08:06:14.458761Z",
     "start_time": "2018-02-13T08:06:14.450434Z"
    }
   },
   "source": [
    "## get unique tracks in all playlist"
   ]
  },
  {
   "cell_type": "code",
   "execution_count": 9,
   "metadata": {
    "ExecuteTime": {
     "end_time": "2018-02-20T23:47:32.750260Z",
     "start_time": "2018-02-20T23:47:32.666055Z"
    },
    "collapsed": true
   },
   "outputs": [],
   "source": [
    "from data_utils import process_mpd, normalize_name\n",
    "\n",
    "def unique_trackids(playlist,results):\n",
    "    pid = playlist['pid']\n",
    "    for track in playlist['tracks']:\n",
    "        results.append({'title':track['track_name'],'artist':track['artist_name'],'uri':track['track_uri'],'pid':pid})\n",
    "    return"
   ]
  },
  {
   "cell_type": "code",
   "execution_count": 10,
   "metadata": {
    "ExecuteTime": {
     "end_time": "2018-02-20T23:47:39.996485Z",
     "start_time": "2018-02-20T23:47:39.039511Z"
    }
   },
   "outputs": [
    {
     "data": {
      "application/vnd.jupyter.widget-view+json": {
       "model_id": "8528c11a8c394ddf82f8237d9031cd19",
       "version_major": 2,
       "version_minor": 0
      },
      "text/html": [
       "<p>Failed to display Jupyter Widget of type <code>HBox</code>.</p>\n",
       "<p>\n",
       "  If you're reading this message in the Jupyter Notebook or JupyterLab Notebook, it may mean\n",
       "  that the widgets JavaScript is still loading. If this message persists, it\n",
       "  likely means that the widgets JavaScript library is either not installed or\n",
       "  not enabled. See the <a href=\"https://ipywidgets.readthedocs.io/en/stable/user_install.html\">Jupyter\n",
       "  Widgets Documentation</a> for setup instructions.\n",
       "</p>\n",
       "<p>\n",
       "  If you're reading this message in another frontend (for example, a static\n",
       "  rendering on GitHub or <a href=\"https://nbviewer.jupyter.org/\">NBViewer</a>),\n",
       "  it may mean that your frontend doesn't currently support widgets.\n",
       "</p>\n"
      ],
      "text/plain": [
       "HBox(children=(IntProgress(value=0, max=5), HTML(value='')))"
      ]
     },
     "metadata": {},
     "output_type": "display_data"
    },
    {
     "name": "stdout",
     "output_type": "stream",
     "text": [
      "335094\n"
     ]
    }
   ],
   "source": [
    "results=[]\n",
    "process_mpd(DATA_SRC,unique_trackids,results,max_n=5)\n",
    "print(len(results))\n",
    "#pd.DataFrame({'track_uri':list(results)}).to_csv('../data/interim/5k_track_uri.csv',index=False,compression='gzip')"
   ]
  },
  {
   "cell_type": "code",
   "execution_count": 16,
   "metadata": {
    "ExecuteTime": {
     "end_time": "2018-02-20T23:49:55.699451Z",
     "start_time": "2018-02-20T23:49:54.704751Z"
    }
   },
   "outputs": [
    {
     "name": "stdout",
     "output_type": "stream",
     "text": [
      "(335094, 4)\n",
      "(107781, 4)\n"
     ]
    }
   ],
   "source": [
    "df = pd.DataFrame(results)\n",
    "print(df.shape)\n",
    "df = df.drop_duplicates('uri')\n",
    "print(df.shape)\n",
    "df.to_csv('../data/interim/5k_track_uri.csv',index=False,compression='gzip')"
   ]
  },
  {
   "cell_type": "markdown",
   "metadata": {
    "ExecuteTime": {
     "end_time": "2018-02-13T08:16:45.719575Z",
     "start_time": "2018-02-13T08:16:45.706188Z"
    }
   },
   "source": [
    "## create random subset of 1% of all playlists"
   ]
  },
  {
   "cell_type": "code",
   "execution_count": 37,
   "metadata": {
    "ExecuteTime": {
     "end_time": "2018-02-13T15:41:57.886468Z",
     "start_time": "2018-02-13T15:41:57.849268Z"
    },
    "collapsed": true
   },
   "outputs": [],
   "source": [
    "from data_utils import process_mpd\n",
    "import random\n",
    "\n",
    "def coinflip(percent=0.001):\n",
    "    return random.uniform(0, 1) < percent\n",
    "\n",
    "def random_subset(playlist,results):\n",
    "    if coinflip(1):\n",
    "        results.append(playlist)\n",
    "    return"
   ]
  },
  {
   "cell_type": "code",
   "execution_count": null,
   "metadata": {
    "ExecuteTime": {
     "start_time": "2018-02-13T15:41:58.449Z"
    }
   },
   "outputs": [
    {
     "name": "stderr",
     "output_type": "stream",
     "text": [
      " 86%|████████▋ | 863/1000 [06:15<00:59,  2.30it/s]"
     ]
    }
   ],
   "source": [
    "results=[]\n",
    "process_mpd(DATA_SRC,random_subset,results)\n",
    "print(len(results))\n",
    "pprint(results[-1])"
   ]
  },
  {
   "cell_type": "code",
   "execution_count": 27,
   "metadata": {
    "ExecuteTime": {
     "end_time": "2018-02-13T15:12:44.002283Z",
     "start_time": "2018-02-13T15:12:42.298441Z"
    },
    "collapsed": true
   },
   "outputs": [],
   "source": [
    "a_dict={\"info\": {\n",
    "        \"generated_on\": \"2017-12-03 08:41:42.057563\", \n",
    "        \"slice\": \"random subset of 0.1% of playlist\", \n",
    "        \"version\": \"v1\"\n",
    "    }, \"playlists\": results}\n",
    "with open('../data/intetim/random_01_percent.json','w') as afile:\n",
    "    afile.write(json.dumps(a_dict, indent=4))"
   ]
  },
  {
   "cell_type": "code",
   "execution_count": null,
   "metadata": {
    "collapsed": true
   },
   "outputs": [],
   "source": []
  }
 ],
 "metadata": {
  "kernelspec": {
   "display_name": "Python 3",
   "language": "python",
   "name": "python3"
  },
  "language_info": {
   "codemirror_mode": {
    "name": "ipython",
    "version": 3
   },
   "file_extension": ".py",
   "mimetype": "text/x-python",
   "name": "python",
   "nbconvert_exporter": "python",
   "pygments_lexer": "ipython3",
   "version": "3.6.3"
  },
  "toc": {
   "nav_menu": {},
   "number_sections": true,
   "sideBar": true,
   "skip_h1_title": false,
   "toc_cell": true,
   "toc_position": {},
   "toc_section_display": "block",
   "toc_window_display": true
  }
 },
 "nbformat": 4,
 "nbformat_minor": 2
}
