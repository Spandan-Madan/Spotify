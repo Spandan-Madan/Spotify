{
 "cells": [
  {
   "cell_type": "markdown",
   "metadata": {
    "toc": true
   },
   "source": [
    "<h1>Table of Contents<span class=\"tocSkip\"></span></h1>\n",
    "<div class=\"toc\" style=\"margin-top: 1em;\"><ul class=\"toc-item\"><li><span><a href=\"#Preliminaries\" data-toc-modified-id=\"Preliminaries-1\"><span class=\"toc-item-num\">1&nbsp;&nbsp;</span>Preliminaries</a></span><ul class=\"toc-item\"><li><span><a href=\"#Data_SRC\" data-toc-modified-id=\"Data_SRC-1.1\"><span class=\"toc-item-num\">1.1&nbsp;&nbsp;</span>Data_SRC</a></span></li><li><span><a href=\"#Load-libraries\" data-toc-modified-id=\"Load-libraries-1.2\"><span class=\"toc-item-num\">1.2&nbsp;&nbsp;</span>Load libraries</a></span></li></ul></li><li><span><a href=\"#Demo-of-process_mpd\" data-toc-modified-id=\"Demo-of-process_mpd-2\"><span class=\"toc-item-num\">2&nbsp;&nbsp;</span>Demo of process_mpd</a></span><ul class=\"toc-item\"><li><span><a href=\"#counting-the-number-of-playlist\" data-toc-modified-id=\"counting-the-number-of-playlist-2.1\"><span class=\"toc-item-num\">2.1&nbsp;&nbsp;</span>counting the number of playlist</a></span></li><li><span><a href=\"#get-unique-tracks-in-all-playlist\" data-toc-modified-id=\"get-unique-tracks-in-all-playlist-2.2\"><span class=\"toc-item-num\">2.2&nbsp;&nbsp;</span>get unique tracks in all playlist</a></span></li><li><span><a href=\"#create-random-subset-of-1%-of-all-playlists\" data-toc-modified-id=\"create-random-subset-of-1%-of-all-playlists-2.3\"><span class=\"toc-item-num\">2.3&nbsp;&nbsp;</span>create random subset of 1% of all playlists</a></span></li></ul></li><li><span><a href=\"#Get-audio-features\" data-toc-modified-id=\"Get-audio-features-3\"><span class=\"toc-item-num\">3&nbsp;&nbsp;</span>Get audio features</a></span><ul class=\"toc-item\"><li><span><a href=\"#setup\" data-toc-modified-id=\"setup-3.1\"><span class=\"toc-item-num\">3.1&nbsp;&nbsp;</span>setup</a></span></li><li><span><a href=\"#Read-tracks\" data-toc-modified-id=\"Read-tracks-3.2\"><span class=\"toc-item-num\">3.2&nbsp;&nbsp;</span>Read tracks</a></span></li><li><span><a href=\"#spotify-web-api\" data-toc-modified-id=\"spotify-web-api-3.3\"><span class=\"toc-item-num\">3.3&nbsp;&nbsp;</span>spotify-web api</a></span></li></ul></li></ul></div>"
   ]
  },
  {
   "cell_type": "markdown",
   "metadata": {},
   "source": [
    "# Preliminaries\n",
    "## Data_SRC"
   ]
  },
  {
   "cell_type": "code",
   "execution_count": 2,
   "metadata": {
    "ExecuteTime": {
     "end_time": "2018-03-04T01:43:26.117452Z",
     "start_time": "2018-03-04T01:43:26.086249Z"
    }
   },
   "outputs": [
    {
     "name": "stdout",
     "output_type": "stream",
     "text": [
      "The autoreload extension is already loaded. To reload it, use:\n",
      "  %reload_ext autoreload\n"
     ]
    }
   ],
   "source": [
    "#location of the dataset\n",
    "#DATA_SRC='/home/beangoben/ml_data/mpd.v1/data'\n",
    "DATA_SRC='../data/raw/5k_subset'\n",
    "# add src scripts to utilize\n",
    "import sys\n",
    "sys.path.append('../src')\n",
    "sys.path.append('../src/data/')\n",
    "sys.path.append('../src/models/')\n",
    "sys.path.append('../src/features/')\n",
    "sys.path.append('../src/visualization/')\n",
    "# will reload any library\n",
    "%load_ext autoreload\n",
    "%autoreload 2"
   ]
  },
  {
   "cell_type": "code",
   "execution_count": null,
   "metadata": {
    "collapsed": true
   },
   "outputs": [],
   "source": [
    "X[:50,:]"
   ]
  },
  {
   "cell_type": "markdown",
   "metadata": {},
   "source": [
    "## Load libraries"
   ]
  },
  {
   "cell_type": "code",
   "execution_count": 3,
   "metadata": {
    "ExecuteTime": {
     "end_time": "2018-03-04T01:43:29.238495Z",
     "start_time": "2018-03-04T01:43:28.364835Z"
    },
    "collapsed": true
   },
   "outputs": [],
   "source": [
    "import os\n",
    "import json\n",
    "# utility\n",
    "from tqdm import tqdm_notebook as tqdm\n",
    "# scientific python\n",
    "import numpy as np\n",
    "import pandas as pd\n",
    "# nice printing\n",
    "from pprint import pprint\n",
    "# for plotting\n",
    "import matplotlib.pyplot as plt\n",
    "import seaborn as sns\n",
    "%matplotlib inline"
   ]
  },
  {
   "cell_type": "markdown",
   "metadata": {
    "ExecuteTime": {
     "end_time": "2018-02-13T07:46:42.099612Z",
     "start_time": "2018-02-13T07:46:42.081578Z"
    }
   },
   "source": [
    "# Demo of process_mpd\n",
    "\n",
    "Located in data/data_utils.py, **process_mpd** will take a directory path, a function to operate on a playlist and a object to store results (could be a dataframe or a dict for example). \n",
    "\n",
    "Optional is a *max_n* (max number of slices to operate on) and use *rand=False* for random or sorted files.\n",
    "\n",
    "\n",
    "## counting the number of playlist"
   ]
  },
  {
   "cell_type": "code",
   "execution_count": 37,
   "metadata": {
    "ExecuteTime": {
     "end_time": "2018-02-21T00:02:30.980145Z",
     "start_time": "2018-02-21T00:02:30.970412Z"
    },
    "collapsed": true
   },
   "outputs": [],
   "source": [
    "from data_utils import process_mpd\n",
    "\n",
    "def count_playlist(playlist,results):\n",
    "    results['count']=results['count']+1\n",
    "    return"
   ]
  },
  {
   "cell_type": "code",
   "execution_count": null,
   "metadata": {
    "ExecuteTime": {
     "start_time": "2018-02-21T00:02:31.330Z"
    },
    "collapsed": true
   },
   "outputs": [],
   "source": [
    "results={}\n",
    "results['count']=0\n",
    "process_mpd(DATA_SRC,count_playlist,results,max_n=10,rand=True)\n",
    "pprint(results)"
   ]
  },
  {
   "cell_type": "markdown",
   "metadata": {
    "ExecuteTime": {
     "end_time": "2018-02-13T08:06:14.458761Z",
     "start_time": "2018-02-13T08:06:14.450434Z"
    }
   },
   "source": [
    "## get unique tracks in all playlist"
   ]
  },
  {
   "cell_type": "code",
   "execution_count": 9,
   "metadata": {
    "ExecuteTime": {
     "end_time": "2018-02-20T23:47:32.750260Z",
     "start_time": "2018-02-20T23:47:32.666055Z"
    },
    "collapsed": true
   },
   "outputs": [],
   "source": [
    "from data_utils import process_mpd, normalize_name\n",
    "\n",
    "def unique_trackids(playlist,results):\n",
    "    pid = playlist['pid']\n",
    "    for track in playlist['tracks']:\n",
    "        results.append({'title':track['track_name'],'artist':track['artist_name'],'uri':track['track_uri'],'pid':pid})\n",
    "    return"
   ]
  },
  {
   "cell_type": "code",
   "execution_count": 10,
   "metadata": {
    "ExecuteTime": {
     "end_time": "2018-02-20T23:47:39.996485Z",
     "start_time": "2018-02-20T23:47:39.039511Z"
    }
   },
   "outputs": [
    {
     "data": {
      "application/vnd.jupyter.widget-view+json": {
       "model_id": "8528c11a8c394ddf82f8237d9031cd19",
       "version_major": 2,
       "version_minor": 0
      },
      "text/html": [
       "<p>Failed to display Jupyter Widget of type <code>HBox</code>.</p>\n",
       "<p>\n",
       "  If you're reading this message in the Jupyter Notebook or JupyterLab Notebook, it may mean\n",
       "  that the widgets JavaScript is still loading. If this message persists, it\n",
       "  likely means that the widgets JavaScript library is either not installed or\n",
       "  not enabled. See the <a href=\"https://ipywidgets.readthedocs.io/en/stable/user_install.html\">Jupyter\n",
       "  Widgets Documentation</a> for setup instructions.\n",
       "</p>\n",
       "<p>\n",
       "  If you're reading this message in another frontend (for example, a static\n",
       "  rendering on GitHub or <a href=\"https://nbviewer.jupyter.org/\">NBViewer</a>),\n",
       "  it may mean that your frontend doesn't currently support widgets.\n",
       "</p>\n"
      ],
      "text/plain": [
       "HBox(children=(IntProgress(value=0, max=5), HTML(value='')))"
      ]
     },
     "metadata": {},
     "output_type": "display_data"
    },
    {
     "name": "stdout",
     "output_type": "stream",
     "text": [
      "335094\n"
     ]
    }
   ],
   "source": [
    "results=[]\n",
    "process_mpd(DATA_SRC,unique_trackids,results,max_n=5)\n",
    "print(len(results))\n",
    "#pd.DataFrame({'track_uri':list(results)}).to_csv('../data/interim/5k_track_uri.csv',index=False,compression='gzip')"
   ]
  },
  {
   "cell_type": "code",
   "execution_count": 16,
   "metadata": {
    "ExecuteTime": {
     "end_time": "2018-02-20T23:49:55.699451Z",
     "start_time": "2018-02-20T23:49:54.704751Z"
    }
   },
   "outputs": [
    {
     "name": "stdout",
     "output_type": "stream",
     "text": [
      "(335094, 4)\n",
      "(107781, 4)\n"
     ]
    }
   ],
   "source": [
    "df = pd.DataFrame(results)\n",
    "print(df.shape)\n",
    "df = df.drop_duplicates('uri')\n",
    "print(df.shape)\n",
    "df.to_csv('../data/interim/5k_track_uri.csv',index=False,compression='gzip')"
   ]
  },
  {
   "cell_type": "markdown",
   "metadata": {
    "ExecuteTime": {
     "end_time": "2018-02-13T08:16:45.719575Z",
     "start_time": "2018-02-13T08:16:45.706188Z"
    }
   },
   "source": [
    "## create random subset of 1% of all playlists"
   ]
  },
  {
   "cell_type": "code",
   "execution_count": 37,
   "metadata": {
    "ExecuteTime": {
     "end_time": "2018-02-13T15:41:57.886468Z",
     "start_time": "2018-02-13T15:41:57.849268Z"
    },
    "collapsed": true
   },
   "outputs": [],
   "source": [
    "from data_utils import process_mpd\n",
    "import random\n",
    "\n",
    "def coinflip(percent=0.001):\n",
    "    return random.uniform(0, 1) < percent\n",
    "\n",
    "def random_subset(playlist,results):\n",
    "    if coinflip(1):\n",
    "        results.append(playlist)\n",
    "    return"
   ]
  },
  {
   "cell_type": "code",
   "execution_count": null,
   "metadata": {
    "ExecuteTime": {
     "start_time": "2018-02-13T15:41:58.449Z"
    }
   },
   "outputs": [
    {
     "name": "stderr",
     "output_type": "stream",
     "text": [
      " 86%|████████▋ | 863/1000 [06:15<00:59,  2.30it/s]"
     ]
    }
   ],
   "source": [
    "results=[]\n",
    "process_mpd(DATA_SRC,random_subset,results)\n",
    "print(len(results))\n",
    "pprint(results[-1])"
   ]
  },
  {
   "cell_type": "code",
   "execution_count": 27,
   "metadata": {
    "ExecuteTime": {
     "end_time": "2018-02-13T15:12:44.002283Z",
     "start_time": "2018-02-13T15:12:42.298441Z"
    },
    "collapsed": true
   },
   "outputs": [],
   "source": [
    "a_dict={\"info\": {\n",
    "        \"generated_on\": \"2017-12-03 08:41:42.057563\", \n",
    "        \"slice\": \"random subset of 0.1% of playlist\", \n",
    "        \"version\": \"v1\"\n",
    "    }, \"playlists\": results}\n",
    "with open('../data/intetim/random_01_percent.json','w') as afile:\n",
    "    afile.write(json.dumps(a_dict, indent=4))"
   ]
  },
  {
   "cell_type": "markdown",
   "metadata": {
    "collapsed": true
   },
   "source": [
    "# Get audio features\n",
    "## setup"
   ]
  },
  {
   "cell_type": "code",
   "execution_count": 5,
   "metadata": {
    "ExecuteTime": {
     "end_time": "2018-03-04T22:19:42.682450Z",
     "start_time": "2018-03-04T22:19:42.645878Z"
    },
    "collapsed": true
   },
   "outputs": [],
   "source": [
    "import spotify\n",
    "import pandas as pd"
   ]
  },
  {
   "cell_type": "markdown",
   "metadata": {},
   "source": [
    "## Read tracks"
   ]
  },
  {
   "cell_type": "code",
   "execution_count": 71,
   "metadata": {
    "ExecuteTime": {
     "end_time": "2018-03-04T22:59:14.170694Z",
     "start_time": "2018-03-04T22:59:13.890904Z"
    }
   },
   "outputs": [
    {
     "name": "stdout",
     "output_type": "stream",
     "text": [
      "Index(['artist', 'pid', 'title', 'uri', 'csv_id'], dtype='object')\n",
      "(108870, 5)\n"
     ]
    },
    {
     "data": {
      "text/html": [
       "<div>\n",
       "<style scoped>\n",
       "    .dataframe tbody tr th:only-of-type {\n",
       "        vertical-align: middle;\n",
       "    }\n",
       "\n",
       "    .dataframe tbody tr th {\n",
       "        vertical-align: top;\n",
       "    }\n",
       "\n",
       "    .dataframe thead th {\n",
       "        text-align: right;\n",
       "    }\n",
       "</style>\n",
       "<table border=\"1\" class=\"dataframe\">\n",
       "  <thead>\n",
       "    <tr style=\"text-align: right;\">\n",
       "      <th></th>\n",
       "      <th>artist</th>\n",
       "      <th>pid</th>\n",
       "      <th>title</th>\n",
       "      <th>uri</th>\n",
       "      <th>csv_id</th>\n",
       "    </tr>\n",
       "  </thead>\n",
       "  <tbody>\n",
       "    <tr>\n",
       "      <th>0</th>\n",
       "      <td>missy elliott</td>\n",
       "      <td>0</td>\n",
       "      <td>lose control feat ciara &amp; fat man scoop</td>\n",
       "      <td>spotify:track:0UaMYEvWZi0ZqiDOoHU3YI</td>\n",
       "      <td>0</td>\n",
       "    </tr>\n",
       "  </tbody>\n",
       "</table>\n",
       "</div>"
      ],
      "text/plain": [
       "          artist  pid                                    title  \\\n",
       "0  missy elliott    0  lose control feat ciara & fat man scoop   \n",
       "\n",
       "                                    uri  csv_id  \n",
       "0  spotify:track:0UaMYEvWZi0ZqiDOoHU3YI       0  "
      ]
     },
     "execution_count": 71,
     "metadata": {},
     "output_type": "execute_result"
    }
   ],
   "source": [
    "df = pd.read_csv('../data/interim/5k_track_uri.csv')\n",
    "df['csv_id']=df.index.tolist()\n",
    "print(df.columns)\n",
    "print(df.shape)\n",
    "df.head(1)"
   ]
  },
  {
   "cell_type": "markdown",
   "metadata": {},
   "source": [
    "## spotify-web api"
   ]
  },
  {
   "cell_type": "code",
   "execution_count": 80,
   "metadata": {
    "ExecuteTime": {
     "end_time": "2018-03-04T23:16:01.071231Z",
     "start_time": "2018-03-04T23:16:01.020710Z"
    },
    "collapsed": true
   },
   "outputs": [],
   "source": [
    "def get_audio_features(chunk,sp):\n",
    "    tids = chunk['uri'].apply(lambda x: x.replace('spotify:track:','')).tolist()\n",
    "    afeatures = sp.audio_features(tids)\n",
    "    return afeatures\n",
    "\n",
    "def get_popularity(chunk,sp):\n",
    "    tids = chunk['uri'].apply(lambda x: x.replace('spotify:track:','')).tolist()\n",
    "    tracks = sp.tracks(tids)\n",
    "    pop =[{'popularity':t['popularity']} for t in tracks['tracks']]\n",
    "    return pop\n",
    "\n",
    "def get_artist(chunk,sp):\n",
    "    tids = chunk['uri'].apply(lambda x: x.replace('spotify:track:','')).tolist()\n",
    "    tracks = sp.tracks(tids)\n",
    "    arts =[{'artist_uri':t['artists'][0]['uri']} if t is not None else {'artitst_uri':None}  for t in tracks['tracks']]\n",
    "    return arts\n",
    "\n",
    "def get_artist_genres(chunk,sp):\n",
    "    tids = chunk['artist_uri'].apply(lambda x: x.replace('spotify:track:','')).tolist()\n",
    "    arts = sp.artists(tids)\n",
    "    genres =[{'genres':a['genres']} if a is not None else {'genres':None}  for a in arts['artists']]\n",
    "    return genres"
   ]
  },
  {
   "cell_type": "code",
   "execution_count": 83,
   "metadata": {
    "ExecuteTime": {
     "end_time": "2018-03-04T23:26:08.264110Z",
     "start_time": "2018-03-04T23:16:36.964793Z"
    },
    "scrolled": false
   },
   "outputs": [
    {
     "data": {
      "application/vnd.jupyter.widget-view+json": {
       "model_id": "deaa085a14fa4fc49617f4ebe8bca9a0",
       "version_major": 2,
       "version_minor": 0
      },
      "text/html": [
       "<p>Failed to display Jupyter Widget of type <code>HBox</code>.</p>\n",
       "<p>\n",
       "  If you're reading this message in the Jupyter Notebook or JupyterLab Notebook, it may mean\n",
       "  that the widgets JavaScript is still loading. If this message persists, it\n",
       "  likely means that the widgets JavaScript library is either not installed or\n",
       "  not enabled. See the <a href=\"https://ipywidgets.readthedocs.io/en/stable/user_install.html\">Jupyter\n",
       "  Widgets Documentation</a> for setup instructions.\n",
       "</p>\n",
       "<p>\n",
       "  If you're reading this message in another frontend (for example, a static\n",
       "  rendering on GitHub or <a href=\"https://nbviewer.jupyter.org/\">NBViewer</a>),\n",
       "  it may mean that your frontend doesn't currently support widgets.\n",
       "</p>\n"
      ],
      "text/plain": [
       "HBox(children=(IntProgress(value=0, max=2178), HTML(value='')))"
      ]
     },
     "metadata": {},
     "output_type": "display_data"
    },
    {
     "name": "stdout",
     "output_type": "stream",
     "text": [
      "\n"
     ]
    }
   ],
   "source": [
    "rows = spotify.df_chunk_apply(df, 50, get_artist)\n",
    "spotify.replace_none(rows)\n",
    "a_df = pd.DataFrame(rows)"
   ]
  },
  {
   "cell_type": "code",
   "execution_count": 58,
   "metadata": {
    "ExecuteTime": {
     "end_time": "2018-03-04T22:54:31.851519Z",
     "start_time": "2018-03-04T22:54:31.805607Z"
    }
   },
   "outputs": [
    {
     "data": {
      "text/plain": [
       "[{'artist_uri': 'spotify:artist:2wIVse2owClT7go1WT98tk'},\n",
       " {'artist_uri': 'spotify:artist:26dSoYclwsYLMAKD3tpOr4'},\n",
       " {'artist_uri': 'spotify:artist:6vWDO969PvNqNYHIOW5v0m'},\n",
       " {'artist_uri': 'spotify:artist:31TPClRtHm23RisEBtV3X7'},\n",
       " {'artist_uri': 'spotify:artist:5EvFsr3kj42KNv97ZEnqij'},\n",
       " {'artist_uri': 'spotify:artist:23zg3TcAtWQy7J6upgbUnj'},\n",
       " {'artist_uri': 'spotify:artist:23zg3TcAtWQy7J6upgbUnj'},\n",
       " {'artist_uri': 'spotify:artist:6wPhSqRtPu1UhRCDX5yaDJ'},\n",
       " {'artist_uri': 'spotify:artist:1Y8cdNmUJH7yBTd9yOvr5i'},\n",
       " {'artist_uri': 'spotify:artist:1G9G7WwrXka3Z1r7aIDjI7'},\n",
       " {'artist_uri': 'spotify:artist:2jw70GZXlAI8QzWeY2bgRc'},\n",
       " {'artist_uri': 'spotify:artist:2Hjj68yyUPiC0HKEOigcEp'},\n",
       " {'artist_uri': 'spotify:artist:2Hjj68yyUPiC0HKEOigcEp'},\n",
       " {'artist_uri': 'spotify:artist:2Hjj68yyUPiC0HKEOigcEp'},\n",
       " {'artist_uri': 'spotify:artist:27FGXRNruFoOdf1vP8dqcH'},\n",
       " {'artist_uri': 'spotify:artist:0f5nVCcR06GX8Qikz0COtT'},\n",
       " {'artist_uri': 'spotify:artist:0p4nmQO2msCgU4IF37Wi3j'},\n",
       " {'artist_uri': 'spotify:artist:7bXgB6jMjp9ATFy66eO08Z'},\n",
       " {'artist_uri': 'spotify:artist:6vWDO969PvNqNYHIOW5v0m'},\n",
       " {'artist_uri': 'spotify:artist:1Y8cdNmUJH7yBTd9yOvr5i'},\n",
       " {'artist_uri': 'spotify:artist:4TKTii6gnOnUXQHyuo9JaD'},\n",
       " {'artist_uri': 'spotify:artist:1yxSLGMDHlW21z4YXirZDS'},\n",
       " {'artist_uri': 'spotify:artist:5ND0mGcL9SKSjWIjPd0xIb'},\n",
       " {'artist_uri': 'spotify:artist:01lz5VBfkMFDteSA9pKJuP'},\n",
       " {'artist_uri': 'spotify:artist:7bXgB6jMjp9ATFy66eO08Z'},\n",
       " {'artist_uri': 'spotify:artist:7gOdHgIoIKoe4i9Tta6qdD'},\n",
       " {'artist_uri': 'spotify:artist:5qK5bOC6wLtuLhG5KvU17c'},\n",
       " {'artist_uri': 'spotify:artist:0N0d3kjwdY2h7UVuTdJGfp'},\n",
       " {'artist_uri': 'spotify:artist:07YZf4WDAMNwqr4jfgOZ8y'},\n",
       " {'artist_uri': 'spotify:artist:21E3waRsmPlU7jZsS13rcj'},\n",
       " {'artist_uri': 'spotify:artist:5YGY8feqx7naU7z4HrwZM6'},\n",
       " {'artist_uri': 'spotify:artist:0vWCyXMrrvMlCcepuOJaGI'},\n",
       " {'artist_uri': 'spotify:artist:5tKXB9uuebKE34yowVaU3C'},\n",
       " {'artist_uri': 'spotify:artist:7bXgB6jMjp9ATFy66eO08Z'},\n",
       " {'artist_uri': 'spotify:artist:6LqNN22kT3074XbTVUrhzX'},\n",
       " {'artist_uri': 'spotify:artist:21E3waRsmPlU7jZsS13rcj'},\n",
       " {'artist_uri': 'spotify:artist:1uNFoZAHBGtllmzznpCI3s'},\n",
       " {'artist_uri': 'spotify:artist:0QJIPDAEDILuo8AIq3pMuU'},\n",
       " {'artist_uri': 'spotify:artist:0C0XlULifJtAgn6ZNCW2eu'},\n",
       " {'artist_uri': 'spotify:artist:6FBDaR13swtiWwGhX1WQsP'},\n",
       " {'artist_uri': 'spotify:artist:6wPhSqRtPu1UhRCDX5yaDJ'},\n",
       " {'artist_uri': 'spotify:artist:1uNFoZAHBGtllmzznpCI3s'},\n",
       " {'artist_uri': 'spotify:artist:3vAaWhdBR38Q02ohXqaNHT'},\n",
       " {'artist_uri': 'spotify:artist:1uNFoZAHBGtllmzznpCI3s'},\n",
       " {'artist_uri': 'spotify:artist:5ILrArfIV0tMURcHJN8Q07'},\n",
       " {'artist_uri': 'spotify:artist:7vWBZm3sQ8yQvfV4nXxHXK'},\n",
       " {'artist_uri': 'spotify:artist:5YGY8feqx7naU7z4HrwZM6'},\n",
       " {'artist_uri': 'spotify:artist:2Hjj68yyUPiC0HKEOigcEp'},\n",
       " {'artist_uri': 'spotify:artist:6S2OmqARrzebs0tKUEyXyp'},\n",
       " {'artist_uri': 'spotify:artist:0p4nmQO2msCgU4IF37Wi3j'},\n",
       " {'artist_uri': 'spotify:artist:3ao3jf5d70Tf4fPh2bnXVl'},\n",
       " {'artist_uri': 'spotify:artist:26bcq2nyj5GB7uRr558iQg'},\n",
       " {'artist_uri': 'spotify:artist:7zdmbPudNX4SQJXnYIuCTC'},\n",
       " {'artist_uri': 'spotify:artist:7zdmbPudNX4SQJXnYIuCTC'},\n",
       " {'artist_uri': 'spotify:artist:7zdmbPudNX4SQJXnYIuCTC'},\n",
       " {'artist_uri': 'spotify:artist:7zdmbPudNX4SQJXnYIuCTC'},\n",
       " {'artist_uri': 'spotify:artist:7zdmbPudNX4SQJXnYIuCTC'},\n",
       " {'artist_uri': 'spotify:artist:7zdmbPudNX4SQJXnYIuCTC'},\n",
       " {'artist_uri': 'spotify:artist:6BKWwLs98ZY3ifhCDNGvLk'},\n",
       " {'artist_uri': 'spotify:artist:6Gp8BbKAqPO3R0UAYkm8J0'},\n",
       " {'artist_uri': 'spotify:artist:3cR4rhS2hBWqI7rJEBacvN'},\n",
       " {'artist_uri': 'spotify:artist:4aXXDj9aZnlshx7mzj3W1N'},\n",
       " {'artist_uri': 'spotify:artist:3cR4rhS2hBWqI7rJEBacvN'},\n",
       " {'artist_uri': 'spotify:artist:4aXXDj9aZnlshx7mzj3W1N'},\n",
       " {'artist_uri': 'spotify:artist:36QJpDe2go2KgaRleHCDTp'},\n",
       " {'artist_uri': 'spotify:artist:4e5V1Q2dKCzbLVMQ8qbTn6'},\n",
       " {'artist_uri': 'spotify:artist:2NPduAUeLVsfIauhRwuft1'},\n",
       " {'artist_uri': 'spotify:artist:5GtMEZEeFFsuHY8ad4kOxv'},\n",
       " {'artist_uri': 'spotify:artist:22bE4uQ6baNwSHPVcDxLCe'},\n",
       " {'artist_uri': 'spotify:artist:22bE4uQ6baNwSHPVcDxLCe'},\n",
       " {'artist_uri': 'spotify:artist:4MVyzYMgTwdP7Z49wAZHx0'},\n",
       " {'artist_uri': 'spotify:artist:29kkCKKGXheHuoO829FxWK'},\n",
       " {'artist_uri': 'spotify:artist:29kkCKKGXheHuoO829FxWK'},\n",
       " {'artist_uri': 'spotify:artist:0PFtn5NtBbbUNbU9EAmIWF'},\n",
       " {'artist_uri': 'spotify:artist:2hl0xAkS2AIRAu23TVMBG1'},\n",
       " {'artist_uri': 'spotify:artist:1dfeR4HaWDbWqFHLkxsg1d'},\n",
       " {'artist_uri': 'spotify:artist:4MVyzYMgTwdP7Z49wAZHx0'},\n",
       " {'artist_uri': 'spotify:artist:29kkCKKGXheHuoO829FxWK'},\n",
       " {'artist_uri': 'spotify:artist:36QJpDe2go2KgaRleHCDTp'},\n",
       " {'artist_uri': 'spotify:artist:6Gp8BbKAqPO3R0UAYkm8J0'},\n",
       " {'artist_uri': 'spotify:artist:3qm84nBOXUEQ2vnTfUTTFC'},\n",
       " {'artist_uri': 'spotify:artist:3IYUhFvPQItj6xySrBmZkd'},\n",
       " {'artist_uri': 'spotify:artist:27T030eWyCQRmDyuvr1kxY'},\n",
       " {'artist_uri': 'spotify:artist:2Hkut4rAAyrQxRdof7FVJq'},\n",
       " {'artist_uri': 'spotify:artist:2Hkut4rAAyrQxRdof7FVJq'},\n",
       " {'artist_uri': 'spotify:artist:2Hkut4rAAyrQxRdof7FVJq'},\n",
       " {'artist_uri': 'spotify:artist:2Hkut4rAAyrQxRdof7FVJq'},\n",
       " {'artist_uri': 'spotify:artist:2Hkut4rAAyrQxRdof7FVJq'},\n",
       " {'artist_uri': 'spotify:artist:2Hkut4rAAyrQxRdof7FVJq'},\n",
       " {'artist_uri': 'spotify:artist:2Hkut4rAAyrQxRdof7FVJq'},\n",
       " {'artist_uri': 'spotify:artist:7lXgbtBDcCRbfc5f8FhGUL'},\n",
       " {'artist_uri': 'spotify:artist:3u7dfvqVThcH0kFBQNuhmf'},\n",
       " {'artist_uri': 'spotify:artist:0hT0UrjmzkLJouAT52ck6j'},\n",
       " {'artist_uri': 'spotify:artist:0hT0UrjmzkLJouAT52ck6j'},\n",
       " {'artist_uri': 'spotify:artist:3Nrfpe0tUJi4K4DXYWgMUX'},\n",
       " {'artist_uri': 'spotify:artist:3g34PW5oNmDBxMVUTzx2XK'},\n",
       " {'artist_uri': 'spotify:artist:7cVZApDoQZpS447nHTsNqu'},\n",
       " {'artist_uri': 'spotify:artist:7cVZApDoQZpS447nHTsNqu'},\n",
       " {'artist_uri': 'spotify:artist:3uGFTJ7JMllvhgGpumieHF'},\n",
       " {'artist_uri': 'spotify:artist:1ukccHTdm6Xjmag0QLNJBx'},\n",
       " {'artist_uri': 'spotify:artist:5HenzRvMtSrgtvU16XAoby'},\n",
       " {'artist_uri': 'spotify:artist:5HenzRvMtSrgtvU16XAoby'},\n",
       " {'artist_uri': 'spotify:artist:2JhAlkmukNvarUpGhTFXUQ'},\n",
       " {'artist_uri': 'spotify:artist:2JhAlkmukNvarUpGhTFXUQ'},\n",
       " {'artist_uri': 'spotify:artist:5HenzRvMtSrgtvU16XAoby'},\n",
       " {'artist_uri': 'spotify:artist:31oLAWK0QuX1XLh6FmlTye'},\n",
       " {'artist_uri': 'spotify:artist:4XDi67ZENZcbfKnvMnTYsI'},\n",
       " {'artist_uri': 'spotify:artist:4XDi67ZENZcbfKnvMnTYsI'},\n",
       " {'artist_uri': 'spotify:artist:4XDi67ZENZcbfKnvMnTYsI'},\n",
       " {'artist_uri': 'spotify:artist:4XpUIb8uuNlIWVKmgKZXC0'},\n",
       " {'artist_uri': 'spotify:artist:3uGFTJ7JMllvhgGpumieHF'},\n",
       " {'artist_uri': 'spotify:artist:7cVZApDoQZpS447nHTsNqu'},\n",
       " {'artist_uri': 'spotify:artist:4XDi67ZENZcbfKnvMnTYsI'},\n",
       " {'artist_uri': 'spotify:artist:3Nrfpe0tUJi4K4DXYWgMUX'},\n",
       " {'artist_uri': 'spotify:artist:41MozSoPIsD1dJM0CLPjZF'},\n",
       " {'artist_uri': 'spotify:artist:1sVSMPPNMMSZ7cQNfbvMOe'},\n",
       " {'artist_uri': 'spotify:artist:6zhAP0FoDccL9kuETOC20q'},\n",
       " {'artist_uri': 'spotify:artist:6zhAP0FoDccL9kuETOC20q'},\n",
       " {'artist_uri': 'spotify:artist:6dCz3spfpIvqqqsIoP6wXi'},\n",
       " {'artist_uri': 'spotify:artist:6dCz3spfpIvqqqsIoP6wXi'},\n",
       " {'artist_uri': 'spotify:artist:4XDi67ZENZcbfKnvMnTYsI'},\n",
       " {'artist_uri': 'spotify:artist:2uWcrwgWmZcQc3IPBs3tfU'},\n",
       " {'artist_uri': 'spotify:artist:2uWcrwgWmZcQc3IPBs3tfU'},\n",
       " {'artist_uri': 'spotify:artist:4U80LJd8sG6U9YTFP5izka'},\n",
       " {'artist_uri': 'spotify:artist:4ufh0WuMZh6y4Dmdnklvdl'},\n",
       " {'artist_uri': 'spotify:artist:4U80LJd8sG6U9YTFP5izka'},\n",
       " {'artist_uri': 'spotify:artist:3JsHnjpbhX4SnySpvpa9DK'},\n",
       " {'artist_uri': 'spotify:artist:4Kxlr1PRlDKEB0ekOCyHgX'},\n",
       " {'artist_uri': 'spotify:artist:4Kxlr1PRlDKEB0ekOCyHgX'},\n",
       " {'artist_uri': 'spotify:artist:7lXgbtBDcCRbfc5f8FhGUL'},\n",
       " {'artist_uri': 'spotify:artist:41MozSoPIsD1dJM0CLPjZF'},\n",
       " {'artist_uri': 'spotify:artist:30b9WulBM8sFuBo17nNq9c'},\n",
       " {'artist_uri': 'spotify:artist:30b9WulBM8sFuBo17nNq9c'},\n",
       " {'artist_uri': 'spotify:artist:6udveWUgX4vu75FF0DTrXV'},\n",
       " {'artist_uri': 'spotify:artist:6udveWUgX4vu75FF0DTrXV'},\n",
       " {'artist_uri': 'spotify:artist:6OwKE9Ez6ALxpTaKcT5ayv'},\n",
       " {'artist_uri': 'spotify:artist:41MozSoPIsD1dJM0CLPjZF'},\n",
       " {'artist_uri': 'spotify:artist:3Nrfpe0tUJi4K4DXYWgMUX'},\n",
       " {'artist_uri': 'spotify:artist:3cjEqqelV9zb4BYE3qDQ4O'},\n",
       " {'artist_uri': 'spotify:artist:2JhAlkmukNvarUpGhTFXUQ'},\n",
       " {'artist_uri': 'spotify:artist:3UwlejyX2b458azZ7eCnHb'},\n",
       " {'artist_uri': 'spotify:artist:6OwKE9Ez6ALxpTaKcT5ayv'},\n",
       " {'artist_uri': 'spotify:artist:3cjEqqelV9zb4BYE3qDQ4O'},\n",
       " {'artist_uri': 'spotify:artist:6zhAP0FoDccL9kuETOC20q'},\n",
       " {'artist_uri': 'spotify:artist:4XDi67ZENZcbfKnvMnTYsI'},\n",
       " {'artist_uri': 'spotify:artist:3Nrfpe0tUJi4K4DXYWgMUX'},\n",
       " {'artist_uri': 'spotify:artist:05uheFGPahVh2nHIZK1KuB'},\n",
       " {'artist_uri': 'spotify:artist:3cjEqqelV9zb4BYE3qDQ4O'},\n",
       " {'artist_uri': 'spotify:artist:6LPOT9C3gvGQHxlZtMLHHg'},\n",
       " {'artist_uri': 'spotify:artist:0bxSJJ7V2M4Zb9lpRzWPD8'},\n",
       " {'artist_uri': 'spotify:artist:3Nrfpe0tUJi4K4DXYWgMUX'},\n",
       " {'artist_uri': 'spotify:artist:3Nrfpe0tUJi4K4DXYWgMUX'},\n",
       " {'artist_uri': 'spotify:artist:3Nrfpe0tUJi4K4DXYWgMUX'},\n",
       " {'artist_uri': 'spotify:artist:3Nrfpe0tUJi4K4DXYWgMUX'},\n",
       " {'artist_uri': 'spotify:artist:436sYg6CZhNefQJogaXeK0'},\n",
       " {'artist_uri': 'spotify:artist:436sYg6CZhNefQJogaXeK0'},\n",
       " {'artist_uri': 'spotify:artist:32zeX1IoVKAGWMyy1isKUq'},\n",
       " {'artist_uri': 'spotify:artist:32zeX1IoVKAGWMyy1isKUq'},\n",
       " {'artist_uri': 'spotify:artist:5BCnLrqpwYtufR1bDWn0hG'},\n",
       " {'artist_uri': 'spotify:artist:5BCnLrqpwYtufR1bDWn0hG'},\n",
       " {'artist_uri': 'spotify:artist:5712BvYQ5m5Wcah576OFH4'},\n",
       " {'artist_uri': 'spotify:artist:4bthk9UfsYUYdcFyqxmSUU'},\n",
       " {'artist_uri': 'spotify:artist:3g3ew6TtLErig0QaTcSaPt'},\n",
       " {'artist_uri': 'spotify:artist:4jCIAMb0zEArF3GYEYzoDk'},\n",
       " {'artist_uri': 'spotify:artist:4jCIAMb0zEArF3GYEYzoDk'},\n",
       " {'artist_uri': 'spotify:artist:4jCIAMb0zEArF3GYEYzoDk'},\n",
       " {'artist_uri': 'spotify:artist:5M0HAqHXyOh3q7WQnvce8o'},\n",
       " {'artist_uri': 'spotify:artist:5M0HAqHXyOh3q7WQnvce8o'},\n",
       " {'artist_uri': 'spotify:artist:5M0HAqHXyOh3q7WQnvce8o'},\n",
       " {'artist_uri': 'spotify:artist:5M0HAqHXyOh3q7WQnvce8o'},\n",
       " {'artist_uri': 'spotify:artist:4wyNyxs74Ux8UIDopNjIai'},\n",
       " {'artist_uri': 'spotify:artist:5gcDZA9xXCOspWgQilUYIu'},\n",
       " {'artist_uri': 'spotify:artist:4OrizGCKhOrW6iDDJHN9xd'},\n",
       " {'artist_uri': 'spotify:artist:5QP6YlOw9QlFgb6pRG6euk'},\n",
       " {'artist_uri': 'spotify:artist:3h0MN1neFknEvlYKxFmSQW'},\n",
       " {'artist_uri': 'spotify:artist:5kxbczSLck59eyR8GDsHd6'},\n",
       " {'artist_uri': 'spotify:artist:4Xo1N4V7w6qX23OHAPcLCe'},\n",
       " {'artist_uri': 'spotify:artist:78inRkIIF0n9R9I2HPoWP7'},\n",
       " {'artist_uri': 'spotify:artist:3MM8mtgFzaEJsqbjZBSsHJ'},\n",
       " {'artist_uri': 'spotify:artist:5IWCU0V9evBlW4gIeGY4zF'},\n",
       " {'artist_uri': 'spotify:artist:2Jv5eshHtLycR6R8KQCdc4'},\n",
       " {'artist_uri': 'spotify:artist:2Jv5eshHtLycR6R8KQCdc4'},\n",
       " {'artist_uri': 'spotify:artist:5BvJzeQpmsdsFp4HGUYUEx'},\n",
       " {'artist_uri': 'spotify:artist:1ZFl1BJzJDj3SdxLD4P48Z'},\n",
       " {'artist_uri': 'spotify:artist:0vRO9bFgOrDoFtLcDHV8b6'},\n",
       " {'artist_uri': 'spotify:artist:1kDGbuxWknIKx4FlgWxiSp'},\n",
       " {'artist_uri': 'spotify:artist:4mLJ3XfOM5FPjSAWdQ2Jk7'},\n",
       " {'artist_uri': 'spotify:artist:43O3c6wewpzPKwVaGEEtBM'},\n",
       " {'artist_uri': 'spotify:artist:2i9uaNzfUtuApAjEf1omV8'},\n",
       " {'artist_uri': 'spotify:artist:2i9uaNzfUtuApAjEf1omV8'},\n",
       " {'artist_uri': 'spotify:artist:57vWImR43h4CaDao012Ofp'},\n",
       " {'artist_uri': 'spotify:artist:1Bl6wpkWCQ4KVgnASpvzzA'},\n",
       " {'artist_uri': 'spotify:artist:1Bl6wpkWCQ4KVgnASpvzzA'},\n",
       " {'artist_uri': 'spotify:artist:0oiw7PY6VPt7w2KsV9Xhcu'},\n",
       " {'artist_uri': 'spotify:artist:7sV1sLUCpxr8MVlu0GyVU5'},\n",
       " {'artist_uri': 'spotify:artist:7sV1sLUCpxr8MVlu0GyVU5'},\n",
       " {'artist_uri': 'spotify:artist:2y246nnP9pQT0E6v3ZMMOO'},\n",
       " {'artist_uri': 'spotify:artist:1EotkJocwHvhFOAsoOj1jJ'},\n",
       " {'artist_uri': 'spotify:artist:1EotkJocwHvhFOAsoOj1jJ'},\n",
       " {'artist_uri': 'spotify:artist:1EotkJocwHvhFOAsoOj1jJ'},\n",
       " {'artist_uri': 'spotify:artist:1QAJqy2dA3ihHBFIHRphZj'},\n",
       " {'artist_uri': 'spotify:artist:1QAJqy2dA3ihHBFIHRphZj'},\n",
       " {'artist_uri': 'spotify:artist:6mOWFF6HJ6krnIpW0CHLQm'},\n",
       " {'artist_uri': 'spotify:artist:4AGNJdJiVltImYk1UTLE0K'},\n",
       " {'artist_uri': 'spotify:artist:1GLtl8uqKmnyCWxHmw9tL4'},\n",
       " {'artist_uri': 'spotify:artist:5JLqvjW3Nyom2OsRUyFsS9'},\n",
       " {'artist_uri': 'spotify:artist:5juac7bFYyLKmV0VGSyaKM'},\n",
       " {'artist_uri': 'spotify:artist:5juac7bFYyLKmV0VGSyaKM'},\n",
       " {'artist_uri': 'spotify:artist:5juac7bFYyLKmV0VGSyaKM'},\n",
       " {'artist_uri': 'spotify:artist:5juac7bFYyLKmV0VGSyaKM'},\n",
       " {'artist_uri': 'spotify:artist:5juac7bFYyLKmV0VGSyaKM'},\n",
       " {'artist_uri': 'spotify:artist:2JSc53B5cQ31m0xTB7JFpG'},\n",
       " {'artist_uri': 'spotify:artist:2JSc53B5cQ31m0xTB7JFpG'},\n",
       " {'artist_uri': 'spotify:artist:2JSc53B5cQ31m0xTB7JFpG'},\n",
       " {'artist_uri': 'spotify:artist:2JSc53B5cQ31m0xTB7JFpG'},\n",
       " {'artist_uri': 'spotify:artist:2JSc53B5cQ31m0xTB7JFpG'},\n",
       " {'artist_uri': 'spotify:artist:3jOstUTkEu2JkjvRdBA5Gu'},\n",
       " {'artist_uri': 'spotify:artist:3agnCimLdkVM3mc4PFJUxC'},\n",
       " {'artist_uri': 'spotify:artist:3agnCimLdkVM3mc4PFJUxC'},\n",
       " {'artist_uri': 'spotify:artist:3agnCimLdkVM3mc4PFJUxC'},\n",
       " {'artist_uri': 'spotify:artist:7hAolICGSgXJuM6DUpK5rp'},\n",
       " {'artist_uri': 'spotify:artist:247AfC9pLuqwgpH8Mo96oA'},\n",
       " {'artist_uri': 'spotify:artist:7AQzXO3NPNQsI7oNu5rC3r'},\n",
       " {'artist_uri': 'spotify:artist:5gSzpQeKekCGJTR9hcWwKF'},\n",
       " {'artist_uri': 'spotify:artist:4iHNK0tOyZPYnBU7nGAgpQ'},\n",
       " {'artist_uri': 'spotify:artist:4iHNK0tOyZPYnBU7nGAgpQ'},\n",
       " {'artist_uri': 'spotify:artist:0botW5W7KGHTm8BkLemEH8'},\n",
       " {'artist_uri': 'spotify:artist:3u1ulLq00Y3bfmq9FfjsPu'},\n",
       " {'artist_uri': 'spotify:artist:2NmK5FyrQ18HOPXq1UBzqa'},\n",
       " {'artist_uri': 'spotify:artist:2awB7Ol181cocZcLLNBBAh'},\n",
       " {'artist_uri': 'spotify:artist:5W5qK44etRPdYVC1YkfUfW'},\n",
       " {'artist_uri': 'spotify:artist:5LXEAEGrpKQtpyCu2sZuWu'},\n",
       " {'artist_uri': 'spotify:artist:5LXEAEGrpKQtpyCu2sZuWu'},\n",
       " {'artist_uri': 'spotify:artist:5LXEAEGrpKQtpyCu2sZuWu'},\n",
       " {'artist_uri': 'spotify:artist:5LXEAEGrpKQtpyCu2sZuWu'},\n",
       " {'artist_uri': 'spotify:artist:5LXEAEGrpKQtpyCu2sZuWu'},\n",
       " {'artist_uri': 'spotify:artist:0pg0Zm8FsGAYy5kdHuBnSo'},\n",
       " {'artist_uri': 'spotify:artist:1WXAzKcld8b4tZIteRi14G'},\n",
       " {'artist_uri': 'spotify:artist:4MXUO7sVCaFgFjoTI5ox5c'},\n",
       " {'artist_uri': 'spotify:artist:4jLcgJjDGmW0HmvbSf6lEI'},\n",
       " {'artist_uri': 'spotify:artist:4jLcgJjDGmW0HmvbSf6lEI'},\n",
       " {'artist_uri': 'spotify:artist:4V4Z3qMCwYofWHtip6ePF6'},\n",
       " {'artist_uri': 'spotify:artist:16bN8mhtDFdegWbg0z3s10'},\n",
       " {'artist_uri': 'spotify:artist:16bN8mhtDFdegWbg0z3s10'},\n",
       " {'artist_uri': 'spotify:artist:16bN8mhtDFdegWbg0z3s10'},\n",
       " {'artist_uri': 'spotify:artist:16bN8mhtDFdegWbg0z3s10'},\n",
       " {'artist_uri': 'spotify:artist:16bN8mhtDFdegWbg0z3s10'},\n",
       " {'artist_uri': 'spotify:artist:4K3NWDwBIxgktui14SccR2'},\n",
       " {'artist_uri': 'spotify:artist:3X03NfrYVLMXS2kz13t5WU'},\n",
       " {'artist_uri': 'spotify:artist:7COP1HCvVq1cIpZcLQYoNe'},\n",
       " {'artist_uri': 'spotify:artist:7COP1HCvVq1cIpZcLQYoNe'},\n",
       " {'artist_uri': 'spotify:artist:3K6DKtqcjx8Vs5XEaTgZv7'},\n",
       " {'artist_uri': 'spotify:artist:31evTYWkEAH8qiDQxQ1Ho0'},\n",
       " {'artist_uri': 'spotify:artist:04QGT0sr98LHIUjqPJ4RG4'},\n",
       " {'artist_uri': 'spotify:artist:05reBfXcMPyOkKQN3w3nnS'},\n",
       " {'artist_uri': 'spotify:artist:70KRtY1QWEurUeM3wuzpG1'},\n",
       " {'artist_uri': 'spotify:artist:2yN6bq26wynQcRuPkBYTDb'},\n",
       " {'artist_uri': 'spotify:artist:17Q9sCBpIyS6yM2YyaI6R4'},\n",
       " {'artist_uri': 'spotify:artist:62JorFOkIjXHHU7GMT9r77'},\n",
       " {'artist_uri': 'spotify:artist:6ki33aLoMVqki3QYXELrer'},\n",
       " {'artist_uri': 'spotify:artist:0d7aBBLFcc4dlETnae6zcH'},\n",
       " {'artist_uri': 'spotify:artist:339XMxg3AyRbEfeIAlxB2c'},\n",
       " {'artist_uri': 'spotify:artist:339XMxg3AyRbEfeIAlxB2c'},\n",
       " {'artist_uri': 'spotify:artist:2D4FOOOtWycb3Aw9nY5n3c'},\n",
       " {'artist_uri': 'spotify:artist:2D4FOOOtWycb3Aw9nY5n3c'},\n",
       " {'artist_uri': 'spotify:artist:0oBsnAC3fzYkTHF3bkfNx6'},\n",
       " {'artist_uri': 'spotify:artist:0bzfPKdbXL5ezYW2z3UGQj'},\n",
       " {'artist_uri': 'spotify:artist:0iOVhN3tnSvgDbcg25JoJb'},\n",
       " {'artist_uri': 'spotify:artist:4bcaz6nXnH8LTRiXALe8XV'},\n",
       " {'artist_uri': 'spotify:artist:2KWOkrj19TKU1ik6tugH4y'},\n",
       " {'artist_uri': 'spotify:artist:2KWOkrj19TKU1ik6tugH4y'},\n",
       " {'artist_uri': 'spotify:artist:2KWOkrj19TKU1ik6tugH4y'},\n",
       " {'artist_uri': 'spotify:artist:04GCjO1r1hPelibCUq9S8H'},\n",
       " {'artist_uri': 'spotify:artist:6ft7JnxMyZhp7N52qzHymY'},\n",
       " {'artist_uri': 'spotify:artist:2OaU1tu6tdscWuRIry08Gs'},\n",
       " {'artist_uri': 'spotify:artist:62bdZHVpBgv8SRJ9bRfSWE'},\n",
       " {'artist_uri': 'spotify:artist:2D0wm8aDnVrcljPwg2GM75'},\n",
       " {'artist_uri': 'spotify:artist:3WPt7OfKDirWGEDH9kHahw'},\n",
       " {'artist_uri': 'spotify:artist:7GbMKpjxObo2JZGvKQovjr'},\n",
       " {'artist_uri': 'spotify:artist:5J81VungUjSVHxlPpTI9KG'},\n",
       " {'artist_uri': 'spotify:artist:40Yq4vzPs9VNUrIBG5Jr2i'},\n",
       " {'artist_uri': 'spotify:artist:2DaxqgrOhkeH0fpeiQq2f4'},\n",
       " {'artist_uri': 'spotify:artist:7Ey4PD4MYsKc5I2dolUwbH'},\n",
       " {'artist_uri': 'spotify:artist:73JEBdDEFeVaOLg3y0HhBD'},\n",
       " {'artist_uri': 'spotify:artist:0TImkz4nPqjegtVSMZnMRq'},\n",
       " {'artist_uri': 'spotify:artist:40Yq4vzPs9VNUrIBG5Jr2i'},\n",
       " {'artist_uri': 'spotify:artist:0dlOr0VIysztGWvU1dpjmP'},\n",
       " {'artist_uri': 'spotify:artist:4a7CDXcRCXi4kp5z7SEXtg'},\n",
       " {'artist_uri': 'spotify:artist:3X458ddYA2YcVWuVIGGOYe'},\n",
       " {'artist_uri': 'spotify:artist:4NgNsOXSwIzXlUIJcpnNUp'},\n",
       " {'artist_uri': 'spotify:artist:2cGwlqi3k18jFpUyTrsR84'},\n",
       " {'artist_uri': 'spotify:artist:02da1vDJ2hWqfK7aJL6SJm'},\n",
       " {'artist_uri': 'spotify:artist:242iqFnwNhlidVBMI9GYKp'},\n",
       " {'artist_uri': 'spotify:artist:2mpeljBig2IXLXRAFO9AAs'},\n",
       " {'artist_uri': 'spotify:artist:47zz7sob9NUcODy0BTDvKx'},\n",
       " {'artist_uri': 'spotify:artist:4mesemBJJwnGX6tRaMvGbn'},\n",
       " {'artist_uri': 'spotify:artist:08ct2eZF5lUPdJpHwNKWof'},\n",
       " {'artist_uri': 'spotify:artist:1EeArivTpzLNCqubV95255'},\n",
       " {'artist_uri': 'spotify:artist:3sgFRtyBnxXD5ESfmbK4dl'},\n",
       " {'artist_uri': 'spotify:artist:7GXXMm3DB1VswVcuGyInUd'},\n",
       " {'artist_uri': 'spotify:artist:53QzNeFpzAaXYnrDBbDrIp'},\n",
       " {'artist_uri': 'spotify:artist:0jnsk9HBra6NMjO2oANoPY'},\n",
       " {'artist_uri': 'spotify:artist:1yxSLGMDHlW21z4YXirZDS'},\n",
       " {'artist_uri': 'spotify:artist:23zg3TcAtWQy7J6upgbUnj'},\n",
       " {'artist_uri': 'spotify:artist:3fMbdgg4jU18AjLCKBhRSm'},\n",
       " {'artist_uri': 'spotify:artist:3TQ9JTBI2n2hfo7aRONEYV'},\n",
       " {'artist_uri': 'spotify:artist:1KCSPY1glIKqW2TotWuXOR'},\n",
       " {'artist_uri': 'spotify:artist:4AWzJ0jYO43xrWkQ4O7R5x'},\n",
       " {'artist_uri': 'spotify:artist:7mEIug7XUlQHikrFxjTWes'},\n",
       " {'artist_uri': 'spotify:artist:0lax1ZgWclW6mZFaGu27MM'},\n",
       " {'artist_uri': 'spotify:artist:1HY2Jd0NmPuamShAr6KMms'},\n",
       " {'artist_uri': 'spotify:artist:0N0d3kjwdY2h7UVuTdJGfp'},\n",
       " {'artist_uri': 'spotify:artist:4tZwfgrHOc3mvqYlEYSvVi'},\n",
       " {'artist_uri': 'spotify:artist:0jnsk9HBra6NMjO2oANoPY'},\n",
       " {'artist_uri': 'spotify:artist:0TnOYISbd1XYRBk9myaseg'},\n",
       " {'artist_uri': 'spotify:artist:3sgFRtyBnxXD5ESfmbK4dl'},\n",
       " {'artist_uri': 'spotify:artist:5pKCCKE2ajJHZ9KAiaK11H'},\n",
       " {'artist_uri': 'spotify:artist:3FUY2gzHeIiaesXtOAdB7A'},\n",
       " {'artist_uri': 'spotify:artist:0hCNtLu0JehylgoiP8L4Gh'},\n",
       " {'artist_uri': 'spotify:artist:0iOVhN3tnSvgDbcg25JoJb'},\n",
       " {'artist_uri': 'spotify:artist:4apX9tIeHb85yPyy4F6FJG'},\n",
       " {'artist_uri': 'spotify:artist:5anDRAnt2u0S0vwgotMYX7'},\n",
       " {'artist_uri': 'spotify:artist:3fMbdgg4jU18AjLCKBhRSm'},\n",
       " {'artist_uri': 'spotify:artist:41qil2VaGbD194gaEcmmyx'},\n",
       " {'artist_uri': 'spotify:artist:3fMbdgg4jU18AjLCKBhRSm'},\n",
       " {'artist_uri': 'spotify:artist:2QsynagSdAqZj3U9HgDzjD'},\n",
       " {'artist_uri': 'spotify:artist:07YZf4WDAMNwqr4jfgOZ8y'},\n",
       " {'artist_uri': 'spotify:artist:6eUKZXaKkcviH0Ku9w2n3V'},\n",
       " {'artist_uri': 'spotify:artist:0du5cEVh5yTK9QJze8zA0C'},\n",
       " {'artist_uri': 'spotify:artist:0L6Gwm0JDrgIQJfjarWSUR'},\n",
       " {'artist_uri': 'spotify:artist:4phGZZrJZRo4ElhRtViYdl'},\n",
       " {'artist_uri': 'spotify:artist:0lJlKQvuM2Sd9DPPyUXcHg'},\n",
       " {'artist_uri': 'spotify:artist:0MlOPi3zIDMVrfA9R04Fe3'},\n",
       " {'artist_uri': 'spotify:artist:05RZIdfz59ZW2FvFuwnmNK'},\n",
       " {'artist_uri': 'spotify:artist:6xeFne1rkxMhKSW3ipvkdV'},\n",
       " {'artist_uri': 'spotify:artist:6aZyMrc4doVtZyKNilOmwu'},\n",
       " {'artist_uri': 'spotify:artist:6vWDO969PvNqNYHIOW5v0m'},\n",
       " {'artist_uri': 'spotify:artist:2TI7qyDE0QfyOlnbtfDo7L'},\n",
       " {'artist_uri': 'spotify:artist:1yxSLGMDHlW21z4YXirZDS'},\n",
       " {'artist_uri': 'spotify:artist:5YGY8feqx7naU7z4HrwZM6'},\n",
       " {'artist_uri': 'spotify:artist:0a1gHP0HAqALbEyxaD5Ngn'},\n",
       " {'artist_uri': 'spotify:artist:0a1gHP0HAqALbEyxaD5Ngn'},\n",
       " {'artist_uri': 'spotify:artist:0a1gHP0HAqALbEyxaD5Ngn'},\n",
       " {'artist_uri': 'spotify:artist:0a1gHP0HAqALbEyxaD5Ngn'},\n",
       " {'artist_uri': 'spotify:artist:0a1gHP0HAqALbEyxaD5Ngn'},\n",
       " {'artist_uri': 'spotify:artist:0a1gHP0HAqALbEyxaD5Ngn'},\n",
       " {'artist_uri': 'spotify:artist:4tX2TplrkIP4v05BNC903e'},\n",
       " {'artist_uri': 'spotify:artist:6MF9fzBmfXghAz953czmBC'},\n",
       " {'artist_uri': 'spotify:artist:2o5jDhtHVPhrJdv3cEQ99Z'},\n",
       " {'artist_uri': 'spotify:artist:16oZKvXb6WkQlVAjwo2Wbg'},\n",
       " {'artist_uri': 'spotify:artist:0jnsk9HBra6NMjO2oANoPY'},\n",
       " {'artist_uri': 'spotify:artist:0jnsk9HBra6NMjO2oANoPY'},\n",
       " {'artist_uri': 'spotify:artist:0jnsk9HBra6NMjO2oANoPY'},\n",
       " {'artist_uri': 'spotify:artist:0AuW7OCyKfFrsMbtHrYgIV'},\n",
       " {'artist_uri': 'spotify:artist:2zrZfs23sjuHDv4E6YRmNf'},\n",
       " {'artist_uri': 'spotify:artist:2MGT7CYlixSPxAnnkhLpaA'},\n",
       " {'artist_uri': 'spotify:artist:7bXgB6jMjp9ATFy66eO08Z'},\n",
       " {'artist_uri': 'spotify:artist:7bXgB6jMjp9ATFy66eO08Z'},\n",
       " {'artist_uri': 'spotify:artist:3b8QkneNDz4JHKKKlLgYZg'},\n",
       " {'artist_uri': 'spotify:artist:7bXgB6jMjp9ATFy66eO08Z'},\n",
       " {'artist_uri': 'spotify:artist:6MDME20pz9RveH9rEXvrOM'},\n",
       " {'artist_uri': 'spotify:artist:2l35CQqtYRh3d8ZIiBep4v'},\n",
       " {'artist_uri': 'spotify:artist:25uiPmTg16RbhZWAqwLBy5'},\n",
       " {'artist_uri': 'spotify:artist:7CajNmpbOovFoOoasH2HaY'},\n",
       " {'artist_uri': 'spotify:artist:4obzFoKoKRHIphyHzJ35G3'},\n",
       " {'artist_uri': 'spotify:artist:66CXWjxzNUsdJxJ2JdwvnR'},\n",
       " {'artist_uri': 'spotify:artist:5BcAKTbp20cv7tC5VqPFoC'},\n",
       " {'artist_uri': 'spotify:artist:0TnOYISbd1XYRBk9myaseg'},\n",
       " {'artist_uri': 'spotify:artist:1ASwPvvha7hLm91YXu6yJJ'},\n",
       " {'artist_uri': 'spotify:artist:3IYUhFvPQItj6xySrBmZkd'},\n",
       " {'artist_uri': 'spotify:artist:2Tz1DTzVJ5Gyh8ZwVr6ekU'},\n",
       " {'artist_uri': 'spotify:artist:41Q0HrwWBtuUkJc7C1Rp6K'},\n",
       " {'artist_uri': 'spotify:artist:02seUFsFQP7TH4hLrTj77o'},\n",
       " {'artist_uri': 'spotify:artist:2QMMktUMtwMSwUZATX1cRO'},\n",
       " {'artist_uri': 'spotify:artist:4pejUc4iciQfgdX6OKulQn'},\n",
       " {'artist_uri': 'spotify:artist:7t0rwkOPGlDPEhaOcVtOt9'},\n",
       " {'artist_uri': 'spotify:artist:1cXi8ALPQCBHZbf0EgP4Ey'},\n",
       " {'artist_uri': 'spotify:artist:1cXi8ALPQCBHZbf0EgP4Ey'},\n",
       " {'artist_uri': 'spotify:artist:1cXi8ALPQCBHZbf0EgP4Ey'},\n",
       " {'artist_uri': 'spotify:artist:5aPH21KxzBBb7SZTpuITrC'},\n",
       " {'artist_uri': 'spotify:artist:3brlG1zNhqIkYhdneCaPVi'},\n",
       " {'artist_uri': 'spotify:artist:5INjqkS1o8h1imAzPqGZBb'},\n",
       " {'artist_uri': 'spotify:artist:5WUlDfRSoLAfcVSX1WnrxN'},\n",
       " {'artist_uri': 'spotify:artist:5WUlDfRSoLAfcVSX1WnrxN'},\n",
       " {'artist_uri': 'spotify:artist:7Ln80lUS6He07XvHI8qqHH'},\n",
       " {'artist_uri': 'spotify:artist:2t9yJDJIEtvPmr2iRIdqBf'},\n",
       " {'artist_uri': 'spotify:artist:7FDlvgcodNfC0IBdWevl4u'},\n",
       " {'artist_uri': 'spotify:artist:1Fr6agZ6iSM5Ynn2k4C8sc'},\n",
       " {'artist_uri': 'spotify:artist:7e1ICztHM2Sc4JNLxeMXYl'},\n",
       " {'artist_uri': 'spotify:artist:02A3cEvlLLCbIMVDrK2GHV'},\n",
       " {'artist_uri': 'spotify:artist:4Ui2kfOqGujY81UcPrb5KE'},\n",
       " {'artist_uri': 'spotify:artist:4u5smJBskI6Adzv08PuiUP'},\n",
       " {'artist_uri': 'spotify:artist:6zVFRTB0Y1whWyH7ZNmywf'},\n",
       " {'artist_uri': 'spotify:artist:0VQKssIfRKfSd7IfW3JIP1'},\n",
       " {'artist_uri': 'spotify:artist:4u5smJBskI6Adzv08PuiUP'},\n",
       " {'artist_uri': 'spotify:artist:5cIc3SBFuBLVxJz58W2tU9'},\n",
       " {'artist_uri': 'spotify:artist:2xe8IXgCTpwHE3eA9hTs4n'},\n",
       " {'artist_uri': 'spotify:artist:59wfkuBoNyhDMQGCljbUbA'},\n",
       " {'artist_uri': 'spotify:artist:6nxWCVXbOlEVRexSbLsTer'},\n",
       " {'artist_uri': 'spotify:artist:1KlUwB6uFECMC3zzvFvykx'},\n",
       " {'artist_uri': 'spotify:artist:26VFTg2z8YR0cCuwLzESi2'},\n",
       " {'artist_uri': 'spotify:artist:2xGCGoulmU85qYdpb2Z4xx'},\n",
       " {'artist_uri': 'spotify:artist:3D6cosC5ZOLCpRxt6T3XS7'},\n",
       " {'artist_uri': 'spotify:artist:3Bd1cgCjtCI32PYvDC3ynO'},\n",
       " {'artist_uri': 'spotify:artist:73sIBHcqh3Z3NyqHKZ7FOL'},\n",
       " {'artist_uri': 'spotify:artist:49tQo2QULno7gxHutgccqF'},\n",
       " {'artist_uri': 'spotify:artist:23EA28263XvtIrXuySX6oI'},\n",
       " {'artist_uri': 'spotify:artist:1Y6h5hMy5IgqxMvRfn1NB9'},\n",
       " {'artist_uri': 'spotify:artist:380fnmlGnkyueBMqGWx2k5'},\n",
       " {'artist_uri': 'spotify:artist:21UJ7PRWb3Etgsu99f8yo8'},\n",
       " {'artist_uri': 'spotify:artist:1KlUwB6uFECMC3zzvFvykx'},\n",
       " {'artist_uri': 'spotify:artist:4WN5naL3ofxrVBgFpguzKo'},\n",
       " {'artist_uri': 'spotify:artist:6msJKphD3VXZPItnztefdH'},\n",
       " {'artist_uri': 'spotify:artist:79hrYiudVcFyyxyJW0ipTy'},\n",
       " {'artist_uri': 'spotify:artist:5TcPijsr7sstBFVAMNfdIm'},\n",
       " {'artist_uri': 'spotify:artist:5CEZ2102fh2JlfPrsBdSeJ'},\n",
       " {'artist_uri': 'spotify:artist:1BdgyHJZID1ceLLg31KyAv'},\n",
       " {'artist_uri': 'spotify:artist:6Paz0vXJJ9bCPf0fEm3qzg'},\n",
       " {'artist_uri': 'spotify:artist:0cmWgDlu9CwTgxPhf403hb'},\n",
       " {'artist_uri': 'spotify:artist:2hwy5DELim1AxB1sHPqn4y'},\n",
       " {'artist_uri': 'spotify:artist:2AcUPzkVWo81vumdzeLLRN'},\n",
       " {'artist_uri': 'spotify:artist:26GHRG8x1F4AzbCKzUaIbw'},\n",
       " {'artist_uri': 'spotify:artist:2tT6SE9nGCYXysoJ4qicsZ'},\n",
       " {'artist_uri': 'spotify:artist:0hDjKSKjl1DC7ovYTDJHe8'},\n",
       " {'artist_uri': 'spotify:artist:5Rja2iSIMNhzHMRoKzHKNX'},\n",
       " {'artist_uri': 'spotify:artist:0lzV2CiahHRiGd6qpADtPS'},\n",
       " {'artist_uri': 'spotify:artist:2gsggkzM5R49q6jpPvazou'},\n",
       " {'artist_uri': 'spotify:artist:4WN5naL3ofxrVBgFpguzKo'},\n",
       " {'artist_uri': 'spotify:artist:6nS5roXSAGhTGr34W6n7Et'},\n",
       " {'artist_uri': 'spotify:artist:19m3oZKjGSLzVW0OGIAcNg'},\n",
       " {'artist_uri': 'spotify:artist:7kFfY4UjNdNyaeUgLIEbIF'},\n",
       " {'artist_uri': 'spotify:artist:422RLznpwUa5FsQgnTlgUH'},\n",
       " {'artist_uri': 'spotify:artist:7A2x4Urpc4VKF1pb7qnNqD'},\n",
       " {'artist_uri': 'spotify:artist:4Ui2kfOqGujY81UcPrb5KE'},\n",
       " {'artist_uri': 'spotify:artist:3cmUhYaAl8ZVz3coS1T3VC'},\n",
       " {'artist_uri': 'spotify:artist:6VuMaDnrHyPL1p4EHjYLi7'},\n",
       " {'artist_uri': 'spotify:artist:1wzBqAvtFexgKHjt7i3ena'},\n",
       " {'artist_uri': 'spotify:artist:2xaAOVImG2O6lURwqperlD'},\n",
       " {'artist_uri': 'spotify:artist:2xaAOVImG2O6lURwqperlD'},\n",
       " {'artist_uri': 'spotify:artist:26T3LtbuGT1Fu9m0eRq5X3'},\n",
       " {'artist_uri': 'spotify:artist:0L8ExT028jH3ddEcZwqJJ5'},\n",
       " {'artist_uri': 'spotify:artist:41Q0HrwWBtuUkJc7C1Rp6K'},\n",
       " {'artist_uri': 'spotify:artist:1GLtl8uqKmnyCWxHmw9tL4'},\n",
       " {'artist_uri': 'spotify:artist:6VDdCwrBM4qQaGxoAyxyJC'},\n",
       " {'artist_uri': 'spotify:artist:6VDdCwrBM4qQaGxoAyxyJC'},\n",
       " {'artist_uri': 'spotify:artist:2qk9voo8llSGYcZ6xrBzKx'},\n",
       " {'artist_uri': 'spotify:artist:1moxjboGR7GNWYIMWsRjgG'},\n",
       " {'artist_uri': 'spotify:artist:1moxjboGR7GNWYIMWsRjgG'},\n",
       " {'artist_uri': 'spotify:artist:3WrFJ7ztbogyGnTHbHJFl2'},\n",
       " {'artist_uri': 'spotify:artist:2qk9voo8llSGYcZ6xrBzKx'},\n",
       " {'artist_uri': 'spotify:artist:0L8ExT028jH3ddEcZwqJJ5'},\n",
       " {'artist_uri': 'spotify:artist:0L8ExT028jH3ddEcZwqJJ5'},\n",
       " {'artist_uri': 'spotify:artist:7oPftvlwr6VrsViSDV7fJY'},\n",
       " {'artist_uri': 'spotify:artist:7oPftvlwr6VrsViSDV7fJY'},\n",
       " {'artist_uri': 'spotify:artist:6ltzsmQQbmdoHHbLZ4ZN25'},\n",
       " {'artist_uri': 'spotify:artist:3WrFJ7ztbogyGnTHbHJFl2'},\n",
       " {'artist_uri': 'spotify:artist:4kI8Ie27vjvonwaB2ePh8T'},\n",
       " {'artist_uri': 'spotify:artist:3XHO7cRUPCLOr6jwp8vsx5'},\n",
       " {'artist_uri': 'spotify:artist:2xaAOVImG2O6lURwqperlD'},\n",
       " {'artist_uri': 'spotify:artist:3kVUvbeRdcrqQ3oHk5hPdx'},\n",
       " {'artist_uri': 'spotify:artist:3WrFJ7ztbogyGnTHbHJFl2'},\n",
       " {'artist_uri': 'spotify:artist:3WrFJ7ztbogyGnTHbHJFl2'},\n",
       " {'artist_uri': 'spotify:artist:3AA28KZvwAUcZuOKwyblJQ'},\n",
       " {'artist_uri': 'spotify:artist:5BvJzeQpmsdsFp4HGUYUEx'},\n",
       " {'artist_uri': 'spotify:artist:3WrFJ7ztbogyGnTHbHJFl2'},\n",
       " {'artist_uri': 'spotify:artist:7jefIIksOi1EazgRTfW2Pk'},\n",
       " {'artist_uri': 'spotify:artist:6GkJh85o22LfD2vgL9DP6f'},\n",
       " {'artist_uri': 'spotify:artist:1moxjboGR7GNWYIMWsRjgG'},\n",
       " {'artist_uri': 'spotify:artist:0L8ExT028jH3ddEcZwqJJ5'},\n",
       " {'artist_uri': 'spotify:artist:3kVUvbeRdcrqQ3oHk5hPdx'},\n",
       " {'artist_uri': 'spotify:artist:0L8ExT028jH3ddEcZwqJJ5'},\n",
       " {'artist_uri': 'spotify:artist:69MEO1AADKg1IZrq2XLzo5'},\n",
       " {'artist_uri': 'spotify:artist:3WrFJ7ztbogyGnTHbHJFl2'},\n",
       " {'artist_uri': 'spotify:artist:0YrtvWJMgSdVrk3SfNjTbx'},\n",
       " {'artist_uri': 'spotify:artist:0L8ExT028jH3ddEcZwqJJ5'},\n",
       " {'artist_uri': 'spotify:artist:3WrFJ7ztbogyGnTHbHJFl2'},\n",
       " {'artist_uri': 'spotify:artist:320EPCSEezHt1rtbfwH6Ck'},\n",
       " {'artist_uri': 'spotify:artist:3WrFJ7ztbogyGnTHbHJFl2'},\n",
       " {'artist_uri': 'spotify:artist:6LqNN22kT3074XbTVUrhzX'},\n",
       " {'artist_uri': 'spotify:artist:2xaAOVImG2O6lURwqperlD'},\n",
       " {'artist_uri': 'spotify:artist:2RQXRUsr4IW1f3mKyKsy4B'},\n",
       " {'artist_uri': 'spotify:artist:0L8ExT028jH3ddEcZwqJJ5'},\n",
       " {'artist_uri': 'spotify:artist:26T3LtbuGT1Fu9m0eRq5X3'},\n",
       " {'artist_uri': 'spotify:artist:5W5bDNCqJ1jbCgTxDD0Cb3'},\n",
       " {'artist_uri': 'spotify:artist:1nivFfWu6oXBFDNyVfFU5x'},\n",
       " {'artist_uri': 'spotify:artist:68abRTdO4meYReMWHvBYb0'},\n",
       " {'artist_uri': 'spotify:artist:2M4Yt7oKGoYd0wqU44k4i2'},\n",
       " {'artist_uri': 'spotify:artist:4mxWe1mtYIYfP040G38yvS'},\n",
       " {'artist_uri': 'spotify:artist:6PjV05LlULv9XmFu7HeAia'},\n",
       " {'artist_uri': 'spotify:artist:26opZSJcXshCmCwxgZQmBc'},\n",
       " {'artist_uri': 'spotify:artist:1sX1MkGoDKuMzzhaALPFyZ'},\n",
       " {'artist_uri': 'spotify:artist:6zLBxLdl60ekBLpawtT63I'},\n",
       " {'artist_uri': 'spotify:artist:2ptmyXoL7poH6Zq62h1QT9'},\n",
       " {'artist_uri': 'spotify:artist:2ptmyXoL7poH6Zq62h1QT9'},\n",
       " {'artist_uri': 'spotify:artist:6nwh8AhPpbwOUnHZJWrHT6'},\n",
       " {'artist_uri': 'spotify:artist:2cNV8vNe2fPFf6OfGOBbSS'},\n",
       " {'artist_uri': 'spotify:artist:3KmQJ2e3T7Gn1UurVpReXs'},\n",
       " {'artist_uri': 'spotify:artist:3mSAqBoXQgdlpwzWsIgBzL'},\n",
       " {'artist_uri': 'spotify:artist:3Ay15wt0QChT4Kapsuw5Jt'},\n",
       " {'artist_uri': 'spotify:artist:3mSAqBoXQgdlpwzWsIgBzL'}]"
      ]
     },
     "execution_count": 58,
     "metadata": {},
     "output_type": "execute_result"
    }
   ],
   "source": []
  },
  {
   "cell_type": "code",
   "execution_count": 87,
   "metadata": {
    "ExecuteTime": {
     "end_time": "2018-03-04T23:29:24.147123Z",
     "start_time": "2018-03-04T23:29:24.115376Z"
    }
   },
   "outputs": [
    {
     "data": {
      "text/plain": [
       "[(0, 1),\n",
       " (0, 2),\n",
       " (0, 3),\n",
       " (0, 4),\n",
       " (0, 5),\n",
       " (0, 6),\n",
       " (0, 7),\n",
       " (0, 8),\n",
       " (0, 9),\n",
       " (1, 2),\n",
       " (1, 3),\n",
       " (1, 4),\n",
       " (1, 5),\n",
       " (1, 6),\n",
       " (1, 7),\n",
       " (1, 8),\n",
       " (1, 9),\n",
       " (2, 3),\n",
       " (2, 4),\n",
       " (2, 5),\n",
       " (2, 6),\n",
       " (2, 7),\n",
       " (2, 8),\n",
       " (2, 9),\n",
       " (3, 4),\n",
       " (3, 5),\n",
       " (3, 6),\n",
       " (3, 7),\n",
       " (3, 8),\n",
       " (3, 9),\n",
       " (4, 5),\n",
       " (4, 6),\n",
       " (4, 7),\n",
       " (4, 8),\n",
       " (4, 9),\n",
       " (5, 6),\n",
       " (5, 7),\n",
       " (5, 8),\n",
       " (5, 9),\n",
       " (6, 7),\n",
       " (6, 8),\n",
       " (6, 9),\n",
       " (7, 8),\n",
       " (7, 9),\n",
       " (8, 9)]"
      ]
     },
     "execution_count": 87,
     "metadata": {},
     "output_type": "execute_result"
    }
   ],
   "source": [
    "n=10\n",
    "[ (i,j) for i in range(n) for j in range(i+1,n)]"
   ]
  },
  {
   "cell_type": "code",
   "execution_count": 84,
   "metadata": {
    "ExecuteTime": {
     "end_time": "2018-03-04T23:28:11.792763Z",
     "start_time": "2018-03-04T23:28:11.751990Z"
    }
   },
   "outputs": [
    {
     "ename": "SyntaxError",
     "evalue": "invalid syntax (<ipython-input-84-d05056eb7c96>, line 1)",
     "output_type": "error",
     "traceback": [
      "\u001b[0;36m  File \u001b[0;32m\"<ipython-input-84-d05056eb7c96>\"\u001b[0;36m, line \u001b[0;32m1\u001b[0m\n\u001b[0;31m    Mid-march 2018 - Team management\u001b[0m\n\u001b[0m                 ^\u001b[0m\n\u001b[0;31mSyntaxError\u001b[0m\u001b[0;31m:\u001b[0m invalid syntax\n"
     ]
    }
   ],
   "source": [
    "\n",
    "def divirsity(plist,dist_f,norm_f):\n",
    "    \"\"\" diversity of a playlist\n",
    "    \n",
    "    Common choices for dist_f are inverse cosine similarity, inverse\n",
    "    Pearson correlation, or Hamming distance\n",
    "    \"\"\"\"\n",
    "    n = len(plist)\n",
    "    sum_d = [ dist_f(plist[i],plist[j]) for i in range(n) for j in range(i+1,n)]\n",
    "    p_norm = norm_f(plist)\n",
    "    val = sum_df/(p_norm*(p_norm-1))\n",
    "\n",
    "    return val"
   ]
  }
 ],
 "metadata": {
  "kernelspec": {
   "display_name": "Python [default]",
   "language": "python",
   "name": "python3"
  },
  "language_info": {
   "codemirror_mode": {
    "name": "ipython",
    "version": 3
   },
   "file_extension": ".py",
   "mimetype": "text/x-python",
   "name": "python",
   "nbconvert_exporter": "python",
   "pygments_lexer": "ipython3",
   "version": "3.6.3"
  },
  "toc": {
   "nav_menu": {},
   "number_sections": true,
   "sideBar": true,
   "skip_h1_title": false,
   "toc_cell": true,
   "toc_position": {
    "height": "722px",
    "left": "0px",
    "right": "1472.56px",
    "top": "105.994px",
    "width": "212px"
   },
   "toc_section_display": "block",
   "toc_window_display": true
  }
 },
 "nbformat": 4,
 "nbformat_minor": 2
}
