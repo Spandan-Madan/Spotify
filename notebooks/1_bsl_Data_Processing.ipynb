{
 "cells": [
  {
   "cell_type": "markdown",
   "metadata": {
    "toc": true
   },
   "source": [
    "<h1>Table of Contents<span class=\"tocSkip\"></span></h1>\n",
    "<div class=\"toc\" style=\"margin-top: 1em;\"><ul class=\"toc-item\"><li><span><a href=\"#Preliminaries\" data-toc-modified-id=\"Preliminaries-1\"><span class=\"toc-item-num\">1&nbsp;&nbsp;</span>Preliminaries</a></span><ul class=\"toc-item\"><li><span><a href=\"#Data_SRC\" data-toc-modified-id=\"Data_SRC-1.1\"><span class=\"toc-item-num\">1.1&nbsp;&nbsp;</span>Data_SRC</a></span></li><li><span><a href=\"#Load-libraries\" data-toc-modified-id=\"Load-libraries-1.2\"><span class=\"toc-item-num\">1.2&nbsp;&nbsp;</span>Load libraries</a></span></li></ul></li><li><span><a href=\"#Demo-of-process_mpd\" data-toc-modified-id=\"Demo-of-process_mpd-2\"><span class=\"toc-item-num\">2&nbsp;&nbsp;</span>Demo of process_mpd</a></span><ul class=\"toc-item\"><li><span><a href=\"#counting-the-number-of-playlist\" data-toc-modified-id=\"counting-the-number-of-playlist-2.1\"><span class=\"toc-item-num\">2.1&nbsp;&nbsp;</span>counting the number of playlist</a></span></li><li><span><a href=\"#get-unique-tracks-in-all-playlist\" data-toc-modified-id=\"get-unique-tracks-in-all-playlist-2.2\"><span class=\"toc-item-num\">2.2&nbsp;&nbsp;</span>get unique tracks in all playlist</a></span></li><li><span><a href=\"#Iterate-on-files-and-playlist-level\" data-toc-modified-id=\"Iterate-on-files-and-playlist-level-2.3\"><span class=\"toc-item-num\">2.3&nbsp;&nbsp;</span>Iterate on files and playlist level</a></span></li><li><span><a href=\"#create-random-subset-of-1%-of-all-playlists\" data-toc-modified-id=\"create-random-subset-of-1%-of-all-playlists-2.4\"><span class=\"toc-item-num\">2.4&nbsp;&nbsp;</span>create random subset of 1% of all playlists</a></span></li></ul></li><li><span><a href=\"#Make-dictionaries\" data-toc-modified-id=\"Make-dictionaries-3\"><span class=\"toc-item-num\">3&nbsp;&nbsp;</span>Make dictionaries</a></span><ul class=\"toc-item\"><li><span><a href=\"#Entire-dataset\" data-toc-modified-id=\"Entire-dataset-3.1\"><span class=\"toc-item-num\">3.1&nbsp;&nbsp;</span>Entire dataset</a></span></li><li><span><a href=\"#subset-5k\" data-toc-modified-id=\"subset-5k-3.2\"><span class=\"toc-item-num\">3.2&nbsp;&nbsp;</span>subset 5k</a></span></li></ul></li><li><span><a href=\"#Get-audio-features\" data-toc-modified-id=\"Get-audio-features-4\"><span class=\"toc-item-num\">4&nbsp;&nbsp;</span>Get audio features</a></span><ul class=\"toc-item\"><li><span><a href=\"#setup\" data-toc-modified-id=\"setup-4.1\"><span class=\"toc-item-num\">4.1&nbsp;&nbsp;</span>setup</a></span></li><li><span><a href=\"#Read-tracks\" data-toc-modified-id=\"Read-tracks-4.2\"><span class=\"toc-item-num\">4.2&nbsp;&nbsp;</span>Read tracks</a></span><ul class=\"toc-item\"><li><span><a href=\"#subset\" data-toc-modified-id=\"subset-4.2.1\"><span class=\"toc-item-num\">4.2.1&nbsp;&nbsp;</span>subset</a></span></li></ul></li><li><span><a href=\"#spotify-web-api\" data-toc-modified-id=\"spotify-web-api-4.3\"><span class=\"toc-item-num\">4.3&nbsp;&nbsp;</span>spotify-web api</a></span><ul class=\"toc-item\"><li><span><a href=\"#Audio-features\" data-toc-modified-id=\"Audio-features-4.3.1\"><span class=\"toc-item-num\">4.3.1&nbsp;&nbsp;</span>Audio features</a></span></li><li><span><a href=\"#Popularity\" data-toc-modified-id=\"Popularity-4.3.2\"><span class=\"toc-item-num\">4.3.2&nbsp;&nbsp;</span>Popularity</a></span></li><li><span><a href=\"#Genres\" data-toc-modified-id=\"Genres-4.3.3\"><span class=\"toc-item-num\">4.3.3&nbsp;&nbsp;</span>Genres</a></span></li></ul></li></ul></li></ul></div>"
   ]
  },
  {
   "cell_type": "markdown",
   "metadata": {},
   "source": [
    "# Preliminaries\n",
    "## Data_SRC"
   ]
  },
  {
   "cell_type": "code",
   "execution_count": 1,
   "metadata": {
    "ExecuteTime": {
     "end_time": "2018-05-01T00:26:46.365782Z",
     "start_time": "2018-05-01T00:26:46.332784Z"
    },
    "collapsed": true
   },
   "outputs": [],
   "source": [
    "#location of the dataset\n",
    "#DATA_SRC='/home/beangoben/ml_data/mpd.v1/data'\n",
    "DATA_SRC='/home/beangoben/data/mpd.v1/data'\n",
    "#DATA_SRC='../data/raw/5k_subset'\n",
    "# add src scripts to utilize\n",
    "import sys\n",
    "sys.path.append('../src')\n",
    "sys.path.append('../src/data/')\n",
    "sys.path.append('../src/models/')\n",
    "sys.path.append('../src/features/')\n",
    "sys.path.append('../src/visualization/')\n",
    "# will reload any library\n",
    "%load_ext autoreload\n",
    "%autoreload 2"
   ]
  },
  {
   "cell_type": "markdown",
   "metadata": {},
   "source": [
    "## Load libraries"
   ]
  },
  {
   "cell_type": "code",
   "execution_count": 2,
   "metadata": {
    "ExecuteTime": {
     "end_time": "2018-05-01T00:26:47.659116Z",
     "start_time": "2018-05-01T00:26:47.262804Z"
    },
    "collapsed": true
   },
   "outputs": [],
   "source": [
    "import os\n",
    "import json\n",
    "import compressed_pickle as cpick\n",
    "from collections import defaultdict, OrderedDict\n",
    "# utility\n",
    "from tqdm import tqdm_notebook as tqdm\n",
    "# scientific python\n",
    "import numpy as np\n",
    "import pandas as pd\n",
    "# nice printing\n",
    "from pprint import pprint\n",
    "# for plotting\n",
    "import matplotlib.pyplot as plt\n",
    "import seaborn as sns\n",
    "from plot_utils import html_header, glance_dict\n",
    "%matplotlib inline"
   ]
  },
  {
   "cell_type": "markdown",
   "metadata": {
    "ExecuteTime": {
     "end_time": "2018-02-13T07:46:42.099612Z",
     "start_time": "2018-02-13T07:46:42.081578Z"
    }
   },
   "source": [
    "# Demo of process_mpd\n",
    "\n",
    "Located in data/data_utils.py, **process_mpd** will take a directory path, a function to operate on a playlist and a object to store results (could be a dataframe or a dict for example). \n",
    "\n",
    "Optional is a *max_n* (max number of slices to operate on) and use *rand=False* for random or sorted files.\n",
    "\n",
    "\n",
    "## counting the number of playlist"
   ]
  },
  {
   "cell_type": "code",
   "execution_count": 3,
   "metadata": {
    "ExecuteTime": {
     "end_time": "2018-04-28T05:42:03.923780Z",
     "start_time": "2018-04-28T05:42:03.906265Z"
    },
    "collapsed": true
   },
   "outputs": [],
   "source": [
    "from data_utils import process_mpd\n",
    "\n",
    "def count_playlist(playlist,results):\n",
    "    results['count']=results['count']+1\n",
    "    return"
   ]
  },
  {
   "cell_type": "code",
   "execution_count": 4,
   "metadata": {
    "ExecuteTime": {
     "end_time": "2018-04-28T05:42:06.686069Z",
     "start_time": "2018-04-28T05:42:04.102254Z"
    }
   },
   "outputs": [
    {
     "data": {
      "application/vnd.jupyter.widget-view+json": {
       "model_id": "e1a664105ee84c19ace279f1d72f9af5",
       "version_major": 2,
       "version_minor": 0
      },
      "text/plain": [
       "HBox(children=(IntProgress(value=0, max=10), HTML(value='')))"
      ]
     },
     "metadata": {},
     "output_type": "display_data"
    },
    {
     "name": "stdout",
     "output_type": "stream",
     "text": [
      "\n",
      "{'count': 10000}\n"
     ]
    }
   ],
   "source": [
    "results={}\n",
    "results['count']=0\n",
    "process_mpd(DATA_SRC,count_playlist,results,max_n=10,rand=True)\n",
    "pprint(results)"
   ]
  },
  {
   "cell_type": "markdown",
   "metadata": {
    "ExecuteTime": {
     "end_time": "2018-02-13T08:06:14.458761Z",
     "start_time": "2018-02-13T08:06:14.450434Z"
    }
   },
   "source": [
    "## get unique tracks in all playlist"
   ]
  },
  {
   "cell_type": "code",
   "execution_count": 5,
   "metadata": {
    "ExecuteTime": {
     "end_time": "2018-04-28T04:34:59.849284Z",
     "start_time": "2018-04-28T04:34:59.820692Z"
    },
    "collapsed": true
   },
   "outputs": [],
   "source": [
    "from data_utils import process_mpd, normalize_name\n",
    "\n",
    "def unique_trackids(playlist,results):\n",
    "    pid = playlist['pid']\n",
    "    \n",
    "    rows=[]\n",
    "    for track in playlist['tracks']:\n",
    "        rows.append({'title':track['track_name'],'track_uri':track['track_uri'],'artist':track['artist_name']\n",
    "                        ,'artist_uri':track['artist_uri']})\n",
    "    results['count']+=1\n",
    "    results['count']+=1\n",
    "    pd.DataFrame(results).to_csv('test.csv',index=False,compression='gzip')\n",
    "    return"
   ]
  },
  {
   "cell_type": "code",
   "execution_count": 6,
   "metadata": {
    "ExecuteTime": {
     "end_time": "2018-04-28T04:35:09.069997Z",
     "start_time": "2018-04-28T04:35:02.664540Z"
    }
   },
   "outputs": [
    {
     "data": {
      "application/vnd.jupyter.widget-view+json": {
       "model_id": "f74099e36e5d4d11bec3f2ee2219bd21",
       "version_major": 2,
       "version_minor": 0
      },
      "text/plain": [
       "HBox(children=(IntProgress(value=0, max=5), HTML(value='')))"
      ]
     },
     "metadata": {},
     "output_type": "display_data"
    },
    {
     "name": "stdout",
     "output_type": "stream",
     "text": [
      "\n",
      "334487\n"
     ]
    }
   ],
   "source": [
    "results={}\n",
    "results['count']=0\n",
    "results['rows']\n",
    "process_mpd(DATA_SRC,unique_trackids,results)\n",
    "print(len(results))\n"
   ]
  },
  {
   "cell_type": "code",
   "execution_count": 16,
   "metadata": {
    "ExecuteTime": {
     "end_time": "2018-02-20T23:49:55.699451Z",
     "start_time": "2018-02-20T23:49:54.704751Z"
    }
   },
   "outputs": [
    {
     "name": "stdout",
     "output_type": "stream",
     "text": [
      "(335094, 4)\n",
      "(107781, 4)\n"
     ]
    }
   ],
   "source": [
    "df = pd.DataFrame(results)\n",
    "print(df.shape)\n",
    "df = df.drop_duplicates('uri')\n",
    "print(df.shape)\n",
    "df.to_csv('../data/interim/5k_track_uri.csv',index=False,compression='gzip')"
   ]
  },
  {
   "cell_type": "markdown",
   "metadata": {},
   "source": [
    "## Iterate on files and playlist level"
   ]
  },
  {
   "cell_type": "code",
   "execution_count": 7,
   "metadata": {
    "ExecuteTime": {
     "end_time": "2018-04-28T08:00:22.277434Z",
     "start_time": "2018-04-28T08:00:22.250196Z"
    },
    "collapsed": true
   },
   "outputs": [],
   "source": [
    "from data_utils import process_mpd2, normalize_name\n",
    "\n",
    "def pl_func(playlist,results):\n",
    "    pid = playlist['pid']\n",
    "    tracks=[turi2tint[track['track_uri'].replace('spotify:track:','')] for track in playlist['tracks']]\n",
    "    results[pid]=tracks\n",
    "    return\n",
    "\n",
    "def json_func(indx,results_json,results_pl):\n",
    "    if indx%100==0:\n",
    "        cpick.save('playlist2track_ints',results_pl)\n",
    "    return"
   ]
  },
  {
   "cell_type": "code",
   "execution_count": 14,
   "metadata": {
    "ExecuteTime": {
     "end_time": "2018-04-28T08:16:08.985579Z",
     "start_time": "2018-04-28T08:07:56.077394Z"
    },
    "scrolled": true
   },
   "outputs": [
    {
     "data": {
      "application/vnd.jupyter.widget-view+json": {
       "model_id": "51b661ff5b634dc9882ad4a44900918c",
       "version_major": 2,
       "version_minor": 0
      },
      "text/plain": [
       "HBox(children=(IntProgress(value=0, max=1000), HTML(value='')))"
      ]
     },
     "metadata": {},
     "output_type": "display_data"
    },
    {
     "name": "stdout",
     "output_type": "stream",
     "text": [
      "\n"
     ]
    },
    {
     "ename": "KeyError",
     "evalue": "'76XXefqNyRrP3pm3uUckWS'",
     "output_type": "error",
     "traceback": [
      "\u001b[0;31m---------------------------------------------------------------------------\u001b[0m",
      "\u001b[0;31mKeyError\u001b[0m                                  Traceback (most recent call last)",
      "\u001b[0;32m<ipython-input-14-88b5c917f21c>\u001b[0m in \u001b[0;36m<module>\u001b[0;34m()\u001b[0m\n\u001b[1;32m      1\u001b[0m \u001b[0;32mfrom\u001b[0m \u001b[0mcollections\u001b[0m \u001b[0;32mimport\u001b[0m \u001b[0mOrderedDict\u001b[0m\u001b[0;34m\u001b[0m\u001b[0m\n\u001b[1;32m      2\u001b[0m \u001b[0mresults\u001b[0m \u001b[0;34m=\u001b[0m \u001b[0;34m[\u001b[0m\u001b[0;32mNone\u001b[0m\u001b[0;34m]\u001b[0m\u001b[0;34m*\u001b[0m\u001b[0;36m1000000\u001b[0m\u001b[0;34m\u001b[0m\u001b[0m\n\u001b[0;32m----> 3\u001b[0;31m \u001b[0mprocess_mpd2\u001b[0m\u001b[0;34m(\u001b[0m\u001b[0mDATA_SRC\u001b[0m\u001b[0;34m,\u001b[0m \u001b[0mpl_func\u001b[0m\u001b[0;34m,\u001b[0m\u001b[0mresults\u001b[0m\u001b[0;34m,\u001b[0m \u001b[0mjson_func\u001b[0m\u001b[0;34m,\u001b[0m \u001b[0;34m[\u001b[0m\u001b[0;34m]\u001b[0m\u001b[0;34m)\u001b[0m\u001b[0;34m\u001b[0m\u001b[0m\n\u001b[0m",
      "\u001b[0;32m~/projects/Spotify/src/data/data_utils.py\u001b[0m in \u001b[0;36mprocess_mpd2\u001b[0;34m(path, func_pl, results_pl, func_json, results_json, max_n, rand)\u001b[0m\n\u001b[1;32m     67\u001b[0m         \u001b[0mmpd_slice\u001b[0m \u001b[0;34m=\u001b[0m \u001b[0mjson\u001b[0m\u001b[0;34m.\u001b[0m\u001b[0mloads\u001b[0m\u001b[0;34m(\u001b[0m\u001b[0mjs\u001b[0m\u001b[0;34m)\u001b[0m\u001b[0;34m\u001b[0m\u001b[0m\n\u001b[1;32m     68\u001b[0m         \u001b[0;32mfor\u001b[0m \u001b[0mplaylist\u001b[0m \u001b[0;32min\u001b[0m \u001b[0mmpd_slice\u001b[0m\u001b[0;34m[\u001b[0m\u001b[0;34m'playlists'\u001b[0m\u001b[0;34m]\u001b[0m\u001b[0;34m:\u001b[0m\u001b[0;34m\u001b[0m\u001b[0m\n\u001b[0;32m---> 69\u001b[0;31m             \u001b[0mfunc_pl\u001b[0m\u001b[0;34m(\u001b[0m\u001b[0mplaylist\u001b[0m\u001b[0;34m,\u001b[0m \u001b[0mresults_pl\u001b[0m\u001b[0;34m)\u001b[0m\u001b[0;34m\u001b[0m\u001b[0m\n\u001b[0m\u001b[1;32m     70\u001b[0m         \u001b[0mfunc_json\u001b[0m\u001b[0;34m(\u001b[0m\u001b[0mn_file\u001b[0m\u001b[0;34m,\u001b[0m\u001b[0mresults_json\u001b[0m\u001b[0;34m,\u001b[0m\u001b[0mresults_pl\u001b[0m\u001b[0;34m)\u001b[0m\u001b[0;34m\u001b[0m\u001b[0m\n\u001b[1;32m     71\u001b[0m \u001b[0;34m\u001b[0m\u001b[0m\n",
      "\u001b[0;32m<ipython-input-7-fd4ca4fde8d7>\u001b[0m in \u001b[0;36mpl_func\u001b[0;34m(playlist, results)\u001b[0m\n\u001b[1;32m      3\u001b[0m \u001b[0;32mdef\u001b[0m \u001b[0mpl_func\u001b[0m\u001b[0;34m(\u001b[0m\u001b[0mplaylist\u001b[0m\u001b[0;34m,\u001b[0m\u001b[0mresults\u001b[0m\u001b[0;34m)\u001b[0m\u001b[0;34m:\u001b[0m\u001b[0;34m\u001b[0m\u001b[0m\n\u001b[1;32m      4\u001b[0m     \u001b[0mpid\u001b[0m \u001b[0;34m=\u001b[0m \u001b[0mplaylist\u001b[0m\u001b[0;34m[\u001b[0m\u001b[0;34m'pid'\u001b[0m\u001b[0;34m]\u001b[0m\u001b[0;34m\u001b[0m\u001b[0m\n\u001b[0;32m----> 5\u001b[0;31m     \u001b[0mtracks\u001b[0m\u001b[0;34m=\u001b[0m\u001b[0;34m[\u001b[0m\u001b[0mturi2tint\u001b[0m\u001b[0;34m[\u001b[0m\u001b[0mtrack\u001b[0m\u001b[0;34m[\u001b[0m\u001b[0;34m'track_uri'\u001b[0m\u001b[0;34m]\u001b[0m\u001b[0;34m.\u001b[0m\u001b[0mreplace\u001b[0m\u001b[0;34m(\u001b[0m\u001b[0;34m'spotify:track:'\u001b[0m\u001b[0;34m,\u001b[0m\u001b[0;34m''\u001b[0m\u001b[0;34m)\u001b[0m\u001b[0;34m]\u001b[0m \u001b[0;32mfor\u001b[0m \u001b[0mtrack\u001b[0m \u001b[0;32min\u001b[0m \u001b[0mplaylist\u001b[0m\u001b[0;34m[\u001b[0m\u001b[0;34m'tracks'\u001b[0m\u001b[0;34m]\u001b[0m\u001b[0;34m]\u001b[0m\u001b[0;34m\u001b[0m\u001b[0m\n\u001b[0m\u001b[1;32m      6\u001b[0m     \u001b[0mresults\u001b[0m\u001b[0;34m[\u001b[0m\u001b[0mpid\u001b[0m\u001b[0;34m]\u001b[0m\u001b[0;34m=\u001b[0m\u001b[0mtracks\u001b[0m\u001b[0;34m\u001b[0m\u001b[0m\n\u001b[1;32m      7\u001b[0m     \u001b[0;32mreturn\u001b[0m\u001b[0;34m\u001b[0m\u001b[0m\n",
      "\u001b[0;32m<ipython-input-7-fd4ca4fde8d7>\u001b[0m in \u001b[0;36m<listcomp>\u001b[0;34m(.0)\u001b[0m\n\u001b[1;32m      3\u001b[0m \u001b[0;32mdef\u001b[0m \u001b[0mpl_func\u001b[0m\u001b[0;34m(\u001b[0m\u001b[0mplaylist\u001b[0m\u001b[0;34m,\u001b[0m\u001b[0mresults\u001b[0m\u001b[0;34m)\u001b[0m\u001b[0;34m:\u001b[0m\u001b[0;34m\u001b[0m\u001b[0m\n\u001b[1;32m      4\u001b[0m     \u001b[0mpid\u001b[0m \u001b[0;34m=\u001b[0m \u001b[0mplaylist\u001b[0m\u001b[0;34m[\u001b[0m\u001b[0;34m'pid'\u001b[0m\u001b[0;34m]\u001b[0m\u001b[0;34m\u001b[0m\u001b[0m\n\u001b[0;32m----> 5\u001b[0;31m     \u001b[0mtracks\u001b[0m\u001b[0;34m=\u001b[0m\u001b[0;34m[\u001b[0m\u001b[0mturi2tint\u001b[0m\u001b[0;34m[\u001b[0m\u001b[0mtrack\u001b[0m\u001b[0;34m[\u001b[0m\u001b[0;34m'track_uri'\u001b[0m\u001b[0;34m]\u001b[0m\u001b[0;34m.\u001b[0m\u001b[0mreplace\u001b[0m\u001b[0;34m(\u001b[0m\u001b[0;34m'spotify:track:'\u001b[0m\u001b[0;34m,\u001b[0m\u001b[0;34m''\u001b[0m\u001b[0;34m)\u001b[0m\u001b[0;34m]\u001b[0m \u001b[0;32mfor\u001b[0m \u001b[0mtrack\u001b[0m \u001b[0;32min\u001b[0m \u001b[0mplaylist\u001b[0m\u001b[0;34m[\u001b[0m\u001b[0;34m'tracks'\u001b[0m\u001b[0;34m]\u001b[0m\u001b[0;34m]\u001b[0m\u001b[0;34m\u001b[0m\u001b[0m\n\u001b[0m\u001b[1;32m      6\u001b[0m     \u001b[0mresults\u001b[0m\u001b[0;34m[\u001b[0m\u001b[0mpid\u001b[0m\u001b[0;34m]\u001b[0m\u001b[0;34m=\u001b[0m\u001b[0mtracks\u001b[0m\u001b[0;34m\u001b[0m\u001b[0m\n\u001b[1;32m      7\u001b[0m     \u001b[0;32mreturn\u001b[0m\u001b[0;34m\u001b[0m\u001b[0m\n",
      "\u001b[0;31mKeyError\u001b[0m: '76XXefqNyRrP3pm3uUckWS'"
     ]
    }
   ],
   "source": [
    "from collections import OrderedDict\n",
    "results = [None]*1000000\n",
    "process_mpd2(DATA_SRC, pl_func,results, json_func, [])"
   ]
  },
  {
   "cell_type": "code",
   "execution_count": 19,
   "metadata": {
    "ExecuteTime": {
     "end_time": "2018-04-28T08:18:34.333008Z",
     "start_time": "2018-04-28T08:18:34.295536Z"
    }
   },
   "outputs": [
    {
     "name": "stderr",
     "output_type": "stream",
     "text": [
      "File ../interim/track_uri2track_name.pkl.bz2 cannot be read\n"
     ]
    },
    {
     "ename": "AttributeError",
     "evalue": "'FileNotFoundError' object has no attribute 'decode'",
     "output_type": "error",
     "traceback": [
      "\u001b[0;31m---------------------------------------------------------------------------\u001b[0m",
      "\u001b[0;31mFileNotFoundError\u001b[0m                         Traceback (most recent call last)",
      "\u001b[0;32m~/projects/Spotify/src/data/compressed_pickle.py\u001b[0m in \u001b[0;36mload\u001b[0;34m(filename)\u001b[0m\n\u001b[1;32m     42\u001b[0m     \u001b[0;32mtry\u001b[0m\u001b[0;34m:\u001b[0m\u001b[0;34m\u001b[0m\u001b[0m\n\u001b[0;32m---> 43\u001b[0;31m         \u001b[0mf\u001b[0m \u001b[0;34m=\u001b[0m \u001b[0mbz2\u001b[0m\u001b[0;34m.\u001b[0m\u001b[0mBZ2File\u001b[0m\u001b[0;34m(\u001b[0m\u001b[0mfilename\u001b[0m\u001b[0;34m,\u001b[0m \u001b[0;34m'rb'\u001b[0m\u001b[0;34m)\u001b[0m\u001b[0;34m\u001b[0m\u001b[0m\n\u001b[0m\u001b[1;32m     44\u001b[0m     \u001b[0;32mexcept\u001b[0m \u001b[0mIOError\u001b[0m \u001b[0;32mas\u001b[0m \u001b[0mdetails\u001b[0m\u001b[0;34m:\u001b[0m\u001b[0;34m\u001b[0m\u001b[0m\n",
      "\u001b[0;32m~/anaconda3/lib/python3.6/bz2.py\u001b[0m in \u001b[0;36m__init__\u001b[0;34m(self, filename, mode, buffering, compresslevel)\u001b[0m\n\u001b[1;32m     95\u001b[0m         \u001b[0;32mif\u001b[0m \u001b[0misinstance\u001b[0m\u001b[0;34m(\u001b[0m\u001b[0mfilename\u001b[0m\u001b[0;34m,\u001b[0m \u001b[0;34m(\u001b[0m\u001b[0mstr\u001b[0m\u001b[0;34m,\u001b[0m \u001b[0mbytes\u001b[0m\u001b[0;34m,\u001b[0m \u001b[0mos\u001b[0m\u001b[0;34m.\u001b[0m\u001b[0mPathLike\u001b[0m\u001b[0;34m)\u001b[0m\u001b[0;34m)\u001b[0m\u001b[0;34m:\u001b[0m\u001b[0;34m\u001b[0m\u001b[0m\n\u001b[0;32m---> 96\u001b[0;31m             \u001b[0mself\u001b[0m\u001b[0;34m.\u001b[0m\u001b[0m_fp\u001b[0m \u001b[0;34m=\u001b[0m \u001b[0m_builtin_open\u001b[0m\u001b[0;34m(\u001b[0m\u001b[0mfilename\u001b[0m\u001b[0;34m,\u001b[0m \u001b[0mmode\u001b[0m\u001b[0;34m)\u001b[0m\u001b[0;34m\u001b[0m\u001b[0m\n\u001b[0m\u001b[1;32m     97\u001b[0m             \u001b[0mself\u001b[0m\u001b[0;34m.\u001b[0m\u001b[0m_closefp\u001b[0m \u001b[0;34m=\u001b[0m \u001b[0;32mTrue\u001b[0m\u001b[0;34m\u001b[0m\u001b[0m\n",
      "\u001b[0;31mFileNotFoundError\u001b[0m: [Errno 2] No such file or directory: '../interim/track_uri2track_name.pkl.bz2'",
      "\nDuring handling of the above exception, another exception occurred:\n",
      "\u001b[0;31mAttributeError\u001b[0m                            Traceback (most recent call last)",
      "\u001b[0;32m<ipython-input-19-640f2ef34d30>\u001b[0m in \u001b[0;36m<module>\u001b[0;34m()\u001b[0m\n\u001b[0;32m----> 1\u001b[0;31m \u001b[0mresults\u001b[0m \u001b[0;34m=\u001b[0m \u001b[0mcpick\u001b[0m\u001b[0;34m.\u001b[0m\u001b[0mload\u001b[0m\u001b[0;34m(\u001b[0m\u001b[0;34m'../interim/track_uri2track_name.pkl.bz2'\u001b[0m\u001b[0;34m)\u001b[0m\u001b[0;34m\u001b[0m\u001b[0m\n\u001b[0m",
      "\u001b[0;32m~/projects/Spotify/src/data/compressed_pickle.py\u001b[0m in \u001b[0;36mload\u001b[0;34m(filename)\u001b[0m\n\u001b[1;32m     44\u001b[0m     \u001b[0;32mexcept\u001b[0m \u001b[0mIOError\u001b[0m \u001b[0;32mas\u001b[0m \u001b[0mdetails\u001b[0m\u001b[0;34m:\u001b[0m\u001b[0;34m\u001b[0m\u001b[0m\n\u001b[1;32m     45\u001b[0m         \u001b[0msys\u001b[0m\u001b[0;34m.\u001b[0m\u001b[0mstderr\u001b[0m\u001b[0;34m.\u001b[0m\u001b[0mwrite\u001b[0m\u001b[0;34m(\u001b[0m\u001b[0;34m'File '\u001b[0m \u001b[0;34m+\u001b[0m \u001b[0mfilename\u001b[0m \u001b[0;34m+\u001b[0m \u001b[0;34m' cannot be read\\n'\u001b[0m\u001b[0;34m)\u001b[0m\u001b[0;34m\u001b[0m\u001b[0m\n\u001b[0;32m---> 46\u001b[0;31m         \u001b[0msys\u001b[0m\u001b[0;34m.\u001b[0m\u001b[0mstderr\u001b[0m\u001b[0;34m.\u001b[0m\u001b[0mwrite\u001b[0m\u001b[0;34m(\u001b[0m\u001b[0mdetails\u001b[0m\u001b[0;34m)\u001b[0m\u001b[0;34m\u001b[0m\u001b[0m\n\u001b[0m\u001b[1;32m     47\u001b[0m         \u001b[0;32mreturn\u001b[0m\u001b[0;34m\u001b[0m\u001b[0m\n\u001b[1;32m     48\u001b[0m     \u001b[0;32mif\u001b[0m \u001b[0mfilename\u001b[0m\u001b[0;34m.\u001b[0m\u001b[0mendswith\u001b[0m\u001b[0;34m(\u001b[0m\u001b[0;34m'.npy.bz2'\u001b[0m\u001b[0;34m)\u001b[0m\u001b[0;34m:\u001b[0m\u001b[0;34m\u001b[0m\u001b[0m\n",
      "\u001b[0;32m~/anaconda3/lib/python3.6/site-packages/ipykernel/iostream.py\u001b[0m in \u001b[0;36mwrite\u001b[0;34m(self, string)\u001b[0m\n\u001b[1;32m    370\u001b[0m             \u001b[0;31m# Make sure that we're handling unicode\u001b[0m\u001b[0;34m\u001b[0m\u001b[0;34m\u001b[0m\u001b[0m\n\u001b[1;32m    371\u001b[0m             \u001b[0;32mif\u001b[0m \u001b[0;32mnot\u001b[0m \u001b[0misinstance\u001b[0m\u001b[0;34m(\u001b[0m\u001b[0mstring\u001b[0m\u001b[0;34m,\u001b[0m \u001b[0municode_type\u001b[0m\u001b[0;34m)\u001b[0m\u001b[0;34m:\u001b[0m\u001b[0;34m\u001b[0m\u001b[0m\n\u001b[0;32m--> 372\u001b[0;31m                 \u001b[0mstring\u001b[0m \u001b[0;34m=\u001b[0m \u001b[0mstring\u001b[0m\u001b[0;34m.\u001b[0m\u001b[0mdecode\u001b[0m\u001b[0;34m(\u001b[0m\u001b[0mself\u001b[0m\u001b[0;34m.\u001b[0m\u001b[0mencoding\u001b[0m\u001b[0;34m,\u001b[0m \u001b[0;34m'replace'\u001b[0m\u001b[0;34m)\u001b[0m\u001b[0;34m\u001b[0m\u001b[0m\n\u001b[0m\u001b[1;32m    373\u001b[0m \u001b[0;34m\u001b[0m\u001b[0m\n\u001b[1;32m    374\u001b[0m             \u001b[0mis_child\u001b[0m \u001b[0;34m=\u001b[0m \u001b[0;34m(\u001b[0m\u001b[0;32mnot\u001b[0m \u001b[0mself\u001b[0m\u001b[0;34m.\u001b[0m\u001b[0m_is_master_process\u001b[0m\u001b[0;34m(\u001b[0m\u001b[0;34m)\u001b[0m\u001b[0;34m)\u001b[0m\u001b[0;34m\u001b[0m\u001b[0m\n",
      "\u001b[0;31mAttributeError\u001b[0m: 'FileNotFoundError' object has no attribute 'decode'"
     ]
    }
   ],
   "source": [
    "results = cpick.load('../interim/track_uri2track_name.pkl.bz2')"
   ]
  },
  {
   "cell_type": "code",
   "execution_count": 16,
   "metadata": {
    "ExecuteTime": {
     "end_time": "2018-04-28T08:16:59.159574Z",
     "start_time": "2018-04-28T08:16:59.130572Z"
    }
   },
   "outputs": [
    {
     "ename": "KeyError",
     "evalue": "'76XXefqNyRrP3pm3uUckWS'",
     "output_type": "error",
     "traceback": [
      "\u001b[0;31m---------------------------------------------------------------------------\u001b[0m",
      "\u001b[0;31mKeyError\u001b[0m                                  Traceback (most recent call last)",
      "\u001b[0;32m<ipython-input-16-a9e877532455>\u001b[0m in \u001b[0;36m<module>\u001b[0;34m()\u001b[0m\n\u001b[0;32m----> 1\u001b[0;31m \u001b[0mturi2tint\u001b[0m\u001b[0;34m[\u001b[0m\u001b[0;34m'76XXefqNyRrP3pm3uUckWS'\u001b[0m\u001b[0;34m]\u001b[0m\u001b[0;34m\u001b[0m\u001b[0m\n\u001b[0m",
      "\u001b[0;31mKeyError\u001b[0m: '76XXefqNyRrP3pm3uUckWS'"
     ]
    }
   ],
   "source": [
    "turi2tint['76XXefqNyRrP3pm3uUckWS']"
   ]
  },
  {
   "cell_type": "code",
   "execution_count": 17,
   "metadata": {
    "ExecuteTime": {
     "end_time": "2018-04-28T06:02:58.490924Z",
     "start_time": "2018-04-28T06:02:58.243653Z"
    },
    "collapsed": true
   },
   "outputs": [],
   "source": [
    "import compressed_pickle as cpick\n",
    "\n",
    "cpick.save('test',tracks)"
   ]
  },
  {
   "cell_type": "code",
   "execution_count": 19,
   "metadata": {
    "ExecuteTime": {
     "end_time": "2018-04-28T05:27:34.914627Z",
     "start_time": "2018-04-28T05:27:31.590443Z"
    }
   },
   "outputs": [
    {
     "data": {
      "application/vnd.jupyter.widget-view+json": {
       "model_id": "99ac2f2a541846958878b224eb1f629b",
       "version_major": 2,
       "version_minor": 0
      },
      "text/plain": [
       "HBox(children=(IntProgress(value=0, max=6), HTML(value='')))"
      ]
     },
     "metadata": {},
     "output_type": "display_data"
    },
    {
     "name": "stdout",
     "output_type": "stream",
     "text": [
      "\n"
     ]
    }
   ],
   "source": [
    "filenames = os.listdir('.')\n",
    "df = pd.DataFrame()\n",
    "tracks={}\n",
    "def is_dat(x): return x.startswith(\"test_\") and x.endswith(\".csv\")\n",
    "good_files = [f for f in filenames if is_dat(f)]\n",
    "for filename in tqdm(good_files):\n",
    "    a_df = pd.read_csv(filename,compression='bz2')\n",
    "    df\n",
    "    "
   ]
  },
  {
   "cell_type": "markdown",
   "metadata": {
    "ExecuteTime": {
     "end_time": "2018-02-13T08:16:45.719575Z",
     "start_time": "2018-02-13T08:16:45.706188Z"
    }
   },
   "source": [
    "## create random subset of 1% of all playlists"
   ]
  },
  {
   "cell_type": "code",
   "execution_count": 37,
   "metadata": {
    "ExecuteTime": {
     "end_time": "2018-02-13T15:41:57.886468Z",
     "start_time": "2018-02-13T15:41:57.849268Z"
    },
    "collapsed": true
   },
   "outputs": [],
   "source": [
    "from data_utils import process_mpd\n",
    "import random\n",
    "\n",
    "def coinflip(percent=0.001):\n",
    "    return random.uniform(0, 1) < percent\n",
    "\n",
    "def random_subset(playlist,results):\n",
    "    if coinflip(1):\n",
    "        results.append(playlist)\n",
    "    return"
   ]
  },
  {
   "cell_type": "code",
   "execution_count": null,
   "metadata": {
    "ExecuteTime": {
     "start_time": "2018-02-13T15:41:58.449Z"
    }
   },
   "outputs": [
    {
     "name": "stderr",
     "output_type": "stream",
     "text": [
      " 86%|████████▋ | 863/1000 [06:15<00:59,  2.30it/s]"
     ]
    }
   ],
   "source": [
    "results=[]\n",
    "process_mpd(DATA_SRC,random_subset,results)\n",
    "print(len(results))\n",
    "pprint(results[-1])"
   ]
  },
  {
   "cell_type": "code",
   "execution_count": 27,
   "metadata": {
    "ExecuteTime": {
     "end_time": "2018-02-13T15:12:44.002283Z",
     "start_time": "2018-02-13T15:12:42.298441Z"
    },
    "collapsed": true
   },
   "outputs": [],
   "source": [
    "a_dict={\"info\": {\n",
    "        \"generated_on\": \"2017-12-03 08:41:42.057563\", \n",
    "        \"slice\": \"random subset of 0.1% of playlist\", \n",
    "        \"version\": \"v1\"\n",
    "    }, \"playlists\": results}\n",
    "with open('../data/intetim/random_01_percent.json','w') as afile:\n",
    "    afile.write(json.dumps(a_dict, indent=4))"
   ]
  },
  {
   "cell_type": "markdown",
   "metadata": {},
   "source": [
    "# Make dictionaries\n",
    "## Entire dataset"
   ]
  },
  {
   "cell_type": "code",
   "execution_count": null,
   "metadata": {
    "ExecuteTime": {
     "start_time": "2018-04-28T08:19:33.079Z"
    }
   },
   "outputs": [
    {
     "data": {
      "application/vnd.jupyter.widget-view+json": {
       "model_id": "c63456b087984a7aabe8f8b57c2d9f2f",
       "version_major": 2,
       "version_minor": 0
      },
      "text/plain": [
       "HBox(children=(IntProgress(value=0, max=1000), HTML(value='')))"
      ]
     },
     "metadata": {},
     "output_type": "display_data"
    },
    {
     "name": "stdout",
     "output_type": "stream",
     "text": [
      "\n"
     ]
    }
   ],
   "source": [
    "from data_utils import process_mpd, normalize_name\n",
    "\n",
    "# track uri vs track name\n",
    "def track_uri2track_name(playlist,results):\n",
    "    for track in playlist['tracks']:\n",
    "        track_uri=track['track_uri'].replace('spotify:track:','')\n",
    "        results[track_uri]=track['track_name']\n",
    "    return\n",
    "html_header('track_uri2track_name')\n",
    "results={}\n",
    "process_mpd(DATA_SRC,track_uri2track_name,results)\n",
    "cpick.save('../data/interim/track_uri2track_name',results)\n",
    "# track integer vs track uri\n",
    "html_header('track_int2track_uri')\n",
    "tint2turi = {indx:item for indx,item in enumerate(results)}\n",
    "cpick.save('../data/interim/track_int2track_uri.pkl.bz2',tint2turi)\n",
    "html_header('track_uri2track_int')\n",
    "turi2tint = {item:indx for indx,item in enumerate(results.keys())}\n",
    "cpick.save('../data/interim/track_uri2track_int.pkl.bz2',turi2tint)\n",
    "# track uri vs artist\n",
    "def track_uri2artist_uri(playlist,results):\n",
    "    for track in playlist['tracks']:\n",
    "        track_uri=track['track_uri'].replace('spotify:track:','')\n",
    "        artist_uri=track['artist_uri'].replace('spotify:artist:','')\n",
    "        results[track_uri]=artist_uri\n",
    "    return\n",
    "html_header('track_uri2artist_uri')\n",
    "results={}\n",
    "process_mpd(DATA_SRC,track_uri2artist_uri,results)\n",
    "cpick.save('../data/interim/track_uri2artist_uri',results)\n",
    "# artist uri vs artist name\n",
    "def artist_uri2artist_name(playlist,results):\n",
    "    for track in playlist['tracks']:\n",
    "        artist_uri=track['artist_uri'].replace('spotify:artist:','')\n",
    "        results[artist_uri]=track[\"artist_name\"]\n",
    "    return\n",
    "html_header('artist_uri2artist_name')\n",
    "results={}\n",
    "process_mpd(DATA_SRC,artist_uri2artist_name,results)\n",
    "cpick.save('../data/interim/artist_uri2artist_name',results)\n",
    "html_header('artist_name2artist_uri (list)')\n",
    "aname2auri=defaultdict(list)\n",
    "for auri,aname in results.items():\n",
    "    aname2auri[aname].append(auri)\n",
    "cpick.save('../data/interim/artist_name2artist_uri',aname2auri)\n",
    "# artist_uri2track_uri\n",
    "def artist_uri2track_uri(playlist,results):\n",
    "    for track in playlist['tracks']:\n",
    "        track_uri=track['track_uri'].replace('spotify:track:','')\n",
    "        artist_uri=track['artist_uri'].replace('spotify:artist:','')\n",
    "        results[artist_uri].add(track_uri)\n",
    "    return\n",
    "html_header('artist_uri2track_uri')\n",
    "results=defaultdict(set)\n",
    "process_mpd(DATA_SRC,artist_uri2track_uri,results)\n",
    "cpick.save('../data/interim/artist_uri2track_uri',{key:list(val) for key,val in results.items()})\n",
    "# track uri 2 album uri\n",
    "def track_uri2album_uri(playlist,results):\n",
    "    for track in playlist['tracks']:\n",
    "        track_uri=track['track_uri'].replace('spotify:track:','')\n",
    "        album_uri=track['album_uri'].replace('spotify:album:','')\n",
    "        results[track_uri]=album_uri\n",
    "    return\n",
    "html_header('track_uri2album_uri')\n",
    "results={}\n",
    "process_mpd(DATA_SRC,track_uri2album_uri,results)\n",
    "cpick.save('../data/interim/track_uri2album_uri',results)\n",
    "# playlist and track_ints\n",
    "def playlist2track_ints(playlist,results):\n",
    "    pid = playlist['pid']\n",
    "    tracks=[turi2tint[track['track_uri'].replace('spotify:track:','')] for track in playlist['tracks']]\n",
    "    results[pid]=tracks\n",
    "    return\n",
    "html_header('playlist2track_ints')\n",
    "results = [None]*1000000\n",
    "process_mpd(DATA_SRC,playlist2track_ints,results)\n",
    "cpick.save('../data/interim/playlist2track_ints',results)"
   ]
  },
  {
   "cell_type": "markdown",
   "metadata": {},
   "source": [
    "## subset 5k"
   ]
  },
  {
   "cell_type": "code",
   "execution_count": null,
   "metadata": {
    "collapsed": true
   },
   "outputs": [],
   "source": [
    "def make_subset(subset,original,prefix='5k-'):\n",
    "    adir = '/'.join(original.split('/')[:-1])\n",
    "    name = original.split('/')[-1]\n",
    "    data = cpick.load(original)\n",
    "    sub = {i:data[i] for i in subset}\n",
    "    new_file = os.path.join(adir,prefix+name)\n",
    "    cpick.save(new_file,sub)\n",
    "    return"
   ]
  },
  {
   "cell_type": "code",
   "execution_count": null,
   "metadata": {
    "collapsed": true
   },
   "outputs": [],
   "source": [
    "html_header('playlist')\n",
    "pl2tint = cpick.load('../data/interim/playlist2track_ints.pkl.bz2')[:5000]\n",
    "cpick.save('../data/interim/5k-playlist2track_ints',pl2tint)\n",
    "sub_tint = list(set([t for pl in pl2tint for t in pl]))\n",
    "make_subset(sub_tint,'../data/interim/track_int2track_uri.pkl.bz2')"
   ]
  },
  {
   "cell_type": "markdown",
   "metadata": {
    "collapsed": true
   },
   "source": [
    "# Get audio features\n",
    "## setup"
   ]
  },
  {
   "cell_type": "code",
   "execution_count": 3,
   "metadata": {
    "ExecuteTime": {
     "end_time": "2018-05-01T00:26:54.021213Z",
     "start_time": "2018-05-01T00:26:53.932486Z"
    },
    "collapsed": true
   },
   "outputs": [],
   "source": [
    "import spotify\n",
    "import pandas as pd"
   ]
  },
  {
   "cell_type": "markdown",
   "metadata": {},
   "source": [
    "## Read tracks"
   ]
  },
  {
   "cell_type": "code",
   "execution_count": 4,
   "metadata": {
    "ExecuteTime": {
     "end_time": "2018-05-01T00:27:10.622905Z",
     "start_time": "2018-05-01T00:26:57.181487Z"
    }
   },
   "outputs": [
    {
     "name": "stdout",
     "output_type": "stream",
     "text": [
      "2262292\n",
      "(2262292, 3)\n"
     ]
    },
    {
     "data": {
      "text/html": [
       "<div>\n",
       "<style scoped>\n",
       "    .dataframe tbody tr th:only-of-type {\n",
       "        vertical-align: middle;\n",
       "    }\n",
       "\n",
       "    .dataframe tbody tr th {\n",
       "        vertical-align: top;\n",
       "    }\n",
       "\n",
       "    .dataframe thead th {\n",
       "        text-align: right;\n",
       "    }\n",
       "</style>\n",
       "<table border=\"1\" class=\"dataframe\">\n",
       "  <thead>\n",
       "    <tr style=\"text-align: right;\">\n",
       "      <th></th>\n",
       "      <th>track_uri</th>\n",
       "      <th>track_name</th>\n",
       "      <th>artist_uri</th>\n",
       "    </tr>\n",
       "  </thead>\n",
       "  <tbody>\n",
       "    <tr>\n",
       "      <th>0</th>\n",
       "      <td>0UaMYEvWZi0ZqiDOoHU3YI</td>\n",
       "      <td>Lose Control (feat. Ciara &amp; Fat Man Scoop)</td>\n",
       "      <td>2wIVse2owClT7go1WT98tk</td>\n",
       "    </tr>\n",
       "    <tr>\n",
       "      <th>1</th>\n",
       "      <td>6I9VzXrHxO9rA9A5euc8Ak</td>\n",
       "      <td>Toxic</td>\n",
       "      <td>26dSoYclwsYLMAKD3tpOr4</td>\n",
       "    </tr>\n",
       "    <tr>\n",
       "      <th>2</th>\n",
       "      <td>0WqIKmW4BTrj3eJFmnCKMv</td>\n",
       "      <td>Crazy In Love</td>\n",
       "      <td>6vWDO969PvNqNYHIOW5v0m</td>\n",
       "    </tr>\n",
       "    <tr>\n",
       "      <th>3</th>\n",
       "      <td>1AWQoqb9bSvzTjaLralEkT</td>\n",
       "      <td>Rock Your Body</td>\n",
       "      <td>31TPClRtHm23RisEBtV3X7</td>\n",
       "    </tr>\n",
       "    <tr>\n",
       "      <th>4</th>\n",
       "      <td>1lzr43nnXAijIGYnCT8M8H</td>\n",
       "      <td>It Wasn't Me</td>\n",
       "      <td>5EvFsr3kj42KNv97ZEnqij</td>\n",
       "    </tr>\n",
       "  </tbody>\n",
       "</table>\n",
       "</div>"
      ],
      "text/plain": [
       "                track_uri                                  track_name  \\\n",
       "0  0UaMYEvWZi0ZqiDOoHU3YI  Lose Control (feat. Ciara & Fat Man Scoop)   \n",
       "1  6I9VzXrHxO9rA9A5euc8Ak                                       Toxic   \n",
       "2  0WqIKmW4BTrj3eJFmnCKMv                               Crazy In Love   \n",
       "3  1AWQoqb9bSvzTjaLralEkT                              Rock Your Body   \n",
       "4  1lzr43nnXAijIGYnCT8M8H                                It Wasn't Me   \n",
       "\n",
       "               artist_uri  \n",
       "0  2wIVse2owClT7go1WT98tk  \n",
       "1  26dSoYclwsYLMAKD3tpOr4  \n",
       "2  6vWDO969PvNqNYHIOW5v0m  \n",
       "3  31TPClRtHm23RisEBtV3X7  \n",
       "4  5EvFsr3kj42KNv97ZEnqij  "
      ]
     },
     "execution_count": 4,
     "metadata": {},
     "output_type": "execute_result"
    }
   ],
   "source": [
    "turi2tname = cpick.load('../data/interim/track_uri2track_name.pkl.bz2')\n",
    "turi2auri = cpick.load('../data/interim/track_uri2artist_uri.pkl.bz2')\n",
    "print(len(turi2tname))\n",
    "df = pd.DataFrame(list(turi2tname.keys()),columns=['track_uri'])\n",
    "df['track_name'] = df['track_uri'].apply(lambda x: turi2tname[x])\n",
    "df['artist_uri'] = df['track_uri'].apply(lambda x: turi2auri[x])\n",
    "print(df.shape)\n",
    "df.head()"
   ]
  },
  {
   "cell_type": "markdown",
   "metadata": {},
   "source": [
    "### subset"
   ]
  },
  {
   "cell_type": "code",
   "execution_count": 29,
   "metadata": {
    "ExecuteTime": {
     "end_time": "2018-04-29T07:26:54.699355Z",
     "start_time": "2018-04-29T07:26:52.488327Z"
    }
   },
   "outputs": [
    {
     "ename": "KeyboardInterrupt",
     "evalue": "",
     "output_type": "error",
     "traceback": [
      "\u001b[0;31m---------------------------------------------------------------------------\u001b[0m",
      "\u001b[0;31mKeyboardInterrupt\u001b[0m                         Traceback (most recent call last)",
      "\u001b[0;32m<ipython-input-29-61dc039d3ec2>\u001b[0m in \u001b[0;36m<module>\u001b[0;34m()\u001b[0m\n\u001b[1;32m      1\u001b[0m \u001b[0mpl2tint\u001b[0m \u001b[0;34m=\u001b[0m \u001b[0mcpick\u001b[0m\u001b[0;34m.\u001b[0m\u001b[0mload\u001b[0m\u001b[0;34m(\u001b[0m\u001b[0;34m'../data/interim/5k_playlist2track_ints.pkl.bz2'\u001b[0m\u001b[0;34m)\u001b[0m\u001b[0;34m\u001b[0m\u001b[0m\n\u001b[0;32m----> 2\u001b[0;31m \u001b[0mtint2turi\u001b[0m \u001b[0;34m=\u001b[0m \u001b[0mcpick\u001b[0m\u001b[0;34m.\u001b[0m\u001b[0mload\u001b[0m\u001b[0;34m(\u001b[0m\u001b[0;34m'../data/interim/track_int2track_uri.pkl.bz2'\u001b[0m\u001b[0;34m)\u001b[0m\u001b[0;34m\u001b[0m\u001b[0m\n\u001b[0m\u001b[1;32m      3\u001b[0m \u001b[0msub_turi\u001b[0m \u001b[0;34m=\u001b[0m \u001b[0mlist\u001b[0m\u001b[0;34m(\u001b[0m\u001b[0mset\u001b[0m\u001b[0;34m(\u001b[0m\u001b[0;34m[\u001b[0m\u001b[0mtint2turi\u001b[0m\u001b[0;34m[\u001b[0m\u001b[0mt\u001b[0m\u001b[0;34m]\u001b[0m \u001b[0;32mfor\u001b[0m \u001b[0mpl\u001b[0m \u001b[0;32min\u001b[0m \u001b[0mpl2tint\u001b[0m \u001b[0;32mfor\u001b[0m \u001b[0mt\u001b[0m \u001b[0;32min\u001b[0m \u001b[0mpl\u001b[0m\u001b[0;34m]\u001b[0m\u001b[0;34m)\u001b[0m\u001b[0;34m)\u001b[0m\u001b[0;34m\u001b[0m\u001b[0m\n\u001b[1;32m      4\u001b[0m \u001b[0mdf\u001b[0m \u001b[0;34m=\u001b[0m \u001b[0mdf\u001b[0m\u001b[0;34m[\u001b[0m\u001b[0mdf\u001b[0m\u001b[0;34m[\u001b[0m\u001b[0;34m'track_uri'\u001b[0m\u001b[0;34m]\u001b[0m\u001b[0;34m.\u001b[0m\u001b[0misin\u001b[0m\u001b[0;34m(\u001b[0m\u001b[0msub_turi\u001b[0m\u001b[0;34m)\u001b[0m\u001b[0;34m]\u001b[0m\u001b[0;34m\u001b[0m\u001b[0m\n\u001b[1;32m      5\u001b[0m \u001b[0mprint\u001b[0m\u001b[0;34m(\u001b[0m\u001b[0mdf\u001b[0m\u001b[0;34m.\u001b[0m\u001b[0mshape\u001b[0m\u001b[0;34m)\u001b[0m\u001b[0;34m\u001b[0m\u001b[0m\n",
      "\u001b[0;32m~/projects/Spotify/src/data/compressed_pickle.py\u001b[0m in \u001b[0;36mload\u001b[0;34m(filename)\u001b[0m\n\u001b[1;32m     49\u001b[0m         \u001b[0mmyobj\u001b[0m \u001b[0;34m=\u001b[0m \u001b[0mnp\u001b[0m\u001b[0;34m.\u001b[0m\u001b[0mload\u001b[0m\u001b[0;34m(\u001b[0m\u001b[0mf\u001b[0m\u001b[0;34m)\u001b[0m\u001b[0;34m\u001b[0m\u001b[0m\n\u001b[1;32m     50\u001b[0m     \u001b[0;32melif\u001b[0m \u001b[0mfilename\u001b[0m\u001b[0;34m.\u001b[0m\u001b[0mendswith\u001b[0m\u001b[0;34m(\u001b[0m\u001b[0;34m'.pkl.bz2'\u001b[0m\u001b[0;34m)\u001b[0m\u001b[0;34m:\u001b[0m\u001b[0;34m\u001b[0m\u001b[0m\n\u001b[0;32m---> 51\u001b[0;31m         \u001b[0mmyobj\u001b[0m \u001b[0;34m=\u001b[0m \u001b[0mpickle\u001b[0m\u001b[0;34m.\u001b[0m\u001b[0mload\u001b[0m\u001b[0;34m(\u001b[0m\u001b[0mf\u001b[0m\u001b[0;34m)\u001b[0m\u001b[0;34m\u001b[0m\u001b[0m\n\u001b[0m\u001b[1;32m     52\u001b[0m     \u001b[0;32melse\u001b[0m\u001b[0;34m:\u001b[0m\u001b[0;34m\u001b[0m\u001b[0m\n\u001b[1;32m     53\u001b[0m         \u001b[0;32mraise\u001b[0m \u001b[0mValueError\u001b[0m\u001b[0;34m(\u001b[0m\u001b[0;34m'Does not recognize extension'\u001b[0m\u001b[0;34m)\u001b[0m\u001b[0;34m\u001b[0m\u001b[0m\n",
      "\u001b[0;32m~/anaconda3/lib/python3.6/bz2.py\u001b[0m in \u001b[0;36mread\u001b[0;34m(self, size)\u001b[0m\n\u001b[1;32m    180\u001b[0m         \u001b[0;32mwith\u001b[0m \u001b[0mself\u001b[0m\u001b[0;34m.\u001b[0m\u001b[0m_lock\u001b[0m\u001b[0;34m:\u001b[0m\u001b[0;34m\u001b[0m\u001b[0m\n\u001b[1;32m    181\u001b[0m             \u001b[0mself\u001b[0m\u001b[0;34m.\u001b[0m\u001b[0m_check_can_read\u001b[0m\u001b[0;34m(\u001b[0m\u001b[0;34m)\u001b[0m\u001b[0;34m\u001b[0m\u001b[0m\n\u001b[0;32m--> 182\u001b[0;31m             \u001b[0;32mreturn\u001b[0m \u001b[0mself\u001b[0m\u001b[0;34m.\u001b[0m\u001b[0m_buffer\u001b[0m\u001b[0;34m.\u001b[0m\u001b[0mread\u001b[0m\u001b[0;34m(\u001b[0m\u001b[0msize\u001b[0m\u001b[0;34m)\u001b[0m\u001b[0;34m\u001b[0m\u001b[0m\n\u001b[0m\u001b[1;32m    183\u001b[0m \u001b[0;34m\u001b[0m\u001b[0m\n\u001b[1;32m    184\u001b[0m     \u001b[0;32mdef\u001b[0m \u001b[0mread1\u001b[0m\u001b[0;34m(\u001b[0m\u001b[0mself\u001b[0m\u001b[0;34m,\u001b[0m \u001b[0msize\u001b[0m\u001b[0;34m=\u001b[0m\u001b[0;34m-\u001b[0m\u001b[0;36m1\u001b[0m\u001b[0;34m)\u001b[0m\u001b[0;34m:\u001b[0m\u001b[0;34m\u001b[0m\u001b[0m\n",
      "\u001b[0;32m~/anaconda3/lib/python3.6/_compression.py\u001b[0m in \u001b[0;36mreadinto\u001b[0;34m(self, b)\u001b[0m\n\u001b[1;32m     66\u001b[0m     \u001b[0;32mdef\u001b[0m \u001b[0mreadinto\u001b[0m\u001b[0;34m(\u001b[0m\u001b[0mself\u001b[0m\u001b[0;34m,\u001b[0m \u001b[0mb\u001b[0m\u001b[0;34m)\u001b[0m\u001b[0;34m:\u001b[0m\u001b[0;34m\u001b[0m\u001b[0m\n\u001b[1;32m     67\u001b[0m         \u001b[0;32mwith\u001b[0m \u001b[0mmemoryview\u001b[0m\u001b[0;34m(\u001b[0m\u001b[0mb\u001b[0m\u001b[0;34m)\u001b[0m \u001b[0;32mas\u001b[0m \u001b[0mview\u001b[0m\u001b[0;34m,\u001b[0m \u001b[0mview\u001b[0m\u001b[0;34m.\u001b[0m\u001b[0mcast\u001b[0m\u001b[0;34m(\u001b[0m\u001b[0;34m\"B\"\u001b[0m\u001b[0;34m)\u001b[0m \u001b[0;32mas\u001b[0m \u001b[0mbyte_view\u001b[0m\u001b[0;34m:\u001b[0m\u001b[0;34m\u001b[0m\u001b[0m\n\u001b[0;32m---> 68\u001b[0;31m             \u001b[0mdata\u001b[0m \u001b[0;34m=\u001b[0m \u001b[0mself\u001b[0m\u001b[0;34m.\u001b[0m\u001b[0mread\u001b[0m\u001b[0;34m(\u001b[0m\u001b[0mlen\u001b[0m\u001b[0;34m(\u001b[0m\u001b[0mbyte_view\u001b[0m\u001b[0;34m)\u001b[0m\u001b[0;34m)\u001b[0m\u001b[0;34m\u001b[0m\u001b[0m\n\u001b[0m\u001b[1;32m     69\u001b[0m             \u001b[0mbyte_view\u001b[0m\u001b[0;34m[\u001b[0m\u001b[0;34m:\u001b[0m\u001b[0mlen\u001b[0m\u001b[0;34m(\u001b[0m\u001b[0mdata\u001b[0m\u001b[0;34m)\u001b[0m\u001b[0;34m]\u001b[0m \u001b[0;34m=\u001b[0m \u001b[0mdata\u001b[0m\u001b[0;34m\u001b[0m\u001b[0m\n\u001b[1;32m     70\u001b[0m         \u001b[0;32mreturn\u001b[0m \u001b[0mlen\u001b[0m\u001b[0;34m(\u001b[0m\u001b[0mdata\u001b[0m\u001b[0;34m)\u001b[0m\u001b[0;34m\u001b[0m\u001b[0m\n",
      "\u001b[0;32m~/anaconda3/lib/python3.6/_compression.py\u001b[0m in \u001b[0;36mread\u001b[0;34m(self, size)\u001b[0m\n\u001b[1;32m    101\u001b[0m                 \u001b[0;32melse\u001b[0m\u001b[0;34m:\u001b[0m\u001b[0;34m\u001b[0m\u001b[0m\n\u001b[1;32m    102\u001b[0m                     \u001b[0mrawblock\u001b[0m \u001b[0;34m=\u001b[0m \u001b[0;34mb\"\"\u001b[0m\u001b[0;34m\u001b[0m\u001b[0m\n\u001b[0;32m--> 103\u001b[0;31m                 \u001b[0mdata\u001b[0m \u001b[0;34m=\u001b[0m \u001b[0mself\u001b[0m\u001b[0;34m.\u001b[0m\u001b[0m_decompressor\u001b[0m\u001b[0;34m.\u001b[0m\u001b[0mdecompress\u001b[0m\u001b[0;34m(\u001b[0m\u001b[0mrawblock\u001b[0m\u001b[0;34m,\u001b[0m \u001b[0msize\u001b[0m\u001b[0;34m)\u001b[0m\u001b[0;34m\u001b[0m\u001b[0m\n\u001b[0m\u001b[1;32m    104\u001b[0m             \u001b[0;32mif\u001b[0m \u001b[0mdata\u001b[0m\u001b[0;34m:\u001b[0m\u001b[0;34m\u001b[0m\u001b[0m\n\u001b[1;32m    105\u001b[0m                 \u001b[0;32mbreak\u001b[0m\u001b[0;34m\u001b[0m\u001b[0m\n",
      "\u001b[0;31mKeyboardInterrupt\u001b[0m: "
     ]
    }
   ],
   "source": [
    "pl2tint = cpick.load('../data/interim/5k_playlist2track_ints.pkl.bz2')\n",
    "tint2turi = cpick.load('../data/interim/track_int2track_uri.pkl.bz2')\n",
    "sub_turi = list(set([tint2turi[t] for pl in pl2tint for t in pl]))\n",
    "df = df[df['track_uri'].isin(sub_turi)]\n",
    "print(df.shape)\n",
    "df.head()"
   ]
  },
  {
   "cell_type": "markdown",
   "metadata": {},
   "source": [
    "## spotify-web api"
   ]
  },
  {
   "cell_type": "markdown",
   "metadata": {},
   "source": [
    "### Audio features"
   ]
  },
  {
   "cell_type": "code",
   "execution_count": 29,
   "metadata": {
    "ExecuteTime": {
     "end_time": "2018-05-01T02:42:59.343474Z",
     "start_time": "2018-05-01T02:42:59.323824Z"
    },
    "collapsed": true
   },
   "outputs": [],
   "source": [
    "interest=['acousticness','danceability','duration_ms','energy',\n",
    "          'liveness','loudness','speechiness','tempo','valence']\n",
    "def get_audio_features(indx,chunk,sp,results):\n",
    "    tids = chunk['track_uri'].tolist()\n",
    "    afeatures = sp.audio_features(tids)\n",
    "    spotify.replace_none(afeatures)\n",
    "    a_df = pd.DataFrame(afeatures)[interest]\n",
    "    a_df['track_uri']=tids\n",
    "    results = results.append(a_df,ignore_index=True)\n",
    "    if indx%1000 == 0:\n",
    "        cpick.save('audio_features',results)\n",
    "        \n",
    "    return results"
   ]
  },
  {
   "cell_type": "code",
   "execution_count": 40,
   "metadata": {
    "ExecuteTime": {
     "end_time": "2018-05-01T18:01:08.952116Z",
     "start_time": "2018-05-01T17:08:10.540362Z"
    },
    "scrolled": true
   },
   "outputs": [
    {
     "data": {
      "application/vnd.jupyter.widget-view+json": {
       "model_id": "75c3189159e147b98b36a0d9890f2537",
       "version_major": 2,
       "version_minor": 0
      },
      "text/html": [
       "<p>Failed to display Jupyter Widget of type <code>HBox</code>.</p>\n",
       "<p>\n",
       "  If you're reading this message in the Jupyter Notebook or JupyterLab Notebook, it may mean\n",
       "  that the widgets JavaScript is still loading. If this message persists, it\n",
       "  likely means that the widgets JavaScript library is either not installed or\n",
       "  not enabled. See the <a href=\"https://ipywidgets.readthedocs.io/en/stable/user_install.html\">Jupyter\n",
       "  Widgets Documentation</a> for setup instructions.\n",
       "</p>\n",
       "<p>\n",
       "  If you're reading this message in another frontend (for example, a static\n",
       "  rendering on GitHub or <a href=\"https://nbviewer.jupyter.org/\">NBViewer</a>),\n",
       "  it may mean that your frontend doesn't currently support widgets.\n",
       "</p>\n"
      ],
      "text/plain": [
       "HBox(children=(IntProgress(value=0, max=5622), HTML(value='')))"
      ]
     },
     "metadata": {},
     "output_type": "display_data"
    },
    {
     "name": "stdout",
     "output_type": "stream",
     "text": [
      "Saving to audio_features.pkl.bz2\n",
      "\n"
     ]
    },
    {
     "name": "stderr",
     "output_type": "stream",
     "text": [
      "Exception in thread Thread-11:\n",
      "Traceback (most recent call last):\n",
      "  File \"/home/beangoben/anaconda3/lib/python3.6/threading.py\", line 916, in _bootstrap_inner\n",
      "    self.run()\n",
      "  File \"/home/beangoben/anaconda3/lib/python3.6/site-packages/tqdm/_tqdm.py\", line 144, in run\n",
      "    for instance in self.tqdm_cls._instances:\n",
      "  File \"/home/beangoben/anaconda3/lib/python3.6/_weakrefset.py\", line 60, in __iter__\n",
      "    for itemref in self.data:\n",
      "RuntimeError: Set changed size during iteration\n",
      "\n"
     ]
    },
    {
     "name": "stdout",
     "output_type": "stream",
     "text": [
      "Saving to audio_features.pkl.bz2\n",
      "retrying ...1secs\n",
      "Saving to audio_features.pkl.bz2\n",
      "Saving to audio_features.pkl.bz2\n",
      "Saving to audio_features.pkl.bz2\n",
      "Saving to audio_features.pkl.bz2\n",
      "\n",
      "Saving to audio_features.pkl.bz2\n",
      "(2262592, 10)\n"
     ]
    },
    {
     "data": {
      "text/html": [
       "<div>\n",
       "<style scoped>\n",
       "    .dataframe tbody tr th:only-of-type {\n",
       "        vertical-align: middle;\n",
       "    }\n",
       "\n",
       "    .dataframe tbody tr th {\n",
       "        vertical-align: top;\n",
       "    }\n",
       "\n",
       "    .dataframe thead th {\n",
       "        text-align: right;\n",
       "    }\n",
       "</style>\n",
       "<table border=\"1\" class=\"dataframe\">\n",
       "  <thead>\n",
       "    <tr style=\"text-align: right;\">\n",
       "      <th></th>\n",
       "      <th>acousticness</th>\n",
       "      <th>danceability</th>\n",
       "      <th>duration_ms</th>\n",
       "      <th>energy</th>\n",
       "      <th>liveness</th>\n",
       "      <th>loudness</th>\n",
       "      <th>speechiness</th>\n",
       "      <th>tempo</th>\n",
       "      <th>valence</th>\n",
       "      <th>track_uri</th>\n",
       "    </tr>\n",
       "  </thead>\n",
       "  <tbody>\n",
       "    <tr>\n",
       "      <th>0</th>\n",
       "      <td>0.0311</td>\n",
       "      <td>0.904</td>\n",
       "      <td>226864.0</td>\n",
       "      <td>0.813</td>\n",
       "      <td>0.0471</td>\n",
       "      <td>-7.105</td>\n",
       "      <td>0.121</td>\n",
       "      <td>125.461</td>\n",
       "      <td>0.81</td>\n",
       "      <td>0UaMYEvWZi0ZqiDOoHU3YI</td>\n",
       "    </tr>\n",
       "  </tbody>\n",
       "</table>\n",
       "</div>"
      ],
      "text/plain": [
       "   acousticness  danceability  duration_ms  energy  liveness  loudness  \\\n",
       "0        0.0311         0.904     226864.0   0.813    0.0471    -7.105   \n",
       "\n",
       "   speechiness    tempo  valence               track_uri  \n",
       "0        0.121  125.461     0.81  0UaMYEvWZi0ZqiDOoHU3YI  "
      ]
     },
     "execution_count": 40,
     "metadata": {},
     "output_type": "execute_result"
    }
   ],
   "source": [
    "results = pd.DataFrame()\n",
    "results = spotify.df_chunk_apply(df, 100, get_audio_features,results,start=1700100)\n",
    "results = results.set_index('track_uri')\n",
    "cpick.save('audio_features',results)\n",
    "print(results.shape)\n",
    "results.head(1)"
   ]
  },
  {
   "cell_type": "markdown",
   "metadata": {},
   "source": [
    "### Popularity"
   ]
  },
  {
   "cell_type": "code",
   "execution_count": null,
   "metadata": {
    "ExecuteTime": {
     "end_time": "2018-04-29T10:38:22.210788Z",
     "start_time": "2018-04-29T07:41:38.566Z"
    },
    "collapsed": true
   },
   "outputs": [],
   "source": [
    "def get_popularity(indx,chunk,sp,results):\n",
    "    tids = chunk['track_uri'].tolist()\n",
    "    tracks = sp.tracks(tids)\n",
    "    data = tracks['tracks']\n",
    "    spotify.replace_none(data)  \n",
    "    #pop =[{'popularity':t['popularity'],'track_uri':t['id']} if t is not None else {'popularity':np.nan,'track_uri':t['id']} for t in tracks['tracks']]\n",
    "    a_df = pd.DataFrame(data)[['popularity']]\n",
    "    a_df['track_uri']=tids\n",
    "    results = results.append(a_df,ignore_index=True)\n",
    "    if indx%1000 == 0:\n",
    "        cpick.save('5k-popularity',results)\n",
    "    return results"
   ]
  },
  {
   "cell_type": "code",
   "execution_count": null,
   "metadata": {
    "ExecuteTime": {
     "end_time": "2018-04-29T10:38:22.212813Z",
     "start_time": "2018-04-29T07:41:39.131Z"
    },
    "collapsed": true,
    "scrolled": false
   },
   "outputs": [],
   "source": [
    "#results = pd.DataFrame()\n",
    "results = spotify.df_chunk_apply(df, 50, get_popularity,results)\n",
    "results = results.set_index('track_uri')\n",
    "cpick.save('5k-popularity',results)\n",
    "print(results.shape)\n",
    "results.head(1)"
   ]
  },
  {
   "cell_type": "markdown",
   "metadata": {},
   "source": [
    "### Genres"
   ]
  },
  {
   "cell_type": "code",
   "execution_count": 18,
   "metadata": {
    "ExecuteTime": {
     "end_time": "2018-05-01T00:31:39.337042Z",
     "start_time": "2018-05-01T00:31:39.316680Z"
    }
   },
   "outputs": [],
   "source": [
    "def get_artist_genres(indx,chunk,sp,results):\n",
    "    auris = chunk['artist_uri'].apply(lambda x: x).tolist()\n",
    "    arts = sp.artists(auris)\n",
    "    data = arts['artists']\n",
    "    for auri,datum in zip(auris,data):\n",
    "        if datum is None:\n",
    "            results[auri]=[]\n",
    "        else:\n",
    "            results[auri]=datum['genres']\n",
    "\n",
    "    if indx%1000 == 0:\n",
    "        cpick.save('genres',results)\n",
    "    return results"
   ]
  },
  {
   "cell_type": "code",
   "execution_count": 22,
   "metadata": {
    "ExecuteTime": {
     "end_time": "2018-05-01T02:40:23.804635Z",
     "start_time": "2018-05-01T00:32:32.126878Z"
    }
   },
   "outputs": [
    {
     "data": {
      "application/vnd.jupyter.widget-view+json": {
       "model_id": "894f4241d24c46448cfc1ca7ec2418b5",
       "version_major": 2,
       "version_minor": 0
      },
      "text/html": [
       "<p>Failed to display Jupyter Widget of type <code>HBox</code>.</p>\n",
       "<p>\n",
       "  If you're reading this message in the Jupyter Notebook or JupyterLab Notebook, it may mean\n",
       "  that the widgets JavaScript is still loading. If this message persists, it\n",
       "  likely means that the widgets JavaScript library is either not installed or\n",
       "  not enabled. See the <a href=\"https://ipywidgets.readthedocs.io/en/stable/user_install.html\">Jupyter\n",
       "  Widgets Documentation</a> for setup instructions.\n",
       "</p>\n",
       "<p>\n",
       "  If you're reading this message in another frontend (for example, a static\n",
       "  rendering on GitHub or <a href=\"https://nbviewer.jupyter.org/\">NBViewer</a>),\n",
       "  it may mean that your frontend doesn't currently support widgets.\n",
       "</p>\n"
      ],
      "text/plain": [
       "HBox(children=(IntProgress(value=0, max=40818), HTML(value='')))"
      ]
     },
     "metadata": {},
     "output_type": "display_data"
    },
    {
     "name": "stdout",
     "output_type": "stream",
     "text": [
      "Saving to genres.pkl.bz2\n",
      "\n"
     ]
    },
    {
     "name": "stderr",
     "output_type": "stream",
     "text": [
      "Exception in thread Thread-7:\n",
      "Traceback (most recent call last):\n",
      "  File \"/home/beangoben/anaconda3/lib/python3.6/threading.py\", line 916, in _bootstrap_inner\n",
      "    self.run()\n",
      "  File \"/home/beangoben/anaconda3/lib/python3.6/site-packages/tqdm/_tqdm.py\", line 144, in run\n",
      "    for instance in self.tqdm_cls._instances:\n",
      "  File \"/home/beangoben/anaconda3/lib/python3.6/_weakrefset.py\", line 60, in __iter__\n",
      "    for itemref in self.data:\n",
      "RuntimeError: Set changed size during iteration\n",
      "\n"
     ]
    },
    {
     "name": "stdout",
     "output_type": "stream",
     "text": [
      "Saving to genres.pkl.bz2\n",
      "Saving to genres.pkl.bz2\n",
      "Saving to genres.pkl.bz2\n",
      "Saving to genres.pkl.bz2\n",
      "Saving to genres.pkl.bz2\n",
      "Saving to genres.pkl.bz2\n",
      "Saving to genres.pkl.bz2\n",
      "Saving to genres.pkl.bz2\n",
      "Saving to genres.pkl.bz2\n",
      "Saving to genres.pkl.bz2\n",
      "Saving to genres.pkl.bz2\n",
      "Saving to genres.pkl.bz2\n",
      "Saving to genres.pkl.bz2\n",
      "Saving to genres.pkl.bz2\n",
      "Saving to genres.pkl.bz2\n",
      "Saving to genres.pkl.bz2\n",
      "Saving to genres.pkl.bz2\n",
      "Saving to genres.pkl.bz2\n",
      "Saving to genres.pkl.bz2\n",
      "Saving to genres.pkl.bz2\n",
      "Saving to genres.pkl.bz2\n",
      "Saving to genres.pkl.bz2\n",
      "Saving to genres.pkl.bz2\n",
      "Saving to genres.pkl.bz2\n",
      "Saving to genres.pkl.bz2\n",
      "Saving to genres.pkl.bz2\n",
      "Saving to genres.pkl.bz2\n",
      "Saving to genres.pkl.bz2\n",
      "Saving to genres.pkl.bz2\n",
      "Saving to genres.pkl.bz2\n",
      "Saving to genres.pkl.bz2\n",
      "Saving to genres.pkl.bz2\n",
      "Saving to genres.pkl.bz2\n",
      "Saving to genres.pkl.bz2\n",
      "Saving to genres.pkl.bz2\n",
      "Saving to genres.pkl.bz2\n",
      "Saving to genres.pkl.bz2\n",
      "Saving to genres.pkl.bz2\n",
      "Saving to genres.pkl.bz2\n",
      "Saving to genres.pkl.bz2\n",
      "\n",
      "Saving to genres.pkl.bz2\n"
     ]
    },
    {
     "ename": "AttributeError",
     "evalue": "'dict' object has no attribute 'shape'",
     "output_type": "error",
     "traceback": [
      "\u001b[0;31m---------------------------------------------------------------------------\u001b[0m",
      "\u001b[0;31mAttributeError\u001b[0m                            Traceback (most recent call last)",
      "\u001b[0;32m<ipython-input-22-6e0c9192ce6e>\u001b[0m in \u001b[0;36m<module>\u001b[0;34m()\u001b[0m\n\u001b[1;32m      2\u001b[0m \u001b[0mresults\u001b[0m \u001b[0;34m=\u001b[0m \u001b[0mspotify\u001b[0m\u001b[0;34m.\u001b[0m\u001b[0mdf_chunk_apply\u001b[0m\u001b[0;34m(\u001b[0m\u001b[0mdf\u001b[0m\u001b[0;34m,\u001b[0m \u001b[0;36m50\u001b[0m\u001b[0;34m,\u001b[0m \u001b[0mget_artist_genres\u001b[0m\u001b[0;34m,\u001b[0m\u001b[0mresults\u001b[0m\u001b[0;34m,\u001b[0m\u001b[0mstart\u001b[0m\u001b[0;34m=\u001b[0m\u001b[0;36m221400\u001b[0m\u001b[0;34m)\u001b[0m\u001b[0;34m\u001b[0m\u001b[0m\n\u001b[1;32m      3\u001b[0m \u001b[0mcpick\u001b[0m\u001b[0;34m.\u001b[0m\u001b[0msave\u001b[0m\u001b[0;34m(\u001b[0m\u001b[0;34m'genres'\u001b[0m\u001b[0;34m,\u001b[0m\u001b[0mresults\u001b[0m\u001b[0;34m)\u001b[0m\u001b[0;34m\u001b[0m\u001b[0m\n\u001b[0;32m----> 4\u001b[0;31m \u001b[0mprint\u001b[0m\u001b[0;34m(\u001b[0m\u001b[0mresults\u001b[0m\u001b[0;34m.\u001b[0m\u001b[0mshape\u001b[0m\u001b[0;34m)\u001b[0m\u001b[0;34m\u001b[0m\u001b[0m\n\u001b[0m\u001b[1;32m      5\u001b[0m \u001b[0mresults\u001b[0m\u001b[0;34m.\u001b[0m\u001b[0mhead\u001b[0m\u001b[0;34m(\u001b[0m\u001b[0;36m1\u001b[0m\u001b[0;34m)\u001b[0m\u001b[0;34m\u001b[0m\u001b[0m\n",
      "\u001b[0;31mAttributeError\u001b[0m: 'dict' object has no attribute 'shape'"
     ]
    }
   ],
   "source": [
    "#results = {}\n",
    "results = spotify.df_chunk_apply(df, 50, get_artist_genres,results,start=221400)\n",
    "cpick.save('genres',results)\n",
    "print(results.shape)\n",
    "results.head(1)"
   ]
  },
  {
   "cell_type": "code",
   "execution_count": null,
   "metadata": {
    "collapsed": true
   },
   "outputs": [],
   "source": [
    "def get_artist(indx,chunk,sp):\n",
    "    tids = chunk['uri'].apply(lambda x: x.replace('spotify:track:','')).tolist()\n",
    "    tracks = sp.tracks(tids)    \n",
    "    arts =[{'artist_uri':t['artists'][0]['uri']} if t is not None else {'artist_uri':None}  for t in tracks['tracks']]\n",
    "    return arts\n"
   ]
  },
  {
   "cell_type": "code",
   "execution_count": 132,
   "metadata": {
    "ExecuteTime": {
     "end_time": "2018-03-05T01:17:24.383914Z",
     "start_time": "2018-03-05T01:17:24.330106Z"
    }
   },
   "outputs": [
    {
     "data": {
      "text/plain": [
       "20622     https://api.spotify.com/v1/tracks/656TZlNdVe90...\n",
       "28830     https://api.spotify.com/v1/tracks/5GiU7GOYjDH2...\n",
       "36627     https://api.spotify.com/v1/tracks/2ZF3gpgGPjOf...\n",
       "45507     https://api.spotify.com/v1/tracks/2odGdanrUsgu...\n",
       "64596     https://api.spotify.com/v1/tracks/6tf7ENqpF89X...\n",
       "78710     https://api.spotify.com/v1/tracks/0fJ6UuZ7onqc...\n",
       "79513     https://api.spotify.com/v1/tracks/0Jb7g80rInlj...\n",
       "95918     https://api.spotify.com/v1/tracks/1HubPEsZLy8R...\n",
       "102653    https://api.spotify.com/v1/tracks/6CNzVurjdLR4...\n",
       "Name: track_href, dtype: object"
      ]
     },
     "metadata": {},
     "output_type": "display_data"
    },
    {
     "data": {
      "text/html": [
       "<div>\n",
       "<style scoped>\n",
       "    .dataframe tbody tr th:only-of-type {\n",
       "        vertical-align: middle;\n",
       "    }\n",
       "\n",
       "    .dataframe tbody tr th {\n",
       "        vertical-align: top;\n",
       "    }\n",
       "\n",
       "    .dataframe thead th {\n",
       "        text-align: right;\n",
       "    }\n",
       "</style>\n",
       "<table border=\"1\" class=\"dataframe\">\n",
       "  <thead>\n",
       "    <tr style=\"text-align: right;\">\n",
       "      <th></th>\n",
       "      <th>artist</th>\n",
       "      <th>pid</th>\n",
       "      <th>title</th>\n",
       "      <th>uri</th>\n",
       "      <th>csv_id</th>\n",
       "      <th>artist_uri</th>\n",
       "    </tr>\n",
       "  </thead>\n",
       "  <tbody>\n",
       "    <tr>\n",
       "      <th>20622</th>\n",
       "      <td>son palenque</td>\n",
       "      <td>497</td>\n",
       "      <td>palenque palenque</td>\n",
       "      <td>spotify:track:656TZlNdVe90zHvmebFt9U</td>\n",
       "      <td>20622</td>\n",
       "      <td>NaN</td>\n",
       "    </tr>\n",
       "    <tr>\n",
       "      <th>28830</th>\n",
       "      <td>coldplay</td>\n",
       "      <td>782</td>\n",
       "      <td>adventure of a lifetime</td>\n",
       "      <td>spotify:track:5GiU7GOYjDH2yp7fMf9w9j</td>\n",
       "      <td>28830</td>\n",
       "      <td>NaN</td>\n",
       "    </tr>\n",
       "    <tr>\n",
       "      <th>36627</th>\n",
       "      <td>bing crosby</td>\n",
       "      <td>1065</td>\n",
       "      <td>white christmas</td>\n",
       "      <td>spotify:track:2ZF3gpgGPjOfi1yTWGX6Bm</td>\n",
       "      <td>36627</td>\n",
       "      <td>NaN</td>\n",
       "    </tr>\n",
       "    <tr>\n",
       "      <th>45507</th>\n",
       "      <td>dionne warwick</td>\n",
       "      <td>1425</td>\n",
       "      <td>walk on by - live</td>\n",
       "      <td>spotify:track:2odGdanrUsgu0d2i2Q5XoT</td>\n",
       "      <td>45507</td>\n",
       "      <td>NaN</td>\n",
       "    </tr>\n",
       "    <tr>\n",
       "      <th>64596</th>\n",
       "      <td>thomas newson</td>\n",
       "      <td>2331</td>\n",
       "      <td>wildfire - radio edit</td>\n",
       "      <td>spotify:track:6tf7ENqpF89Xox3xyNPGMv</td>\n",
       "      <td>64596</td>\n",
       "      <td>NaN</td>\n",
       "    </tr>\n",
       "    <tr>\n",
       "      <th>78710</th>\n",
       "      <td>alex aiono</td>\n",
       "      <td>3114</td>\n",
       "      <td>i hate you i love</td>\n",
       "      <td>spotify:track:0fJ6UuZ7onqcldGr8HT5QV</td>\n",
       "      <td>78710</td>\n",
       "      <td>NaN</td>\n",
       "    </tr>\n",
       "    <tr>\n",
       "      <th>79513</th>\n",
       "      <td>marvin gaye</td>\n",
       "      <td>3158</td>\n",
       "      <td>third world girl</td>\n",
       "      <td>spotify:track:0Jb7g80rInlj3fa6W65Bp2</td>\n",
       "      <td>79513</td>\n",
       "      <td>NaN</td>\n",
       "    </tr>\n",
       "    <tr>\n",
       "      <th>95918</th>\n",
       "      <td>mat joe</td>\n",
       "      <td>4140</td>\n",
       "      <td>make a living</td>\n",
       "      <td>spotify:track:1HubPEsZLy8R1HuCzMNBCd</td>\n",
       "      <td>95918</td>\n",
       "      <td>NaN</td>\n",
       "    </tr>\n",
       "    <tr>\n",
       "      <th>102653</th>\n",
       "      <td>jake spooner</td>\n",
       "      <td>4567</td>\n",
       "      <td>rivals</td>\n",
       "      <td>spotify:track:6CNzVurjdLR4seIfAsRxai</td>\n",
       "      <td>102653</td>\n",
       "      <td>NaN</td>\n",
       "    </tr>\n",
       "  </tbody>\n",
       "</table>\n",
       "</div>"
      ],
      "text/plain": [
       "                artist   pid                    title  \\\n",
       "20622     son palenque   497        palenque palenque   \n",
       "28830         coldplay   782  adventure of a lifetime   \n",
       "36627      bing crosby  1065          white christmas   \n",
       "45507   dionne warwick  1425        walk on by - live   \n",
       "64596    thomas newson  2331    wildfire - radio edit   \n",
       "78710       alex aiono  3114        i hate you i love   \n",
       "79513      marvin gaye  3158         third world girl   \n",
       "95918          mat joe  4140            make a living   \n",
       "102653    jake spooner  4567                   rivals   \n",
       "\n",
       "                                         uri  csv_id artist_uri  \n",
       "20622   spotify:track:656TZlNdVe90zHvmebFt9U   20622        NaN  \n",
       "28830   spotify:track:5GiU7GOYjDH2yp7fMf9w9j   28830        NaN  \n",
       "36627   spotify:track:2ZF3gpgGPjOfi1yTWGX6Bm   36627        NaN  \n",
       "45507   spotify:track:2odGdanrUsgu0d2i2Q5XoT   45507        NaN  \n",
       "64596   spotify:track:6tf7ENqpF89Xox3xyNPGMv   64596        NaN  \n",
       "78710   spotify:track:0fJ6UuZ7onqcldGr8HT5QV   78710        NaN  \n",
       "79513   spotify:track:0Jb7g80rInlj3fa6W65Bp2   79513        NaN  \n",
       "95918   spotify:track:1HubPEsZLy8R1HuCzMNBCd   95918        NaN  \n",
       "102653  spotify:track:6CNzVurjdLR4seIfAsRxai  102653        NaN  "
      ]
     },
     "metadata": {},
     "output_type": "display_data"
    }
   ],
   "source": [
    "display(af_df.loc[a_df[pd.isnull(a_df['artist_uri'])].index]['track_href'])\n",
    "display(df.loc[a_df[pd.isnull(a_df['artist_uri'])].index])"
   ]
  },
  {
   "cell_type": "code",
   "execution_count": 219,
   "metadata": {
    "ExecuteTime": {
     "end_time": "2018-03-05T02:22:03.440351Z",
     "start_time": "2018-03-05T02:22:03.373367Z"
    }
   },
   "outputs": [
    {
     "name": "stdout",
     "output_type": "stream",
     "text": [
      "Fixed 0 out of 0\n"
     ]
    }
   ],
   "source": [
    "\n",
    "\n",
    "df = fix_artist_uri(df,pd.isnull(df['artist_uri']),sp)"
   ]
  },
  {
   "cell_type": "code",
   "execution_count": 112,
   "metadata": {
    "ExecuteTime": {
     "end_time": "2018-03-05T01:07:50.344204Z",
     "start_time": "2018-03-05T01:07:49.870358Z"
    },
    "collapsed": true
   },
   "outputs": [],
   "source": [
    "#df.merge(a_df[['artist_uri']],left_index=True,right_index=True).to_csv('../data/interim/5k_track_uri.csv',index=False)"
   ]
  }
 ],
 "metadata": {
  "kernelspec": {
   "display_name": "Python 3",
   "language": "python",
   "name": "python3"
  },
  "language_info": {
   "codemirror_mode": {
    "name": "ipython",
    "version": 3
   },
   "file_extension": ".py",
   "mimetype": "text/x-python",
   "name": "python",
   "nbconvert_exporter": "python",
   "pygments_lexer": "ipython3",
   "version": "3.6.3"
  },
  "toc": {
   "nav_menu": {},
   "number_sections": true,
   "sideBar": true,
   "skip_h1_title": false,
   "toc_cell": true,
   "toc_position": {
    "height": "722px",
    "left": "0px",
    "right": "1472.56px",
    "top": "105.994px",
    "width": "212px"
   },
   "toc_section_display": "block",
   "toc_window_display": true
  }
 },
 "nbformat": 4,
 "nbformat_minor": 2
}
