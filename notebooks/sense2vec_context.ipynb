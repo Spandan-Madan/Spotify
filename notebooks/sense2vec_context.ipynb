{
  "nbformat": 4,
  "nbformat_minor": 0,
  "metadata": {
    "colab": {
      "name": "Action Words Model.ipynb",
      "version": "0.3.2",
      "views": {},
      "default_view": {},
      "provenance": [],
      "collapsed_sections": [
        "uos6elnULExA",
        "QOTXaeugcDFh",
        "0wsrBze0cDGO",
        "pNl79rHqcDGZ",
        "PXfmdLOXHctJ",
        "ov3Fg9WfXbK_",
        "2Bi7ngrocT4n",
        "oQdpBy_ccDHg",
        "C9pk5kQScDHh",
        "wn4B3hbpcDHm"
      ]
    },
    "kernelspec": {
      "display_name": "Python 3",
      "language": "python",
      "name": "python3"
    },
    "accelerator": "GPU"
  },
  "cells": [
    {
      "metadata": {
        "id": "cRebF2igcS5P",
        "colab_type": "code",
        "colab": {
          "autoexec": {
            "startup": false,
            "wait_interval": 0
          }
        }
      },
      "cell_type": "code",
      "source": [
        "import os\n",
        "os.environ['KERAS_BACKEND'] = 'tensorflow'"
      ],
      "execution_count": 0,
      "outputs": []
    },
    {
      "metadata": {
        "id": "Jy29G7uLcDFM",
        "colab_type": "code",
        "colab": {
          "autoexec": {
            "startup": false,
            "wait_interval": 0
          }
        }
      },
      "cell_type": "code",
      "source": [
        "import numpy as np\n",
        "import pandas as pd"
      ],
      "execution_count": 0,
      "outputs": []
    },
    {
      "metadata": {
        "id": "lHlQZYWecV2T",
        "colab_type": "code",
        "colab": {
          "autoexec": {
            "startup": false,
            "wait_interval": 0
          }
        }
      },
      "cell_type": "code",
      "source": [
        "!pip install -U -q PyDrive\n",
        " \n",
        "from pydrive.auth import GoogleAuth\n",
        "from pydrive.drive import GoogleDrive\n",
        "from google.colab import auth\n",
        "from oauth2client.client import GoogleCredentials\n",
        "\n",
        "\n",
        "auth.authenticate_user()\n",
        "gauth = GoogleAuth()\n",
        "gauth.credentials = GoogleCredentials.get_application_default()\n",
        "drive = GoogleDrive(gauth)"
      ],
      "execution_count": 0,
      "outputs": []
    },
    {
      "metadata": {
        "id": "IgVaG6QccZ07",
        "colab_type": "code",
        "colab": {
          "autoexec": {
            "startup": false,
            "wait_interval": 0
          },
          "base_uri": "https://localhost:8080/",
          "height": 170
        },
        "outputId": "e4d9e6e0-40fa-47d4-d016-840ec58ff63e",
        "executionInfo": {
          "status": "ok",
          "timestamp": 1525483427317,
          "user_tz": 240,
          "elapsed": 698,
          "user": {
            "displayName": "Mehul Smriti Raje",
            "photoUrl": "//lh3.googleusercontent.com/-ULNZoebPWnQ/AAAAAAAAAAI/AAAAAAAAAaQ/hC3_RchfCRs/s50-c-k-no/photo.jpg",
            "userId": "116597900982323796919"
          }
        }
      },
      "cell_type": "code",
      "source": [
        "file_list = drive.ListFile({'q': \"'1-gLijjiaOB67hKwBjaC3XHnFfDEhnmbO' in parents and trashed=false\"}).GetList()\n",
        "for file1 in file_list:\n",
        "  print('title: %s, id: %s' % (file1['title'], file1['id']))"
      ],
      "execution_count": 0,
      "outputs": [
        {
          "output_type": "stream",
          "text": [
            "title: Action Words Model.ipynb, id: 1Xcc2no2dO4S6ZBWLLdaHxLYtgd8vFxjM\n",
            "title: data_words_condensed, id: 1VFJL74iLFlhQoMHXFe4TbRBtsu1XtvWN\n",
            "title: I Love Experiments.ipynb, id: 1Dr1jbwIlBtK_J9zVLW3UVyCvgwbSHBma\n",
            "title: data_word_sets, id: 19b-aCTixix3zG3BJfUGJDCMEqVnSq-gl\n",
            "title: 100000-186279.csv, id: 1ayCuvsORhBuRvK27Ww75MOjOL5GPCQyn\n",
            "title: 5k_track_uri.csv, id: 1baInF7-V2JPtiwCTJlqgOcZ4f9XYenyx\n",
            "title: clean_data_nvc, id: 1b-wBP8KQyqxIKOreF9Jno_kqAEg0TBv3\n",
            "title: clean_data, id: 1XTevK8uvb-Jsk5s9rzjqCnfhVMIe0p5Q\n",
            "title: 0-99999.csv, id: 11ePJLA1LaZpJ_29u_OBVjYaMdq5Nxch8\n"
          ],
          "name": "stdout"
        }
      ]
    },
    {
      "metadata": {
        "id": "7JbeiBLVcjB9",
        "colab_type": "code",
        "colab": {
          "autoexec": {
            "startup": false,
            "wait_interval": 0
          }
        }
      },
      "cell_type": "code",
      "source": [
        "data_downloaded = drive.CreateFile({'id': '11ePJLA1LaZpJ_29u_OBVjYaMdq5Nxch8'})\n",
        "data_downloaded.GetContentFile('0-99999.csv')"
      ],
      "execution_count": 0,
      "outputs": []
    },
    {
      "metadata": {
        "id": "kx7jH-X0Ma8k",
        "colab_type": "code",
        "colab": {
          "autoexec": {
            "startup": false,
            "wait_interval": 0
          }
        }
      },
      "cell_type": "code",
      "source": [
        "data_downloaded = drive.CreateFile({'id': '1ayCuvsORhBuRvK27Ww75MOjOL5GPCQyn'})\n",
        "data_downloaded.GetContentFile('100000-186279.csv')"
      ],
      "execution_count": 0,
      "outputs": []
    },
    {
      "metadata": {
        "id": "M7M3phF0cB25",
        "colab_type": "code",
        "colab": {
          "autoexec": {
            "startup": false,
            "wait_interval": 0
          }
        }
      },
      "cell_type": "code",
      "source": [
        "data_downloaded = drive.CreateFile({'id': '1XTevK8uvb-Jsk5s9rzjqCnfhVMIe0p5Q'})\n",
        "data_downloaded.GetContentFile('clean_data')"
      ],
      "execution_count": 0,
      "outputs": []
    },
    {
      "metadata": {
        "id": "teiS-a8Wb1W_",
        "colab_type": "code",
        "colab": {
          "autoexec": {
            "startup": false,
            "wait_interval": 0
          }
        }
      },
      "cell_type": "code",
      "source": [
        "data_downloaded = drive.CreateFile({'id': '1b-wBP8KQyqxIKOreF9Jno_kqAEg0TBv3'})\n",
        "data_downloaded.GetContentFile('clean_data_nvc')"
      ],
      "execution_count": 0,
      "outputs": []
    },
    {
      "metadata": {
        "id": "K6SweB9SK4hj",
        "colab_type": "code",
        "colab": {
          "autoexec": {
            "startup": false,
            "wait_interval": 0
          }
        }
      },
      "cell_type": "code",
      "source": [
        "data_downloaded = drive.CreateFile({'id': '1baInF7-V2JPtiwCTJlqgOcZ4f9XYenyx'})\n",
        "data_downloaded.GetContentFile('5k_track_uri.csv')"
      ],
      "execution_count": 0,
      "outputs": []
    },
    {
      "metadata": {
        "id": "b1mHT_urdO9T",
        "colab_type": "code",
        "colab": {
          "autoexec": {
            "startup": false,
            "wait_interval": 0
          },
          "base_uri": "https://localhost:8080/",
          "height": 51
        },
        "outputId": "ad37567d-06d7-4d88-f867-809f43db5fd0",
        "executionInfo": {
          "status": "ok",
          "timestamp": 1525471480784,
          "user_tz": 240,
          "elapsed": 1802,
          "user": {
            "displayName": "Mehul Smriti Raje",
            "photoUrl": "//lh3.googleusercontent.com/-ULNZoebPWnQ/AAAAAAAAAAI/AAAAAAAAAaQ/hC3_RchfCRs/s50-c-k-no/photo.jpg",
            "userId": "116597900982323796919"
          }
        }
      },
      "cell_type": "code",
      "source": [
        "ls"
      ],
      "execution_count": 0,
      "outputs": [
        {
          "output_type": "stream",
          "text": [
            "0-99999.csv       clean_data      \u001b[0m\u001b[01;34mdatalab\u001b[0m/\r\n",
            "5k_track_uri.csv  clean_data_nvc  track_uri.csv\r\n"
          ],
          "name": "stdout"
        }
      ]
    },
    {
      "metadata": {
        "id": "uos6elnULExA",
        "colab_type": "text"
      },
      "cell_type": "markdown",
      "source": [
        "### Sub: Geting all rows in order"
      ]
    },
    {
      "metadata": {
        "id": "2-JHq16SLKIV",
        "colab_type": "code",
        "colab": {
          "autoexec": {
            "startup": false,
            "wait_interval": 0
          },
          "base_uri": "https://localhost:8080/",
          "height": 159
        },
        "outputId": "1d4149cd-c4df-4296-f0d0-c365c9ac851d",
        "executionInfo": {
          "status": "ok",
          "timestamp": 1525471489157,
          "user_tz": 240,
          "elapsed": 934,
          "user": {
            "displayName": "Mehul Smriti Raje",
            "photoUrl": "//lh3.googleusercontent.com/-ULNZoebPWnQ/AAAAAAAAAAI/AAAAAAAAAaQ/hC3_RchfCRs/s50-c-k-no/photo.jpg",
            "userId": "116597900982323796919"
          }
        }
      },
      "cell_type": "code",
      "source": [
        "data1 = pd.read_csv('5k_track_uri.csv')\n",
        "print(data1.shape)\n",
        "data1.head(3)"
      ],
      "execution_count": 0,
      "outputs": [
        {
          "output_type": "stream",
          "text": [
            "(108870, 6)\n"
          ],
          "name": "stdout"
        },
        {
          "output_type": "execute_result",
          "data": {
            "text/html": [
              "<div>\n",
              "<style scoped>\n",
              "    .dataframe tbody tr th:only-of-type {\n",
              "        vertical-align: middle;\n",
              "    }\n",
              "\n",
              "    .dataframe tbody tr th {\n",
              "        vertical-align: top;\n",
              "    }\n",
              "\n",
              "    .dataframe thead th {\n",
              "        text-align: right;\n",
              "    }\n",
              "</style>\n",
              "<table border=\"1\" class=\"dataframe\">\n",
              "  <thead>\n",
              "    <tr style=\"text-align: right;\">\n",
              "      <th></th>\n",
              "      <th>artist</th>\n",
              "      <th>pid</th>\n",
              "      <th>title</th>\n",
              "      <th>uri</th>\n",
              "      <th>csv_id</th>\n",
              "      <th>artist_uri</th>\n",
              "    </tr>\n",
              "  </thead>\n",
              "  <tbody>\n",
              "    <tr>\n",
              "      <th>0</th>\n",
              "      <td>missy elliott</td>\n",
              "      <td>0</td>\n",
              "      <td>lose control feat ciara &amp; fat man scoop</td>\n",
              "      <td>spotify:track:0UaMYEvWZi0ZqiDOoHU3YI</td>\n",
              "      <td>0</td>\n",
              "      <td>spotify:artist:2wIVse2owClT7go1WT98tk</td>\n",
              "    </tr>\n",
              "    <tr>\n",
              "      <th>1</th>\n",
              "      <td>britney spears</td>\n",
              "      <td>0</td>\n",
              "      <td>toxic</td>\n",
              "      <td>spotify:track:6I9VzXrHxO9rA9A5euc8Ak</td>\n",
              "      <td>1</td>\n",
              "      <td>spotify:artist:26dSoYclwsYLMAKD3tpOr4</td>\n",
              "    </tr>\n",
              "    <tr>\n",
              "      <th>2</th>\n",
              "      <td>beyoncé</td>\n",
              "      <td>0</td>\n",
              "      <td>crazy in love</td>\n",
              "      <td>spotify:track:0WqIKmW4BTrj3eJFmnCKMv</td>\n",
              "      <td>2</td>\n",
              "      <td>spotify:artist:6vWDO969PvNqNYHIOW5v0m</td>\n",
              "    </tr>\n",
              "  </tbody>\n",
              "</table>\n",
              "</div>"
            ],
            "text/plain": [
              "           artist  pid                                    title  \\\n",
              "0   missy elliott    0  lose control feat ciara & fat man scoop   \n",
              "1  britney spears    0                                    toxic   \n",
              "2         beyoncé    0                            crazy in love   \n",
              "\n",
              "                                    uri  csv_id  \\\n",
              "0  spotify:track:0UaMYEvWZi0ZqiDOoHU3YI       0   \n",
              "1  spotify:track:6I9VzXrHxO9rA9A5euc8Ak       1   \n",
              "2  spotify:track:0WqIKmW4BTrj3eJFmnCKMv       2   \n",
              "\n",
              "                              artist_uri  \n",
              "0  spotify:artist:2wIVse2owClT7go1WT98tk  \n",
              "1  spotify:artist:26dSoYclwsYLMAKD3tpOr4  \n",
              "2  spotify:artist:6vWDO969PvNqNYHIOW5v0m  "
            ]
          },
          "metadata": {
            "tags": []
          },
          "execution_count": 15
        }
      ]
    },
    {
      "metadata": {
        "id": "L7TrUWJVMFBN",
        "colab_type": "code",
        "colab": {
          "autoexec": {
            "startup": false,
            "wait_interval": 0
          },
          "base_uri": "https://localhost:8080/",
          "height": 142
        },
        "outputId": "bbec629c-710d-4c76-880c-9d36f76a0cb5",
        "executionInfo": {
          "status": "ok",
          "timestamp": 1525471539521,
          "user_tz": 240,
          "elapsed": 753,
          "user": {
            "displayName": "Mehul Smriti Raje",
            "photoUrl": "//lh3.googleusercontent.com/-ULNZoebPWnQ/AAAAAAAAAAI/AAAAAAAAAaQ/hC3_RchfCRs/s50-c-k-no/photo.jpg",
            "userId": "116597900982323796919"
          }
        }
      },
      "cell_type": "code",
      "source": [
        "data1.tail(3)"
      ],
      "execution_count": 0,
      "outputs": [
        {
          "output_type": "execute_result",
          "data": {
            "text/html": [
              "<div>\n",
              "<style scoped>\n",
              "    .dataframe tbody tr th:only-of-type {\n",
              "        vertical-align: middle;\n",
              "    }\n",
              "\n",
              "    .dataframe tbody tr th {\n",
              "        vertical-align: top;\n",
              "    }\n",
              "\n",
              "    .dataframe thead th {\n",
              "        text-align: right;\n",
              "    }\n",
              "</style>\n",
              "<table border=\"1\" class=\"dataframe\">\n",
              "  <thead>\n",
              "    <tr style=\"text-align: right;\">\n",
              "      <th></th>\n",
              "      <th>artist</th>\n",
              "      <th>pid</th>\n",
              "      <th>title</th>\n",
              "      <th>uri</th>\n",
              "      <th>csv_id</th>\n",
              "      <th>artist_uri</th>\n",
              "    </tr>\n",
              "  </thead>\n",
              "  <tbody>\n",
              "    <tr>\n",
              "      <th>108867</th>\n",
              "      <td>solas</td>\n",
              "      <td>4999</td>\n",
              "      <td>crested hens</td>\n",
              "      <td>spotify:track:4aAmDp1AR1Fp1UCpWuvy2d</td>\n",
              "      <td>108867</td>\n",
              "      <td>spotify:artist:2CGGUtRYybRjQmuUwXugeP</td>\n",
              "    </tr>\n",
              "    <tr>\n",
              "      <th>108868</th>\n",
              "      <td>kim yoon</td>\n",
              "      <td>4999</td>\n",
              "      <td>moonlight waltz</td>\n",
              "      <td>spotify:track:25JRhSij3kxAJ1li9lPe5k</td>\n",
              "      <td>108868</td>\n",
              "      <td>spotify:artist:2wA50FpX5Yc5b4OrhdQVXP</td>\n",
              "    </tr>\n",
              "    <tr>\n",
              "      <th>108869</th>\n",
              "      <td>the stage door orchestra &amp; singers</td>\n",
              "      <td>4999</td>\n",
              "      <td>and then i kissed him</td>\n",
              "      <td>spotify:track:23Ktd7FBxHtP4F1llGMjOe</td>\n",
              "      <td>108869</td>\n",
              "      <td>spotify:artist:4rqD97trg8OUPyHKFRzA8m</td>\n",
              "    </tr>\n",
              "  </tbody>\n",
              "</table>\n",
              "</div>"
            ],
            "text/plain": [
              "                                    artist   pid                  title  \\\n",
              "108867                               solas  4999           crested hens   \n",
              "108868                            kim yoon  4999        moonlight waltz   \n",
              "108869  the stage door orchestra & singers  4999  and then i kissed him   \n",
              "\n",
              "                                         uri  csv_id  \\\n",
              "108867  spotify:track:4aAmDp1AR1Fp1UCpWuvy2d  108867   \n",
              "108868  spotify:track:25JRhSij3kxAJ1li9lPe5k  108868   \n",
              "108869  spotify:track:23Ktd7FBxHtP4F1llGMjOe  108869   \n",
              "\n",
              "                                   artist_uri  \n",
              "108867  spotify:artist:2CGGUtRYybRjQmuUwXugeP  \n",
              "108868  spotify:artist:2wA50FpX5Yc5b4OrhdQVXP  \n",
              "108869  spotify:artist:4rqD97trg8OUPyHKFRzA8m  "
            ]
          },
          "metadata": {
            "tags": []
          },
          "execution_count": 16
        }
      ]
    },
    {
      "metadata": {
        "id": "WrZwbl9vOKVj",
        "colab_type": "code",
        "colab": {
          "autoexec": {
            "startup": false,
            "wait_interval": 0
          }
        }
      },
      "cell_type": "code",
      "source": [
        "del data1"
      ],
      "execution_count": 0,
      "outputs": []
    },
    {
      "metadata": {
        "id": "t9V6RZpGMkGo",
        "colab_type": "code",
        "colab": {
          "autoexec": {
            "startup": false,
            "wait_interval": 0
          },
          "base_uri": "https://localhost:8080/",
          "height": 34
        },
        "outputId": "d0fa4cee-5816-432d-c576-7d00cb530bf6",
        "executionInfo": {
          "status": "ok",
          "timestamp": 1525472220467,
          "user_tz": 240,
          "elapsed": 1008,
          "user": {
            "displayName": "Mehul Smriti Raje",
            "photoUrl": "//lh3.googleusercontent.com/-ULNZoebPWnQ/AAAAAAAAAAI/AAAAAAAAAaQ/hC3_RchfCRs/s50-c-k-no/photo.jpg",
            "userId": "116597900982323796919"
          }
        }
      },
      "cell_type": "code",
      "source": [
        "data2 = pd.read_csv('100000-186279.csv')\n",
        "data2.shape"
      ],
      "execution_count": 0,
      "outputs": [
        {
          "output_type": "execute_result",
          "data": {
            "text/plain": [
              "(86280, 8)"
            ]
          },
          "metadata": {
            "tags": []
          },
          "execution_count": 32
        }
      ]
    },
    {
      "metadata": {
        "id": "gfsA8jfhMs5z",
        "colab_type": "code",
        "colab": {
          "autoexec": {
            "startup": false,
            "wait_interval": 0
          },
          "base_uri": "https://localhost:8080/",
          "height": 80
        },
        "outputId": "92e0dc48-8a14-4e6a-d9b6-c391849f8ce3",
        "executionInfo": {
          "status": "ok",
          "timestamp": 1525471743150,
          "user_tz": 240,
          "elapsed": 742,
          "user": {
            "displayName": "Mehul Smriti Raje",
            "photoUrl": "//lh3.googleusercontent.com/-ULNZoebPWnQ/AAAAAAAAAAI/AAAAAAAAAaQ/hC3_RchfCRs/s50-c-k-no/photo.jpg",
            "userId": "116597900982323796919"
          }
        }
      },
      "cell_type": "code",
      "source": [
        "data2.loc[data2['song'] == 'and then i kissed him']"
      ],
      "execution_count": 0,
      "outputs": [
        {
          "output_type": "execute_result",
          "data": {
            "text/html": [
              "<div>\n",
              "<style scoped>\n",
              "    .dataframe tbody tr th:only-of-type {\n",
              "        vertical-align: middle;\n",
              "    }\n",
              "\n",
              "    .dataframe tbody tr th {\n",
              "        vertical-align: top;\n",
              "    }\n",
              "\n",
              "    .dataframe thead th {\n",
              "        text-align: right;\n",
              "    }\n",
              "</style>\n",
              "<table border=\"1\" class=\"dataframe\">\n",
              "  <thead>\n",
              "    <tr style=\"text-align: right;\">\n",
              "      <th></th>\n",
              "      <th>song</th>\n",
              "      <th>artist</th>\n",
              "      <th>query_id</th>\n",
              "      <th>genius_id</th>\n",
              "      <th>about</th>\n",
              "      <th>artist_speak</th>\n",
              "      <th>trivia</th>\n",
              "      <th>annotation</th>\n",
              "    </tr>\n",
              "  </thead>\n",
              "  <tbody>\n",
              "    <tr>\n",
              "      <th>7681</th>\n",
              "      <td>and then i kissed him</td>\n",
              "      <td>the stage door orchestra &amp; singers</td>\n",
              "      <td>-1</td>\n",
              "      <td>NaN</td>\n",
              "      <td>NaN</td>\n",
              "      <td>NaN</td>\n",
              "      <td>NaN</td>\n",
              "      <td>NaN</td>\n",
              "    </tr>\n",
              "  </tbody>\n",
              "</table>\n",
              "</div>"
            ],
            "text/plain": [
              "                       song                              artist  query_id  \\\n",
              "7681  and then i kissed him  the stage door orchestra & singers        -1   \n",
              "\n",
              "      genius_id about artist_speak trivia annotation  \n",
              "7681        NaN   NaN          NaN    NaN        NaN  "
            ]
          },
          "metadata": {
            "tags": []
          },
          "execution_count": 20
        }
      ]
    },
    {
      "metadata": {
        "id": "yfFIg5W4NAnf",
        "colab_type": "code",
        "colab": {
          "autoexec": {
            "startup": false,
            "wait_interval": 0
          },
          "base_uri": "https://localhost:8080/",
          "height": 34
        },
        "outputId": "5562be3c-c1dd-4b5f-b34f-90e9406f4c97",
        "executionInfo": {
          "status": "ok",
          "timestamp": 1525472241194,
          "user_tz": 240,
          "elapsed": 700,
          "user": {
            "displayName": "Mehul Smriti Raje",
            "photoUrl": "//lh3.googleusercontent.com/-ULNZoebPWnQ/AAAAAAAAAAI/AAAAAAAAAaQ/hC3_RchfCRs/s50-c-k-no/photo.jpg",
            "userId": "116597900982323796919"
          }
        }
      },
      "cell_type": "code",
      "source": [
        "data3 = data2[:7682].copy()\n",
        "print(data3.shape)\n",
        "data3.tail() # -- This is one part of data\n",
        "del data2"
      ],
      "execution_count": 0,
      "outputs": [
        {
          "output_type": "stream",
          "text": [
            "(7682, 8)\n"
          ],
          "name": "stdout"
        }
      ]
    },
    {
      "metadata": {
        "id": "sUteMtOvcDFR",
        "colab_type": "code",
        "colab": {
          "autoexec": {
            "startup": false,
            "wait_interval": 0
          },
          "base_uri": "https://localhost:8080/",
          "height": 34
        },
        "outputId": "f0c157e3-0d2c-463d-a97e-c5f04d11dcf3",
        "executionInfo": {
          "status": "ok",
          "timestamp": 1525472346397,
          "user_tz": 240,
          "elapsed": 1904,
          "user": {
            "displayName": "Mehul Smriti Raje",
            "photoUrl": "//lh3.googleusercontent.com/-ULNZoebPWnQ/AAAAAAAAAAI/AAAAAAAAAaQ/hC3_RchfCRs/s50-c-k-no/photo.jpg",
            "userId": "116597900982323796919"
          }
        }
      },
      "cell_type": "code",
      "source": [
        "data = pd.read_csv('0-99999.csv')\n",
        "data.shape"
      ],
      "execution_count": 0,
      "outputs": [
        {
          "output_type": "execute_result",
          "data": {
            "text/plain": [
              "(100000, 9)"
            ]
          },
          "metadata": {
            "tags": []
          },
          "execution_count": 37
        }
      ]
    },
    {
      "metadata": {
        "id": "tda2waljcDFY",
        "colab_type": "code",
        "colab": {
          "autoexec": {
            "startup": false,
            "wait_interval": 0
          },
          "base_uri": "https://localhost:8080/",
          "height": 340
        },
        "outputId": "e4ec7040-550a-48ed-dcd5-ad8edd4797b5",
        "executionInfo": {
          "status": "ok",
          "timestamp": 1525472348887,
          "user_tz": 240,
          "elapsed": 684,
          "user": {
            "displayName": "Mehul Smriti Raje",
            "photoUrl": "//lh3.googleusercontent.com/-ULNZoebPWnQ/AAAAAAAAAAI/AAAAAAAAAaQ/hC3_RchfCRs/s50-c-k-no/photo.jpg",
            "userId": "116597900982323796919"
          }
        }
      },
      "cell_type": "code",
      "source": [
        "data = data.drop('Unnamed: 0', axis = 1)\n",
        "data = data.rename(index=str, columns={\"spotify_id\": \"genius_id\"})\n",
        "print(data.shape)\n",
        "data.head() # -- This is other part of data"
      ],
      "execution_count": 0,
      "outputs": [
        {
          "output_type": "stream",
          "text": [
            "(100000, 8)\n"
          ],
          "name": "stdout"
        },
        {
          "output_type": "execute_result",
          "data": {
            "text/html": [
              "<div>\n",
              "<style scoped>\n",
              "    .dataframe tbody tr th:only-of-type {\n",
              "        vertical-align: middle;\n",
              "    }\n",
              "\n",
              "    .dataframe tbody tr th {\n",
              "        vertical-align: top;\n",
              "    }\n",
              "\n",
              "    .dataframe thead th {\n",
              "        text-align: right;\n",
              "    }\n",
              "</style>\n",
              "<table border=\"1\" class=\"dataframe\">\n",
              "  <thead>\n",
              "    <tr style=\"text-align: right;\">\n",
              "      <th></th>\n",
              "      <th>song</th>\n",
              "      <th>artist</th>\n",
              "      <th>query_id</th>\n",
              "      <th>genius_id</th>\n",
              "      <th>about</th>\n",
              "      <th>artist_speak</th>\n",
              "      <th>trivia</th>\n",
              "      <th>annotation</th>\n",
              "    </tr>\n",
              "  </thead>\n",
              "  <tbody>\n",
              "    <tr>\n",
              "      <th>0</th>\n",
              "      <td>lose control (feat. ciara &amp; fat man scoop)</td>\n",
              "      <td>missy elliott</td>\n",
              "      <td>1</td>\n",
              "      <td>33158.0</td>\n",
              "      <td>\\nAnother classic Missy Elliott banger, centre...</td>\n",
              "      <td>NaN</td>\n",
              "      <td>NaN</td>\n",
              "      <td>Sampled from “Body Work” by Hot Streakhttp://w...</td>\n",
              "    </tr>\n",
              "    <tr>\n",
              "      <th>1</th>\n",
              "      <td>toxic</td>\n",
              "      <td>britney spears</td>\n",
              "      <td>0</td>\n",
              "      <td>110982.0</td>\n",
              "      <td>\\nAppreciating Britney Spears was the final fr...</td>\n",
              "      <td>\\nIn 2003 Brit told MTV:\\n“It’s basically abou...</td>\n",
              "      <td>Was 'Toxic' offered to anyone else before Brit...</td>\n",
              "      <td>Before making the video of “Cry Me a River”, J...</td>\n",
              "    </tr>\n",
              "    <tr>\n",
              "      <th>2</th>\n",
              "      <td>crazy in love</td>\n",
              "      <td>beyoncé</td>\n",
              "      <td>0</td>\n",
              "      <td>32167.0</td>\n",
              "      <td>\\n“Crazy In Love” is the ridiculously successf...</td>\n",
              "      <td>NaN</td>\n",
              "      <td>NaN</td>\n",
              "      <td>Beyonce is trying to depict in words her abili...</td>\n",
              "    </tr>\n",
              "    <tr>\n",
              "      <th>3</th>\n",
              "      <td>rock your body</td>\n",
              "      <td>justin timberlake</td>\n",
              "      <td>0</td>\n",
              "      <td>124611.0</td>\n",
              "      <td>\\n“Rock Your Body” is the third single from Ju...</td>\n",
              "      <td>NaN</td>\n",
              "      <td>NaN</td>\n",
              "      <td>Justin Timberlake is obviously a good dancer, ...</td>\n",
              "    </tr>\n",
              "    <tr>\n",
              "      <th>4</th>\n",
              "      <td>it wasn't me</td>\n",
              "      <td>shaggy</td>\n",
              "      <td>0</td>\n",
              "      <td>33108.0</td>\n",
              "      <td>\\nThe idea for this song was inspired by a bit...</td>\n",
              "      <td>NaN</td>\n",
              "      <td>NaN</td>\n",
              "      <td>RikRok needs some guidance because he’s in som...</td>\n",
              "    </tr>\n",
              "  </tbody>\n",
              "</table>\n",
              "</div>"
            ],
            "text/plain": [
              "                                         song             artist  query_id  \\\n",
              "0  lose control (feat. ciara & fat man scoop)      missy elliott         1   \n",
              "1                                       toxic     britney spears         0   \n",
              "2                               crazy in love           beyoncé         0   \n",
              "3                              rock your body  justin timberlake         0   \n",
              "4                                it wasn't me             shaggy         0   \n",
              "\n",
              "   genius_id                                              about  \\\n",
              "0    33158.0  \\nAnother classic Missy Elliott banger, centre...   \n",
              "1   110982.0  \\nAppreciating Britney Spears was the final fr...   \n",
              "2    32167.0  \\n“Crazy In Love” is the ridiculously successf...   \n",
              "3   124611.0  \\n“Rock Your Body” is the third single from Ju...   \n",
              "4    33108.0  \\nThe idea for this song was inspired by a bit...   \n",
              "\n",
              "                                        artist_speak  \\\n",
              "0                                                NaN   \n",
              "1  \\nIn 2003 Brit told MTV:\\n“It’s basically abou...   \n",
              "2                                                NaN   \n",
              "3                                                NaN   \n",
              "4                                                NaN   \n",
              "\n",
              "                                              trivia  \\\n",
              "0                                                NaN   \n",
              "1  Was 'Toxic' offered to anyone else before Brit...   \n",
              "2                                                NaN   \n",
              "3                                                NaN   \n",
              "4                                                NaN   \n",
              "\n",
              "                                          annotation  \n",
              "0  Sampled from “Body Work” by Hot Streakhttp://w...  \n",
              "1  Before making the video of “Cry Me a River”, J...  \n",
              "2  Beyonce is trying to depict in words her abili...  \n",
              "3  Justin Timberlake is obviously a good dancer, ...  \n",
              "4  RikRok needs some guidance because he’s in som...  "
            ]
          },
          "metadata": {
            "tags": []
          },
          "execution_count": 38
        }
      ]
    },
    {
      "metadata": {
        "id": "uemjkqJ5cDFc",
        "colab_type": "code",
        "colab": {
          "autoexec": {
            "startup": false,
            "wait_interval": 0
          },
          "base_uri": "https://localhost:8080/",
          "height": 34
        },
        "outputId": "af57ba7d-5b7a-47ce-e6bf-7b685ebf4129",
        "executionInfo": {
          "status": "ok",
          "timestamp": 1525472394235,
          "user_tz": 240,
          "elapsed": 810,
          "user": {
            "displayName": "Mehul Smriti Raje",
            "photoUrl": "//lh3.googleusercontent.com/-ULNZoebPWnQ/AAAAAAAAAAI/AAAAAAAAAaQ/hC3_RchfCRs/s50-c-k-no/photo.jpg",
            "userId": "116597900982323796919"
          }
        }
      },
      "cell_type": "code",
      "source": [
        "# Joining all data\n",
        "\n",
        "data = data.append(data3)\n",
        "print(data.shape)"
      ],
      "execution_count": 0,
      "outputs": [
        {
          "output_type": "stream",
          "text": [
            "(107682, 8)\n"
          ],
          "name": "stdout"
        }
      ]
    },
    {
      "metadata": {
        "id": "x8QUGxShOcc_",
        "colab_type": "code",
        "colab": {
          "autoexec": {
            "startup": false,
            "wait_interval": 0
          }
        }
      },
      "cell_type": "code",
      "source": [
        "# del df_full"
      ],
      "execution_count": 0,
      "outputs": []
    },
    {
      "metadata": {
        "id": "QOTXaeugcDFh",
        "colab_type": "text"
      },
      "cell_type": "markdown",
      "source": [
        "### 1. Clean above data a little bit"
      ]
    },
    {
      "metadata": {
        "id": "VUlTnc1qcDFh",
        "colab_type": "code",
        "colab": {
          "autoexec": {
            "startup": false,
            "wait_interval": 0
          }
        }
      },
      "cell_type": "code",
      "source": [
        "import unicodedata\n",
        "\n",
        "def normalize_caseless(text):\n",
        "    res = text\n",
        "    try:\n",
        "        res = unicodedata.normalize(\"NFKD\", text.casefold())\n",
        "    except:\n",
        "        # print(text)\n",
        "        res = text\n",
        "    return res\n",
        "\n",
        "def caseless_equal(left, right):\n",
        "    return normalize_caseless(left) == normalize_caseless(right)"
      ],
      "execution_count": 0,
      "outputs": []
    },
    {
      "metadata": {
        "id": "p_U7LNHtcDFl",
        "colab_type": "code",
        "colab": {
          "autoexec": {
            "startup": false,
            "wait_interval": 0
          },
          "base_uri": "https://localhost:8080/",
          "height": 34
        },
        "outputId": "d00b7326-c97a-4fe3-98be-47ef1575057e",
        "executionInfo": {
          "status": "ok",
          "timestamp": 1525472471991,
          "user_tz": 240,
          "elapsed": 2300,
          "user": {
            "displayName": "Mehul Smriti Raje",
            "photoUrl": "//lh3.googleusercontent.com/-ULNZoebPWnQ/AAAAAAAAAAI/AAAAAAAAAaQ/hC3_RchfCRs/s50-c-k-no/photo.jpg",
            "userId": "116597900982323796919"
          }
        }
      },
      "cell_type": "code",
      "source": [
        "# Converting all to lower case\n",
        "data['about'] = data['about'].apply(lambda x: normalize_caseless(x))\n",
        "data['artist_speak'] = data['artist_speak'].apply(lambda x: normalize_caseless(x))\n",
        "data['trivia'] = data['trivia'].apply(lambda x: normalize_caseless(x))\n",
        "data['annotation'] = data['annotation'].apply(lambda x: normalize_caseless(x))\n",
        "data.shape\n",
        "\n",
        "# Stripping away all punctuations"
      ],
      "execution_count": 0,
      "outputs": [
        {
          "output_type": "execute_result",
          "data": {
            "text/plain": [
              "(107682, 8)"
            ]
          },
          "metadata": {
            "tags": []
          },
          "execution_count": 44
        }
      ]
    },
    {
      "metadata": {
        "id": "FB1VslnRcDFo",
        "colab_type": "code",
        "colab": {
          "autoexec": {
            "startup": false,
            "wait_interval": 0
          },
          "base_uri": "https://localhost:8080/",
          "height": 210
        },
        "outputId": "3400a0a4-e001-4a9d-e011-d998d15b0dce",
        "executionInfo": {
          "status": "ok",
          "timestamp": 1525472484393,
          "user_tz": 240,
          "elapsed": 830,
          "user": {
            "displayName": "Mehul Smriti Raje",
            "photoUrl": "//lh3.googleusercontent.com/-ULNZoebPWnQ/AAAAAAAAAAI/AAAAAAAAAaQ/hC3_RchfCRs/s50-c-k-no/photo.jpg",
            "userId": "116597900982323796919"
          }
        }
      },
      "cell_type": "code",
      "source": [
        "data.head(3)"
      ],
      "execution_count": 0,
      "outputs": [
        {
          "output_type": "execute_result",
          "data": {
            "text/html": [
              "<div>\n",
              "<style scoped>\n",
              "    .dataframe tbody tr th:only-of-type {\n",
              "        vertical-align: middle;\n",
              "    }\n",
              "\n",
              "    .dataframe tbody tr th {\n",
              "        vertical-align: top;\n",
              "    }\n",
              "\n",
              "    .dataframe thead th {\n",
              "        text-align: right;\n",
              "    }\n",
              "</style>\n",
              "<table border=\"1\" class=\"dataframe\">\n",
              "  <thead>\n",
              "    <tr style=\"text-align: right;\">\n",
              "      <th></th>\n",
              "      <th>song</th>\n",
              "      <th>artist</th>\n",
              "      <th>query_id</th>\n",
              "      <th>genius_id</th>\n",
              "      <th>about</th>\n",
              "      <th>artist_speak</th>\n",
              "      <th>trivia</th>\n",
              "      <th>annotation</th>\n",
              "    </tr>\n",
              "  </thead>\n",
              "  <tbody>\n",
              "    <tr>\n",
              "      <th>0</th>\n",
              "      <td>lose control (feat. ciara &amp; fat man scoop)</td>\n",
              "      <td>missy elliott</td>\n",
              "      <td>1</td>\n",
              "      <td>33158.0</td>\n",
              "      <td>\\nanother classic missy elliott banger, centre...</td>\n",
              "      <td>NaN</td>\n",
              "      <td>NaN</td>\n",
              "      <td>sampled from “body work” by hot streakhttp://w...</td>\n",
              "    </tr>\n",
              "    <tr>\n",
              "      <th>1</th>\n",
              "      <td>toxic</td>\n",
              "      <td>britney spears</td>\n",
              "      <td>0</td>\n",
              "      <td>110982.0</td>\n",
              "      <td>\\nappreciating britney spears was the final fr...</td>\n",
              "      <td>\\nin 2003 brit told mtv:\\n“it’s basically abou...</td>\n",
              "      <td>was 'toxic' offered to anyone else before brit...</td>\n",
              "      <td>before making the video of “cry me a river”, j...</td>\n",
              "    </tr>\n",
              "    <tr>\n",
              "      <th>2</th>\n",
              "      <td>crazy in love</td>\n",
              "      <td>beyoncé</td>\n",
              "      <td>0</td>\n",
              "      <td>32167.0</td>\n",
              "      <td>\\n“crazy in love” is the ridiculously successf...</td>\n",
              "      <td>NaN</td>\n",
              "      <td>NaN</td>\n",
              "      <td>beyonce is trying to depict in words her abili...</td>\n",
              "    </tr>\n",
              "  </tbody>\n",
              "</table>\n",
              "</div>"
            ],
            "text/plain": [
              "                                         song          artist  query_id  \\\n",
              "0  lose control (feat. ciara & fat man scoop)   missy elliott         1   \n",
              "1                                       toxic  britney spears         0   \n",
              "2                               crazy in love        beyoncé         0   \n",
              "\n",
              "   genius_id                                              about  \\\n",
              "0    33158.0  \\nanother classic missy elliott banger, centre...   \n",
              "1   110982.0  \\nappreciating britney spears was the final fr...   \n",
              "2    32167.0  \\n“crazy in love” is the ridiculously successf...   \n",
              "\n",
              "                                        artist_speak  \\\n",
              "0                                                NaN   \n",
              "1  \\nin 2003 brit told mtv:\\n“it’s basically abou...   \n",
              "2                                                NaN   \n",
              "\n",
              "                                              trivia  \\\n",
              "0                                                NaN   \n",
              "1  was 'toxic' offered to anyone else before brit...   \n",
              "2                                                NaN   \n",
              "\n",
              "                                          annotation  \n",
              "0  sampled from “body work” by hot streakhttp://w...  \n",
              "1  before making the video of “cry me a river”, j...  \n",
              "2  beyonce is trying to depict in words her abili...  "
            ]
          },
          "metadata": {
            "tags": []
          },
          "execution_count": 45
        }
      ]
    },
    {
      "metadata": {
        "id": "0FEwNyYAcDFy",
        "colab_type": "code",
        "colab": {
          "autoexec": {
            "startup": false,
            "wait_interval": 0
          },
          "base_uri": "https://localhost:8080/",
          "height": 34
        },
        "outputId": "6f9361be-ab9a-4324-90b3-e2c751b1fbb1",
        "executionInfo": {
          "status": "ok",
          "timestamp": 1525472490482,
          "user_tz": 240,
          "elapsed": 627,
          "user": {
            "displayName": "Mehul Smriti Raje",
            "photoUrl": "//lh3.googleusercontent.com/-ULNZoebPWnQ/AAAAAAAAAAI/AAAAAAAAAaQ/hC3_RchfCRs/s50-c-k-no/photo.jpg",
            "userId": "116597900982323796919"
          }
        }
      },
      "cell_type": "code",
      "source": [
        "import string\n",
        "# s.translate(string.punctuation)\n",
        "string.punctuation"
      ],
      "execution_count": 0,
      "outputs": [
        {
          "output_type": "execute_result",
          "data": {
            "text/plain": [
              "'!\"#$%&\\'()*+,-./:;<=>?@[\\\\]^_`{|}~'"
            ]
          },
          "metadata": {
            "tags": []
          },
          "execution_count": 46
        }
      ]
    },
    {
      "metadata": {
        "id": "txR87zTEcDF9",
        "colab_type": "code",
        "colab": {
          "autoexec": {
            "startup": false,
            "wait_interval": 0
          }
        }
      },
      "cell_type": "code",
      "source": [
        "# s.rstrip()\n",
        "# line = re.sub('foo','bar', line.rstrip())\n",
        "\n",
        "def clean(s):\n",
        "    filters = '''!#+*-–;,.:'\"\\/?@()'''\n",
        "    noFilterHit = \"\"\n",
        "    try:    \n",
        "        for char in s:  # Removes \\n\n",
        "            if char not in filters:\n",
        "                noFilterHit = noFilterHit + char\n",
        "        noFilterHit = noFilterHit.replace('\\n', ' ')\n",
        "        noFilterHit = noFilterHit.strip()\n",
        "    except:\n",
        "        noFilterHit = s\n",
        "    return noFilterHit\n",
        "    # print(noFilterHit)"
      ],
      "execution_count": 0,
      "outputs": []
    },
    {
      "metadata": {
        "id": "My2L-tpvcDGC",
        "colab_type": "code",
        "colab": {
          "autoexec": {
            "startup": false,
            "wait_interval": 0
          }
        }
      },
      "cell_type": "code",
      "source": [
        "# REMOVING ALL PUNCTUATIONS\n",
        "data['about'] = data['about'].apply(lambda x: clean(x))\n",
        "data['artist_speak'] = data['artist_speak'].apply(lambda x: clean(x))\n",
        "data['trivia'] = data['trivia'].apply(lambda x: clean(x))\n",
        "data['annotation'] = data['annotation'].apply(lambda x: clean(x))"
      ],
      "execution_count": 0,
      "outputs": []
    },
    {
      "metadata": {
        "id": "hcJMPucicDGH",
        "colab_type": "code",
        "colab": {
          "autoexec": {
            "startup": false,
            "wait_interval": 0
          },
          "base_uri": "https://localhost:8080/",
          "height": 210
        },
        "outputId": "3e472e9f-3589-44c6-fd31-4ec06d713e59",
        "executionInfo": {
          "status": "ok",
          "timestamp": 1525472513526,
          "user_tz": 240,
          "elapsed": 413,
          "user": {
            "displayName": "Mehul Smriti Raje",
            "photoUrl": "//lh3.googleusercontent.com/-ULNZoebPWnQ/AAAAAAAAAAI/AAAAAAAAAaQ/hC3_RchfCRs/s50-c-k-no/photo.jpg",
            "userId": "116597900982323796919"
          }
        }
      },
      "cell_type": "code",
      "source": [
        "data.head(3)"
      ],
      "execution_count": 0,
      "outputs": [
        {
          "output_type": "execute_result",
          "data": {
            "text/html": [
              "<div>\n",
              "<style scoped>\n",
              "    .dataframe tbody tr th:only-of-type {\n",
              "        vertical-align: middle;\n",
              "    }\n",
              "\n",
              "    .dataframe tbody tr th {\n",
              "        vertical-align: top;\n",
              "    }\n",
              "\n",
              "    .dataframe thead th {\n",
              "        text-align: right;\n",
              "    }\n",
              "</style>\n",
              "<table border=\"1\" class=\"dataframe\">\n",
              "  <thead>\n",
              "    <tr style=\"text-align: right;\">\n",
              "      <th></th>\n",
              "      <th>song</th>\n",
              "      <th>artist</th>\n",
              "      <th>query_id</th>\n",
              "      <th>genius_id</th>\n",
              "      <th>about</th>\n",
              "      <th>artist_speak</th>\n",
              "      <th>trivia</th>\n",
              "      <th>annotation</th>\n",
              "    </tr>\n",
              "  </thead>\n",
              "  <tbody>\n",
              "    <tr>\n",
              "      <th>0</th>\n",
              "      <td>lose control (feat. ciara &amp; fat man scoop)</td>\n",
              "      <td>missy elliott</td>\n",
              "      <td>1</td>\n",
              "      <td>33158.0</td>\n",
              "      <td>another classic missy elliott banger centred a...</td>\n",
              "      <td>NaN</td>\n",
              "      <td>NaN</td>\n",
              "      <td>sampled from “body work” by hot streakhttpwwwy...</td>\n",
              "    </tr>\n",
              "    <tr>\n",
              "      <th>1</th>\n",
              "      <td>toxic</td>\n",
              "      <td>britney spears</td>\n",
              "      <td>0</td>\n",
              "      <td>110982.0</td>\n",
              "      <td>appreciating britney spears was the final fron...</td>\n",
              "      <td>in 2003 brit told mtv “it’s basically about a ...</td>\n",
              "      <td>was toxic offered to anyone else before britne...</td>\n",
              "      <td>before making the video of “cry me a river” ju...</td>\n",
              "    </tr>\n",
              "    <tr>\n",
              "      <th>2</th>\n",
              "      <td>crazy in love</td>\n",
              "      <td>beyoncé</td>\n",
              "      <td>0</td>\n",
              "      <td>32167.0</td>\n",
              "      <td>“crazy in love” is the ridiculously successful...</td>\n",
              "      <td>NaN</td>\n",
              "      <td>NaN</td>\n",
              "      <td>beyonce is trying to depict in words her abili...</td>\n",
              "    </tr>\n",
              "  </tbody>\n",
              "</table>\n",
              "</div>"
            ],
            "text/plain": [
              "                                         song          artist  query_id  \\\n",
              "0  lose control (feat. ciara & fat man scoop)   missy elliott         1   \n",
              "1                                       toxic  britney spears         0   \n",
              "2                               crazy in love        beyoncé         0   \n",
              "\n",
              "   genius_id                                              about  \\\n",
              "0    33158.0  another classic missy elliott banger centred a...   \n",
              "1   110982.0  appreciating britney spears was the final fron...   \n",
              "2    32167.0  “crazy in love” is the ridiculously successful...   \n",
              "\n",
              "                                        artist_speak  \\\n",
              "0                                                NaN   \n",
              "1  in 2003 brit told mtv “it’s basically about a ...   \n",
              "2                                                NaN   \n",
              "\n",
              "                                              trivia  \\\n",
              "0                                                NaN   \n",
              "1  was toxic offered to anyone else before britne...   \n",
              "2                                                NaN   \n",
              "\n",
              "                                          annotation  \n",
              "0  sampled from “body work” by hot streakhttpwwwy...  \n",
              "1  before making the video of “cry me a river” ju...  \n",
              "2  beyonce is trying to depict in words her abili...  "
            ]
          },
          "metadata": {
            "tags": []
          },
          "execution_count": 49
        }
      ]
    },
    {
      "metadata": {
        "id": "CiKNc6NAcDGK",
        "colab_type": "code",
        "colab": {
          "autoexec": {
            "startup": false,
            "wait_interval": 0
          }
        }
      },
      "cell_type": "code",
      "source": [
        "# np.array(data['about'][:5])  # YT links left to remove"
      ],
      "execution_count": 0,
      "outputs": []
    },
    {
      "metadata": {
        "id": "0wsrBze0cDGO",
        "colab_type": "text"
      },
      "cell_type": "markdown",
      "source": [
        "### 2. Basic EDA"
      ]
    },
    {
      "metadata": {
        "id": "EjJMFgRPcDGP",
        "colab_type": "code",
        "colab": {
          "autoexec": {
            "startup": false,
            "wait_interval": 0
          },
          "base_uri": "https://localhost:8080/",
          "height": 34
        },
        "outputId": "0ad50944-b2ef-405f-cbd7-b7005eb1c633",
        "executionInfo": {
          "status": "ok",
          "timestamp": 1525472523139,
          "user_tz": 240,
          "elapsed": 712,
          "user": {
            "displayName": "Mehul Smriti Raje",
            "photoUrl": "//lh3.googleusercontent.com/-ULNZoebPWnQ/AAAAAAAAAAI/AAAAAAAAAaQ/hC3_RchfCRs/s50-c-k-no/photo.jpg",
            "userId": "116597900982323796919"
          }
        }
      },
      "cell_type": "code",
      "source": [
        "# Finding number of values present\n",
        "full = data.shape[0]\n",
        "\n",
        "how_many_about = full - data['about'].isnull().values.sum()\n",
        "how_many_artist_speak = full - data['artist_speak'].isnull().values.sum()\n",
        "how_many_trivia = full - data['trivia'].isnull().values.sum()\n",
        "how_many_annotation = full - data['annotation'].isnull().values.sum()\n",
        "print(how_many_about, how_many_artist_speak, how_many_trivia, how_many_annotation)\n",
        "\n",
        "# About and annotation are worth considering, rest can be combined/removed."
      ],
      "execution_count": 0,
      "outputs": [
        {
          "output_type": "stream",
          "text": [
            "76388 6966 1603 33900\n"
          ],
          "name": "stdout"
        }
      ]
    },
    {
      "metadata": {
        "id": "5GL3hm0TcDGT",
        "colab_type": "code",
        "colab": {
          "autoexec": {
            "startup": false,
            "wait_interval": 0
          },
          "base_uri": "https://localhost:8080/",
          "height": 34
        },
        "outputId": "be906487-fe9c-4628-d952-25664df54aea",
        "executionInfo": {
          "status": "ok",
          "timestamp": 1525472525050,
          "user_tz": 240,
          "elapsed": 657,
          "user": {
            "displayName": "Mehul Smriti Raje",
            "photoUrl": "//lh3.googleusercontent.com/-ULNZoebPWnQ/AAAAAAAAAAI/AAAAAAAAAaQ/hC3_RchfCRs/s50-c-k-no/photo.jpg",
            "userId": "116597900982323796919"
          }
        }
      },
      "cell_type": "code",
      "source": [
        "all_are_null = data.isnull().all(axis=1).values.sum()\n",
        "print(all_are_null)\n",
        "\n",
        "# All entries have atleast one non-null field"
      ],
      "execution_count": 0,
      "outputs": [
        {
          "output_type": "stream",
          "text": [
            "0\n"
          ],
          "name": "stdout"
        }
      ]
    },
    {
      "metadata": {
        "id": "pNl79rHqcDGZ",
        "colab_type": "text"
      },
      "cell_type": "markdown",
      "source": [
        "### 3. Improved LDA to classify into one of pre-defined topics"
      ]
    },
    {
      "metadata": {
        "id": "0myDJQdkdrr5",
        "colab_type": "code",
        "colab": {
          "autoexec": {
            "startup": false,
            "wait_interval": 0
          },
          "base_uri": "https://localhost:8080/",
          "height": 102
        },
        "outputId": "397fefa4-f627-42c0-f612-a802ee01c6b2",
        "executionInfo": {
          "status": "ok",
          "timestamp": 1525472578810,
          "user_tz": 240,
          "elapsed": 2374,
          "user": {
            "displayName": "Mehul Smriti Raje",
            "photoUrl": "//lh3.googleusercontent.com/-ULNZoebPWnQ/AAAAAAAAAAI/AAAAAAAAAaQ/hC3_RchfCRs/s50-c-k-no/photo.jpg",
            "userId": "116597900982323796919"
          }
        }
      },
      "cell_type": "code",
      "source": [
        "import nltk\n",
        "nltk.download('stopwords')\n",
        "nltk.download('wordnet')"
      ],
      "execution_count": 0,
      "outputs": [
        {
          "output_type": "stream",
          "text": [
            "[nltk_data] Downloading package stopwords to /content/nltk_data...\n",
            "[nltk_data]   Unzipping corpora/stopwords.zip.\n",
            "[nltk_data] Downloading package wordnet to /content/nltk_data...\n",
            "[nltk_data]   Unzipping corpora/wordnet.zip.\n"
          ],
          "name": "stdout"
        },
        {
          "output_type": "execute_result",
          "data": {
            "text/plain": [
              "True"
            ]
          },
          "metadata": {
            "tags": []
          },
          "execution_count": 52
        }
      ]
    },
    {
      "metadata": {
        "id": "GDQMz0tYcDGa",
        "colab_type": "code",
        "colab": {
          "autoexec": {
            "startup": false,
            "wait_interval": 0
          }
        }
      },
      "cell_type": "code",
      "source": [
        "from nltk.corpus import stopwords \n",
        "from nltk.stem.wordnet import WordNetLemmatizer\n",
        "import string"
      ],
      "execution_count": 0,
      "outputs": []
    },
    {
      "metadata": {
        "id": "WMfeXrAbcDGd",
        "colab_type": "code",
        "colab": {
          "autoexec": {
            "startup": false,
            "wait_interval": 0
          },
          "base_uri": "https://localhost:8080/",
          "height": 88
        },
        "outputId": "716909cf-ab1a-4888-bcc0-48d65cc139d1",
        "executionInfo": {
          "status": "ok",
          "timestamp": 1525472582303,
          "user_tz": 240,
          "elapsed": 758,
          "user": {
            "displayName": "Mehul Smriti Raje",
            "photoUrl": "//lh3.googleusercontent.com/-ULNZoebPWnQ/AAAAAAAAAAI/AAAAAAAAAaQ/hC3_RchfCRs/s50-c-k-no/photo.jpg",
            "userId": "116597900982323796919"
          }
        }
      },
      "cell_type": "code",
      "source": [
        "stop = set(stopwords.words('english'))\n",
        "exclude = set(string.punctuation) \n",
        "lemma = WordNetLemmatizer()\n",
        "print(stop) \n",
        "print(exclude)\n",
        "print(lemma)"
      ],
      "execution_count": 0,
      "outputs": [
        {
          "output_type": "stream",
          "text": [
            "{'again', 'have', 'their', \"didn't\", 'did', \"couldn't\", 'nor', 'what', 'hadn', 'ain', 'further', \"weren't\", 'itself', 'an', 'that', 'just', 'hers', 'her', 'own', 'both', \"that'll\", \"it's\", 's', 'under', 'the', 'won', 'isn', 'being', 'why', 'ourselves', 'theirs', 'doesn', 'my', 'herself', \"don't\", 'shan', \"hadn't\", 'before', 'having', 'these', \"shan't\", 'until', 'its', 'were', 'am', 'most', 'down', 'if', 'himself', 'then', 'no', 'they', 'through', \"you've\", 'weren', \"you'll\", 'm', 'once', 'didn', 'mightn', 'to', 'ours', 'does', 'for', 'of', \"haven't\", 'themselves', 'in', 'doing', 'very', 'here', 'because', 'off', \"she's\", 'after', 'but', 'o', 'yourself', 'between', 'hasn', 'couldn', 'be', 'had', 'not', 't', 'so', 'now', \"wasn't\", \"doesn't\", \"hasn't\", 'only', \"you're\", 'haven', 'same', 'he', 'on', \"should've\", 'each', 'those', 'myself', 'you', 'do', 'below', 'our', 'this', 'some', 'which', 'mustn', \"needn't\", 'who', 'me', 'yours', 'it', 'can', 'while', 'is', 'any', 'wasn', 'where', 'out', 'more', 'at', 'we', 'and', \"isn't\", 'against', \"shouldn't\", 'yourselves', 'whom', \"mustn't\", 'shouldn', 'during', 'd', 'with', 'up', 'above', 're', 'all', 'as', 'over', 'don', 've', 'been', 'has', 'too', 'she', 'there', 'a', 'll', 'than', 'was', 'from', 'needn', 'should', 'such', 'into', 'aren', 'ma', 'his', 'when', \"aren't\", \"you'd\", 'y', \"mightn't\", 'few', 'how', 'by', \"won't\", 'them', 'are', 'or', 'i', 'wouldn', 'will', 'other', 'about', 'your', 'him', \"wouldn't\"}\n",
            "{'@', '$', ';', '(', '&', \"'\", '^', '-', '\\\\', ',', '+', '>', '[', '/', ')', ']', '`', '|', '=', '<', '!', '%', '\"', '}', '_', ':', '{', '.', '#', '~', '*', '?'}\n",
            "<WordNetLemmatizer>\n"
          ],
          "name": "stdout"
        }
      ]
    },
    {
      "metadata": {
        "id": "wMtlXSBtcDGk",
        "colab_type": "code",
        "colab": {
          "autoexec": {
            "startup": false,
            "wait_interval": 0
          }
        }
      },
      "cell_type": "code",
      "source": [
        "# Create a list of words\n",
        "def gimme_words(s):\n",
        "    try:\n",
        "        final_words = []\n",
        "        words = s.split()\n",
        "        i = 0\n",
        "        total_len = len(words)\n",
        "        while i<total_len:\n",
        "            if words[i][0]=='“' and words[i][-1]=='”':\n",
        "                final_words.append(words[i])\n",
        "                i+=1\n",
        "            elif words[i][0]=='“':\n",
        "                new_word = words[i]\n",
        "                start = i\n",
        "                i+=1\n",
        "                while i<total_len:\n",
        "                    if words[i][-1]=='”':\n",
        "                        new_word+=' '+words[i]\n",
        "                        end = i\n",
        "                        i+=1\n",
        "                        break\n",
        "                    else:\n",
        "                        new_word+=' '+words[i]\n",
        "                        i+=1\n",
        "                final_words.append(new_word)\n",
        "            else:\n",
        "                final_words.append(words[i])\n",
        "                i+=1\n",
        "        return final_words\n",
        "    except:\n",
        "        return []\n",
        "\n",
        "def lda_clean(doc):\n",
        "    try:\n",
        "        doc = doc.replace('’', '\\'')\n",
        "        words1 = gimme_words(doc)\n",
        "        # print(words1)\n",
        "        stop_free = \" \".join([i for i in words1 if i not in stop])\n",
        "        # print(stop_free)\n",
        "        punc_free = ''.join(ch for ch in stop_free if ch not in exclude)\n",
        "        # print(punc_free)\n",
        "        words2 = gimme_words(punc_free)\n",
        "        # print(words2)\n",
        "        normalized = \" \".join(lemma.lemmatize(word) for word in words2)\n",
        "        # print(normalized)\n",
        "        return normalized\n",
        "    except:\n",
        "      # raise ValueError('What')\n",
        "        return doc"
      ],
      "execution_count": 0,
      "outputs": []
    },
    {
      "metadata": {
        "id": "tDSl4W4ncDGp",
        "colab_type": "code",
        "colab": {
          "autoexec": {
            "startup": false,
            "wait_interval": 0
          },
          "base_uri": "https://localhost:8080/",
          "height": 54
        },
        "outputId": "226314c0-9e4f-43b5-b16d-c3abaf7be4df",
        "executionInfo": {
          "status": "ok",
          "timestamp": 1525472603321,
          "user_tz": 240,
          "elapsed": 3087,
          "user": {
            "displayName": "Mehul Smriti Raje",
            "photoUrl": "//lh3.googleusercontent.com/-ULNZoebPWnQ/AAAAAAAAAAI/AAAAAAAAAaQ/hC3_RchfCRs/s50-c-k-no/photo.jpg",
            "userId": "116597900982323796919"
          }
        }
      },
      "cell_type": "code",
      "source": [
        "temp = lda_clean(data['about'][1])\n",
        "temp"
      ],
      "execution_count": 0,
      "outputs": [
        {
          "output_type": "execute_result",
          "data": {
            "text/plain": [
              "'second track 1996 album tidal according fiona interview cmj new music magazine “sullen girl is complicated for me its about a lot of things its about when i was doing the album and everything was happening all at once and i just felt like ‘oh my god whats going on here the second verse is a i went through a really hard time when i was a very very cold person i didnt like to be near people when i was 12 i was raped by a stranger and thats what this song is basically about because i felt like everybody in my life thought there was something wrong with me and it was just my wondering ‘was that what changed me that was an experience that made me a lot stronger it taught me a lot about who i am and life things happen and you go through pain it doesnt have to be such a big deal its like ‘yeah i was raped its over though and i learned from it its sad but good thing come out of it too”'"
            ]
          },
          "metadata": {
            "tags": []
          },
          "execution_count": 56
        }
      ]
    },
    {
      "metadata": {
        "id": "K7d8N3oZcDGt",
        "colab_type": "code",
        "colab": {
          "autoexec": {
            "startup": false,
            "wait_interval": 0
          }
        }
      },
      "cell_type": "code",
      "source": [
        "# LDA Cleaning\n",
        "data['about'] = data['about'].apply(lambda x: lda_clean(x))\n",
        "data['artist_speak'] = data['artist_speak'].apply(lambda x: lda_clean(x))\n",
        "data['trivia'] = data['trivia'].apply(lambda x: lda_clean(x))\n",
        "data['annotation'] = data['annotation'].apply(lambda x: lda_clean(x))"
      ],
      "execution_count": 0,
      "outputs": []
    },
    {
      "metadata": {
        "id": "_ocR9xCca7KD",
        "colab_type": "code",
        "colab": {
          "autoexec": {
            "startup": false,
            "wait_interval": 0
          }
        }
      },
      "cell_type": "code",
      "source": [
        "# LDA Cleaning\n",
        "data['about'] = data['about'].apply(lambda x: gimme_words(x))\n",
        "data['artist_speak'] = data['artist_speak'].apply(lambda x: gimme_words(x))\n",
        "data['trivia'] = data['trivia'].apply(lambda x: gimme_words(x))\n",
        "data['annotation'] = data['annotation'].apply(lambda x: gimme_words(x))"
      ],
      "execution_count": 0,
      "outputs": []
    },
    {
      "metadata": {
        "id": "2qPYSBKEQwmR",
        "colab_type": "code",
        "colab": {
          "autoexec": {
            "startup": false,
            "wait_interval": 0
          }
        }
      },
      "cell_type": "code",
      "source": [
        "def make_set(lst):\n",
        "  return set(lst)\n",
        "\n",
        "\n",
        "# LDA Cleaning\n",
        "data['about'] = data['about'].apply(lambda x: make_set(x))\n",
        "data['artist_speak'] = data['artist_speak'].apply(lambda x: make_set(x))\n",
        "data['trivia'] = data['trivia'].apply(lambda x: make_set(x))\n",
        "data['annotation'] = data['annotation'].apply(lambda x: make_set(x))"
      ],
      "execution_count": 0,
      "outputs": []
    },
    {
      "metadata": {
        "id": "X9-IeLKOcDG0",
        "colab_type": "code",
        "colab": {
          "autoexec": {
            "startup": false,
            "wait_interval": 0
          },
          "base_uri": "https://localhost:8080/",
          "height": 244
        },
        "outputId": "d149e26d-43f3-4cf7-9a3b-63f8eb598633",
        "executionInfo": {
          "status": "ok",
          "timestamp": 1525472939498,
          "user_tz": 240,
          "elapsed": 849,
          "user": {
            "displayName": "Mehul Smriti Raje",
            "photoUrl": "//lh3.googleusercontent.com/-ULNZoebPWnQ/AAAAAAAAAAI/AAAAAAAAAaQ/hC3_RchfCRs/s50-c-k-no/photo.jpg",
            "userId": "116597900982323796919"
          }
        }
      },
      "cell_type": "code",
      "source": [
        "print(data.shape)\n",
        "data.head(3)"
      ],
      "execution_count": 0,
      "outputs": [
        {
          "output_type": "stream",
          "text": [
            "(107682, 8)\n"
          ],
          "name": "stdout"
        },
        {
          "output_type": "execute_result",
          "data": {
            "text/html": [
              "<div>\n",
              "<style scoped>\n",
              "    .dataframe tbody tr th:only-of-type {\n",
              "        vertical-align: middle;\n",
              "    }\n",
              "\n",
              "    .dataframe tbody tr th {\n",
              "        vertical-align: top;\n",
              "    }\n",
              "\n",
              "    .dataframe thead th {\n",
              "        text-align: right;\n",
              "    }\n",
              "</style>\n",
              "<table border=\"1\" class=\"dataframe\">\n",
              "  <thead>\n",
              "    <tr style=\"text-align: right;\">\n",
              "      <th></th>\n",
              "      <th>song</th>\n",
              "      <th>artist</th>\n",
              "      <th>query_id</th>\n",
              "      <th>genius_id</th>\n",
              "      <th>about</th>\n",
              "      <th>artist_speak</th>\n",
              "      <th>trivia</th>\n",
              "      <th>annotation</th>\n",
              "    </tr>\n",
              "  </thead>\n",
              "  <tbody>\n",
              "    <tr>\n",
              "      <th>0</th>\n",
              "      <td>lose control (feat. ciara &amp; fat man scoop)</td>\n",
              "      <td>missy elliott</td>\n",
              "      <td>1</td>\n",
              "      <td>33158.0</td>\n",
              "      <td>{streak, number, cybotrons, engaging, floor, b...</td>\n",
              "      <td>{}</td>\n",
              "      <td>{}</td>\n",
              "      <td>{heard, pretty, really, throughout, whole, lin...</td>\n",
              "    </tr>\n",
              "    <tr>\n",
              "      <th>1</th>\n",
              "      <td>toxic</td>\n",
              "      <td>britney spears</td>\n",
              "      <td>0</td>\n",
              "      <td>110982.0</td>\n",
              "      <td>{surfguitar, shedding, throttled, red, sexuali...</td>\n",
              "      <td>{brit, mtv, 2003, “its basically about a girl ...</td>\n",
              "      <td>{song, revealed, toxic, recorded, yes, intervi...</td>\n",
              "      <td>{carnal, back, people, reflects, tire, little,...</td>\n",
              "    </tr>\n",
              "    <tr>\n",
              "      <th>2</th>\n",
              "      <td>crazy in love</td>\n",
              "      <td>beyoncé</td>\n",
              "      <td>0</td>\n",
              "      <td>32167.0</td>\n",
              "      <td>{time, chicago, “crazy in love”, second, album...</td>\n",
              "      <td>{}</td>\n",
              "      <td>{}</td>\n",
              "      <td>{number, jehovah, therefore, yall, smoke, peop...</td>\n",
              "    </tr>\n",
              "  </tbody>\n",
              "</table>\n",
              "</div>"
            ],
            "text/plain": [
              "                                         song          artist  query_id  \\\n",
              "0  lose control (feat. ciara & fat man scoop)   missy elliott         1   \n",
              "1                                       toxic  britney spears         0   \n",
              "2                               crazy in love        beyoncé         0   \n",
              "\n",
              "   genius_id                                              about  \\\n",
              "0    33158.0  {streak, number, cybotrons, engaging, floor, b...   \n",
              "1   110982.0  {surfguitar, shedding, throttled, red, sexuali...   \n",
              "2    32167.0  {time, chicago, “crazy in love”, second, album...   \n",
              "\n",
              "                                        artist_speak  \\\n",
              "0                                                 {}   \n",
              "1  {brit, mtv, 2003, “its basically about a girl ...   \n",
              "2                                                 {}   \n",
              "\n",
              "                                              trivia  \\\n",
              "0                                                 {}   \n",
              "1  {song, revealed, toxic, recorded, yes, intervi...   \n",
              "2                                                 {}   \n",
              "\n",
              "                                          annotation  \n",
              "0  {heard, pretty, really, throughout, whole, lin...  \n",
              "1  {carnal, back, people, reflects, tire, little,...  \n",
              "2  {number, jehovah, therefore, yall, smoke, peop...  "
            ]
          },
          "metadata": {
            "tags": []
          },
          "execution_count": 60
        }
      ]
    },
    {
      "metadata": {
        "id": "rk1TFz9Ce3hr",
        "colab_type": "code",
        "colab": {
          "autoexec": {
            "startup": false,
            "wait_interval": 0
          }
        }
      },
      "cell_type": "code",
      "source": [
        "# Storing the dataframe\n",
        "\n",
        "import pickle\n",
        "with open(\"data_word_sets\", \"wb\") as fp:\n",
        "  pickle.dump(data, fp)"
      ],
      "execution_count": 0,
      "outputs": []
    },
    {
      "metadata": {
        "id": "5eFzOc4cfrPt",
        "colab_type": "code",
        "colab": {
          "autoexec": {
            "startup": false,
            "wait_interval": 0
          },
          "base_uri": "https://localhost:8080/",
          "height": 34
        },
        "outputId": "5b89f6a2-71d7-4111-904e-ca32e81b4469",
        "executionInfo": {
          "status": "ok",
          "timestamp": 1525472997996,
          "user_tz": 240,
          "elapsed": 3904,
          "user": {
            "displayName": "Mehul Smriti Raje",
            "photoUrl": "//lh3.googleusercontent.com/-ULNZoebPWnQ/AAAAAAAAAAI/AAAAAAAAAaQ/hC3_RchfCRs/s50-c-k-no/photo.jpg",
            "userId": "116597900982323796919"
          }
        }
      },
      "cell_type": "code",
      "source": [
        "uploaded = drive.CreateFile({'title': 'data_word_sets'})\n",
        "uploaded.SetContentFile('data_word_sets')\n",
        "uploaded.Upload()\n",
        "print('Uploaded file with ID {}'.format(uploaded.get('id')))"
      ],
      "execution_count": 0,
      "outputs": [
        {
          "output_type": "stream",
          "text": [
            "Uploaded file with ID 19b-aCTixix3zG3BJfUGJDCMEqVnSq-gl\n"
          ],
          "name": "stdout"
        }
      ]
    },
    {
      "metadata": {
        "id": "a25Wnx3PgERf",
        "colab_type": "code",
        "colab": {
          "autoexec": {
            "startup": false,
            "wait_interval": 0
          },
          "base_uri": "https://localhost:8080/",
          "height": 68
        },
        "outputId": "d2206f8c-9cab-4c7a-ad8a-136012a4444b",
        "executionInfo": {
          "status": "ok",
          "timestamp": 1525474098984,
          "user_tz": 240,
          "elapsed": 1743,
          "user": {
            "displayName": "Mehul Smriti Raje",
            "photoUrl": "//lh3.googleusercontent.com/-ULNZoebPWnQ/AAAAAAAAAAI/AAAAAAAAAaQ/hC3_RchfCRs/s50-c-k-no/photo.jpg",
            "userId": "116597900982323796919"
          }
        }
      },
      "cell_type": "code",
      "source": [
        "ls"
      ],
      "execution_count": 0,
      "outputs": [
        {
          "output_type": "stream",
          "text": [
            "0-99999.csv        clean_data      data_word_sets\r\n",
            "100000-186279.csv  clean_data_nvc  \u001b[0m\u001b[01;34mnltk_data\u001b[0m/\r\n",
            "5k_track_uri.csv   \u001b[01;34mdatalab\u001b[0m/        track_uri.csv\r\n"
          ],
          "name": "stdout"
        }
      ]
    },
    {
      "metadata": {
        "id": "PXfmdLOXHctJ",
        "colab_type": "text"
      },
      "cell_type": "markdown",
      "source": [
        "### Sub: Loading word sets from pickle and into dataframe"
      ]
    },
    {
      "metadata": {
        "id": "oLvqe67dMD-p",
        "colab_type": "code",
        "colab": {
          "autoexec": {
            "startup": false,
            "wait_interval": 0
          }
        }
      },
      "cell_type": "code",
      "source": [
        "data_downloaded = drive.CreateFile({'id': '19b-aCTixix3zG3BJfUGJDCMEqVnSq-gl'})\n",
        "data_downloaded.GetContentFile('data_word_sets')"
      ],
      "execution_count": 0,
      "outputs": []
    },
    {
      "metadata": {
        "id": "u8IUoFKZHb9W",
        "colab_type": "code",
        "colab": {
          "autoexec": {
            "startup": false,
            "wait_interval": 0
          },
          "base_uri": "https://localhost:8080/",
          "height": 68
        },
        "outputId": "53c5ef5c-fa9a-485c-fc21-cdde0d44c0b4",
        "executionInfo": {
          "status": "ok",
          "timestamp": 1525474156176,
          "user_tz": 240,
          "elapsed": 2105,
          "user": {
            "displayName": "Mehul Smriti Raje",
            "photoUrl": "//lh3.googleusercontent.com/-ULNZoebPWnQ/AAAAAAAAAAI/AAAAAAAAAaQ/hC3_RchfCRs/s50-c-k-no/photo.jpg",
            "userId": "116597900982323796919"
          }
        }
      },
      "cell_type": "code",
      "source": [
        "!ls\n",
        "\n",
        "# DO HERE"
      ],
      "execution_count": 0,
      "outputs": [
        {
          "output_type": "stream",
          "text": [
            "0-99999.csv\t   clean_data\t   data_word_sets\r\n",
            "100000-186279.csv  clean_data_nvc  nltk_data\r\n",
            "5k_track_uri.csv   datalab\t   track_uri.csv\r\n"
          ],
          "name": "stdout"
        }
      ]
    },
    {
      "metadata": {
        "id": "OAKU2-_-JUw9",
        "colab_type": "code",
        "colab": {
          "autoexec": {
            "startup": false,
            "wait_interval": 0
          }
        }
      },
      "cell_type": "code",
      "source": [
        "import pickle \n",
        "\n",
        "with open(\"data_word_sets\", \"rb\") as fp:   # Unpickling\n",
        "  data_word_sets = pickle.load(fp)"
      ],
      "execution_count": 0,
      "outputs": []
    },
    {
      "metadata": {
        "id": "25P_H_twJjAK",
        "colab_type": "code",
        "colab": {
          "autoexec": {
            "startup": false,
            "wait_interval": 0
          },
          "base_uri": "https://localhost:8080/",
          "height": 391
        },
        "outputId": "5cbb2901-9af7-4b72-a1ad-27fa88f71f32",
        "executionInfo": {
          "status": "ok",
          "timestamp": 1525481672243,
          "user_tz": 240,
          "elapsed": 945,
          "user": {
            "displayName": "Mehul Smriti Raje",
            "photoUrl": "//lh3.googleusercontent.com/-ULNZoebPWnQ/AAAAAAAAAAI/AAAAAAAAAaQ/hC3_RchfCRs/s50-c-k-no/photo.jpg",
            "userId": "116597900982323796919"
          }
        }
      },
      "cell_type": "code",
      "source": [
        "import pandas as pd\n",
        "import numpy as np\n",
        "\n",
        "data_word_sets.head()"
      ],
      "execution_count": 0,
      "outputs": [
        {
          "output_type": "execute_result",
          "data": {
            "text/html": [
              "<div>\n",
              "<style scoped>\n",
              "    .dataframe tbody tr th:only-of-type {\n",
              "        vertical-align: middle;\n",
              "    }\n",
              "\n",
              "    .dataframe tbody tr th {\n",
              "        vertical-align: top;\n",
              "    }\n",
              "\n",
              "    .dataframe thead th {\n",
              "        text-align: right;\n",
              "    }\n",
              "</style>\n",
              "<table border=\"1\" class=\"dataframe\">\n",
              "  <thead>\n",
              "    <tr style=\"text-align: right;\">\n",
              "      <th></th>\n",
              "      <th>song</th>\n",
              "      <th>artist</th>\n",
              "      <th>query_id</th>\n",
              "      <th>genius_id</th>\n",
              "      <th>about</th>\n",
              "      <th>artist_speak</th>\n",
              "      <th>trivia</th>\n",
              "      <th>annotation</th>\n",
              "    </tr>\n",
              "  </thead>\n",
              "  <tbody>\n",
              "    <tr>\n",
              "      <th>0</th>\n",
              "      <td>lose control (feat. ciara &amp; fat man scoop)</td>\n",
              "      <td>missy elliott</td>\n",
              "      <td>1</td>\n",
              "      <td>33158.0</td>\n",
              "      <td>{engaging, dance, floor, control, around, char...</td>\n",
              "      <td>{}</td>\n",
              "      <td>{}</td>\n",
              "      <td>{powerful, track, really, elliots, world, song...</td>\n",
              "    </tr>\n",
              "    <tr>\n",
              "      <th>1</th>\n",
              "      <td>toxic</td>\n",
              "      <td>britney spears</td>\n",
              "      <td>0</td>\n",
              "      <td>110982.0</td>\n",
              "      <td>{sure, red, punctuation, producer, matter, mis...</td>\n",
              "      <td>{2003, brit, “its basically about a girl addic...</td>\n",
              "      <td>{happens, song, interview, revealed, yes, cohe...</td>\n",
              "      <td>{two, stating, contra, drug, romantic, like, l...</td>\n",
              "    </tr>\n",
              "    <tr>\n",
              "      <th>2</th>\n",
              "      <td>crazy in love</td>\n",
              "      <td>beyoncé</td>\n",
              "      <td>0</td>\n",
              "      <td>32167.0</td>\n",
              "      <td>{beyoncés, time, group, lead, collaborative, ...</td>\n",
              "      <td>{}</td>\n",
              "      <td>{}</td>\n",
              "      <td>{stating, roc, “part ii on the run”, term, ask...</td>\n",
              "    </tr>\n",
              "    <tr>\n",
              "      <th>3</th>\n",
              "      <td>rock your body</td>\n",
              "      <td>justin timberlake</td>\n",
              "      <td>0</td>\n",
              "      <td>124611.0</td>\n",
              "      <td>{xxxviii, invincible, took, pharrell, solo, re...</td>\n",
              "      <td>{}</td>\n",
              "      <td>{}</td>\n",
              "      <td>{true, parody, club, ladieshes, story, explici...</td>\n",
              "    </tr>\n",
              "    <tr>\n",
              "      <th>4</th>\n",
              "      <td>it wasn't me</td>\n",
              "      <td>shaggy</td>\n",
              "      <td>0</td>\n",
              "      <td>33108.0</td>\n",
              "      <td>{open, became, recording, said, story, like, d...</td>\n",
              "      <td>{}</td>\n",
              "      <td>{}</td>\n",
              "      <td>{usagehttpwwwyoutubecomwatchvuf6qfbqd9uthe, se...</td>\n",
              "    </tr>\n",
              "  </tbody>\n",
              "</table>\n",
              "</div>"
            ],
            "text/plain": [
              "                                         song             artist  query_id  \\\n",
              "0  lose control (feat. ciara & fat man scoop)      missy elliott         1   \n",
              "1                                       toxic     britney spears         0   \n",
              "2                               crazy in love           beyoncé         0   \n",
              "3                              rock your body  justin timberlake         0   \n",
              "4                                it wasn't me             shaggy         0   \n",
              "\n",
              "   genius_id                                              about  \\\n",
              "0    33158.0  {engaging, dance, floor, control, around, char...   \n",
              "1   110982.0  {sure, red, punctuation, producer, matter, mis...   \n",
              "2    32167.0  {beyoncés, time, group, lead, collaborative, ...   \n",
              "3   124611.0  {xxxviii, invincible, took, pharrell, solo, re...   \n",
              "4    33108.0  {open, became, recording, said, story, like, d...   \n",
              "\n",
              "                                        artist_speak  \\\n",
              "0                                                 {}   \n",
              "1  {2003, brit, “its basically about a girl addic...   \n",
              "2                                                 {}   \n",
              "3                                                 {}   \n",
              "4                                                 {}   \n",
              "\n",
              "                                              trivia  \\\n",
              "0                                                 {}   \n",
              "1  {happens, song, interview, revealed, yes, cohe...   \n",
              "2                                                 {}   \n",
              "3                                                 {}   \n",
              "4                                                 {}   \n",
              "\n",
              "                                          annotation  \n",
              "0  {powerful, track, really, elliots, world, song...  \n",
              "1  {two, stating, contra, drug, romantic, like, l...  \n",
              "2  {stating, roc, “part ii on the run”, term, ask...  \n",
              "3  {true, parody, club, ladieshes, story, explici...  \n",
              "4  {usagehttpwwwyoutubecomwatchvuf6qfbqd9uthe, se...  "
            ]
          },
          "metadata": {
            "tags": []
          },
          "execution_count": 11
        }
      ]
    },
    {
      "metadata": {
        "id": "fptKjiWsIkhE",
        "colab_type": "text"
      },
      "cell_type": "markdown",
      "source": [
        "### Sub: Condensing words"
      ]
    },
    {
      "metadata": {
        "id": "qdJdpR2XZcVI",
        "colab_type": "code",
        "colab": {
          "autoexec": {
            "startup": false,
            "wait_interval": 0
          }
        }
      },
      "cell_type": "code",
      "source": [
        "def merge_all(row):\n",
        "  words = set()\n",
        "  words = words.union(row['about'])\n",
        "  words = words.union(row['artist_speak'])  \n",
        "  words = words.union(row['trivia'])    \n",
        "  words = words.union(row['annotation'])    \n",
        "  return words"
      ],
      "execution_count": 0,
      "outputs": []
    },
    {
      "metadata": {
        "id": "9dbV3sfdZAAJ",
        "colab_type": "code",
        "colab": {
          "autoexec": {
            "startup": false,
            "wait_interval": 0
          },
          "base_uri": "https://localhost:8080/",
          "height": 34
        },
        "outputId": "8b8cc58c-b120-4734-92ad-35a4dab2b213",
        "executionInfo": {
          "status": "ok",
          "timestamp": 1525481683960,
          "user_tz": 240,
          "elapsed": 2053,
          "user": {
            "displayName": "Mehul Smriti Raje",
            "photoUrl": "//lh3.googleusercontent.com/-ULNZoebPWnQ/AAAAAAAAAAI/AAAAAAAAAaQ/hC3_RchfCRs/s50-c-k-no/photo.jpg",
            "userId": "116597900982323796919"
          }
        }
      },
      "cell_type": "code",
      "source": [
        "# Merge columns\n",
        "set_1 = {'a', 'b'}\n",
        "set_b = {'b', 'd'}\n",
        "set_c = {}\n",
        "set_1.union(set_b)\n",
        "set_1.union(set_c)"
      ],
      "execution_count": 0,
      "outputs": [
        {
          "output_type": "execute_result",
          "data": {
            "text/plain": [
              "{'a', 'b'}"
            ]
          },
          "metadata": {
            "tags": []
          },
          "execution_count": 13
        }
      ]
    },
    {
      "metadata": {
        "id": "qTp90zxVbkaL",
        "colab_type": "code",
        "colab": {
          "autoexec": {
            "startup": false,
            "wait_interval": 0
          },
          "base_uri": "https://localhost:8080/",
          "height": 111
        },
        "outputId": "c7b7e7f6-df98-4180-c849-e70b479e3074",
        "executionInfo": {
          "status": "ok",
          "timestamp": 1525476475407,
          "user_tz": 240,
          "elapsed": 642,
          "user": {
            "displayName": "Mehul Smriti Raje",
            "photoUrl": "//lh3.googleusercontent.com/-ULNZoebPWnQ/AAAAAAAAAAI/AAAAAAAAAaQ/hC3_RchfCRs/s50-c-k-no/photo.jpg",
            "userId": "116597900982323796919"
          }
        }
      },
      "cell_type": "code",
      "source": [
        "df = pd.DataFrame({'Year': [{'2014', '2013'}, {'2015','2013'}], 'quarter': [{'q1','q3'}, {'q2','q3'}]})\n",
        "df['new_new_col'] = ''\n",
        "df['new_new_col'] = df['new_new_col'].apply(set)\n",
        "df"
      ],
      "execution_count": 0,
      "outputs": [
        {
          "output_type": "execute_result",
          "data": {
            "text/html": [
              "<div>\n",
              "<style scoped>\n",
              "    .dataframe tbody tr th:only-of-type {\n",
              "        vertical-align: middle;\n",
              "    }\n",
              "\n",
              "    .dataframe tbody tr th {\n",
              "        vertical-align: top;\n",
              "    }\n",
              "\n",
              "    .dataframe thead th {\n",
              "        text-align: right;\n",
              "    }\n",
              "</style>\n",
              "<table border=\"1\" class=\"dataframe\">\n",
              "  <thead>\n",
              "    <tr style=\"text-align: right;\">\n",
              "      <th></th>\n",
              "      <th>Year</th>\n",
              "      <th>quarter</th>\n",
              "      <th>new_new_col</th>\n",
              "    </tr>\n",
              "  </thead>\n",
              "  <tbody>\n",
              "    <tr>\n",
              "      <th>0</th>\n",
              "      <td>{2013, 2014}</td>\n",
              "      <td>{q3, q1}</td>\n",
              "      <td>{}</td>\n",
              "    </tr>\n",
              "    <tr>\n",
              "      <th>1</th>\n",
              "      <td>{2015, 2013}</td>\n",
              "      <td>{q2, q3}</td>\n",
              "      <td>{}</td>\n",
              "    </tr>\n",
              "  </tbody>\n",
              "</table>\n",
              "</div>"
            ],
            "text/plain": [
              "           Year   quarter new_new_col\n",
              "0  {2013, 2014}  {q3, q1}          {}\n",
              "1  {2015, 2013}  {q2, q3}          {}"
            ]
          },
          "metadata": {
            "tags": []
          },
          "execution_count": 119
        }
      ]
    },
    {
      "metadata": {
        "id": "R0-UV4N_d8Fb",
        "colab_type": "code",
        "colab": {
          "autoexec": {
            "startup": false,
            "wait_interval": 0
          }
        }
      },
      "cell_type": "code",
      "source": [
        "# def merge_all_temp(row):\n",
        "#   words = set()\n",
        "#   words = words.union(row['Year'])\n",
        "#   words = words.union(row['quarter'])\n",
        "#   return words"
      ],
      "execution_count": 0,
      "outputs": []
    },
    {
      "metadata": {
        "id": "NUjaU08Qcoyc",
        "colab_type": "code",
        "colab": {
          "autoexec": {
            "startup": false,
            "wait_interval": 0
          },
          "base_uri": "https://localhost:8080/",
          "height": 111
        },
        "outputId": "3df435d7-3407-49ee-f22b-1955d82c939c",
        "executionInfo": {
          "status": "ok",
          "timestamp": 1525476480957,
          "user_tz": 240,
          "elapsed": 662,
          "user": {
            "displayName": "Mehul Smriti Raje",
            "photoUrl": "//lh3.googleusercontent.com/-ULNZoebPWnQ/AAAAAAAAAAI/AAAAAAAAAaQ/hC3_RchfCRs/s50-c-k-no/photo.jpg",
            "userId": "116597900982323796919"
          }
        }
      },
      "cell_type": "code",
      "source": [
        "df['new_new_col'] = df.apply(lambda row: merge_all_temp(row), axis=1)\n",
        "df"
      ],
      "execution_count": 0,
      "outputs": [
        {
          "output_type": "execute_result",
          "data": {
            "text/html": [
              "<div>\n",
              "<style scoped>\n",
              "    .dataframe tbody tr th:only-of-type {\n",
              "        vertical-align: middle;\n",
              "    }\n",
              "\n",
              "    .dataframe tbody tr th {\n",
              "        vertical-align: top;\n",
              "    }\n",
              "\n",
              "    .dataframe thead th {\n",
              "        text-align: right;\n",
              "    }\n",
              "</style>\n",
              "<table border=\"1\" class=\"dataframe\">\n",
              "  <thead>\n",
              "    <tr style=\"text-align: right;\">\n",
              "      <th></th>\n",
              "      <th>Year</th>\n",
              "      <th>quarter</th>\n",
              "      <th>new_new_col</th>\n",
              "    </tr>\n",
              "  </thead>\n",
              "  <tbody>\n",
              "    <tr>\n",
              "      <th>0</th>\n",
              "      <td>{2013, 2014}</td>\n",
              "      <td>{q3, q1}</td>\n",
              "      <td>{q3, 2013, 2014, q1}</td>\n",
              "    </tr>\n",
              "    <tr>\n",
              "      <th>1</th>\n",
              "      <td>{2015, 2013}</td>\n",
              "      <td>{q2, q3}</td>\n",
              "      <td>{q3, 2015, q2, 2013}</td>\n",
              "    </tr>\n",
              "  </tbody>\n",
              "</table>\n",
              "</div>"
            ],
            "text/plain": [
              "           Year   quarter           new_new_col\n",
              "0  {2013, 2014}  {q3, q1}  {q3, 2013, 2014, q1}\n",
              "1  {2015, 2013}  {q2, q3}  {q3, 2015, q2, 2013}"
            ]
          },
          "metadata": {
            "tags": []
          },
          "execution_count": 121
        }
      ]
    },
    {
      "metadata": {
        "id": "MoIOND2LajTD",
        "colab_type": "code",
        "colab": {
          "autoexec": {
            "startup": false,
            "wait_interval": 0
          },
          "base_uri": "https://localhost:8080/",
          "height": 261
        },
        "outputId": "6e055226-f443-4a0b-bcbe-d222f54121c3",
        "executionInfo": {
          "status": "ok",
          "timestamp": 1525481700316,
          "user_tz": 240,
          "elapsed": 9460,
          "user": {
            "displayName": "Mehul Smriti Raje",
            "photoUrl": "//lh3.googleusercontent.com/-ULNZoebPWnQ/AAAAAAAAAAI/AAAAAAAAAaQ/hC3_RchfCRs/s50-c-k-no/photo.jpg",
            "userId": "116597900982323796919"
          }
        }
      },
      "cell_type": "code",
      "source": [
        "data_word_sets['words'] = ''\n",
        "data_word_sets['words'] = data_word_sets['words'].apply(set)\n",
        "\n",
        "data_word_sets['words'] = data_word_sets.apply(lambda row: merge_all(row), axis=1)\n",
        "data_word_sets.head(3)"
      ],
      "execution_count": 0,
      "outputs": [
        {
          "output_type": "execute_result",
          "data": {
            "text/html": [
              "<div>\n",
              "<style scoped>\n",
              "    .dataframe tbody tr th:only-of-type {\n",
              "        vertical-align: middle;\n",
              "    }\n",
              "\n",
              "    .dataframe tbody tr th {\n",
              "        vertical-align: top;\n",
              "    }\n",
              "\n",
              "    .dataframe thead th {\n",
              "        text-align: right;\n",
              "    }\n",
              "</style>\n",
              "<table border=\"1\" class=\"dataframe\">\n",
              "  <thead>\n",
              "    <tr style=\"text-align: right;\">\n",
              "      <th></th>\n",
              "      <th>song</th>\n",
              "      <th>artist</th>\n",
              "      <th>query_id</th>\n",
              "      <th>genius_id</th>\n",
              "      <th>about</th>\n",
              "      <th>artist_speak</th>\n",
              "      <th>trivia</th>\n",
              "      <th>annotation</th>\n",
              "      <th>words</th>\n",
              "    </tr>\n",
              "  </thead>\n",
              "  <tbody>\n",
              "    <tr>\n",
              "      <th>0</th>\n",
              "      <td>lose control (feat. ciara &amp; fat man scoop)</td>\n",
              "      <td>missy elliott</td>\n",
              "      <td>1</td>\n",
              "      <td>33158.0</td>\n",
              "      <td>{engaging, dance, floor, control, around, char...</td>\n",
              "      <td>{}</td>\n",
              "      <td>{}</td>\n",
              "      <td>{powerful, track, really, elliots, world, song...</td>\n",
              "      <td>{engaging, floor, really, around, bunch, world...</td>\n",
              "    </tr>\n",
              "    <tr>\n",
              "      <th>1</th>\n",
              "      <td>toxic</td>\n",
              "      <td>britney spears</td>\n",
              "      <td>0</td>\n",
              "      <td>110982.0</td>\n",
              "      <td>{sure, red, punctuation, producer, matter, mis...</td>\n",
              "      <td>{2003, brit, “its basically about a girl addic...</td>\n",
              "      <td>{happens, song, interview, revealed, yes, cohe...</td>\n",
              "      <td>{two, stating, contra, drug, romantic, like, l...</td>\n",
              "      <td>{two, stating, matter, contra, mysteriously, r...</td>\n",
              "    </tr>\n",
              "    <tr>\n",
              "      <th>2</th>\n",
              "      <td>crazy in love</td>\n",
              "      <td>beyoncé</td>\n",
              "      <td>0</td>\n",
              "      <td>32167.0</td>\n",
              "      <td>{beyoncés, time, group, lead, collaborative, ...</td>\n",
              "      <td>{}</td>\n",
              "      <td>{}</td>\n",
              "      <td>{stating, roc, “part ii on the run”, term, ask...</td>\n",
              "      <td>{stating, term, ask, television, puff, rythm, ...</td>\n",
              "    </tr>\n",
              "  </tbody>\n",
              "</table>\n",
              "</div>"
            ],
            "text/plain": [
              "                                         song          artist  query_id  \\\n",
              "0  lose control (feat. ciara & fat man scoop)   missy elliott         1   \n",
              "1                                       toxic  britney spears         0   \n",
              "2                               crazy in love        beyoncé         0   \n",
              "\n",
              "   genius_id                                              about  \\\n",
              "0    33158.0  {engaging, dance, floor, control, around, char...   \n",
              "1   110982.0  {sure, red, punctuation, producer, matter, mis...   \n",
              "2    32167.0  {beyoncés, time, group, lead, collaborative, ...   \n",
              "\n",
              "                                        artist_speak  \\\n",
              "0                                                 {}   \n",
              "1  {2003, brit, “its basically about a girl addic...   \n",
              "2                                                 {}   \n",
              "\n",
              "                                              trivia  \\\n",
              "0                                                 {}   \n",
              "1  {happens, song, interview, revealed, yes, cohe...   \n",
              "2                                                 {}   \n",
              "\n",
              "                                          annotation  \\\n",
              "0  {powerful, track, really, elliots, world, song...   \n",
              "1  {two, stating, contra, drug, romantic, like, l...   \n",
              "2  {stating, roc, “part ii on the run”, term, ask...   \n",
              "\n",
              "                                               words  \n",
              "0  {engaging, floor, really, around, bunch, world...  \n",
              "1  {two, stating, matter, contra, mysteriously, r...  \n",
              "2  {stating, term, ask, television, puff, rythm, ...  "
            ]
          },
          "metadata": {
            "tags": []
          },
          "execution_count": 14
        }
      ]
    },
    {
      "metadata": {
        "id": "X_e3Q7wQfrav",
        "colab_type": "code",
        "colab": {
          "autoexec": {
            "startup": false,
            "wait_interval": 0
          },
          "base_uri": "https://localhost:8080/",
          "height": 142
        },
        "outputId": "689ee408-8903-4378-a328-8dd4dfaaa671",
        "executionInfo": {
          "status": "ok",
          "timestamp": 1525481704965,
          "user_tz": 240,
          "elapsed": 924,
          "user": {
            "displayName": "Mehul Smriti Raje",
            "photoUrl": "//lh3.googleusercontent.com/-ULNZoebPWnQ/AAAAAAAAAAI/AAAAAAAAAaQ/hC3_RchfCRs/s50-c-k-no/photo.jpg",
            "userId": "116597900982323796919"
          }
        }
      },
      "cell_type": "code",
      "source": [
        "# Delete the rest\n",
        "data_word_sets = data_word_sets.drop(['about','artist_speak','trivia','annotation'], axis = 1)\n",
        "data_word_sets.head(3)"
      ],
      "execution_count": 0,
      "outputs": [
        {
          "output_type": "execute_result",
          "data": {
            "text/html": [
              "<div>\n",
              "<style scoped>\n",
              "    .dataframe tbody tr th:only-of-type {\n",
              "        vertical-align: middle;\n",
              "    }\n",
              "\n",
              "    .dataframe tbody tr th {\n",
              "        vertical-align: top;\n",
              "    }\n",
              "\n",
              "    .dataframe thead th {\n",
              "        text-align: right;\n",
              "    }\n",
              "</style>\n",
              "<table border=\"1\" class=\"dataframe\">\n",
              "  <thead>\n",
              "    <tr style=\"text-align: right;\">\n",
              "      <th></th>\n",
              "      <th>song</th>\n",
              "      <th>artist</th>\n",
              "      <th>query_id</th>\n",
              "      <th>genius_id</th>\n",
              "      <th>words</th>\n",
              "    </tr>\n",
              "  </thead>\n",
              "  <tbody>\n",
              "    <tr>\n",
              "      <th>0</th>\n",
              "      <td>lose control (feat. ciara &amp; fat man scoop)</td>\n",
              "      <td>missy elliott</td>\n",
              "      <td>1</td>\n",
              "      <td>33158.0</td>\n",
              "      <td>{engaging, floor, really, around, bunch, world...</td>\n",
              "    </tr>\n",
              "    <tr>\n",
              "      <th>1</th>\n",
              "      <td>toxic</td>\n",
              "      <td>britney spears</td>\n",
              "      <td>0</td>\n",
              "      <td>110982.0</td>\n",
              "      <td>{two, stating, matter, contra, mysteriously, r...</td>\n",
              "    </tr>\n",
              "    <tr>\n",
              "      <th>2</th>\n",
              "      <td>crazy in love</td>\n",
              "      <td>beyoncé</td>\n",
              "      <td>0</td>\n",
              "      <td>32167.0</td>\n",
              "      <td>{stating, term, ask, television, puff, rythm, ...</td>\n",
              "    </tr>\n",
              "  </tbody>\n",
              "</table>\n",
              "</div>"
            ],
            "text/plain": [
              "                                         song          artist  query_id  \\\n",
              "0  lose control (feat. ciara & fat man scoop)   missy elliott         1   \n",
              "1                                       toxic  britney spears         0   \n",
              "2                               crazy in love        beyoncé         0   \n",
              "\n",
              "   genius_id                                              words  \n",
              "0    33158.0  {engaging, floor, really, around, bunch, world...  \n",
              "1   110982.0  {two, stating, matter, contra, mysteriously, r...  \n",
              "2    32167.0  {stating, term, ask, television, puff, rythm, ...  "
            ]
          },
          "metadata": {
            "tags": []
          },
          "execution_count": 15
        }
      ]
    },
    {
      "metadata": {
        "id": "sQyse3V2f_T8",
        "colab_type": "code",
        "colab": {
          "autoexec": {
            "startup": false,
            "wait_interval": 0
          },
          "base_uri": "https://localhost:8080/",
          "height": 34
        },
        "outputId": "c898f8ac-522f-45e0-b21f-ba64a313e098",
        "executionInfo": {
          "status": "ok",
          "timestamp": 1525476869614,
          "user_tz": 240,
          "elapsed": 7657,
          "user": {
            "displayName": "Mehul Smriti Raje",
            "photoUrl": "//lh3.googleusercontent.com/-ULNZoebPWnQ/AAAAAAAAAAI/AAAAAAAAAaQ/hC3_RchfCRs/s50-c-k-no/photo.jpg",
            "userId": "116597900982323796919"
          }
        }
      },
      "cell_type": "code",
      "source": [
        "# Storing the dataframe\n",
        "\n",
        "import pickle\n",
        "with open(\"data_words_condensed\", \"wb\") as fp:\n",
        "  pickle.dump(data_word_sets, fp)\n",
        "  \n",
        "uploaded = drive.CreateFile({'title': 'data_words_condensed'})\n",
        "uploaded.SetContentFile('data_words_condensed')\n",
        "uploaded.Upload()\n",
        "print('Uploaded file with ID {}'.format(uploaded.get('id')))"
      ],
      "execution_count": 0,
      "outputs": [
        {
          "output_type": "stream",
          "text": [
            "Uploaded file with ID 1VFJL74iLFlhQoMHXFe4TbRBtsu1XtvWN\n"
          ],
          "name": "stdout"
        }
      ]
    },
    {
      "metadata": {
        "id": "yVZiLJU1gRC0",
        "colab_type": "text"
      },
      "cell_type": "markdown",
      "source": [
        "### Sub: Find action and description words"
      ]
    },
    {
      "metadata": {
        "id": "kT2X6isVyl-R",
        "colab_type": "code",
        "colab": {
          "autoexec": {
            "startup": false,
            "wait_interval": 0
          },
          "base_uri": "https://localhost:8080/",
          "height": 68
        },
        "outputId": "ff08a639-ce15-40e2-d16e-8aebe6751ed7",
        "executionInfo": {
          "status": "ok",
          "timestamp": 1525483456807,
          "user_tz": 240,
          "elapsed": 1718,
          "user": {
            "displayName": "Mehul Smriti Raje",
            "photoUrl": "//lh3.googleusercontent.com/-ULNZoebPWnQ/AAAAAAAAAAI/AAAAAAAAAaQ/hC3_RchfCRs/s50-c-k-no/photo.jpg",
            "userId": "116597900982323796919"
          }
        }
      },
      "cell_type": "code",
      "source": [
        "ls"
      ],
      "execution_count": 0,
      "outputs": [
        {
          "output_type": "stream",
          "text": [
            "0-99999.csv        clean_data      data_words_condensed  track_uri.csv\r\n",
            "100000-186279.csv  clean_data_nvc  data_word_sets\r\n",
            "5k_track_uri.csv   \u001b[0m\u001b[01;34mdatalab\u001b[0m/        \u001b[01;34mnltk_data\u001b[0m/\r\n"
          ],
          "name": "stdout"
        }
      ]
    },
    {
      "metadata": {
        "id": "pQx7fuL3xSYA",
        "colab_type": "code",
        "colab": {
          "autoexec": {
            "startup": false,
            "wait_interval": 0
          }
        }
      },
      "cell_type": "code",
      "source": [
        "# data_downloaded = drive.CreateFile({'id': '1VFJL74iLFlhQoMHXFe4TbRBtsu1XtvWN'})\n",
        "# data_downloaded.GetContentFile('data_words_condensed')"
      ],
      "execution_count": 0,
      "outputs": []
    },
    {
      "metadata": {
        "id": "jCHk34ylzDVa",
        "colab_type": "code",
        "colab": {
          "autoexec": {
            "startup": false,
            "wait_interval": 0
          }
        }
      },
      "cell_type": "code",
      "source": [
        "import pickle \n",
        "\n",
        "with open(\"data_words_condensed\", \"rb\") as fp:   # Unpickling\n",
        "  data_words_condensed = pickle.load(fp)"
      ],
      "execution_count": 0,
      "outputs": []
    },
    {
      "metadata": {
        "id": "-RkFUmZfyKnm",
        "colab_type": "code",
        "colab": {
          "autoexec": {
            "startup": false,
            "wait_interval": 0
          },
          "base_uri": "https://localhost:8080/",
          "height": 159
        },
        "outputId": "ab0c2d6d-6e38-459b-d31c-6880c3c5b20a",
        "executionInfo": {
          "status": "ok",
          "timestamp": 1525483469143,
          "user_tz": 240,
          "elapsed": 692,
          "user": {
            "displayName": "Mehul Smriti Raje",
            "photoUrl": "//lh3.googleusercontent.com/-ULNZoebPWnQ/AAAAAAAAAAI/AAAAAAAAAaQ/hC3_RchfCRs/s50-c-k-no/photo.jpg",
            "userId": "116597900982323796919"
          }
        }
      },
      "cell_type": "code",
      "source": [
        "print(data_words_condensed.shape)\n",
        "data_words_condensed.head(3)"
      ],
      "execution_count": 0,
      "outputs": [
        {
          "output_type": "stream",
          "text": [
            "(107682, 5)\n"
          ],
          "name": "stdout"
        },
        {
          "output_type": "execute_result",
          "data": {
            "text/html": [
              "<div>\n",
              "<style scoped>\n",
              "    .dataframe tbody tr th:only-of-type {\n",
              "        vertical-align: middle;\n",
              "    }\n",
              "\n",
              "    .dataframe tbody tr th {\n",
              "        vertical-align: top;\n",
              "    }\n",
              "\n",
              "    .dataframe thead th {\n",
              "        text-align: right;\n",
              "    }\n",
              "</style>\n",
              "<table border=\"1\" class=\"dataframe\">\n",
              "  <thead>\n",
              "    <tr style=\"text-align: right;\">\n",
              "      <th></th>\n",
              "      <th>song</th>\n",
              "      <th>artist</th>\n",
              "      <th>query_id</th>\n",
              "      <th>genius_id</th>\n",
              "      <th>words</th>\n",
              "    </tr>\n",
              "  </thead>\n",
              "  <tbody>\n",
              "    <tr>\n",
              "      <th>0</th>\n",
              "      <td>lose control (feat. ciara &amp; fat man scoop)</td>\n",
              "      <td>missy elliott</td>\n",
              "      <td>1</td>\n",
              "      <td>33158.0</td>\n",
              "      <td>{ciara, engaging, powerful, track, dance, cont...</td>\n",
              "    </tr>\n",
              "    <tr>\n",
              "      <th>1</th>\n",
              "      <td>toxic</td>\n",
              "      <td>britney spears</td>\n",
              "      <td>0</td>\n",
              "      <td>110982.0</td>\n",
              "      <td>{two, stating, matter, contra, mysteriously, d...</td>\n",
              "    </tr>\n",
              "    <tr>\n",
              "      <th>2</th>\n",
              "      <td>crazy in love</td>\n",
              "      <td>beyoncé</td>\n",
              "      <td>0</td>\n",
              "      <td>32167.0</td>\n",
              "      <td>{stating, roc, beyoncés, “part ii on the run”...</td>\n",
              "    </tr>\n",
              "  </tbody>\n",
              "</table>\n",
              "</div>"
            ],
            "text/plain": [
              "                                         song          artist  query_id  \\\n",
              "0  lose control (feat. ciara & fat man scoop)   missy elliott         1   \n",
              "1                                       toxic  britney spears         0   \n",
              "2                               crazy in love        beyoncé         0   \n",
              "\n",
              "   genius_id                                              words  \n",
              "0    33158.0  {ciara, engaging, powerful, track, dance, cont...  \n",
              "1   110982.0  {two, stating, matter, contra, mysteriously, d...  \n",
              "2    32167.0  {stating, roc, beyoncés, “part ii on the run”...  "
            ]
          },
          "metadata": {
            "tags": []
          },
          "execution_count": 33
        }
      ]
    },
    {
      "metadata": {
        "id": "aFTZrGOZl3Uu",
        "colab_type": "code",
        "colab": {
          "autoexec": {
            "startup": false,
            "wait_interval": 0
          }
        }
      },
      "cell_type": "code",
      "source": [
        "data_words_condensed['one_hot'] = ''\n",
        "data_words_condensed['one_hot'] = data_words_condensed['one_hot'].apply(list)"
      ],
      "execution_count": 0,
      "outputs": []
    },
    {
      "metadata": {
        "id": "3no7Oeih7BRj",
        "colab_type": "code",
        "colab": {
          "autoexec": {
            "startup": false,
            "wait_interval": 0
          },
          "base_uri": "https://localhost:8080/",
          "height": 142
        },
        "outputId": "25f578dc-b38f-414e-8401-8f0e3638d38c",
        "executionInfo": {
          "status": "ok",
          "timestamp": 1525490051391,
          "user_tz": 240,
          "elapsed": 669,
          "user": {
            "displayName": "Mehul Smriti Raje",
            "photoUrl": "//lh3.googleusercontent.com/-ULNZoebPWnQ/AAAAAAAAAAI/AAAAAAAAAaQ/hC3_RchfCRs/s50-c-k-no/photo.jpg",
            "userId": "116597900982323796919"
          }
        }
      },
      "cell_type": "code",
      "source": [
        "data_words_condensed.head(3)"
      ],
      "execution_count": 0,
      "outputs": [
        {
          "output_type": "execute_result",
          "data": {
            "text/html": [
              "<div>\n",
              "<style scoped>\n",
              "    .dataframe tbody tr th:only-of-type {\n",
              "        vertical-align: middle;\n",
              "    }\n",
              "\n",
              "    .dataframe tbody tr th {\n",
              "        vertical-align: top;\n",
              "    }\n",
              "\n",
              "    .dataframe thead th {\n",
              "        text-align: right;\n",
              "    }\n",
              "</style>\n",
              "<table border=\"1\" class=\"dataframe\">\n",
              "  <thead>\n",
              "    <tr style=\"text-align: right;\">\n",
              "      <th></th>\n",
              "      <th>song</th>\n",
              "      <th>artist</th>\n",
              "      <th>query_id</th>\n",
              "      <th>genius_id</th>\n",
              "      <th>words</th>\n",
              "      <th>one_hot</th>\n",
              "    </tr>\n",
              "  </thead>\n",
              "  <tbody>\n",
              "    <tr>\n",
              "      <th>0</th>\n",
              "      <td>lose control (feat. ciara &amp; fat man scoop)</td>\n",
              "      <td>missy elliott</td>\n",
              "      <td>1</td>\n",
              "      <td>33158.0</td>\n",
              "      <td>{ciara, engaging, powerful, track, dance, cont...</td>\n",
              "      <td>[]</td>\n",
              "    </tr>\n",
              "    <tr>\n",
              "      <th>1</th>\n",
              "      <td>toxic</td>\n",
              "      <td>britney spears</td>\n",
              "      <td>0</td>\n",
              "      <td>110982.0</td>\n",
              "      <td>{two, stating, matter, contra, mysteriously, d...</td>\n",
              "      <td>[]</td>\n",
              "    </tr>\n",
              "    <tr>\n",
              "      <th>2</th>\n",
              "      <td>crazy in love</td>\n",
              "      <td>beyoncé</td>\n",
              "      <td>0</td>\n",
              "      <td>32167.0</td>\n",
              "      <td>{stating, roc, beyoncés, “part ii on the run”...</td>\n",
              "      <td>[]</td>\n",
              "    </tr>\n",
              "  </tbody>\n",
              "</table>\n",
              "</div>"
            ],
            "text/plain": [
              "                                         song          artist  query_id  \\\n",
              "0  lose control (feat. ciara & fat man scoop)   missy elliott         1   \n",
              "1                                       toxic  britney spears         0   \n",
              "2                               crazy in love        beyoncé         0   \n",
              "\n",
              "   genius_id                                              words one_hot  \n",
              "0    33158.0  {ciara, engaging, powerful, track, dance, cont...      []  \n",
              "1   110982.0  {two, stating, matter, contra, mysteriously, d...      []  \n",
              "2    32167.0  {stating, roc, beyoncés, “part ii on the run”...      []  "
            ]
          },
          "metadata": {
            "tags": []
          },
          "execution_count": 149
        }
      ]
    },
    {
      "metadata": {
        "id": "FJTfheqEkX6p",
        "colab_type": "code",
        "colab": {
          "autoexec": {
            "startup": false,
            "wait_interval": 0
          }
        }
      },
      "cell_type": "code",
      "source": [
        "# types of playlists\n",
        "top = {'work' : ['work', 'go', 'hard', 'strong', 'boss'],\n",
        "       'workout' : ['jump', 'workout', 'rise', 'power'],\n",
        "       'dinner': ['eating', 'drinking', 'dinner', 'lunch', 'breakfast', 'food', 'wine', 'soda'],\n",
        "       'drive': ['driving', 'road', 'riding', 'car', 'plane', 'fly', 'swim', 'ship', \n",
        "                 'travel', 'flying', 'swimming', 'drive', 'ride', 'journey'],\n",
        "       'dance' : ['dance', 'choreograph', 'choreo', 'dancing', 'beat', 'disco'],\n",
        "       'classics' : ['guitar', 'solo', 'billboard', 'beautiful', 'rock', 'guitarist', \n",
        "                     'truth', 'nirvana', 'beauty', 'bohemian', 'sweet', 'feeling', 'tale', \n",
        "                     'zeppelin', 'beatles', 'clapton', 'angel', 'rhythm', 'remastered'],\n",
        "       'teen' : ['love', 'girl', 'boy', 'makeup', 'lip', 'gloss', 'lipstick', 'bubblegum', \n",
        "                 'me', 'you', 'baby', 'party', 'prom', 'miley', 'doll', 'boi', 'demi', 'selena', \n",
        "                 'justin', 'jonas', 'britney', 'pop', 'katy', 'bts', 'kpop', 'avril', 'ariana'],\n",
        "       'dark' : ['die', 'hate', 'devil', 'evil', 'bone', 'blood'],\n",
        "       'rnb' : ['shawty', 'nigga', 'fuck', 'shit', 'money', 'smack', 'die', 'kanye', 'minaj', 'rap'],\n",
        "       'happy': ['happy', 'singing', 'laughing', 'laugh', 'laughter', 'cheer', 'rainbow', 'romance', 'bright', 'sparkle', 'shine', 'angel'],\n",
        "       'breakup' : ['single', 'myself', 'sad', 'angry', 'tears', 'alone', 'pain', 'suffering', 'hurt', 'cheat'],\n",
        "       'rebel' : ['limelight', 'money', 'angry', 'rebel', 'power', 'powerful', 'strong', 'pain'],\n",
        "       'festival' : ['christmas', 'gifts', 'santa', 'bells', 'lights'],\n",
        "       'worship' : ['pray', 'praying', 'god', 'almighty', 'saint', 'heaven', 'keys to the kingdom', 'holy', 'bible', 'christ'],\n",
        "       'foreign' : ['el','les']}"
      ],
      "execution_count": 0,
      "outputs": []
    },
    {
      "metadata": {
        "id": "9FRi1v1b9OHq",
        "colab_type": "code",
        "colab": {
          "autoexec": {
            "startup": false,
            "wait_interval": 0
          },
          "base_uri": "https://localhost:8080/",
          "height": 34
        },
        "outputId": "a88510e0-a05f-4e72-874b-7f5ad1aa1a2d",
        "executionInfo": {
          "status": "ok",
          "timestamp": 1525484422060,
          "user_tz": 240,
          "elapsed": 530,
          "user": {
            "displayName": "Mehul Smriti Raje",
            "photoUrl": "//lh3.googleusercontent.com/-ULNZoebPWnQ/AAAAAAAAAAI/AAAAAAAAAaQ/hC3_RchfCRs/s50-c-k-no/photo.jpg",
            "userId": "116597900982323796919"
          }
        }
      },
      "cell_type": "code",
      "source": [
        "a = set()\n",
        "'a' in a"
      ],
      "execution_count": 0,
      "outputs": [
        {
          "output_type": "execute_result",
          "data": {
            "text/plain": [
              "False"
            ]
          },
          "metadata": {
            "tags": []
          },
          "execution_count": 62
        }
      ]
    },
    {
      "metadata": {
        "id": "OGRWgSSyzhNJ",
        "colab_type": "code",
        "colab": {
          "autoexec": {
            "startup": false,
            "wait_interval": 0
          }
        }
      },
      "cell_type": "code",
      "source": [
        "def find_types(st):\n",
        "  num_types = len(top.keys())\n",
        "  one_hot = [1]*num_types\n",
        "  # print(st)\n",
        "  for i,key in enumerate(top.keys()):\n",
        "    terms = top[key]\n",
        "    for t in terms:\n",
        "      if t in st: \n",
        "        # print(t, key)\n",
        "        one_hot[i] += 1\n",
        "  return one_hot"
      ],
      "execution_count": 0,
      "outputs": []
    },
    {
      "metadata": {
        "id": "mekoT5KA7qOY",
        "colab_type": "code",
        "colab": {
          "autoexec": {
            "startup": false,
            "wait_interval": 0
          }
        }
      },
      "cell_type": "code",
      "source": [
        "def is_type(lst, type_str):\n",
        "  idx = list(top.keys()).index(type_str)\n",
        "  if lst[idx]>0:\n",
        "    return True\n",
        "  return False"
      ],
      "execution_count": 0,
      "outputs": []
    },
    {
      "metadata": {
        "id": "NUmcTvc7Lry_",
        "colab_type": "code",
        "colab": {
          "autoexec": {
            "startup": false,
            "wait_interval": 0
          }
        }
      },
      "cell_type": "code",
      "source": [
        "def type_count(lst, type_str):\n",
        "  idx = list(top.keys()).index(type_str)\n",
        "  return lst[idx]"
      ],
      "execution_count": 0,
      "outputs": []
    },
    {
      "metadata": {
        "id": "uKq6OXMC0MtL",
        "colab_type": "code",
        "colab": {
          "autoexec": {
            "startup": false,
            "wait_interval": 0
          }
        }
      },
      "cell_type": "code",
      "source": [
        "# Testing one hot\n",
        "# df = data_words_condensed.copy()\n",
        "data_words_condensed['one_hot'] = data_words_condensed['words'].apply(lambda x: find_types(x))"
      ],
      "execution_count": 0,
      "outputs": []
    },
    {
      "metadata": {
        "id": "Rmfs4Rr2SwMz",
        "colab_type": "code",
        "colab": {
          "autoexec": {
            "startup": false,
            "wait_interval": 0
          },
          "base_uri": "https://localhost:8080/",
          "height": 142
        },
        "outputId": "7dc216c8-6966-4bd4-90d6-2f4aef71865c",
        "executionInfo": {
          "status": "ok",
          "timestamp": 1525496580223,
          "user_tz": 240,
          "elapsed": 509,
          "user": {
            "displayName": "Mehul Smriti Raje",
            "photoUrl": "//lh3.googleusercontent.com/-ULNZoebPWnQ/AAAAAAAAAAI/AAAAAAAAAaQ/hC3_RchfCRs/s50-c-k-no/photo.jpg",
            "userId": "116597900982323796919"
          }
        }
      },
      "cell_type": "code",
      "source": [
        "# df.head(3)\n",
        "data_words_condensed.head(3)"
      ],
      "execution_count": 0,
      "outputs": [
        {
          "output_type": "execute_result",
          "data": {
            "text/html": [
              "<div>\n",
              "<style scoped>\n",
              "    .dataframe tbody tr th:only-of-type {\n",
              "        vertical-align: middle;\n",
              "    }\n",
              "\n",
              "    .dataframe tbody tr th {\n",
              "        vertical-align: top;\n",
              "    }\n",
              "\n",
              "    .dataframe thead th {\n",
              "        text-align: right;\n",
              "    }\n",
              "</style>\n",
              "<table border=\"1\" class=\"dataframe\">\n",
              "  <thead>\n",
              "    <tr style=\"text-align: right;\">\n",
              "      <th></th>\n",
              "      <th>song</th>\n",
              "      <th>artist</th>\n",
              "      <th>query_id</th>\n",
              "      <th>genius_id</th>\n",
              "      <th>words</th>\n",
              "      <th>one_hot</th>\n",
              "    </tr>\n",
              "  </thead>\n",
              "  <tbody>\n",
              "    <tr>\n",
              "      <th>0</th>\n",
              "      <td>lose control (feat. ciara &amp; fat man scoop)</td>\n",
              "      <td>missy elliott</td>\n",
              "      <td>1</td>\n",
              "      <td>33158.0</td>\n",
              "      <td>{ciara, engaging, powerful, track, dance, cont...</td>\n",
              "      <td>[1, 1, 1, 1, 2, 2, 1, 1, 1, 1, 1, 2, 1, 1, 1]</td>\n",
              "    </tr>\n",
              "    <tr>\n",
              "      <th>1</th>\n",
              "      <td>toxic</td>\n",
              "      <td>britney spears</td>\n",
              "      <td>0</td>\n",
              "      <td>110982.0</td>\n",
              "      <td>{two, stating, matter, contra, mysteriously, d...</td>\n",
              "      <td>[2, 1, 1, 1, 1, 1, 6, 1, 1, 1, 4, 2, 1, 1, 1]</td>\n",
              "    </tr>\n",
              "    <tr>\n",
              "      <th>2</th>\n",
              "      <td>crazy in love</td>\n",
              "      <td>beyoncé</td>\n",
              "      <td>0</td>\n",
              "      <td>32167.0</td>\n",
              "      <td>{stating, roc, beyoncés, “part ii on the run”...</td>\n",
              "      <td>[1, 1, 1, 1, 2, 3, 3, 1, 3, 1, 2, 2, 1, 1, 1]</td>\n",
              "    </tr>\n",
              "  </tbody>\n",
              "</table>\n",
              "</div>"
            ],
            "text/plain": [
              "                                         song          artist  query_id  \\\n",
              "0  lose control (feat. ciara & fat man scoop)   missy elliott         1   \n",
              "1                                       toxic  britney spears         0   \n",
              "2                               crazy in love        beyoncé         0   \n",
              "\n",
              "   genius_id                                              words  \\\n",
              "0    33158.0  {ciara, engaging, powerful, track, dance, cont...   \n",
              "1   110982.0  {two, stating, matter, contra, mysteriously, d...   \n",
              "2    32167.0  {stating, roc, beyoncés, “part ii on the run”...   \n",
              "\n",
              "                                         one_hot  \n",
              "0  [1, 1, 1, 1, 2, 2, 1, 1, 1, 1, 1, 2, 1, 1, 1]  \n",
              "1  [2, 1, 1, 1, 1, 1, 6, 1, 1, 1, 4, 2, 1, 1, 1]  \n",
              "2  [1, 1, 1, 1, 2, 3, 3, 1, 3, 1, 2, 2, 1, 1, 1]  "
            ]
          },
          "metadata": {
            "tags": []
          },
          "execution_count": 242
        }
      ]
    },
    {
      "metadata": {
        "id": "8mJL6V10tmcu",
        "colab_type": "code",
        "colab": {
          "autoexec": {
            "startup": false,
            "wait_interval": 0
          },
          "base_uri": "https://localhost:8080/",
          "height": 34
        },
        "outputId": "c11d9d7c-bb53-4290-eb96-c56072977549",
        "executionInfo": {
          "status": "ok",
          "timestamp": 1525498890657,
          "user_tz": 240,
          "elapsed": 6457,
          "user": {
            "displayName": "Mehul Smriti Raje",
            "photoUrl": "//lh3.googleusercontent.com/-ULNZoebPWnQ/AAAAAAAAAAI/AAAAAAAAAaQ/hC3_RchfCRs/s50-c-k-no/photo.jpg",
            "userId": "116597900982323796919"
          }
        }
      },
      "cell_type": "code",
      "source": [
        "# Storing the dataframe\n",
        "\n",
        "import pickle\n",
        "with open(\"data_words_one_hot.pkl\", \"wb\") as fp:\n",
        "  pickle.dump(data_words_condensed, fp)\n",
        "  \n",
        "uploaded = drive.CreateFile({'title': 'data_words_one_hot.pkl'})\n",
        "uploaded.SetContentFile('data_words_one_hot.pkl')\n",
        "uploaded.Upload()\n",
        "print('Uploaded file with ID {}'.format(uploaded.get('id')))"
      ],
      "execution_count": 0,
      "outputs": [
        {
          "output_type": "stream",
          "text": [
            "Uploaded file with ID 1y8MZm4MnCh88_6bEeh3bWx-J6gKEy8f6\n"
          ],
          "name": "stdout"
        }
      ]
    },
    {
      "metadata": {
        "id": "5-1JjPva0glk",
        "colab_type": "code",
        "colab": {
          "autoexec": {
            "startup": false,
            "wait_interval": 0
          },
          "base_uri": "https://localhost:8080/",
          "height": 142
        },
        "outputId": "b4ed21eb-c690-414d-f470-ef39a3026de2",
        "executionInfo": {
          "status": "ok",
          "timestamp": 1525498941438,
          "user_tz": 240,
          "elapsed": 4648,
          "user": {
            "displayName": "Mehul Smriti Raje",
            "photoUrl": "//lh3.googleusercontent.com/-ULNZoebPWnQ/AAAAAAAAAAI/AAAAAAAAAaQ/hC3_RchfCRs/s50-c-k-no/photo.jpg",
            "userId": "116597900982323796919"
          }
        }
      },
      "cell_type": "code",
      "source": [
        "import pickle \n",
        "\n",
        "with open(\"data_words_one_hot.pkl\", \"rb\") as fp:   # Unpickling\n",
        "  data_words_one_hot = pickle.load(fp)\n",
        "  \n",
        "data_words_one_hot.head(3)"
      ],
      "execution_count": 0,
      "outputs": [
        {
          "output_type": "execute_result",
          "data": {
            "text/html": [
              "<div>\n",
              "<style scoped>\n",
              "    .dataframe tbody tr th:only-of-type {\n",
              "        vertical-align: middle;\n",
              "    }\n",
              "\n",
              "    .dataframe tbody tr th {\n",
              "        vertical-align: top;\n",
              "    }\n",
              "\n",
              "    .dataframe thead th {\n",
              "        text-align: right;\n",
              "    }\n",
              "</style>\n",
              "<table border=\"1\" class=\"dataframe\">\n",
              "  <thead>\n",
              "    <tr style=\"text-align: right;\">\n",
              "      <th></th>\n",
              "      <th>song</th>\n",
              "      <th>artist</th>\n",
              "      <th>query_id</th>\n",
              "      <th>genius_id</th>\n",
              "      <th>words</th>\n",
              "      <th>one_hot</th>\n",
              "    </tr>\n",
              "  </thead>\n",
              "  <tbody>\n",
              "    <tr>\n",
              "      <th>0</th>\n",
              "      <td>lose control (feat. ciara &amp; fat man scoop)</td>\n",
              "      <td>missy elliott</td>\n",
              "      <td>1</td>\n",
              "      <td>33158.0</td>\n",
              "      <td>{engaging, powerful, dance, track, control, re...</td>\n",
              "      <td>[1, 1, 1, 1, 2, 2, 1, 1, 1, 1, 1, 2, 1, 1, 1]</td>\n",
              "    </tr>\n",
              "    <tr>\n",
              "      <th>1</th>\n",
              "      <td>toxic</td>\n",
              "      <td>britney spears</td>\n",
              "      <td>0</td>\n",
              "      <td>110982.0</td>\n",
              "      <td>{two, stating, contra, matter, mysteriously, d...</td>\n",
              "      <td>[2, 1, 1, 1, 1, 1, 6, 1, 1, 1, 4, 2, 1, 1, 1]</td>\n",
              "    </tr>\n",
              "    <tr>\n",
              "      <th>2</th>\n",
              "      <td>crazy in love</td>\n",
              "      <td>beyoncé</td>\n",
              "      <td>0</td>\n",
              "      <td>32167.0</td>\n",
              "      <td>{stating, beyoncés, roc, “part ii on the run”...</td>\n",
              "      <td>[1, 1, 1, 1, 2, 3, 3, 1, 3, 1, 2, 2, 1, 1, 1]</td>\n",
              "    </tr>\n",
              "  </tbody>\n",
              "</table>\n",
              "</div>"
            ],
            "text/plain": [
              "                                         song          artist  query_id  \\\n",
              "0  lose control (feat. ciara & fat man scoop)   missy elliott         1   \n",
              "1                                       toxic  britney spears         0   \n",
              "2                               crazy in love        beyoncé         0   \n",
              "\n",
              "   genius_id                                              words  \\\n",
              "0    33158.0  {engaging, powerful, dance, track, control, re...   \n",
              "1   110982.0  {two, stating, contra, matter, mysteriously, d...   \n",
              "2    32167.0  {stating, beyoncés, roc, “part ii on the run”...   \n",
              "\n",
              "                                         one_hot  \n",
              "0  [1, 1, 1, 1, 2, 2, 1, 1, 1, 1, 1, 2, 1, 1, 1]  \n",
              "1  [2, 1, 1, 1, 1, 1, 6, 1, 1, 1, 4, 2, 1, 1, 1]  \n",
              "2  [1, 1, 1, 1, 2, 3, 3, 1, 3, 1, 2, 2, 1, 1, 1]  "
            ]
          },
          "metadata": {
            "tags": []
          },
          "execution_count": 259
        }
      ]
    },
    {
      "metadata": {
        "id": "rh6p3VxhwU97",
        "colab_type": "code",
        "colab": {
          "autoexec": {
            "startup": false,
            "wait_interval": 0
          },
          "base_uri": "https://localhost:8080/",
          "height": 54
        },
        "outputId": "36de2c4d-3717-4880-9f3c-8fc880a19705",
        "executionInfo": {
          "status": "ok",
          "timestamp": 1525491055365,
          "user_tz": 240,
          "elapsed": 671,
          "user": {
            "displayName": "Mehul Smriti Raje",
            "photoUrl": "//lh3.googleusercontent.com/-ULNZoebPWnQ/AAAAAAAAAAI/AAAAAAAAAaQ/hC3_RchfCRs/s50-c-k-no/photo.jpg",
            "userId": "116597900982323796919"
          }
        }
      },
      "cell_type": "code",
      "source": [
        "top.keys()"
      ],
      "execution_count": 0,
      "outputs": [
        {
          "output_type": "execute_result",
          "data": {
            "text/plain": [
              "dict_keys(['work', 'workout', 'dinner', 'drive', 'dance', 'classics', 'teen', 'dark', 'rnb', 'happy', 'breakup', 'rebel', 'festival', 'worship', 'foreign'])"
            ]
          },
          "metadata": {
            "tags": []
          },
          "execution_count": 188
        }
      ]
    },
    {
      "metadata": {
        "id": "C3jUgN8tMfTI",
        "colab_type": "code",
        "colab": {
          "autoexec": {
            "startup": false,
            "wait_interval": 0
          },
          "base_uri": "https://localhost:8080/",
          "height": 1489
        },
        "outputId": "459748c2-a168-4f79-eda6-dc8eadd90768",
        "executionInfo": {
          "status": "ok",
          "timestamp": 1525491401374,
          "user_tz": 240,
          "elapsed": 782,
          "user": {
            "displayName": "Mehul Smriti Raje",
            "photoUrl": "//lh3.googleusercontent.com/-ULNZoebPWnQ/AAAAAAAAAAI/AAAAAAAAAaQ/hC3_RchfCRs/s50-c-k-no/photo.jpg",
            "userId": "116597900982323796919"
          }
        }
      },
      "cell_type": "code",
      "source": [
        "df['type_count'] = df['one_hot'].apply(lambda x: type_count(x, 'foreign'))\n",
        "df.sort_values(['type_count'], ascending = False)[:30]"
      ],
      "execution_count": 0,
      "outputs": [
        {
          "output_type": "execute_result",
          "data": {
            "text/html": [
              "<div>\n",
              "<style scoped>\n",
              "    .dataframe tbody tr th:only-of-type {\n",
              "        vertical-align: middle;\n",
              "    }\n",
              "\n",
              "    .dataframe tbody tr th {\n",
              "        vertical-align: top;\n",
              "    }\n",
              "\n",
              "    .dataframe thead th {\n",
              "        text-align: right;\n",
              "    }\n",
              "</style>\n",
              "<table border=\"1\" class=\"dataframe\">\n",
              "  <thead>\n",
              "    <tr style=\"text-align: right;\">\n",
              "      <th></th>\n",
              "      <th>song</th>\n",
              "      <th>artist</th>\n",
              "      <th>query_id</th>\n",
              "      <th>genius_id</th>\n",
              "      <th>words</th>\n",
              "      <th>one_hot</th>\n",
              "      <th>type_count</th>\n",
              "    </tr>\n",
              "  </thead>\n",
              "  <tbody>\n",
              "    <tr>\n",
              "      <th>94032</th>\n",
              "      <td>bill murray</td>\n",
              "      <td>gorillaz</td>\n",
              "      <td>0</td>\n",
              "      <td>1930094.0</td>\n",
              "      <td>{mythos, guitarist, time, eight, ‘too, murray,...</td>\n",
              "      <td>[1, 0, 0, 0, 0, 1, 0, 0, 0, 0, 1, 0, 0, 0, 1]</td>\n",
              "      <td>1</td>\n",
              "    </tr>\n",
              "    <tr>\n",
              "      <th>96720</th>\n",
              "      <td>jeremías 17-5</td>\n",
              "      <td>canserbero</td>\n",
              "      <td>0</td>\n",
              "      <td>92740.0</td>\n",
              "      <td>{decide, metia, solo, esas, song, hacia, tambi...</td>\n",
              "      <td>[0, 0, 0, 0, 0, 1, 0, 0, 0, 0, 0, 0, 0, 0, 1]</td>\n",
              "      <td>1</td>\n",
              "    </tr>\n",
              "    <tr>\n",
              "      <th>96744</th>\n",
              "      <td>luzbel</td>\n",
              "      <td>arce</td>\n",
              "      <td>0</td>\n",
              "      <td>748954.0</td>\n",
              "      <td>{ganar, no, neuronas, ha, pensar, eso, sanaarc...</td>\n",
              "      <td>[0, 0, 0, 0, 0, 1, 0, 0, 1, 0, 0, 0, 0, 0, 1]</td>\n",
              "      <td>1</td>\n",
              "    </tr>\n",
              "    <tr>\n",
              "      <th>96742</th>\n",
              "      <td>love</td>\n",
              "      <td>juancho marqués</td>\n",
              "      <td>0</td>\n",
              "      <td>3299506.0</td>\n",
              "      <td>{sea, hora, que, el, con, paso, estupido, esa,...</td>\n",
              "      <td>[0, 0, 0, 0, 0, 0, 0, 0, 0, 0, 0, 0, 0, 0, 1]</td>\n",
              "      <td>1</td>\n",
              "    </tr>\n",
              "    <tr>\n",
              "      <th>95008</th>\n",
              "      <td>the book of my life</td>\n",
              "      <td>sting</td>\n",
              "      <td>0</td>\n",
              "      <td>390108.0</td>\n",
              "      <td>{said“i, attempt, religion, page, fire, el, re...</td>\n",
              "      <td>[0, 0, 0, 0, 0, 2, 0, 0, 0, 1, 0, 0, 0, 0, 1]</td>\n",
              "      <td>1</td>\n",
              "    </tr>\n",
              "    <tr>\n",
              "      <th>76410</th>\n",
              "      <td>si señor</td>\n",
              "      <td>control machete</td>\n",
              "      <td>0</td>\n",
              "      <td>146808.0</td>\n",
              "      <td>{estas, logrado, sus, líneas, el, “el olor de...</td>\n",
              "      <td>[0, 0, 0, 0, 0, 0, 0, 0, 0, 0, 0, 0, 0, 0, 1]</td>\n",
              "      <td>1</td>\n",
              "    </tr>\n",
              "    <tr>\n",
              "      <th>96733</th>\n",
              "      <td>loco</td>\n",
              "      <td>la banda baston</td>\n",
              "      <td>0</td>\n",
              "      <td>2982977.0</td>\n",
              "      <td>{mafiael, eso, encuentra, estos, jehová, muy,...</td>\n",
              "      <td>[0, 0, 0, 0, 0, 0, 0, 0, 0, 0, 0, 0, 0, 0, 1]</td>\n",
              "      <td>1</td>\n",
              "    </tr>\n",
              "    <tr>\n",
              "      <th>96731</th>\n",
              "      <td>no me porto bien</td>\n",
              "      <td>la banda baston</td>\n",
              "      <td>0</td>\n",
              "      <td>2404983.0</td>\n",
              "      <td>{pesadillas, club, anime, eso, poseía, hosped...</td>\n",
              "      <td>[0, 0, 0, 0, 0, 1, 0, 0, 0, 0, 0, 0, 1, 0, 1]</td>\n",
              "      <td>1</td>\n",
              "    </tr>\n",
              "    <tr>\n",
              "      <th>96730</th>\n",
              "      <td>me gustas</td>\n",
              "      <td>la banda baston</td>\n",
              "      <td>0</td>\n",
              "      <td>247658.0</td>\n",
              "      <td>{que, el, claras, haya, artista, con, qui, un,...</td>\n",
              "      <td>[0, 0, 0, 0, 0, 0, 0, 0, 0, 0, 0, 0, 0, 0, 1]</td>\n",
              "      <td>1</td>\n",
              "    </tr>\n",
              "    <tr>\n",
              "      <th>96726</th>\n",
              "      <td>tentación</td>\n",
              "      <td>agorazein</td>\n",
              "      <td>0</td>\n",
              "      <td>2899966.0</td>\n",
              "      <td>{su, caracteriza, que, el, ha, estilo, tanta, ...</td>\n",
              "      <td>[0, 0, 0, 0, 0, 0, 0, 0, 0, 0, 0, 0, 0, 0, 1]</td>\n",
              "      <td>1</td>\n",
              "    </tr>\n",
              "    <tr>\n",
              "      <th>96724</th>\n",
              "      <td>mundo de piedra</td>\n",
              "      <td>canserbero</td>\n",
              "      <td>0</td>\n",
              "      <td>2058835.0</td>\n",
              "      <td>{afortunados, no, mueren, escuchar, distopía,...</td>\n",
              "      <td>[0, 0, 0, 0, 0, 0, 0, 0, 0, 0, 0, 0, 0, 0, 1]</td>\n",
              "      <td>1</td>\n",
              "    </tr>\n",
              "    <tr>\n",
              "      <th>96722</th>\n",
              "      <td>es épico</td>\n",
              "      <td>canserbero</td>\n",
              "      <td>0</td>\n",
              "      <td>719038.0</td>\n",
              "      <td>{versosatanás, dedicado, llegara, algunos, ha...</td>\n",
              "      <td>[0, 0, 0, 0, 0, 2, 0, 0, 0, 1, 0, 0, 0, 0, 1]</td>\n",
              "      <td>1</td>\n",
              "    </tr>\n",
              "    <tr>\n",
              "      <th>28268</th>\n",
              "      <td>bad girls - verdine version</td>\n",
              "      <td>solange</td>\n",
              "      <td>0</td>\n",
              "      <td>122658.0</td>\n",
              "      <td>{smeared, el, makeup, bed, phone, habit, losin...</td>\n",
              "      <td>[0, 0, 0, 0, 0, 0, 2, 0, 0, 0, 0, 0, 0, 0, 1]</td>\n",
              "      <td>1</td>\n",
              "    </tr>\n",
              "    <tr>\n",
              "      <th>95023</th>\n",
              "      <td>on our own</td>\n",
              "      <td>bobby brown</td>\n",
              "      <td>0</td>\n",
              "      <td>32675.0</td>\n",
              "      <td>{rb, “ghostbusters ii”, fellow, 100, doubt, el...</td>\n",
              "      <td>[1, 0, 0, 0, 0, 1, 0, 0, 0, 0, 1, 1, 0, 0, 1]</td>\n",
              "      <td>1</td>\n",
              "    </tr>\n",
              "    <tr>\n",
              "      <th>96721</th>\n",
              "      <td>pensando en ti</td>\n",
              "      <td>canserbero</td>\n",
              "      <td>0</td>\n",
              "      <td>671448.0</td>\n",
              "      <td>{que, el, con, pase, esa, olvidar, un, queda, ...</td>\n",
              "      <td>[0, 0, 0, 0, 0, 0, 0, 0, 0, 0, 0, 0, 0, 0, 1]</td>\n",
              "      <td>1</td>\n",
              "    </tr>\n",
              "    <tr>\n",
              "      <th>96719</th>\n",
              "      <td>los vasos deben de ser mejor refugio</td>\n",
              "      <td>wk</td>\n",
              "      <td>0</td>\n",
              "      <td>546889.0</td>\n",
              "      <td>{jesucristodesde, que, el, eso, opta, cabeza, ...</td>\n",
              "      <td>[0, 0, 0, 0, 0, 0, 0, 0, 0, 0, 0, 0, 0, 0, 1]</td>\n",
              "      <td>1</td>\n",
              "    </tr>\n",
              "    <tr>\n",
              "      <th>81633</th>\n",
              "      <td>only ones who know</td>\n",
              "      <td>arctic monkeys</td>\n",
              "      <td>0</td>\n",
              "      <td>93921.0</td>\n",
              "      <td>{true, soureverywhere, part, rather, listentur...</td>\n",
              "      <td>[1, 0, 0, 0, 0, 2, 2, 0, 0, 1, 0, 0, 0, 0, 1]</td>\n",
              "      <td>1</td>\n",
              "    </tr>\n",
              "    <tr>\n",
              "      <th>68494</th>\n",
              "      <td>salsa tequila</td>\n",
              "      <td>anders nilsen</td>\n",
              "      <td>0</td>\n",
              "      <td>461775.0</td>\n",
              "      <td>{two, spicy, part, parody, said, nilsens, club...</td>\n",
              "      <td>[1, 0, 1, 0, 1, 0, 0, 0, 0, 0, 0, 0, 0, 0, 1]</td>\n",
              "      <td>1</td>\n",
              "    </tr>\n",
              "    <tr>\n",
              "      <th>43174</th>\n",
              "      <td>la luna</td>\n",
              "      <td>jósean log</td>\n",
              "      <td>0</td>\n",
              "      <td>2893271.0</td>\n",
              "      <td>{quinto, ep, tema, debut, el, log, la, cantaut...</td>\n",
              "      <td>[0, 0, 0, 0, 0, 0, 0, 0, 0, 0, 0, 0, 0, 0, 1]</td>\n",
              "      <td>1</td>\n",
              "    </tr>\n",
              "    <tr>\n",
              "      <th>22842</th>\n",
              "      <td>saint pablo</td>\n",
              "      <td>kanye west</td>\n",
              "      <td>0</td>\n",
              "      <td>2428259.0</td>\n",
              "      <td>{25—he, elon, stating, early, delayed, footpri...</td>\n",
              "      <td>[3, 0, 1, 4, 1, 2, 2, 1, 5, 0, 2, 1, 0, 3, 1]</td>\n",
              "      <td>1</td>\n",
              "    </tr>\n",
              "    <tr>\n",
              "      <th>96711</th>\n",
              "      <td>aquellos que fui</td>\n",
              "      <td>wk</td>\n",
              "      <td>0</td>\n",
              "      <td>503255.0</td>\n",
              "      <td>{explicando, lugaratraviesan, promesas, llegar...</td>\n",
              "      <td>[0, 0, 0, 0, 0, 0, 0, 0, 0, 0, 0, 0, 0, 0, 1]</td>\n",
              "      <td>1</td>\n",
              "    </tr>\n",
              "    <tr>\n",
              "      <th>63343</th>\n",
              "      <td>un beso</td>\n",
              "      <td>aventura</td>\n",
              "      <td>0</td>\n",
              "      <td>446401.0</td>\n",
              "      <td>{1her, wellpostchorusa, no, matter, tongue, ti...</td>\n",
              "      <td>[1, 0, 0, 0, 0, 2, 0, 0, 0, 0, 1, 0, 0, 2, 1]</td>\n",
              "      <td>1</td>\n",
              "    </tr>\n",
              "    <tr>\n",
              "      <th>28288</th>\n",
              "      <td>falling</td>\n",
              "      <td>haim</td>\n",
              "      <td>0</td>\n",
              "      <td>146694.0</td>\n",
              "      <td>{part, decide, solo, dived, decisiveness, song...</td>\n",
              "      <td>[1, 0, 0, 3, 1, 4, 3, 0, 0, 0, 1, 3, 0, 0, 1]</td>\n",
              "      <td>1</td>\n",
              "    </tr>\n",
              "    <tr>\n",
              "      <th>96703</th>\n",
              "      <td>lo hace conmigo</td>\n",
              "      <td>c. tangana</td>\n",
              "      <td>0</td>\n",
              "      <td>2448223.0</td>\n",
              "      <td>{bebe, su, agorazein, que, el, fiestala, con, ...</td>\n",
              "      <td>[0, 0, 0, 0, 0, 0, 1, 0, 0, 0, 0, 0, 0, 0, 1]</td>\n",
              "      <td>1</td>\n",
              "    </tr>\n",
              "    <tr>\n",
              "      <th>2826</th>\n",
              "      <td>humble and kind</td>\n",
              "      <td>tim mcgraw</td>\n",
              "      <td>0</td>\n",
              "      <td>2344613.0</td>\n",
              "      <td>{two, graduate, part, matter, time, forever, a...</td>\n",
              "      <td>[1, 0, 0, 0, 0, 0, 1, 0, 0, 0, 1, 0, 0, 0, 1]</td>\n",
              "      <td>1</td>\n",
              "    </tr>\n",
              "    <tr>\n",
              "      <th>96701</th>\n",
              "      <td>persiguiéndonos</td>\n",
              "      <td>c. tangana</td>\n",
              "      <td>0</td>\n",
              "      <td>2903734.0</td>\n",
              "      <td>{carlotta, tangana, sus, que, el, muchas, amor...</td>\n",
              "      <td>[0, 0, 0, 0, 0, 0, 0, 0, 0, 0, 0, 0, 0, 0, 1]</td>\n",
              "      <td>1</td>\n",
              "    </tr>\n",
              "    <tr>\n",
              "      <th>2824</th>\n",
              "      <td>shotgun rider</td>\n",
              "      <td>tim mcgraw</td>\n",
              "      <td>0</td>\n",
              "      <td>541943.0</td>\n",
              "      <td>{shotgun, true, matter, term, “dream”, begin, ...</td>\n",
              "      <td>[0, 0, 0, 0, 0, 0, 1, 0, 0, 0, 1, 0, 0, 1, 1]</td>\n",
              "      <td>1</td>\n",
              "    </tr>\n",
              "    <tr>\n",
              "      <th>96696</th>\n",
              "      <td>vamos a mirarnos</td>\n",
              "      <td>rels b</td>\n",
              "      <td>0</td>\n",
              "      <td>2859719.0</td>\n",
              "      <td>{producido, sea, sus, que, el, amante, con, pr...</td>\n",
              "      <td>[0, 0, 0, 0, 1, 0, 0, 0, 0, 0, 1, 0, 0, 0, 1]</td>\n",
              "      <td>1</td>\n",
              "    </tr>\n",
              "    <tr>\n",
              "      <th>95057</th>\n",
              "      <td>baila esta cumbia - live from astrodome</td>\n",
              "      <td>selena</td>\n",
              "      <td>0</td>\n",
              "      <td>1658219.0</td>\n",
              "      <td>{su, tribute, brother, “baila esta cumbia”, pr...</td>\n",
              "      <td>[0, 0, 0, 0, 1, 0, 1, 0, 0, 0, 1, 0, 0, 0, 1]</td>\n",
              "      <td>1</td>\n",
              "    </tr>\n",
              "    <tr>\n",
              "      <th>83438</th>\n",
              "      <td>still d.r.e. - instrumental version</td>\n",
              "      <td>dr. dre</td>\n",
              "      <td>0</td>\n",
              "      <td>180.0</td>\n",
              "      <td>{early, part, said, term, overlaid, party, let...</td>\n",
              "      <td>[3, 0, 0, 2, 2, 2, 2, 1, 5, 1, 0, 1, 0, 0, 1]</td>\n",
              "      <td>1</td>\n",
              "    </tr>\n",
              "  </tbody>\n",
              "</table>\n",
              "</div>"
            ],
            "text/plain": [
              "                                          song            artist  query_id  \\\n",
              "94032                              bill murray          gorillaz         0   \n",
              "96720                           jeremías 17-5        canserbero         0   \n",
              "96744                                   luzbel              arce         0   \n",
              "96742                                     love  juancho marqués         0   \n",
              "95008                      the book of my life             sting         0   \n",
              "76410                                si señor   control machete         0   \n",
              "96733                                     loco   la banda baston         0   \n",
              "96731                         no me porto bien   la banda baston         0   \n",
              "96730                                me gustas   la banda baston         0   \n",
              "96726                               tentación         agorazein         0   \n",
              "96724                          mundo de piedra        canserbero         0   \n",
              "96722                                es épico        canserbero         0   \n",
              "28268              bad girls - verdine version           solange         0   \n",
              "95023                               on our own       bobby brown         0   \n",
              "96721                           pensando en ti        canserbero         0   \n",
              "96719     los vasos deben de ser mejor refugio                wk         0   \n",
              "81633                       only ones who know    arctic monkeys         0   \n",
              "68494                            salsa tequila     anders nilsen         0   \n",
              "43174                                  la luna       jósean log         0   \n",
              "22842                              saint pablo        kanye west         0   \n",
              "96711                         aquellos que fui                wk         0   \n",
              "63343                                  un beso          aventura         0   \n",
              "28288                                  falling              haim         0   \n",
              "96703                          lo hace conmigo        c. tangana         0   \n",
              "2826                           humble and kind        tim mcgraw         0   \n",
              "96701                         persiguiéndonos        c. tangana         0   \n",
              "2824                             shotgun rider        tim mcgraw         0   \n",
              "96696                         vamos a mirarnos            rels b         0   \n",
              "95057  baila esta cumbia - live from astrodome            selena         0   \n",
              "83438      still d.r.e. - instrumental version           dr. dre         0   \n",
              "\n",
              "       genius_id                                              words  \\\n",
              "94032  1930094.0  {mythos, guitarist, time, eight, ‘too, murray,...   \n",
              "96720    92740.0  {decide, metia, solo, esas, song, hacia, tambi...   \n",
              "96744   748954.0  {ganar, no, neuronas, ha, pensar, eso, sanaarc...   \n",
              "96742  3299506.0  {sea, hora, que, el, con, paso, estupido, esa,...   \n",
              "95008   390108.0  {said“i, attempt, religion, page, fire, el, re...   \n",
              "76410   146808.0  {estas, logrado, sus, líneas, el, “el olor de...   \n",
              "96733  2982977.0  {mafiael, eso, encuentra, estos, jehová, muy,...   \n",
              "96731  2404983.0  {pesadillas, club, anime, eso, poseía, hosped...   \n",
              "96730   247658.0  {que, el, claras, haya, artista, con, qui, un,...   \n",
              "96726  2899966.0  {su, caracteriza, que, el, ha, estilo, tanta, ...   \n",
              "96724  2058835.0  {afortunados, no, mueren, escuchar, distopía,...   \n",
              "96722   719038.0  {versosatanás, dedicado, llegara, algunos, ha...   \n",
              "28268   122658.0  {smeared, el, makeup, bed, phone, habit, losin...   \n",
              "95023    32675.0  {rb, “ghostbusters ii”, fellow, 100, doubt, el...   \n",
              "96721   671448.0  {que, el, con, pase, esa, olvidar, un, queda, ...   \n",
              "96719   546889.0  {jesucristodesde, que, el, eso, opta, cabeza, ...   \n",
              "81633    93921.0  {true, soureverywhere, part, rather, listentur...   \n",
              "68494   461775.0  {two, spicy, part, parody, said, nilsens, club...   \n",
              "43174  2893271.0  {quinto, ep, tema, debut, el, log, la, cantaut...   \n",
              "22842  2428259.0  {25—he, elon, stating, early, delayed, footpri...   \n",
              "96711   503255.0  {explicando, lugaratraviesan, promesas, llegar...   \n",
              "63343   446401.0  {1her, wellpostchorusa, no, matter, tongue, ti...   \n",
              "28288   146694.0  {part, decide, solo, dived, decisiveness, song...   \n",
              "96703  2448223.0  {bebe, su, agorazein, que, el, fiestala, con, ...   \n",
              "2826   2344613.0  {two, graduate, part, matter, time, forever, a...   \n",
              "96701  2903734.0  {carlotta, tangana, sus, que, el, muchas, amor...   \n",
              "2824    541943.0  {shotgun, true, matter, term, “dream”, begin, ...   \n",
              "96696  2859719.0  {producido, sea, sus, que, el, amante, con, pr...   \n",
              "95057  1658219.0  {su, tribute, brother, “baila esta cumbia”, pr...   \n",
              "83438      180.0  {early, part, said, term, overlaid, party, let...   \n",
              "\n",
              "                                             one_hot  type_count  \n",
              "94032  [1, 0, 0, 0, 0, 1, 0, 0, 0, 0, 1, 0, 0, 0, 1]           1  \n",
              "96720  [0, 0, 0, 0, 0, 1, 0, 0, 0, 0, 0, 0, 0, 0, 1]           1  \n",
              "96744  [0, 0, 0, 0, 0, 1, 0, 0, 1, 0, 0, 0, 0, 0, 1]           1  \n",
              "96742  [0, 0, 0, 0, 0, 0, 0, 0, 0, 0, 0, 0, 0, 0, 1]           1  \n",
              "95008  [0, 0, 0, 0, 0, 2, 0, 0, 0, 1, 0, 0, 0, 0, 1]           1  \n",
              "76410  [0, 0, 0, 0, 0, 0, 0, 0, 0, 0, 0, 0, 0, 0, 1]           1  \n",
              "96733  [0, 0, 0, 0, 0, 0, 0, 0, 0, 0, 0, 0, 0, 0, 1]           1  \n",
              "96731  [0, 0, 0, 0, 0, 1, 0, 0, 0, 0, 0, 0, 1, 0, 1]           1  \n",
              "96730  [0, 0, 0, 0, 0, 0, 0, 0, 0, 0, 0, 0, 0, 0, 1]           1  \n",
              "96726  [0, 0, 0, 0, 0, 0, 0, 0, 0, 0, 0, 0, 0, 0, 1]           1  \n",
              "96724  [0, 0, 0, 0, 0, 0, 0, 0, 0, 0, 0, 0, 0, 0, 1]           1  \n",
              "96722  [0, 0, 0, 0, 0, 2, 0, 0, 0, 1, 0, 0, 0, 0, 1]           1  \n",
              "28268  [0, 0, 0, 0, 0, 0, 2, 0, 0, 0, 0, 0, 0, 0, 1]           1  \n",
              "95023  [1, 0, 0, 0, 0, 1, 0, 0, 0, 0, 1, 1, 0, 0, 1]           1  \n",
              "96721  [0, 0, 0, 0, 0, 0, 0, 0, 0, 0, 0, 0, 0, 0, 1]           1  \n",
              "96719  [0, 0, 0, 0, 0, 0, 0, 0, 0, 0, 0, 0, 0, 0, 1]           1  \n",
              "81633  [1, 0, 0, 0, 0, 2, 2, 0, 0, 1, 0, 0, 0, 0, 1]           1  \n",
              "68494  [1, 0, 1, 0, 1, 0, 0, 0, 0, 0, 0, 0, 0, 0, 1]           1  \n",
              "43174  [0, 0, 0, 0, 0, 0, 0, 0, 0, 0, 0, 0, 0, 0, 1]           1  \n",
              "22842  [3, 0, 1, 4, 1, 2, 2, 1, 5, 0, 2, 1, 0, 3, 1]           1  \n",
              "96711  [0, 0, 0, 0, 0, 0, 0, 0, 0, 0, 0, 0, 0, 0, 1]           1  \n",
              "63343  [1, 0, 0, 0, 0, 2, 0, 0, 0, 0, 1, 0, 0, 2, 1]           1  \n",
              "28288  [1, 0, 0, 3, 1, 4, 3, 0, 0, 0, 1, 3, 0, 0, 1]           1  \n",
              "96703  [0, 0, 0, 0, 0, 0, 1, 0, 0, 0, 0, 0, 0, 0, 1]           1  \n",
              "2826   [1, 0, 0, 0, 0, 0, 1, 0, 0, 0, 1, 0, 0, 0, 1]           1  \n",
              "96701  [0, 0, 0, 0, 0, 0, 0, 0, 0, 0, 0, 0, 0, 0, 1]           1  \n",
              "2824   [0, 0, 0, 0, 0, 0, 1, 0, 0, 0, 1, 0, 0, 1, 1]           1  \n",
              "96696  [0, 0, 0, 0, 1, 0, 0, 0, 0, 0, 1, 0, 0, 0, 1]           1  \n",
              "95057  [0, 0, 0, 0, 1, 0, 1, 0, 0, 0, 1, 0, 0, 0, 1]           1  \n",
              "83438  [3, 0, 0, 2, 2, 2, 2, 1, 5, 1, 0, 1, 0, 0, 1]           1  "
            ]
          },
          "metadata": {
            "tags": []
          },
          "execution_count": 201
        }
      ]
    },
    {
      "metadata": {
        "id": "9037EReB8mN2",
        "colab_type": "code",
        "colab": {
          "autoexec": {
            "startup": false,
            "wait_interval": 0
          },
          "base_uri": "https://localhost:8080/",
          "height": 34
        },
        "outputId": "402fbe2f-b165-4b1d-ed4f-2af7cac93d7a",
        "executionInfo": {
          "status": "ok",
          "timestamp": 1525484286285,
          "user_tz": 240,
          "elapsed": 537,
          "user": {
            "displayName": "Mehul Smriti Raje",
            "photoUrl": "//lh3.googleusercontent.com/-ULNZoebPWnQ/AAAAAAAAAAI/AAAAAAAAAaQ/hC3_RchfCRs/s50-c-k-no/photo.jpg",
            "userId": "116597900982323796919"
          }
        }
      },
      "cell_type": "code",
      "source": [
        "type(df['one_hot'][0])"
      ],
      "execution_count": 0,
      "outputs": [
        {
          "output_type": "execute_result",
          "data": {
            "text/plain": [
              "list"
            ]
          },
          "metadata": {
            "tags": []
          },
          "execution_count": 57
        }
      ]
    },
    {
      "metadata": {
        "id": "GTVn85t_0hHW",
        "colab_type": "code",
        "colab": {
          "autoexec": {
            "startup": false,
            "wait_interval": 0
          },
          "base_uri": "https://localhost:8080/",
          "height": 2989
        },
        "outputId": "80962d71-81b8-4124-e02e-5416a1b4287f",
        "executionInfo": {
          "status": "ok",
          "timestamp": 1525496591511,
          "user_tz": 240,
          "elapsed": 665,
          "user": {
            "displayName": "Mehul Smriti Raje",
            "photoUrl": "//lh3.googleusercontent.com/-ULNZoebPWnQ/AAAAAAAAAAI/AAAAAAAAAaQ/hC3_RchfCRs/s50-c-k-no/photo.jpg",
            "userId": "116597900982323796919"
          }
        }
      },
      "cell_type": "code",
      "source": [
        "temp = df['one_hot'].apply(lambda x: which_type(x, 'teen'))\n",
        "df[temp]"
      ],
      "execution_count": 0,
      "outputs": [
        {
          "output_type": "execute_result",
          "data": {
            "text/html": [
              "<div>\n",
              "<style scoped>\n",
              "    .dataframe tbody tr th:only-of-type {\n",
              "        vertical-align: middle;\n",
              "    }\n",
              "\n",
              "    .dataframe tbody tr th {\n",
              "        vertical-align: top;\n",
              "    }\n",
              "\n",
              "    .dataframe thead th {\n",
              "        text-align: right;\n",
              "    }\n",
              "</style>\n",
              "<table border=\"1\" class=\"dataframe\">\n",
              "  <thead>\n",
              "    <tr style=\"text-align: right;\">\n",
              "      <th></th>\n",
              "      <th>song</th>\n",
              "      <th>artist</th>\n",
              "      <th>query_id</th>\n",
              "      <th>genius_id</th>\n",
              "      <th>words</th>\n",
              "      <th>one_hot</th>\n",
              "      <th>type_count</th>\n",
              "    </tr>\n",
              "  </thead>\n",
              "  <tbody>\n",
              "    <tr>\n",
              "      <th>1</th>\n",
              "      <td>toxic</td>\n",
              "      <td>britney spears</td>\n",
              "      <td>0</td>\n",
              "      <td>110982.0</td>\n",
              "      <td>{two, stating, matter, contra, mysteriously, d...</td>\n",
              "      <td>[1, 0, 0, 0, 0, 0, 5, 0, 0, 0, 3, 1, 0, 0, 0]</td>\n",
              "      <td>0</td>\n",
              "    </tr>\n",
              "    <tr>\n",
              "      <th>2</th>\n",
              "      <td>crazy in love</td>\n",
              "      <td>beyoncé</td>\n",
              "      <td>0</td>\n",
              "      <td>32167.0</td>\n",
              "      <td>{stating, roc, beyoncés, “part ii on the run”...</td>\n",
              "      <td>[0, 0, 0, 0, 1, 2, 2, 0, 2, 0, 1, 1, 0, 0, 0]</td>\n",
              "      <td>0</td>\n",
              "    </tr>\n",
              "    <tr>\n",
              "      <th>3</th>\n",
              "      <td>rock your body</td>\n",
              "      <td>justin timberlake</td>\n",
              "      <td>0</td>\n",
              "      <td>124611.0</td>\n",
              "      <td>{true, parody, club, ladieshes, story, explici...</td>\n",
              "      <td>[1, 0, 0, 0, 3, 2, 5, 0, 1, 1, 1, 0, 0, 0, 0]</td>\n",
              "      <td>0</td>\n",
              "    </tr>\n",
              "    <tr>\n",
              "      <th>4</th>\n",
              "      <td>it wasn't me</td>\n",
              "      <td>shaggy</td>\n",
              "      <td>0</td>\n",
              "      <td>33108.0</td>\n",
              "      <td>{open, usagehttpwwwyoutubecomwatchvuf6qfbqd9ut...</td>\n",
              "      <td>[0, 0, 0, 0, 0, 0, 3, 1, 2, 0, 0, 1, 0, 0, 0]</td>\n",
              "      <td>0</td>\n",
              "    </tr>\n",
              "    <tr>\n",
              "      <th>5</th>\n",
              "      <td>yeah!</td>\n",
              "      <td>usher</td>\n",
              "      <td>0</td>\n",
              "      <td>148.0</td>\n",
              "      <td>{two, signature, suit, “get low”, club, clothi...</td>\n",
              "      <td>[1, 0, 1, 1, 2, 1, 2, 0, 0, 0, 1, 0, 0, 0, 0]</td>\n",
              "      <td>0</td>\n",
              "    </tr>\n",
              "    <tr>\n",
              "      <th>6</th>\n",
              "      <td>my boo</td>\n",
              "      <td>usher</td>\n",
              "      <td>0</td>\n",
              "      <td>59639.0</td>\n",
              "      <td>{two, became, rozonda, back—they, 2002, matter...</td>\n",
              "      <td>[2, 0, 0, 0, 0, 1, 2, 0, 1, 0, 0, 0, 0, 0, 0]</td>\n",
              "      <td>0</td>\n",
              "    </tr>\n",
              "    <tr>\n",
              "      <th>7</th>\n",
              "      <td>buttons</td>\n",
              "      <td>the pussycat dolls</td>\n",
              "      <td>0</td>\n",
              "      <td>32118.0</td>\n",
              "      <td>{two, thxhe, melody, sutta, annotation, 100, p...</td>\n",
              "      <td>[0, 0, 0, 0, 0, 1, 2, 0, 0, 0, 1, 0, 0, 0, 0]</td>\n",
              "      <td>0</td>\n",
              "    </tr>\n",
              "    <tr>\n",
              "      <th>8</th>\n",
              "      <td>say my name</td>\n",
              "      <td>destiny's child</td>\n",
              "      <td>0</td>\n",
              "      <td>140800.0</td>\n",
              "      <td>{two, farrah, brother, stuff, toni, punk, part...</td>\n",
              "      <td>[0, 0, 0, 0, 0, 1, 2, 0, 0, 1, 1, 0, 0, 0, 0]</td>\n",
              "      <td>0</td>\n",
              "    </tr>\n",
              "    <tr>\n",
              "      <th>9</th>\n",
              "      <td>hey ya! - radio mix / club mix</td>\n",
              "      <td>outkast</td>\n",
              "      <td>0</td>\n",
              "      <td>1449.0</td>\n",
              "      <td>{terrified, true, “hey ya”, stating, said, all...</td>\n",
              "      <td>[1, 0, 1, 1, 2, 1, 3, 0, 2, 2, 2, 1, 0, 0, 0]</td>\n",
              "      <td>0</td>\n",
              "    </tr>\n",
              "    <tr>\n",
              "      <th>10</th>\n",
              "      <td>promiscuous</td>\n",
              "      <td>nelly furtado</td>\n",
              "      <td>0</td>\n",
              "      <td>3343.0</td>\n",
              "      <td>{two, became, stuff, said, knight, club, sang,...</td>\n",
              "      <td>[2, 0, 0, 0, 1, 1, 3, 0, 0, 0, 1, 0, 0, 0, 0]</td>\n",
              "      <td>0</td>\n",
              "    </tr>\n",
              "    <tr>\n",
              "      <th>13</th>\n",
              "      <td>leavin'</td>\n",
              "      <td>jesse mccartney</td>\n",
              "      <td>0</td>\n",
              "      <td>1553984.0</td>\n",
              "      <td>{confidently, herdont, 100, lyrical, songwrite...</td>\n",
              "      <td>[1, 0, 1, 0, 0, 0, 1, 0, 0, 0, 1, 0, 0, 0, 0]</td>\n",
              "      <td>0</td>\n",
              "    </tr>\n",
              "    <tr>\n",
              "      <th>15</th>\n",
              "      <td>ice box</td>\n",
              "      <td>omarion</td>\n",
              "      <td>0</td>\n",
              "      <td>117422.0</td>\n",
              "      <td>{ducklinghis, ugly, intended, time, never, alo...</td>\n",
              "      <td>[0, 0, 0, 0, 0, 0, 2, 0, 0, 1, 1, 0, 0, 0, 0]</td>\n",
              "      <td>0</td>\n",
              "    </tr>\n",
              "    <tr>\n",
              "      <th>16</th>\n",
              "      <td>sk8er boi</td>\n",
              "      <td>avril lavigne</td>\n",
              "      <td>0</td>\n",
              "      <td>163793.0</td>\n",
              "      <td>{two, became, 2002, judging, story, singerpunk...</td>\n",
              "      <td>[2, 0, 0, 0, 0, 1, 3, 0, 0, 0, 2, 1, 0, 0, 0]</td>\n",
              "      <td>0</td>\n",
              "    </tr>\n",
              "    <tr>\n",
              "      <th>17</th>\n",
              "      <td>run it!</td>\n",
              "      <td>chris brown</td>\n",
              "      <td>0</td>\n",
              "      <td>13786.0</td>\n",
              "      <td>{bodyjulez, part, wow, twenty, bed, puff, comm...</td>\n",
              "      <td>[2, 0, 0, 0, 2, 0, 1, 0, 0, 0, 1, 0, 0, 0, 0]</td>\n",
              "      <td>0</td>\n",
              "    </tr>\n",
              "    <tr>\n",
              "      <th>21</th>\n",
              "      <td>where is the love?</td>\n",
              "      <td>the black eyed peas</td>\n",
              "      <td>0</td>\n",
              "      <td>10680.0</td>\n",
              "      <td>{terrorism, brutality, fergie, manchester, gro...</td>\n",
              "      <td>[1, 0, 0, 0, 0, 0, 2, 0, 0, 0, 1, 0, 0, 0, 0]</td>\n",
              "      <td>0</td>\n",
              "    </tr>\n",
              "    <tr>\n",
              "      <th>24</th>\n",
              "      <td>yo (excuse me miss)</td>\n",
              "      <td>chris brown</td>\n",
              "      <td>0</td>\n",
              "      <td>33025.0</td>\n",
              "      <td>{two, fellow, directed, dance, being, dancing,...</td>\n",
              "      <td>[0, 0, 0, 1, 2, 1, 1, 0, 0, 0, 1, 0, 0, 0, 0]</td>\n",
              "      <td>0</td>\n",
              "    </tr>\n",
              "    <tr>\n",
              "      <th>25</th>\n",
              "      <td>year 3000</td>\n",
              "      <td>jonas brothers</td>\n",
              "      <td>0</td>\n",
              "      <td>185802.0</td>\n",
              "      <td>{brother, suit, unable, intended, set, theme, ...</td>\n",
              "      <td>[0, 2, 0, 3, 0, 0, 3, 0, 0, 0, 0, 0, 0, 0, 0]</td>\n",
              "      <td>0</td>\n",
              "    </tr>\n",
              "    <tr>\n",
              "      <th>26</th>\n",
              "      <td>lip gloss</td>\n",
              "      <td>lil mama</td>\n",
              "      <td>0</td>\n",
              "      <td>28267.0</td>\n",
              "      <td>{two, mac, flirt, wipe, schoolmac, around, que...</td>\n",
              "      <td>[1, 0, 0, 0, 0, 0, 6, 0, 0, 0, 0, 0, 0, 0, 0]</td>\n",
              "      <td>0</td>\n",
              "    </tr>\n",
              "    <tr>\n",
              "      <th>28</th>\n",
              "      <td>whatcha say</td>\n",
              "      <td>jason derulo</td>\n",
              "      <td>0</td>\n",
              "      <td>6028.0</td>\n",
              "      <td>{jason, became, brother, said, matter, heavily...</td>\n",
              "      <td>[1, 0, 0, 0, 0, 2, 2, 0, 0, 0, 0, 0, 0, 0, 0]</td>\n",
              "      <td>0</td>\n",
              "    </tr>\n",
              "    <tr>\n",
              "      <th>29</th>\n",
              "      <td>miss independent</td>\n",
              "      <td>ne-yo</td>\n",
              "      <td>0</td>\n",
              "      <td>51829.0</td>\n",
              "      <td>{two, life, conviction, like, male, help, made...</td>\n",
              "      <td>[2, 0, 0, 0, 0, 1, 1, 0, 1, 0, 1, 2, 0, 0, 0]</td>\n",
              "      <td>0</td>\n",
              "    </tr>\n",
              "    <tr>\n",
              "      <th>30</th>\n",
              "      <td>party in the u.s.a.</td>\n",
              "      <td>miley cyrus</td>\n",
              "      <td>0</td>\n",
              "      <td>2509.0</td>\n",
              "      <td>{two, intended, sang, hermiley, time, like, ma...</td>\n",
              "      <td>[1, 0, 0, 1, 0, 0, 2, 0, 0, 0, 0, 1, 0, 0, 0]</td>\n",
              "      <td>0</td>\n",
              "    </tr>\n",
              "    <tr>\n",
              "      <th>31</th>\n",
              "      <td>the great escape</td>\n",
              "      <td>boys like girls</td>\n",
              "      <td>0</td>\n",
              "      <td>609434.0</td>\n",
              "      <td>{die, two, literally, couple, ‘plastic, goodby...</td>\n",
              "      <td>[0, 0, 0, 0, 0, 0, 2, 1, 1, 0, 0, 0, 0, 0, 0]</td>\n",
              "      <td>0</td>\n",
              "    </tr>\n",
              "    <tr>\n",
              "      <th>32</th>\n",
              "      <td>replay</td>\n",
              "      <td>iyaz</td>\n",
              "      <td>0</td>\n",
              "      <td>2545.0</td>\n",
              "      <td>{timesiyaz, time, cant, like, june, song, impl...</td>\n",
              "      <td>[1, 0, 0, 1, 0, 1, 2, 0, 0, 0, 1, 0, 0, 0, 0]</td>\n",
              "      <td>0</td>\n",
              "    </tr>\n",
              "    <tr>\n",
              "      <th>34</th>\n",
              "      <td>your love is my drug</td>\n",
              "      <td>kesha</td>\n",
              "      <td>0</td>\n",
              "      <td>25996.0</td>\n",
              "      <td>{became, early, craving, theme, drug, metaphor...</td>\n",
              "      <td>[0, 0, 0, 0, 0, 1, 1, 0, 2, 0, 0, 1, 0, 0, 0]</td>\n",
              "      <td>0</td>\n",
              "    </tr>\n",
              "    <tr>\n",
              "      <th>36</th>\n",
              "      <td>one less lonely girl</td>\n",
              "      <td>justin bieber</td>\n",
              "      <td>0</td>\n",
              "      <td>67401.0</td>\n",
              "      <td>{door, gonna, track, special, christmas, time,...</td>\n",
              "      <td>[0, 0, 0, 0, 0, 0, 2, 0, 0, 0, 1, 0, 1, 0, 0]</td>\n",
              "      <td>0</td>\n",
              "    </tr>\n",
              "    <tr>\n",
              "      <th>37</th>\n",
              "      <td>paper planes</td>\n",
              "      <td>m.i.a.</td>\n",
              "      <td>0</td>\n",
              "      <td>2171.0</td>\n",
              "      <td>{part, said, term, serious, russiamia, package...</td>\n",
              "      <td>[1, 1, 1, 3, 1, 1, 1, 0, 2, 0, 0, 1, 0, 0, 0]</td>\n",
              "      <td>0</td>\n",
              "    </tr>\n",
              "    <tr>\n",
              "      <th>38</th>\n",
              "      <td>mr. brightside</td>\n",
              "      <td>the killers</td>\n",
              "      <td>0</td>\n",
              "      <td>5139.0</td>\n",
              "      <td>{true, part, unable, bed, cigarette, nme, song...</td>\n",
              "      <td>[1, 0, 0, 0, 0, 2, 2, 0, 0, 1, 2, 0, 0, 0, 0]</td>\n",
              "      <td>0</td>\n",
              "    </tr>\n",
              "    <tr>\n",
              "      <th>40</th>\n",
              "      <td>beep</td>\n",
              "      <td>the pussycat dolls</td>\n",
              "      <td>0</td>\n",
              "      <td>32064.0</td>\n",
              "      <td>{thatthere, gonna, 100, matter, focused, met, ...</td>\n",
              "      <td>[0, 0, 0, 0, 0, 2, 2, 0, 0, 0, 1, 0, 0, 0, 0]</td>\n",
              "      <td>0</td>\n",
              "    </tr>\n",
              "    <tr>\n",
              "      <th>41</th>\n",
              "      <td>somebody to love</td>\n",
              "      <td>justin bieber</td>\n",
              "      <td>0</td>\n",
              "      <td>849292.0</td>\n",
              "      <td>{true, choreographed, stuff, matter, said, met...</td>\n",
              "      <td>[2, 0, 0, 1, 2, 2, 4, 0, 1, 2, 0, 1, 0, 0, 0]</td>\n",
              "      <td>0</td>\n",
              "    </tr>\n",
              "    <tr>\n",
              "      <th>42</th>\n",
              "      <td>dirty little secret</td>\n",
              "      <td>the all-american rejects</td>\n",
              "      <td>0</td>\n",
              "      <td>77010.0</td>\n",
              "      <td>{open, letting, part, said, matter, prodding, ...</td>\n",
              "      <td>[0, 0, 0, 0, 0, 4, 1, 0, 0, 0, 1, 0, 0, 0, 0]</td>\n",
              "      <td>0</td>\n",
              "    </tr>\n",
              "    <tr>\n",
              "      <th>...</th>\n",
              "      <td>...</td>\n",
              "      <td>...</td>\n",
              "      <td>...</td>\n",
              "      <td>...</td>\n",
              "      <td>...</td>\n",
              "      <td>...</td>\n",
              "      <td>...</td>\n",
              "    </tr>\n",
              "    <tr>\n",
              "      <th>7471</th>\n",
              "      <td>paradise</td>\n",
              "      <td>craig owens</td>\n",
              "      <td>0</td>\n",
              "      <td>516475.0</td>\n",
              "      <td>{5, music, httpswwwyoutubecomwatchv3enun2wc0c,...</td>\n",
              "      <td>[1, 0, 0, 0, 0, 0, 1, 0, 0, 0, 0, 0, 0, 0, 0]</td>\n",
              "      <td>0</td>\n",
              "    </tr>\n",
              "    <tr>\n",
              "      <th>7472</th>\n",
              "      <td>wrecking ball</td>\n",
              "      <td>august burns red</td>\n",
              "      <td>0</td>\n",
              "      <td>583736.0</td>\n",
              "      <td>{red, annotation, punk, compilation, original,...</td>\n",
              "      <td>[1, 0, 0, 0, 0, 0, 3, 0, 0, 0, 0, 0, 0, 0, 0]</td>\n",
              "      <td>0</td>\n",
              "    </tr>\n",
              "    <tr>\n",
              "      <th>7473</th>\n",
              "      <td>burn</td>\n",
              "      <td>crown the empire</td>\n",
              "      <td>0</td>\n",
              "      <td>583749.0</td>\n",
              "      <td>{httpswwwyoutubecomwatchvjxoonhjiwygindex11, a...</td>\n",
              "      <td>[1, 0, 0, 0, 0, 0, 1, 0, 0, 0, 0, 0, 0, 0, 0]</td>\n",
              "      <td>0</td>\n",
              "    </tr>\n",
              "    <tr>\n",
              "      <th>7474</th>\n",
              "      <td>drunk in love</td>\n",
              "      <td>oceans ate alaska</td>\n",
              "      <td>0</td>\n",
              "      <td>583760.0</td>\n",
              "      <td>{punk, compilation, original, annotationsnote,...</td>\n",
              "      <td>[1, 0, 0, 0, 0, 0, 1, 0, 0, 0, 0, 0, 0, 0, 0]</td>\n",
              "      <td>0</td>\n",
              "    </tr>\n",
              "    <tr>\n",
              "      <th>7475</th>\n",
              "      <td>hold on, we're going home</td>\n",
              "      <td>volumes</td>\n",
              "      <td>0</td>\n",
              "      <td>583778.0</td>\n",
              "      <td>{volume, covered, annotation, punk, check, com...</td>\n",
              "      <td>[1, 0, 0, 0, 0, 0, 1, 0, 0, 0, 0, 0, 0, 0, 0]</td>\n",
              "      <td>0</td>\n",
              "    </tr>\n",
              "    <tr>\n",
              "      <th>7476</th>\n",
              "      <td>chocolate</td>\n",
              "      <td>knuckle puck</td>\n",
              "      <td>0</td>\n",
              "      <td>583782.0</td>\n",
              "      <td>{covered, annotation, punk, puck, compilation,...</td>\n",
              "      <td>[1, 0, 0, 0, 0, 0, 1, 0, 0, 0, 0, 0, 0, 0, 0]</td>\n",
              "      <td>0</td>\n",
              "    </tr>\n",
              "    <tr>\n",
              "      <th>7478</th>\n",
              "      <td>animals</td>\n",
              "      <td>ice nine kills</td>\n",
              "      <td>0</td>\n",
              "      <td>2148713.0</td>\n",
              "      <td>{blow, 2015, 23rd, annotation, punk, deluxe, o...</td>\n",
              "      <td>[1, 0, 0, 0, 0, 0, 2, 0, 0, 0, 0, 0, 0, 0, 0]</td>\n",
              "      <td>0</td>\n",
              "    </tr>\n",
              "    <tr>\n",
              "      <th>7483</th>\n",
              "      <td>lei pikake</td>\n",
              "      <td>hapa</td>\n",
              "      <td>0</td>\n",
              "      <td>337903.0</td>\n",
              "      <td>{constantly, gentle, pluck, windi, attraction,...</td>\n",
              "      <td>[0, 0, 0, 0, 0, 0, 1, 0, 0, 0, 0, 0, 0, 0, 0]</td>\n",
              "      <td>0</td>\n",
              "    </tr>\n",
              "    <tr>\n",
              "      <th>7531</th>\n",
              "      <td>holding on for life</td>\n",
              "      <td>ellie goulding</td>\n",
              "      <td>0</td>\n",
              "      <td>2308657.0</td>\n",
              "      <td>{became, avoid, helped, ‘goodbye, possibly, do...</td>\n",
              "      <td>[1, 0, 0, 0, 0, 1, 1, 0, 0, 0, 1, 1, 0, 0, 0]</td>\n",
              "      <td>0</td>\n",
              "    </tr>\n",
              "    <tr>\n",
              "      <th>7532</th>\n",
              "      <td>collide (keljet remix)</td>\n",
              "      <td>evvy</td>\n",
              "      <td>1</td>\n",
              "      <td>2263122.0</td>\n",
              "      <td>{true, intended, contrast, danger, time, run, ...</td>\n",
              "      <td>[0, 0, 0, 0, 1, 1, 2, 0, 0, 0, 1, 0, 0, 0, 0]</td>\n",
              "      <td>0</td>\n",
              "    </tr>\n",
              "    <tr>\n",
              "      <th>7533</th>\n",
              "      <td>different colors - lost kings remix</td>\n",
              "      <td>walk the moon</td>\n",
              "      <td>0</td>\n",
              "      <td>585010.0</td>\n",
              "      <td>{said, matter, rather, time, legalisation, run...</td>\n",
              "      <td>[0, 0, 0, 1, 0, 0, 1, 0, 0, 0, 0, 0, 0, 0, 0]</td>\n",
              "      <td>0</td>\n",
              "    </tr>\n",
              "    <tr>\n",
              "      <th>7536</th>\n",
              "      <td>without you - notre dame remix</td>\n",
              "      <td>avicii</td>\n",
              "      <td>0</td>\n",
              "      <td>2450960.0</td>\n",
              "      <td>{1038, ep, part, me, theyve, song, festival, g...</td>\n",
              "      <td>[1, 0, 0, 0, 0, 0, 3, 0, 0, 0, 0, 0, 0, 0, 0]</td>\n",
              "      <td>0</td>\n",
              "    </tr>\n",
              "    <tr>\n",
              "      <th>7537</th>\n",
              "      <td>i miss you (feat. julia michaels)</td>\n",
              "      <td>clean bandit</td>\n",
              "      <td>0</td>\n",
              "      <td>3253868.0</td>\n",
              "      <td>{two, letting, part, matter, happenedshe, time...</td>\n",
              "      <td>[2, 0, 0, 0, 0, 2, 4, 0, 0, 1, 2, 1, 0, 0, 0]</td>\n",
              "      <td>0</td>\n",
              "    </tr>\n",
              "    <tr>\n",
              "      <th>7544</th>\n",
              "      <td>hoops - acoustic</td>\n",
              "      <td>jones</td>\n",
              "      <td>0</td>\n",
              "      <td>2368441.0</td>\n",
              "      <td>{balance, state, “butterflies in my stomach”, ...</td>\n",
              "      <td>[1, 0, 0, 0, 0, 1, 1, 0, 0, 0, 0, 0, 0, 0, 0]</td>\n",
              "      <td>0</td>\n",
              "    </tr>\n",
              "    <tr>\n",
              "      <th>7545</th>\n",
              "      <td>chasing highs - felix cartal remix</td>\n",
              "      <td>alma</td>\n",
              "      <td>0</td>\n",
              "      <td>3032235.0</td>\n",
              "      <td>{true, song, love, first, jumping, another, fi...</td>\n",
              "      <td>[0, 0, 0, 0, 0, 0, 1, 0, 0, 0, 0, 0, 0, 0, 0]</td>\n",
              "      <td>0</td>\n",
              "    </tr>\n",
              "    <tr>\n",
              "      <th>7547</th>\n",
              "      <td>love in ruins (feat. sinead harnett)</td>\n",
              "      <td>gryffin</td>\n",
              "      <td>0</td>\n",
              "      <td>3173829.0</td>\n",
              "      <td>{laugh, track, spin, really, rather, brought, ...</td>\n",
              "      <td>[0, 0, 0, 0, 1, 0, 1, 0, 0, 1, 0, 0, 0, 0, 0]</td>\n",
              "      <td>0</td>\n",
              "    </tr>\n",
              "    <tr>\n",
              "      <th>7552</th>\n",
              "      <td>i won't</td>\n",
              "      <td>h.e.r.</td>\n",
              "      <td>0</td>\n",
              "      <td>3123372.0</td>\n",
              "      <td>{“i wont”, ep, track, matter, affection, “i ca...</td>\n",
              "      <td>[1, 0, 0, 0, 0, 1, 1, 0, 0, 0, 0, 0, 0, 0, 0]</td>\n",
              "      <td>0</td>\n",
              "    </tr>\n",
              "    <tr>\n",
              "      <th>7553</th>\n",
              "      <td>changes</td>\n",
              "      <td>h.e.r.</td>\n",
              "      <td>0</td>\n",
              "      <td>3077333.0</td>\n",
              "      <td>{rather, time, connection, messing, like, go, ...</td>\n",
              "      <td>[1, 0, 0, 0, 0, 2, 2, 0, 0, 0, 2, 1, 0, 0, 0]</td>\n",
              "      <td>0</td>\n",
              "    </tr>\n",
              "    <tr>\n",
              "      <th>7555</th>\n",
              "      <td>girl next door</td>\n",
              "      <td>musiq soulchild</td>\n",
              "      <td>0</td>\n",
              "      <td>162596.0</td>\n",
              "      <td>{real, known, group, singer, stuffayana, done,...</td>\n",
              "      <td>[0, 0, 0, 0, 0, 0, 2, 0, 0, 0, 0, 0, 0, 0, 0]</td>\n",
              "      <td>0</td>\n",
              "    </tr>\n",
              "    <tr>\n",
              "      <th>7557</th>\n",
              "      <td>could you be the one?</td>\n",
              "      <td>sammy wilk</td>\n",
              "      <td>0</td>\n",
              "      <td>496213.0</td>\n",
              "      <td>{true, yousammy, long, forever, find, protect,...</td>\n",
              "      <td>[0, 0, 0, 0, 0, 0, 2, 0, 0, 0, 0, 0, 0, 0, 0]</td>\n",
              "      <td>0</td>\n",
              "    </tr>\n",
              "    <tr>\n",
              "      <th>7563</th>\n",
              "      <td>boom</td>\n",
              "      <td>mahogany lox</td>\n",
              "      <td>0</td>\n",
              "      <td>2129776.0</td>\n",
              "      <td>{happens, mahogany, happiness, still, song, “d...</td>\n",
              "      <td>[0, 0, 0, 0, 0, 0, 2, 0, 0, 0, 0, 0, 0, 0, 0]</td>\n",
              "      <td>0</td>\n",
              "    </tr>\n",
              "    <tr>\n",
              "      <th>7564</th>\n",
              "      <td>buckwild (feat. taylor caniff)</td>\n",
              "      <td>2virgins</td>\n",
              "      <td>0</td>\n",
              "      <td>407602.0</td>\n",
              "      <td>{two, stating, unable, 2virgins, heavily, time...</td>\n",
              "      <td>[0, 0, 1, 0, 1, 0, 3, 0, 0, 0, 1, 0, 0, 1, 0]</td>\n",
              "      <td>0</td>\n",
              "    </tr>\n",
              "    <tr>\n",
              "      <th>7600</th>\n",
              "      <td>it's so hard to say goodbye to yesterday</td>\n",
              "      <td>boyz ii men</td>\n",
              "      <td>0</td>\n",
              "      <td>340648.0</td>\n",
              "      <td>{graduate, two, becoming, sang, contrast, time...</td>\n",
              "      <td>[0, 0, 0, 0, 0, 2, 1, 0, 0, 0, 2, 0, 0, 0, 0]</td>\n",
              "      <td>0</td>\n",
              "    </tr>\n",
              "    <tr>\n",
              "      <th>7605</th>\n",
              "      <td>i can't make you love me</td>\n",
              "      <td>tank</td>\n",
              "      <td>0</td>\n",
              "      <td>69144.0</td>\n",
              "      <td>{rb, contemporary, 100, giving, somethinghe, n...</td>\n",
              "      <td>[0, 0, 0, 0, 0, 0, 1, 0, 0, 0, 1, 0, 0, 0, 0]</td>\n",
              "      <td>0</td>\n",
              "    </tr>\n",
              "    <tr>\n",
              "      <th>7607</th>\n",
              "      <td>stranger in my house</td>\n",
              "      <td>tamia</td>\n",
              "      <td>0</td>\n",
              "      <td>147800.0</td>\n",
              "      <td>{two, cloth, time, nothing, connection, bed, m...</td>\n",
              "      <td>[1, 0, 0, 2, 0, 0, 2, 0, 0, 0, 0, 0, 0, 0, 0]</td>\n",
              "      <td>0</td>\n",
              "    </tr>\n",
              "    <tr>\n",
              "      <th>7611</th>\n",
              "      <td>almost doesn't count</td>\n",
              "      <td>brandy</td>\n",
              "      <td>0</td>\n",
              "      <td>615617.0</td>\n",
              "      <td>{roche, brandy, gonna, 100, httpswwwyoutubecom...</td>\n",
              "      <td>[0, 0, 0, 0, 0, 1, 1, 0, 0, 0, 1, 0, 0, 0, 0]</td>\n",
              "      <td>0</td>\n",
              "    </tr>\n",
              "    <tr>\n",
              "      <th>7626</th>\n",
              "      <td>waiting for your love</td>\n",
              "      <td>stevie b</td>\n",
              "      <td>0</td>\n",
              "      <td>600429.0</td>\n",
              "      <td>{letting, contain, time, cant, like, end, rid,...</td>\n",
              "      <td>[0, 0, 0, 0, 0, 0, 1, 0, 0, 2, 1, 1, 0, 0, 0]</td>\n",
              "      <td>0</td>\n",
              "    </tr>\n",
              "    <tr>\n",
              "      <th>7640</th>\n",
              "      <td>sunday</td>\n",
              "      <td>les friction</td>\n",
              "      <td>0</td>\n",
              "      <td>2204384.0</td>\n",
              "      <td>{narrator, special, cherished, love, pointing,...</td>\n",
              "      <td>[0, 0, 0, 0, 0, 0, 2, 0, 0, 0, 0, 0, 0, 0, 0]</td>\n",
              "      <td>0</td>\n",
              "    </tr>\n",
              "    <tr>\n",
              "      <th>7654</th>\n",
              "      <td>distopian dream girl</td>\n",
              "      <td>built to spill</td>\n",
              "      <td>0</td>\n",
              "      <td>101988.0</td>\n",
              "      <td>{die, matter, met, martsch, nothing, doug, dav...</td>\n",
              "      <td>[0, 0, 0, 0, 0, 0, 1, 1, 1, 0, 0, 0, 0, 0, 0]</td>\n",
              "      <td>0</td>\n",
              "    </tr>\n",
              "    <tr>\n",
              "      <th>7655</th>\n",
              "      <td>range life</td>\n",
              "      <td>pavement</td>\n",
              "      <td>0</td>\n",
              "      <td>252890.0</td>\n",
              "      <td>{stating, part, said, wistful, mental, orderwh...</td>\n",
              "      <td>[1, 0, 0, 0, 0, 1, 1, 0, 1, 1, 1, 1, 0, 1, 0]</td>\n",
              "      <td>0</td>\n",
              "    </tr>\n",
              "  </tbody>\n",
              "</table>\n",
              "<p>21518 rows × 7 columns</p>\n",
              "</div>"
            ],
            "text/plain": [
              "                                          song                    artist  \\\n",
              "1                                        toxic            britney spears   \n",
              "2                                crazy in love                  beyoncé   \n",
              "3                               rock your body         justin timberlake   \n",
              "4                                 it wasn't me                    shaggy   \n",
              "5                                        yeah!                     usher   \n",
              "6                                       my boo                     usher   \n",
              "7                                      buttons        the pussycat dolls   \n",
              "8                                  say my name           destiny's child   \n",
              "9               hey ya! - radio mix / club mix                   outkast   \n",
              "10                                 promiscuous             nelly furtado   \n",
              "13                                     leavin'           jesse mccartney   \n",
              "15                                     ice box                   omarion   \n",
              "16                                   sk8er boi             avril lavigne   \n",
              "17                                     run it!               chris brown   \n",
              "21                          where is the love?       the black eyed peas   \n",
              "24                         yo (excuse me miss)               chris brown   \n",
              "25                                   year 3000            jonas brothers   \n",
              "26                                   lip gloss                  lil mama   \n",
              "28                                 whatcha say              jason derulo   \n",
              "29                            miss independent                     ne-yo   \n",
              "30                         party in the u.s.a.               miley cyrus   \n",
              "31                            the great escape           boys like girls   \n",
              "32                                      replay                      iyaz   \n",
              "34                        your love is my drug                     kesha   \n",
              "36                        one less lonely girl             justin bieber   \n",
              "37                                paper planes                    m.i.a.   \n",
              "38                              mr. brightside               the killers   \n",
              "40                                        beep        the pussycat dolls   \n",
              "41                            somebody to love             justin bieber   \n",
              "42                         dirty little secret  the all-american rejects   \n",
              "...                                        ...                       ...   \n",
              "7471                                  paradise               craig owens   \n",
              "7472                             wrecking ball          august burns red   \n",
              "7473                                      burn          crown the empire   \n",
              "7474                             drunk in love         oceans ate alaska   \n",
              "7475                 hold on, we're going home                   volumes   \n",
              "7476                                 chocolate              knuckle puck   \n",
              "7478                                   animals            ice nine kills   \n",
              "7483                                lei pikake                      hapa   \n",
              "7531                       holding on for life            ellie goulding   \n",
              "7532                    collide (keljet remix)                      evvy   \n",
              "7533       different colors - lost kings remix             walk the moon   \n",
              "7536            without you - notre dame remix                    avicii   \n",
              "7537         i miss you (feat. julia michaels)              clean bandit   \n",
              "7544                          hoops - acoustic                     jones   \n",
              "7545        chasing highs - felix cartal remix                      alma   \n",
              "7547      love in ruins (feat. sinead harnett)                   gryffin   \n",
              "7552                                   i won't                    h.e.r.   \n",
              "7553                                   changes                    h.e.r.   \n",
              "7555                            girl next door           musiq soulchild   \n",
              "7557                     could you be the one?                sammy wilk   \n",
              "7563                                      boom              mahogany lox   \n",
              "7564            buckwild (feat. taylor caniff)                  2virgins   \n",
              "7600  it's so hard to say goodbye to yesterday               boyz ii men   \n",
              "7605                  i can't make you love me                      tank   \n",
              "7607                      stranger in my house                     tamia   \n",
              "7611                      almost doesn't count                    brandy   \n",
              "7626                     waiting for your love                  stevie b   \n",
              "7640                                    sunday              les friction   \n",
              "7654                      distopian dream girl            built to spill   \n",
              "7655                                range life                  pavement   \n",
              "\n",
              "      query_id  genius_id                                              words  \\\n",
              "1            0   110982.0  {two, stating, matter, contra, mysteriously, d...   \n",
              "2            0    32167.0  {stating, roc, beyoncés, “part ii on the run”...   \n",
              "3            0   124611.0  {true, parody, club, ladieshes, story, explici...   \n",
              "4            0    33108.0  {open, usagehttpwwwyoutubecomwatchvuf6qfbqd9ut...   \n",
              "5            0      148.0  {two, signature, suit, “get low”, club, clothi...   \n",
              "6            0    59639.0  {two, became, rozonda, back—they, 2002, matter...   \n",
              "7            0    32118.0  {two, thxhe, melody, sutta, annotation, 100, p...   \n",
              "8            0   140800.0  {two, farrah, brother, stuff, toni, punk, part...   \n",
              "9            0     1449.0  {terrified, true, “hey ya”, stating, said, all...   \n",
              "10           0     3343.0  {two, became, stuff, said, knight, club, sang,...   \n",
              "13           0  1553984.0  {confidently, herdont, 100, lyrical, songwrite...   \n",
              "15           0   117422.0  {ducklinghis, ugly, intended, time, never, alo...   \n",
              "16           0   163793.0  {two, became, 2002, judging, story, singerpunk...   \n",
              "17           0    13786.0  {bodyjulez, part, wow, twenty, bed, puff, comm...   \n",
              "21           0    10680.0  {terrorism, brutality, fergie, manchester, gro...   \n",
              "24           0    33025.0  {two, fellow, directed, dance, being, dancing,...   \n",
              "25           0   185802.0  {brother, suit, unable, intended, set, theme, ...   \n",
              "26           0    28267.0  {two, mac, flirt, wipe, schoolmac, around, que...   \n",
              "28           0     6028.0  {jason, became, brother, said, matter, heavily...   \n",
              "29           0    51829.0  {two, life, conviction, like, male, help, made...   \n",
              "30           0     2509.0  {two, intended, sang, hermiley, time, like, ma...   \n",
              "31           0   609434.0  {die, two, literally, couple, ‘plastic, goodby...   \n",
              "32           0     2545.0  {timesiyaz, time, cant, like, june, song, impl...   \n",
              "34           0    25996.0  {became, early, craving, theme, drug, metaphor...   \n",
              "36           0    67401.0  {door, gonna, track, special, christmas, time,...   \n",
              "37           0     2171.0  {part, said, term, serious, russiamia, package...   \n",
              "38           0     5139.0  {true, part, unable, bed, cigarette, nme, song...   \n",
              "40           0    32064.0  {thatthere, gonna, 100, matter, focused, met, ...   \n",
              "41           0   849292.0  {true, choreographed, stuff, matter, said, met...   \n",
              "42           0    77010.0  {open, letting, part, said, matter, prodding, ...   \n",
              "...        ...        ...                                                ...   \n",
              "7471         0   516475.0  {5, music, httpswwwyoutubecomwatchv3enun2wc0c,...   \n",
              "7472         0   583736.0  {red, annotation, punk, compilation, original,...   \n",
              "7473         0   583749.0  {httpswwwyoutubecomwatchvjxoonhjiwygindex11, a...   \n",
              "7474         0   583760.0  {punk, compilation, original, annotationsnote,...   \n",
              "7475         0   583778.0  {volume, covered, annotation, punk, check, com...   \n",
              "7476         0   583782.0  {covered, annotation, punk, puck, compilation,...   \n",
              "7478         0  2148713.0  {blow, 2015, 23rd, annotation, punk, deluxe, o...   \n",
              "7483         0   337903.0  {constantly, gentle, pluck, windi, attraction,...   \n",
              "7531         0  2308657.0  {became, avoid, helped, ‘goodbye, possibly, do...   \n",
              "7532         1  2263122.0  {true, intended, contrast, danger, time, run, ...   \n",
              "7533         0   585010.0  {said, matter, rather, time, legalisation, run...   \n",
              "7536         0  2450960.0  {1038, ep, part, me, theyve, song, festival, g...   \n",
              "7537         0  3253868.0  {two, letting, part, matter, happenedshe, time...   \n",
              "7544         0  2368441.0  {balance, state, “butterflies in my stomach”, ...   \n",
              "7545         0  3032235.0  {true, song, love, first, jumping, another, fi...   \n",
              "7547         0  3173829.0  {laugh, track, spin, really, rather, brought, ...   \n",
              "7552         0  3123372.0  {“i wont”, ep, track, matter, affection, “i ca...   \n",
              "7553         0  3077333.0  {rather, time, connection, messing, like, go, ...   \n",
              "7555         0   162596.0  {real, known, group, singer, stuffayana, done,...   \n",
              "7557         0   496213.0  {true, yousammy, long, forever, find, protect,...   \n",
              "7563         0  2129776.0  {happens, mahogany, happiness, still, song, “d...   \n",
              "7564         0   407602.0  {two, stating, unable, 2virgins, heavily, time...   \n",
              "7600         0   340648.0  {graduate, two, becoming, sang, contrast, time...   \n",
              "7605         0    69144.0  {rb, contemporary, 100, giving, somethinghe, n...   \n",
              "7607         0   147800.0  {two, cloth, time, nothing, connection, bed, m...   \n",
              "7611         0   615617.0  {roche, brandy, gonna, 100, httpswwwyoutubecom...   \n",
              "7626         0   600429.0  {letting, contain, time, cant, like, end, rid,...   \n",
              "7640         0  2204384.0  {narrator, special, cherished, love, pointing,...   \n",
              "7654         0   101988.0  {die, matter, met, martsch, nothing, doug, dav...   \n",
              "7655         0   252890.0  {stating, part, said, wistful, mental, orderwh...   \n",
              "\n",
              "                                            one_hot  type_count  \n",
              "1     [1, 0, 0, 0, 0, 0, 5, 0, 0, 0, 3, 1, 0, 0, 0]           0  \n",
              "2     [0, 0, 0, 0, 1, 2, 2, 0, 2, 0, 1, 1, 0, 0, 0]           0  \n",
              "3     [1, 0, 0, 0, 3, 2, 5, 0, 1, 1, 1, 0, 0, 0, 0]           0  \n",
              "4     [0, 0, 0, 0, 0, 0, 3, 1, 2, 0, 0, 1, 0, 0, 0]           0  \n",
              "5     [1, 0, 1, 1, 2, 1, 2, 0, 0, 0, 1, 0, 0, 0, 0]           0  \n",
              "6     [2, 0, 0, 0, 0, 1, 2, 0, 1, 0, 0, 0, 0, 0, 0]           0  \n",
              "7     [0, 0, 0, 0, 0, 1, 2, 0, 0, 0, 1, 0, 0, 0, 0]           0  \n",
              "8     [0, 0, 0, 0, 0, 1, 2, 0, 0, 1, 1, 0, 0, 0, 0]           0  \n",
              "9     [1, 0, 1, 1, 2, 1, 3, 0, 2, 2, 2, 1, 0, 0, 0]           0  \n",
              "10    [2, 0, 0, 0, 1, 1, 3, 0, 0, 0, 1, 0, 0, 0, 0]           0  \n",
              "13    [1, 0, 1, 0, 0, 0, 1, 0, 0, 0, 1, 0, 0, 0, 0]           0  \n",
              "15    [0, 0, 0, 0, 0, 0, 2, 0, 0, 1, 1, 0, 0, 0, 0]           0  \n",
              "16    [2, 0, 0, 0, 0, 1, 3, 0, 0, 0, 2, 1, 0, 0, 0]           0  \n",
              "17    [2, 0, 0, 0, 2, 0, 1, 0, 0, 0, 1, 0, 0, 0, 0]           0  \n",
              "21    [1, 0, 0, 0, 0, 0, 2, 0, 0, 0, 1, 0, 0, 0, 0]           0  \n",
              "24    [0, 0, 0, 1, 2, 1, 1, 0, 0, 0, 1, 0, 0, 0, 0]           0  \n",
              "25    [0, 2, 0, 3, 0, 0, 3, 0, 0, 0, 0, 0, 0, 0, 0]           0  \n",
              "26    [1, 0, 0, 0, 0, 0, 6, 0, 0, 0, 0, 0, 0, 0, 0]           0  \n",
              "28    [1, 0, 0, 0, 0, 2, 2, 0, 0, 0, 0, 0, 0, 0, 0]           0  \n",
              "29    [2, 0, 0, 0, 0, 1, 1, 0, 1, 0, 1, 2, 0, 0, 0]           0  \n",
              "30    [1, 0, 0, 1, 0, 0, 2, 0, 0, 0, 0, 1, 0, 0, 0]           0  \n",
              "31    [0, 0, 0, 0, 0, 0, 2, 1, 1, 0, 0, 0, 0, 0, 0]           0  \n",
              "32    [1, 0, 0, 1, 0, 1, 2, 0, 0, 0, 1, 0, 0, 0, 0]           0  \n",
              "34    [0, 0, 0, 0, 0, 1, 1, 0, 2, 0, 0, 1, 0, 0, 0]           0  \n",
              "36    [0, 0, 0, 0, 0, 0, 2, 0, 0, 0, 1, 0, 1, 0, 0]           0  \n",
              "37    [1, 1, 1, 3, 1, 1, 1, 0, 2, 0, 0, 1, 0, 0, 0]           0  \n",
              "38    [1, 0, 0, 0, 0, 2, 2, 0, 0, 1, 2, 0, 0, 0, 0]           0  \n",
              "40    [0, 0, 0, 0, 0, 2, 2, 0, 0, 0, 1, 0, 0, 0, 0]           0  \n",
              "41    [2, 0, 0, 1, 2, 2, 4, 0, 1, 2, 0, 1, 0, 0, 0]           0  \n",
              "42    [0, 0, 0, 0, 0, 4, 1, 0, 0, 0, 1, 0, 0, 0, 0]           0  \n",
              "...                                             ...         ...  \n",
              "7471  [1, 0, 0, 0, 0, 0, 1, 0, 0, 0, 0, 0, 0, 0, 0]           0  \n",
              "7472  [1, 0, 0, 0, 0, 0, 3, 0, 0, 0, 0, 0, 0, 0, 0]           0  \n",
              "7473  [1, 0, 0, 0, 0, 0, 1, 0, 0, 0, 0, 0, 0, 0, 0]           0  \n",
              "7474  [1, 0, 0, 0, 0, 0, 1, 0, 0, 0, 0, 0, 0, 0, 0]           0  \n",
              "7475  [1, 0, 0, 0, 0, 0, 1, 0, 0, 0, 0, 0, 0, 0, 0]           0  \n",
              "7476  [1, 0, 0, 0, 0, 0, 1, 0, 0, 0, 0, 0, 0, 0, 0]           0  \n",
              "7478  [1, 0, 0, 0, 0, 0, 2, 0, 0, 0, 0, 0, 0, 0, 0]           0  \n",
              "7483  [0, 0, 0, 0, 0, 0, 1, 0, 0, 0, 0, 0, 0, 0, 0]           0  \n",
              "7531  [1, 0, 0, 0, 0, 1, 1, 0, 0, 0, 1, 1, 0, 0, 0]           0  \n",
              "7532  [0, 0, 0, 0, 1, 1, 2, 0, 0, 0, 1, 0, 0, 0, 0]           0  \n",
              "7533  [0, 0, 0, 1, 0, 0, 1, 0, 0, 0, 0, 0, 0, 0, 0]           0  \n",
              "7536  [1, 0, 0, 0, 0, 0, 3, 0, 0, 0, 0, 0, 0, 0, 0]           0  \n",
              "7537  [2, 0, 0, 0, 0, 2, 4, 0, 0, 1, 2, 1, 0, 0, 0]           0  \n",
              "7544  [1, 0, 0, 0, 0, 1, 1, 0, 0, 0, 0, 0, 0, 0, 0]           0  \n",
              "7545  [0, 0, 0, 0, 0, 0, 1, 0, 0, 0, 0, 0, 0, 0, 0]           0  \n",
              "7547  [0, 0, 0, 0, 1, 0, 1, 0, 0, 1, 0, 0, 0, 0, 0]           0  \n",
              "7552  [1, 0, 0, 0, 0, 1, 1, 0, 0, 0, 0, 0, 0, 0, 0]           0  \n",
              "7553  [1, 0, 0, 0, 0, 2, 2, 0, 0, 0, 2, 1, 0, 0, 0]           0  \n",
              "7555  [0, 0, 0, 0, 0, 0, 2, 0, 0, 0, 0, 0, 0, 0, 0]           0  \n",
              "7557  [0, 0, 0, 0, 0, 0, 2, 0, 0, 0, 0, 0, 0, 0, 0]           0  \n",
              "7563  [0, 0, 0, 0, 0, 0, 2, 0, 0, 0, 0, 0, 0, 0, 0]           0  \n",
              "7564  [0, 0, 1, 0, 1, 0, 3, 0, 0, 0, 1, 0, 0, 1, 0]           0  \n",
              "7600  [0, 0, 0, 0, 0, 2, 1, 0, 0, 0, 2, 0, 0, 0, 0]           0  \n",
              "7605  [0, 0, 0, 0, 0, 0, 1, 0, 0, 0, 1, 0, 0, 0, 0]           0  \n",
              "7607  [1, 0, 0, 2, 0, 0, 2, 0, 0, 0, 0, 0, 0, 0, 0]           0  \n",
              "7611  [0, 0, 0, 0, 0, 1, 1, 0, 0, 0, 1, 0, 0, 0, 0]           0  \n",
              "7626  [0, 0, 0, 0, 0, 0, 1, 0, 0, 2, 1, 1, 0, 0, 0]           0  \n",
              "7640  [0, 0, 0, 0, 0, 0, 2, 0, 0, 0, 0, 0, 0, 0, 0]           0  \n",
              "7654  [0, 0, 0, 0, 0, 0, 1, 1, 1, 0, 0, 0, 0, 0, 0]           0  \n",
              "7655  [1, 0, 0, 0, 0, 1, 1, 0, 1, 1, 1, 1, 0, 1, 0]           0  \n",
              "\n",
              "[21518 rows x 7 columns]"
            ]
          },
          "metadata": {
            "tags": []
          },
          "execution_count": 243
        }
      ]
    },
    {
      "metadata": {
        "id": "3pUBLlTkofSa",
        "colab_type": "code",
        "colab": {
          "autoexec": {
            "startup": false,
            "wait_interval": 0
          },
          "base_uri": "https://localhost:8080/",
          "height": 85
        },
        "outputId": "2aeb418a-f4bc-4ca9-ec41-3afc7471f04e",
        "executionInfo": {
          "status": "ok",
          "timestamp": 1525474474429,
          "user_tz": 240,
          "elapsed": 990,
          "user": {
            "displayName": "Mehul Smriti Raje",
            "photoUrl": "//lh3.googleusercontent.com/-ULNZoebPWnQ/AAAAAAAAAAI/AAAAAAAAAaQ/hC3_RchfCRs/s50-c-k-no/photo.jpg",
            "userId": "116597900982323796919"
          }
        }
      },
      "cell_type": "code",
      "source": [
        "nltk.download('averaged_perceptron_tagger')"
      ],
      "execution_count": 0,
      "outputs": [
        {
          "output_type": "stream",
          "text": [
            "[nltk_data] Downloading package averaged_perceptron_tagger to\n",
            "[nltk_data]     /content/nltk_data...\n",
            "[nltk_data]   Unzipping taggers/averaged_perceptron_tagger.zip.\n"
          ],
          "name": "stdout"
        },
        {
          "output_type": "execute_result",
          "data": {
            "text/plain": [
              "True"
            ]
          },
          "metadata": {
            "tags": []
          },
          "execution_count": 69
        }
      ]
    },
    {
      "metadata": {
        "id": "-CxzKK4_X_fA",
        "colab_type": "code",
        "colab": {
          "autoexec": {
            "startup": false,
            "wait_interval": 0
          },
          "base_uri": "https://localhost:8080/",
          "height": 119
        },
        "outputId": "88c2f645-fe84-4a41-94fd-5d59a889bb82",
        "executionInfo": {
          "status": "ok",
          "timestamp": 1525477021085,
          "user_tz": 240,
          "elapsed": 978,
          "user": {
            "displayName": "Mehul Smriti Raje",
            "photoUrl": "//lh3.googleusercontent.com/-ULNZoebPWnQ/AAAAAAAAAAI/AAAAAAAAAaQ/hC3_RchfCRs/s50-c-k-no/photo.jpg",
            "userId": "116597900982323796919"
          }
        }
      },
      "cell_type": "code",
      "source": [
        "data_word_sets['words'][:5]"
      ],
      "execution_count": 0,
      "outputs": [
        {
          "output_type": "execute_result",
          "data": {
            "text/plain": [
              "0    {heard, number, pretty, cybotrons, engaging, b...\n",
              "1    {carnal, back, interview, people, tire, reflec...\n",
              "2    {therefore, yall, put, cancerjayz, compare, va...\n",
              "3    {debut, displayed, videoconfirmed, learn, arou...\n",
              "4    {suggests, back, interview, “raw”, 2000, cloth...\n",
              "Name: words, dtype: object"
            ]
          },
          "metadata": {
            "tags": []
          },
          "execution_count": 129
        }
      ]
    },
    {
      "metadata": {
        "id": "mF_jJ0O7Xmh-",
        "colab_type": "code",
        "colab": {
          "autoexec": {
            "startup": false,
            "wait_interval": 0
          },
          "base_uri": "https://localhost:8080/",
          "height": 1411
        },
        "outputId": "563745bc-f4cf-4b77-eb99-c1b4f6739890",
        "executionInfo": {
          "status": "ok",
          "timestamp": 1525477726270,
          "user_tz": 240,
          "elapsed": 882,
          "user": {
            "displayName": "Mehul Smriti Raje",
            "photoUrl": "//lh3.googleusercontent.com/-ULNZoebPWnQ/AAAAAAAAAAI/AAAAAAAAAaQ/hC3_RchfCRs/s50-c-k-no/photo.jpg",
            "userId": "116597900982323796919"
          }
        }
      },
      "cell_type": "code",
      "source": [
        "nltk.pos_tag(data_word_sets.values[0][4]) "
      ],
      "execution_count": 0,
      "outputs": [
        {
          "output_type": "execute_result",
          "data": {
            "text/plain": [
              "[('heard', 'NN'),\n",
              " ('number', 'NN'),\n",
              " ('pretty', 'JJ'),\n",
              " ('cybotrons', 'NNS'),\n",
              " ('engaging', 'VBG'),\n",
              " ('banger', 'NN'),\n",
              " ('making', 'VBG'),\n",
              " ('throughout', 'IN'),\n",
              " ('move', 'NN'),\n",
              " ('4', 'CD'),\n",
              " ('10', 'CD'),\n",
              " ('smash', 'NN'),\n",
              " ('bambaataaone', 'NN'),\n",
              " ('powerful', 'JJ'),\n",
              " ('track', 'NN'),\n",
              " ('sample', 'NN'),\n",
              " ('“clear”', 'NNP'),\n",
              " ('elliott', 'NN'),\n",
              " ('appears', 'VBZ'),\n",
              " ('afrika', 'JJ'),\n",
              " ('man', 'NN'),\n",
              " ('billboard', 'NN'),\n",
              " ('centred', 'VBD'),\n",
              " ('extremity', 'NN'),\n",
              " ('dance', 'NN'),\n",
              " ('“body work”', 'NN'),\n",
              " ('song', 'NN'),\n",
              " ('3', 'CD'),\n",
              " ('026httpswwwyoutubecomwatchvojijgprj0gthe', 'CD'),\n",
              " ('music', 'NN'),\n",
              " ('technology', 'NN'),\n",
              " ('chart', 'NN'),\n",
              " ('“planet rock”', 'NNP'),\n",
              " ('nickname', 'NN'),\n",
              " ('setting', 'VBG'),\n",
              " ('elliots', 'NNS'),\n",
              " ('control', 'NN'),\n",
              " ('streakhttpwwwyoutubecomwatchfeatureplayerembeddedvojijgprj0gt26ssample',\n",
              "  'JJ'),\n",
              " ('scoop', 'NN'),\n",
              " ('incredible', 'JJ'),\n",
              " ('hiphop', 'NN'),\n",
              " ('bunch', 'NN'),\n",
              " ('video', 'JJ'),\n",
              " ('country', 'NN'),\n",
              " ('hot', 'JJ'),\n",
              " ('streak', 'NN'),\n",
              " ('really', 'RB'),\n",
              " ('floor', 'NN'),\n",
              " ('produced', 'VBD'),\n",
              " ('whole', 'JJ'),\n",
              " ('hype', 'NN'),\n",
              " ('line', 'NN'),\n",
              " ('album', 'IN'),\n",
              " ('featuring', 'VBG'),\n",
              " ('missy', 'JJ'),\n",
              " ('u', 'JJ'),\n",
              " ('reference', 'NN'),\n",
              " ('affect', 'VBP'),\n",
              " ('various', 'JJ'),\n",
              " ('sampled', 'VBN'),\n",
              " ('fatman', 'JJ'),\n",
              " ('dancer', 'NN'),\n",
              " ('futuristic', 'JJ'),\n",
              " ('classic', 'JJ'),\n",
              " ('feature', 'NN'),\n",
              " ('top', 'JJ'),\n",
              " ('cybotronhttpswwwyoutubecomwatchvi280cxs2jvashee', 'NN'),\n",
              " ('edge', 'NN'),\n",
              " ('another', 'DT'),\n",
              " ('world', 'NN'),\n",
              " ('electro', 'NN'),\n",
              " ('also', 'RB'),\n",
              " ('goody', 'NN'),\n",
              " ('cutting', 'VBG'),\n",
              " ('thickmissys', 'JJ'),\n",
              " ('keyboard', 'NN'),\n",
              " ('around', 'IN'),\n",
              " ('displaying', 'VBG'),\n",
              " ('strength', 'NN'),\n",
              " ('ciara', 'NN'),\n",
              " ('loss', 'NN')]"
            ]
          },
          "metadata": {
            "tags": []
          },
          "execution_count": 132
        }
      ]
    },
    {
      "metadata": {
        "id": "yDB0ElS1Xrg_",
        "colab_type": "text"
      },
      "cell_type": "markdown",
      "source": [
        "### Sub: Fiding Similarity"
      ]
    },
    {
      "metadata": {
        "id": "5b65D9X1XoLI",
        "colab_type": "code",
        "colab": {
          "autoexec": {
            "startup": false,
            "wait_interval": 0
          },
          "base_uri": "https://localhost:8080/",
          "height": 34
        },
        "outputId": "58a25de3-e6ca-4408-92eb-61469cac3c02",
        "executionInfo": {
          "status": "ok",
          "timestamp": 1525496615795,
          "user_tz": 240,
          "elapsed": 471,
          "user": {
            "displayName": "Mehul Smriti Raje",
            "photoUrl": "//lh3.googleusercontent.com/-ULNZoebPWnQ/AAAAAAAAAAI/AAAAAAAAAaQ/hC3_RchfCRs/s50-c-k-no/photo.jpg",
            "userId": "116597900982323796919"
          }
        }
      },
      "cell_type": "code",
      "source": [
        "seeds = []\n",
        "for song in ['tentación']:\n",
        "  score = data_words_condensed[data_words_condensed['song'] == song]['one_hot']\n",
        "  for s in score:\n",
        "    seeds.append(s)\n",
        "seeds\n",
        "\n",
        "# seed = data_words_condensed[data_words_condensed['song'] == 'tentación']['one_hot']\n",
        "# seed"
      ],
      "execution_count": 0,
      "outputs": [
        {
          "output_type": "execute_result",
          "data": {
            "text/plain": [
              "[[1, 1, 1, 1, 1, 1, 1, 1, 1, 1, 1, 1, 1, 1, 2]]"
            ]
          },
          "metadata": {
            "tags": []
          },
          "execution_count": 244
        }
      ]
    },
    {
      "metadata": {
        "id": "WyDmXIDYg3JC",
        "colab_type": "code",
        "colab": {
          "autoexec": {
            "startup": false,
            "wait_interval": 0
          },
          "base_uri": "https://localhost:8080/",
          "height": 80
        },
        "outputId": "ab331046-8a20-4c81-c765-94e10b9e643b",
        "executionInfo": {
          "status": "ok",
          "timestamp": 1525498464587,
          "user_tz": 240,
          "elapsed": 537,
          "user": {
            "displayName": "Mehul Smriti Raje",
            "photoUrl": "//lh3.googleusercontent.com/-ULNZoebPWnQ/AAAAAAAAAAI/AAAAAAAAAaQ/hC3_RchfCRs/s50-c-k-no/photo.jpg",
            "userId": "116597900982323796919"
          }
        }
      },
      "cell_type": "code",
      "source": [
        "data_words_condensed[(data_words_condensed['song'] == 'somebody to love') & (data_words_condensed['artist'] == 'justin bieber')]#['one_hot']"
      ],
      "execution_count": 0,
      "outputs": [
        {
          "output_type": "execute_result",
          "data": {
            "text/html": [
              "<div>\n",
              "<style scoped>\n",
              "    .dataframe tbody tr th:only-of-type {\n",
              "        vertical-align: middle;\n",
              "    }\n",
              "\n",
              "    .dataframe tbody tr th {\n",
              "        vertical-align: top;\n",
              "    }\n",
              "\n",
              "    .dataframe thead th {\n",
              "        text-align: right;\n",
              "    }\n",
              "</style>\n",
              "<table border=\"1\" class=\"dataframe\">\n",
              "  <thead>\n",
              "    <tr style=\"text-align: right;\">\n",
              "      <th></th>\n",
              "      <th>song</th>\n",
              "      <th>artist</th>\n",
              "      <th>query_id</th>\n",
              "      <th>genius_id</th>\n",
              "      <th>words</th>\n",
              "      <th>one_hot</th>\n",
              "    </tr>\n",
              "  </thead>\n",
              "  <tbody>\n",
              "    <tr>\n",
              "      <th>41</th>\n",
              "      <td>somebody to love</td>\n",
              "      <td>justin bieber</td>\n",
              "      <td>0</td>\n",
              "      <td>849292.0</td>\n",
              "      <td>{true, choreographed, stuff, matter, said, met...</td>\n",
              "      <td>[3, 1, 1, 2, 3, 3, 5, 1, 2, 3, 1, 2, 1, 1, 1]</td>\n",
              "    </tr>\n",
              "  </tbody>\n",
              "</table>\n",
              "</div>"
            ],
            "text/plain": [
              "                song         artist  query_id  genius_id  \\\n",
              "41  somebody to love  justin bieber         0   849292.0   \n",
              "\n",
              "                                                words  \\\n",
              "41  {true, choreographed, stuff, matter, said, met...   \n",
              "\n",
              "                                          one_hot  \n",
              "41  [3, 1, 1, 2, 3, 3, 5, 1, 2, 3, 1, 2, 1, 1, 1]  "
            ]
          },
          "metadata": {
            "tags": []
          },
          "execution_count": 257
        }
      ]
    },
    {
      "metadata": {
        "id": "7FAcFnKmYw90",
        "colab_type": "code",
        "colab": {
          "autoexec": {
            "startup": false,
            "wait_interval": 0
          },
          "base_uri": "https://localhost:8080/",
          "height": 204
        },
        "outputId": "29ce6b29-5dd4-459d-9b51-1c10ec36684c",
        "executionInfo": {
          "status": "ok",
          "timestamp": 1525496623026,
          "user_tz": 240,
          "elapsed": 697,
          "user": {
            "displayName": "Mehul Smriti Raje",
            "photoUrl": "//lh3.googleusercontent.com/-ULNZoebPWnQ/AAAAAAAAAAI/AAAAAAAAAaQ/hC3_RchfCRs/s50-c-k-no/photo.jpg",
            "userId": "116597900982323796919"
          }
        }
      },
      "cell_type": "code",
      "source": [
        "scores = []\n",
        "for song in ['somebody to love', 'paper planes', 'persiguiéndonos']:\n",
        "  score = data_words_condensed[data_words_condensed['song'] == song]['one_hot']\n",
        "  for s in score:\n",
        "    scores.append(s)\n",
        "scores"
      ],
      "execution_count": 0,
      "outputs": [
        {
          "output_type": "execute_result",
          "data": {
            "text/plain": [
              "[[3, 1, 1, 2, 3, 3, 5, 1, 2, 3, 1, 2, 1, 1, 1],\n",
              " [1, 1, 1, 1, 1, 5, 2, 1, 1, 1, 3, 1, 1, 1, 1],\n",
              " [1, 1, 1, 1, 1, 1, 1, 1, 1, 1, 1, 1, 1, 1, 1],\n",
              " [1, 1, 1, 1, 1, 1, 1, 1, 1, 1, 1, 1, 1, 1, 1],\n",
              " [1, 1, 1, 1, 1, 1, 1, 1, 1, 1, 1, 1, 1, 1, 1],\n",
              " [1, 1, 1, 1, 1, 1, 3, 1, 1, 2, 2, 1, 1, 1, 1],\n",
              " [2, 2, 2, 4, 2, 2, 2, 1, 3, 1, 1, 2, 1, 1, 1],\n",
              " [2, 1, 1, 1, 1, 1, 2, 1, 1, 1, 1, 1, 1, 1, 1],\n",
              " [1, 1, 1, 1, 1, 1, 1, 1, 1, 1, 1, 1, 1, 1, 1],\n",
              " [1, 1, 1, 1, 1, 1, 1, 1, 1, 1, 1, 1, 1, 1, 1],\n",
              " [1, 1, 1, 1, 1, 1, 1, 1, 1, 1, 1, 1, 1, 1, 2]]"
            ]
          },
          "metadata": {
            "tags": []
          },
          "execution_count": 245
        }
      ]
    },
    {
      "metadata": {
        "id": "9g2ij2aGphZM",
        "colab_type": "code",
        "colab": {
          "autoexec": {
            "startup": false,
            "wait_interval": 0
          }
        }
      },
      "cell_type": "code",
      "source": [
        "pool = scores\n",
        "        # store copy_data_nvs in data folder? get index or id of given song\n",
        "        # get list of words from lda model/ get weights for topics\n",
        "        # return"
      ],
      "execution_count": 0,
      "outputs": []
    },
    {
      "metadata": {
        "id": "e5LBZSPDpruO",
        "colab_type": "code",
        "colab": {
          "autoexec": {
            "startup": false,
            "wait_interval": 0
          },
          "base_uri": "https://localhost:8080/",
          "height": 34
        },
        "outputId": "5f2e236a-d514-47cf-e21f-c9186bdfe31f",
        "executionInfo": {
          "status": "ok",
          "timestamp": 1525496628502,
          "user_tz": 240,
          "elapsed": 480,
          "user": {
            "displayName": "Mehul Smriti Raje",
            "photoUrl": "//lh3.googleusercontent.com/-ULNZoebPWnQ/AAAAAAAAAAI/AAAAAAAAAaQ/hC3_RchfCRs/s50-c-k-no/photo.jpg",
            "userId": "116597900982323796919"
          }
        }
      },
      "cell_type": "code",
      "source": [
        "seeds"
      ],
      "execution_count": 0,
      "outputs": [
        {
          "output_type": "execute_result",
          "data": {
            "text/plain": [
              "[[1, 1, 1, 1, 1, 1, 1, 1, 1, 1, 1, 1, 1, 1, 2]]"
            ]
          },
          "metadata": {
            "tags": []
          },
          "execution_count": 247
        }
      ]
    },
    {
      "metadata": {
        "id": "FEB1zu9PhW3t",
        "colab_type": "code",
        "colab": {
          "autoexec": {
            "startup": false,
            "wait_interval": 0
          }
        }
      },
      "cell_type": "code",
      "source": [
        "from scipy import spatial\n",
        "\n",
        "output = []\n",
        "for src in seeds:\n",
        "  line = [spatial.distance.cosine(src, tgt) for tgt in pool]\n",
        "  output.append(line)"
      ],
      "execution_count": 0,
      "outputs": []
    },
    {
      "metadata": {
        "id": "kv1me31zr107",
        "colab_type": "code",
        "colab": {
          "autoexec": {
            "startup": false,
            "wait_interval": 0
          },
          "base_uri": "https://localhost:8080/",
          "height": 204
        },
        "outputId": "4d40deb2-0e0e-4c67-af49-57d2d326da8a",
        "executionInfo": {
          "status": "ok",
          "timestamp": 1525496637643,
          "user_tz": 240,
          "elapsed": 427,
          "user": {
            "displayName": "Mehul Smriti Raje",
            "photoUrl": "//lh3.googleusercontent.com/-ULNZoebPWnQ/AAAAAAAAAAI/AAAAAAAAAaQ/hC3_RchfCRs/s50-c-k-no/photo.jpg",
            "userId": "116597900982323796919"
          }
        }
      },
      "cell_type": "code",
      "source": [
        "output"
      ],
      "execution_count": 0,
      "outputs": [
        {
          "output_type": "execute_result",
          "data": {
            "text/plain": [
              "[[0.18307827112316866,\n",
              "  0.23333333333333328,\n",
              "  0.026271008879704683,\n",
              "  0.026271008879704683,\n",
              "  0.026271008879704683,\n",
              "  0.12462378093518289,\n",
              "  0.14079702329489807,\n",
              "  0.07417990022744836,\n",
              "  0.026271008879704683,\n",
              "  0.026271008879704683,\n",
              "  -2.220446049250313e-16]]"
            ]
          },
          "metadata": {
            "tags": []
          },
          "execution_count": 249
        }
      ]
    },
    {
      "metadata": {
        "id": "ov3Fg9WfXbK_",
        "colab_type": "text"
      },
      "cell_type": "markdown",
      "source": [
        "## OTHER STUFF"
      ]
    },
    {
      "metadata": {
        "id": "gQXYACwSXU0m",
        "colab_type": "code",
        "colab": {
          "autoexec": {
            "startup": false,
            "wait_interval": 0
          }
        }
      },
      "cell_type": "code",
      "source": [
        "### OTHER "
      ],
      "execution_count": 0,
      "outputs": []
    },
    {
      "metadata": {
        "id": "lFTgvdYPfH8J",
        "colab_type": "code",
        "colab": {
          "autoexec": {
            "startup": false,
            "wait_interval": 0
          }
        }
      },
      "cell_type": "code",
      "source": [
        "more_stops = {'song', 'music', 'lyric', 'also', 'want', 'people', 'get', 'could', \n",
        "              'would', 'video', 'track', 'say', 'said', 'reference', 'something', \n",
        "              'one', 'many', 'may', 'though', 'hence', 'much', 'single', 'sing', \n",
        "              'person', 'chorus', 'melody', 'action', 'feel', 'need', 'thats'}\n",
        "#               'album', 'band', 'singer', 'studio', 'word', \n",
        "\n",
        "def remove_more(lst):\n",
        "  new_list = []\n",
        "  new_list.append([l for l in lst if l not in more_stops])\n",
        "  return new_list[0]\n",
        "                  \n",
        "copy_data['about'] = copy_data['about'].apply(lambda x: remove_more(x))\n",
        "copy_data['artist_speak'] = copy_data['artist_speak'].apply(lambda x: remove_more(x))\n",
        "copy_data['trivia'] = copy_data['trivia'].apply(lambda x: remove_more(x))\n",
        "copy_data['annotation'] = copy_data['annotation'].apply(lambda x: remove_more(x))"
      ],
      "execution_count": 0,
      "outputs": []
    },
    {
      "metadata": {
        "id": "LtM-vVQRq1Oc",
        "colab_type": "code",
        "colab": {
          "autoexec": {
            "startup": false,
            "wait_interval": 0
          }
        }
      },
      "cell_type": "code",
      "source": [
        "def select_parts(lst):\n",
        "  new_list = []\n",
        "  tags = nltk.pos_tag(lst)\n",
        "  for tag in tags:\n",
        "    if tag[1][0] in ['N','J'] or tag[1] == 'CD':\n",
        "      new_list.append(tag[0])\n",
        "  return set(new_list)"
      ],
      "execution_count": 0,
      "outputs": []
    },
    {
      "metadata": {
        "id": "f0PNxCt43RbO",
        "colab_type": "code",
        "colab": {
          "autoexec": {
            "startup": false,
            "wait_interval": 0
          }
        }
      },
      "cell_type": "code",
      "source": [
        "copy_data['about'] = copy_data['about'].apply(lambda x: select_parts(x))\n",
        "copy_data['artist_speak'] = copy_data['artist_speak'].apply(lambda x: select_parts(x))\n",
        "copy_data['trivia'] = copy_data['trivia'].apply(lambda x: select_parts(x))\n",
        "copy_data['annotation'] = copy_data['annotation'].apply(lambda x: select_parts(x))"
      ],
      "execution_count": 0,
      "outputs": []
    },
    {
      "metadata": {
        "id": "TfKdVwTZhYko",
        "colab_type": "code",
        "colab": {
          "autoexec": {
            "startup": false,
            "wait_interval": 0
          },
          "base_uri": "https://localhost:8080/",
          "height": 425
        },
        "outputId": "f36b055e-4233-4d94-d29b-7a453a238da0",
        "executionInfo": {
          "status": "ok",
          "timestamp": 1525416278497,
          "user_tz": 240,
          "elapsed": 493,
          "user": {
            "displayName": "Mehul Smriti Raje",
            "photoUrl": "//lh3.googleusercontent.com/-ULNZoebPWnQ/AAAAAAAAAAI/AAAAAAAAAaQ/hC3_RchfCRs/s50-c-k-no/photo.jpg",
            "userId": "116597900982323796919"
          }
        }
      },
      "cell_type": "code",
      "source": [
        "copy_data.head()"
      ],
      "execution_count": 0,
      "outputs": [
        {
          "output_type": "execute_result",
          "data": {
            "text/html": [
              "<div>\n",
              "<style scoped>\n",
              "    .dataframe tbody tr th:only-of-type {\n",
              "        vertical-align: middle;\n",
              "    }\n",
              "\n",
              "    .dataframe tbody tr th {\n",
              "        vertical-align: top;\n",
              "    }\n",
              "\n",
              "    .dataframe thead th {\n",
              "        text-align: right;\n",
              "    }\n",
              "</style>\n",
              "<table border=\"1\" class=\"dataframe\">\n",
              "  <thead>\n",
              "    <tr style=\"text-align: right;\">\n",
              "      <th></th>\n",
              "      <th>song</th>\n",
              "      <th>artist</th>\n",
              "      <th>query_id</th>\n",
              "      <th>spotify_id</th>\n",
              "      <th>about</th>\n",
              "      <th>artist_speak</th>\n",
              "      <th>trivia</th>\n",
              "      <th>annotation</th>\n",
              "    </tr>\n",
              "  </thead>\n",
              "  <tbody>\n",
              "    <tr>\n",
              "      <th>0</th>\n",
              "      <td>lose control (feat. ciara &amp; fat man scoop)</td>\n",
              "      <td>missy elliott</td>\n",
              "      <td>1</td>\n",
              "      <td>33158.0</td>\n",
              "      <td>{futuristic, edge, streak, dancer, hot, album,...</td>\n",
              "      <td>{}</td>\n",
              "      <td>{}</td>\n",
              "      <td>{cybotronhttpswwwyoutubecomwatchvi280cxs2jvash...</td>\n",
              "    </tr>\n",
              "    <tr>\n",
              "      <th>1</th>\n",
              "      <td>toxic</td>\n",
              "      <td>britney spears</td>\n",
              "      <td>0</td>\n",
              "      <td>110982.0</td>\n",
              "      <td>{husk, pedophilia, drapery, damn, popfearing, ...</td>\n",
              "      <td>{“its basically about a girl addicted to a guy...</td>\n",
              "      <td>{minogue, cohen, live, interview, watch, andy,...</td>\n",
              "      <td>{saw, turn, simple, romantic, hammer, shell, r...</td>\n",
              "    </tr>\n",
              "    <tr>\n",
              "      <th>2</th>\n",
              "      <td>crazy in love</td>\n",
              "      <td>beyoncé</td>\n",
              "      <td>0</td>\n",
              "      <td>32167.0</td>\n",
              "      <td>{lead, effort, second, hook, album, collaborat...</td>\n",
              "      <td>{}</td>\n",
              "      <td>{}</td>\n",
              "      <td>{suspicious, smoking, bey, maker, use, protago...</td>\n",
              "    </tr>\n",
              "    <tr>\n",
              "      <th>3</th>\n",
              "      <td>rock your body</td>\n",
              "      <td>justin timberlake</td>\n",
              "      <td>0</td>\n",
              "      <td>124611.0</td>\n",
              "      <td>{“rock your body”, williams, album, performanc...</td>\n",
              "      <td>{}</td>\n",
              "      <td>{}</td>\n",
              "      <td>{kind, mila, long, ciara, parody, signal, “sin...</td>\n",
              "    </tr>\n",
              "    <tr>\n",
              "      <th>4</th>\n",
              "      <td>it wasn't me</td>\n",
              "      <td>shaggy</td>\n",
              "      <td>0</td>\n",
              "      <td>33108.0</td>\n",
              "      <td>{artist, kind, rest, outlandish, paved, disput...</td>\n",
              "      <td>{}</td>\n",
              "      <td>{}</td>\n",
              "      <td>{cat, sun, sex”a, various, wife, “how could yo...</td>\n",
              "    </tr>\n",
              "  </tbody>\n",
              "</table>\n",
              "</div>"
            ],
            "text/plain": [
              "                                         song             artist  query_id  \\\n",
              "0  lose control (feat. ciara & fat man scoop)      missy elliott         1   \n",
              "1                                       toxic     britney spears         0   \n",
              "2                               crazy in love           beyoncé         0   \n",
              "3                              rock your body  justin timberlake         0   \n",
              "4                                it wasn't me             shaggy         0   \n",
              "\n",
              "   spotify_id                                              about  \\\n",
              "0     33158.0  {futuristic, edge, streak, dancer, hot, album,...   \n",
              "1    110982.0  {husk, pedophilia, drapery, damn, popfearing, ...   \n",
              "2     32167.0  {lead, effort, second, hook, album, collaborat...   \n",
              "3    124611.0  {“rock your body”, williams, album, performanc...   \n",
              "4     33108.0  {artist, kind, rest, outlandish, paved, disput...   \n",
              "\n",
              "                                        artist_speak  \\\n",
              "0                                                 {}   \n",
              "1  {“its basically about a girl addicted to a guy...   \n",
              "2                                                 {}   \n",
              "3                                                 {}   \n",
              "4                                                 {}   \n",
              "\n",
              "                                              trivia  \\\n",
              "0                                                 {}   \n",
              "1  {minogue, cohen, live, interview, watch, andy,...   \n",
              "2                                                 {}   \n",
              "3                                                 {}   \n",
              "4                                                 {}   \n",
              "\n",
              "                                          annotation  \n",
              "0  {cybotronhttpswwwyoutubecomwatchvi280cxs2jvash...  \n",
              "1  {saw, turn, simple, romantic, hammer, shell, r...  \n",
              "2  {suspicious, smoking, bey, maker, use, protago...  \n",
              "3  {kind, mila, long, ciara, parody, signal, “sin...  \n",
              "4  {cat, sun, sex”a, various, wife, “how could yo...  "
            ]
          },
          "metadata": {
            "tags": []
          },
          "execution_count": 28
        }
      ]
    },
    {
      "metadata": {
        "id": "jbyHGq6i4cZq",
        "colab_type": "code",
        "colab": {
          "autoexec": {
            "startup": false,
            "wait_interval": 0
          },
          "base_uri": "https://localhost:8080/",
          "height": 198
        },
        "outputId": "ade91db3-c3c4-485f-c131-78ecf4413e57",
        "executionInfo": {
          "status": "error",
          "timestamp": 1525442031006,
          "user_tz": 240,
          "elapsed": 592,
          "user": {
            "displayName": "Mehul Smriti Raje",
            "photoUrl": "//lh3.googleusercontent.com/-ULNZoebPWnQ/AAAAAAAAAAI/AAAAAAAAAaQ/hC3_RchfCRs/s50-c-k-no/photo.jpg",
            "userId": "116597900982323796919"
          }
        }
      },
      "cell_type": "code",
      "source": [
        "import pickle\n",
        "with open(\"clean_data_nvc\", \"wb\") as fp:\n",
        "  pickle.dump(copy_data, fp)"
      ],
      "execution_count": 0,
      "outputs": [
        {
          "output_type": "error",
          "ename": "NameError",
          "evalue": "ignored",
          "traceback": [
            "\u001b[0;31m---------------------------------------------------------------------------\u001b[0m",
            "\u001b[0;31mNameError\u001b[0m                                 Traceback (most recent call last)",
            "\u001b[0;32m<ipython-input-1-c7f0bbce220c>\u001b[0m in \u001b[0;36m<module>\u001b[0;34m()\u001b[0m\n\u001b[1;32m      1\u001b[0m \u001b[0;32mimport\u001b[0m \u001b[0mpickle\u001b[0m\u001b[0;34m\u001b[0m\u001b[0m\n\u001b[1;32m      2\u001b[0m \u001b[0;32mwith\u001b[0m \u001b[0mopen\u001b[0m\u001b[0;34m(\u001b[0m\u001b[0;34m\"clean_data_nvc\"\u001b[0m\u001b[0;34m,\u001b[0m \u001b[0;34m\"wb\"\u001b[0m\u001b[0;34m)\u001b[0m \u001b[0;32mas\u001b[0m \u001b[0mfp\u001b[0m\u001b[0;34m:\u001b[0m\u001b[0;34m\u001b[0m\u001b[0m\n\u001b[0;32m----> 3\u001b[0;31m   \u001b[0mpickle\u001b[0m\u001b[0;34m.\u001b[0m\u001b[0mdump\u001b[0m\u001b[0;34m(\u001b[0m\u001b[0mcopy_data\u001b[0m\u001b[0;34m,\u001b[0m \u001b[0mfp\u001b[0m\u001b[0;34m)\u001b[0m\u001b[0;34m\u001b[0m\u001b[0m\n\u001b[0m",
            "\u001b[0;31mNameError\u001b[0m: name 'copy_data' is not defined"
          ]
        }
      ]
    },
    {
      "metadata": {
        "id": "2rN9FGBC4iHo",
        "colab_type": "code",
        "colab": {
          "autoexec": {
            "startup": false,
            "wait_interval": 0
          },
          "base_uri": "https://localhost:8080/",
          "height": 34
        },
        "outputId": "b206e2a2-4c92-4a43-ae89-2c0d7acc3edd",
        "executionInfo": {
          "status": "ok",
          "timestamp": 1525416313644,
          "user_tz": 240,
          "elapsed": 4685,
          "user": {
            "displayName": "Mehul Smriti Raje",
            "photoUrl": "//lh3.googleusercontent.com/-ULNZoebPWnQ/AAAAAAAAAAI/AAAAAAAAAaQ/hC3_RchfCRs/s50-c-k-no/photo.jpg",
            "userId": "116597900982323796919"
          }
        }
      },
      "cell_type": "code",
      "source": [
        "uploaded = drive.CreateFile({'title': 'clean_data_nvc'})\n",
        "uploaded.SetContentFile('clean_data_nvc')\n",
        "uploaded.Upload()\n",
        "print('Uploaded file with ID {}'.format(uploaded.get('id')))"
      ],
      "execution_count": 0,
      "outputs": [
        {
          "output_type": "stream",
          "text": [
            "Uploaded file with ID 1b-wBP8KQyqxIKOreF9Jno_kqAEg0TBv3\n"
          ],
          "name": "stdout"
        }
      ]
    },
    {
      "metadata": {
        "id": "2Bi7ngrocT4n",
        "colab_type": "text"
      },
      "cell_type": "markdown",
      "source": [
        "### Sub: Loading again from pickle"
      ]
    },
    {
      "metadata": {
        "id": "XyNXNJbqcYbK",
        "colab_type": "code",
        "colab": {
          "autoexec": {
            "startup": false,
            "wait_interval": 0
          }
        }
      },
      "cell_type": "code",
      "source": [
        "import pickle \n",
        "\n",
        "with open(\"clean_data_nvc\", \"rb\") as fp:   # Unpickling\n",
        "  copy_data = pickle.load(fp)"
      ],
      "execution_count": 0,
      "outputs": []
    },
    {
      "metadata": {
        "id": "UBIDwb23cnGC",
        "colab_type": "code",
        "colab": {
          "autoexec": {
            "startup": false,
            "wait_interval": 0
          },
          "base_uri": "https://localhost:8080/",
          "height": 210
        },
        "outputId": "3df61588-4cc5-44ff-e64d-7b375a760afa",
        "executionInfo": {
          "status": "ok",
          "timestamp": 1525468465953,
          "user_tz": 240,
          "elapsed": 620,
          "user": {
            "displayName": "Mehul Smriti Raje",
            "photoUrl": "//lh3.googleusercontent.com/-ULNZoebPWnQ/AAAAAAAAAAI/AAAAAAAAAaQ/hC3_RchfCRs/s50-c-k-no/photo.jpg",
            "userId": "116597900982323796919"
          }
        }
      },
      "cell_type": "code",
      "source": [
        "copy_data.tail(3)"
      ],
      "execution_count": 0,
      "outputs": [
        {
          "output_type": "execute_result",
          "data": {
            "text/html": [
              "<div>\n",
              "<style scoped>\n",
              "    .dataframe tbody tr th:only-of-type {\n",
              "        vertical-align: middle;\n",
              "    }\n",
              "\n",
              "    .dataframe tbody tr th {\n",
              "        vertical-align: top;\n",
              "    }\n",
              "\n",
              "    .dataframe thead th {\n",
              "        text-align: right;\n",
              "    }\n",
              "</style>\n",
              "<table border=\"1\" class=\"dataframe\">\n",
              "  <thead>\n",
              "    <tr style=\"text-align: right;\">\n",
              "      <th></th>\n",
              "      <th>song</th>\n",
              "      <th>artist</th>\n",
              "      <th>query_id</th>\n",
              "      <th>spotify_id</th>\n",
              "      <th>about</th>\n",
              "      <th>artist_speak</th>\n",
              "      <th>trivia</th>\n",
              "      <th>annotation</th>\n",
              "    </tr>\n",
              "  </thead>\n",
              "  <tbody>\n",
              "    <tr>\n",
              "      <th>99997</th>\n",
              "      <td>harlequin dreams feat. unknown space pioneer -...</td>\n",
              "      <td>cyberoptics</td>\n",
              "      <td>-1</td>\n",
              "      <td>NaN</td>\n",
              "      <td>{}</td>\n",
              "      <td>{}</td>\n",
              "      <td>{}</td>\n",
              "      <td>{}</td>\n",
              "    </tr>\n",
              "    <tr>\n",
              "      <th>99998</th>\n",
              "      <td>crucify</td>\n",
              "      <td>tori amos</td>\n",
              "      <td>0</td>\n",
              "      <td>108015.0</td>\n",
              "      <td>{drum, mainstream, sacreligious, skill, songbo...</td>\n",
              "      <td>{}</td>\n",
              "      <td>{}</td>\n",
              "      <td>{rest, enougha, march, point, mind, shallow, p...</td>\n",
              "    </tr>\n",
              "    <tr>\n",
              "      <th>99999</th>\n",
              "      <td>silent all these years</td>\n",
              "      <td>tori amos</td>\n",
              "      <td>0</td>\n",
              "      <td>108012.0</td>\n",
              "      <td>{lip, needle, stewart, tina, understood, life,...</td>\n",
              "      <td>{kind, big, silent, know, life, thing, underst...</td>\n",
              "      <td>{}</td>\n",
              "      <td>{noisethis, fail, family, young, dean, vicious...</td>\n",
              "    </tr>\n",
              "  </tbody>\n",
              "</table>\n",
              "</div>"
            ],
            "text/plain": [
              "                                                    song       artist  \\\n",
              "99997  harlequin dreams feat. unknown space pioneer -...  cyberoptics   \n",
              "99998                                            crucify    tori amos   \n",
              "99999                             silent all these years    tori amos   \n",
              "\n",
              "       query_id  spotify_id  \\\n",
              "99997        -1         NaN   \n",
              "99998         0    108015.0   \n",
              "99999         0    108012.0   \n",
              "\n",
              "                                                   about  \\\n",
              "99997                                                 {}   \n",
              "99998  {drum, mainstream, sacreligious, skill, songbo...   \n",
              "99999  {lip, needle, stewart, tina, understood, life,...   \n",
              "\n",
              "                                            artist_speak trivia  \\\n",
              "99997                                                 {}     {}   \n",
              "99998                                                 {}     {}   \n",
              "99999  {kind, big, silent, know, life, thing, underst...     {}   \n",
              "\n",
              "                                              annotation  \n",
              "99997                                                 {}  \n",
              "99998  {rest, enougha, march, point, mind, shallow, p...  \n",
              "99999  {noisethis, fail, family, young, dean, vicious...  "
            ]
          },
          "metadata": {
            "tags": []
          },
          "execution_count": 11
        }
      ]
    },
    {
      "metadata": {
        "id": "XmBMflkGcDHG",
        "colab_type": "code",
        "colab": {
          "autoexec": {
            "startup": false,
            "wait_interval": 0
          },
          "base_uri": "https://localhost:8080/",
          "height": 34
        },
        "outputId": "af98593e-9bd8-4b6b-ae7a-e5d706eddfec",
        "executionInfo": {
          "status": "ok",
          "timestamp": 1525468704194,
          "user_tz": 240,
          "elapsed": 8667,
          "user": {
            "displayName": "Mehul Smriti Raje",
            "photoUrl": "//lh3.googleusercontent.com/-ULNZoebPWnQ/AAAAAAAAAAI/AAAAAAAAAaQ/hC3_RchfCRs/s50-c-k-no/photo.jpg",
            "userId": "116597900982323796919"
          }
        }
      },
      "cell_type": "code",
      "source": [
        "# Joining all words\n",
        "\n",
        "def join_all_words(df):\n",
        "    full_list = []\n",
        "    for i in range(df.shape[0]):\n",
        "        full_list += list(df['about'][i])\n",
        "        full_list += list(df['artist_speak'][i])\n",
        "        full_list += list(df['trivia'][i])\n",
        "        full_list += list(df['annotation'][i])\n",
        "    return full_list\n",
        "\n",
        "def join_all_words_differently(df):\n",
        "    full_list = []\n",
        "    for i in range(df.shape[0]):\n",
        "        # print(copy_data['about'][i])\n",
        "        full_list.append(list(df['about'][i]) + list(df['artist_speak'][i]) + list(df['trivia'][i]) + list(df['annotation'][i]))\n",
        "    return full_list\n",
        "\n",
        "# tt = copy_data[:500]\n",
        "full_list = join_all_words_differently(copy_data)\n",
        "len(full_list)"
      ],
      "execution_count": 0,
      "outputs": [
        {
          "output_type": "execute_result",
          "data": {
            "text/plain": [
              "100000"
            ]
          },
          "metadata": {
            "tags": []
          },
          "execution_count": 12
        }
      ]
    },
    {
      "metadata": {
        "id": "8nnLR91BcDHM",
        "colab_type": "code",
        "colab": {
          "autoexec": {
            "startup": false,
            "wait_interval": 0
          },
          "base_uri": "https://localhost:8080/",
          "height": 34
        },
        "outputId": "6d0751f5-2d90-46af-a20e-ff3f45869f19",
        "executionInfo": {
          "status": "ok",
          "timestamp": 1525468720457,
          "user_tz": 240,
          "elapsed": 8431,
          "user": {
            "displayName": "Mehul Smriti Raje",
            "photoUrl": "//lh3.googleusercontent.com/-ULNZoebPWnQ/AAAAAAAAAAI/AAAAAAAAAaQ/hC3_RchfCRs/s50-c-k-no/photo.jpg",
            "userId": "116597900982323796919"
          }
        }
      },
      "cell_type": "code",
      "source": [
        "### FREQUENCY OF TERMS\n",
        "\n",
        "full_list_for_eda = join_all_words(copy_data)\n",
        "len(full_list_for_eda)"
      ],
      "execution_count": 0,
      "outputs": [
        {
          "output_type": "execute_result",
          "data": {
            "text/plain": [
              "3438605"
            ]
          },
          "metadata": {
            "tags": []
          },
          "execution_count": 13
        }
      ]
    },
    {
      "metadata": {
        "id": "vT9ulu2ucDHO",
        "colab_type": "code",
        "colab": {
          "autoexec": {
            "startup": false,
            "wait_interval": 0
          },
          "base_uri": "https://localhost:8080/",
          "height": 653
        },
        "outputId": "2efb3fa2-c018-4255-f730-d48f41e46552",
        "executionInfo": {
          "status": "ok",
          "timestamp": 1525416574604,
          "user_tz": 240,
          "elapsed": 1796,
          "user": {
            "displayName": "Mehul Smriti Raje",
            "photoUrl": "//lh3.googleusercontent.com/-ULNZoebPWnQ/AAAAAAAAAAI/AAAAAAAAAaQ/hC3_RchfCRs/s50-c-k-no/photo.jpg",
            "userId": "116597900982323796919"
          }
        }
      },
      "cell_type": "code",
      "source": [
        "# full_list_for_eda = np.array(full_list_for_eda)\n",
        "# full_list_for_eda.hist()\n",
        "\n",
        "from collections import Counter\n",
        "import matplotlib.pyplot as plt\n",
        "\n",
        "# counts = Counter(full_list_for_eda) \n",
        "counts = dict(Counter(full_list_for_eda).least_common(100))\n",
        "labels, values = zip(*counts.items())\n",
        "\n",
        "indSort = np.argsort(values)[::-1] # sort your values in descending order\n",
        "\n",
        "labels = np.array(labels)[indSort] # rearrange your data\n",
        "values = np.array(values)[indSort]\n",
        "indexes = np.arange(len(labels))\n",
        "\n",
        "\n",
        "plt.figure(figsize=(20,10))\n",
        "\n",
        "bar_width = 0.35\n",
        "plt.bar(indexes, values)\n",
        "\n",
        "# add labels\n",
        "plt.xticks(indexes + bar_width, labels, rotation=90)\n",
        "plt.show()"
      ],
      "execution_count": 0,
      "outputs": [
        {
          "output_type": "display_data",
          "data": {
            "image/png": "[encoded data removed]",
            "text/plain": [
              "<matplotlib.figure.Figure at 0x7f328800dd68>"
            ]
          },
          "metadata": {
            "tags": []
          }
        }
      ]
    },
    {
      "metadata": {
        "id": "LSzFTXgoc0TB",
        "colab_type": "code",
        "colab": {
          "autoexec": {
            "startup": false,
            "wait_interval": 0
          },
          "base_uri": "https://localhost:8080/",
          "height": 734
        },
        "outputId": "014321ed-48b2-48ae-98fd-6800962c36a1",
        "executionInfo": {
          "status": "ok",
          "timestamp": 1525468779185,
          "user_tz": 240,
          "elapsed": 13935,
          "user": {
            "displayName": "Mehul Smriti Raje",
            "photoUrl": "//lh3.googleusercontent.com/-ULNZoebPWnQ/AAAAAAAAAAI/AAAAAAAAAaQ/hC3_RchfCRs/s50-c-k-no/photo.jpg",
            "userId": "116597900982323796919"
          }
        }
      },
      "cell_type": "code",
      "source": [
        "!pip install gensim"
      ],
      "execution_count": 0,
      "outputs": [
        {
          "output_type": "stream",
          "text": [
            "Collecting gensim\n",
            "\u001b[?25l  Downloading https://files.pythonhosted.org/packages/33/33/df6cb7acdcec5677ed130f4800f67509d24dbec74a03c329fcbf6b0864f0/gensim-3.4.0-cp36-cp36m-manylinux1_x86_64.whl (22.6MB)\n",
            "\u001b[K    100% |████████████████████████████████| 22.6MB 1.8MB/s \n",
            "\u001b[?25hRequirement already satisfied: six>=1.5.0 in /usr/local/lib/python3.6/dist-packages (from gensim) (1.11.0)\n",
            "Collecting smart-open>=1.2.1 (from gensim)\n",
            "  Downloading https://files.pythonhosted.org/packages/4b/69/c92661a333f733510628f28b8282698b62cdead37291c8491f3271677c02/smart_open-1.5.7.tar.gz\n",
            "Requirement already satisfied: numpy>=1.11.3 in /usr/local/lib/python3.6/dist-packages (from gensim) (1.14.3)\n",
            "Requirement already satisfied: scipy>=0.18.1 in /usr/local/lib/python3.6/dist-packages (from gensim) (0.19.1)\n",
            "Collecting boto>=2.32 (from smart-open>=1.2.1->gensim)\n",
            "\u001b[?25l  Downloading https://files.pythonhosted.org/packages/bd/b7/a88a67002b1185ed9a8e8a6ef15266728c2361fcb4f1d02ea331e4c7741d/boto-2.48.0-py2.py3-none-any.whl (1.4MB)\n",
            "\u001b[K    100% |████████████████████████████████| 1.4MB 14.7MB/s \n",
            "\u001b[?25hCollecting bz2file (from smart-open>=1.2.1->gensim)\n",
            "  Downloading https://files.pythonhosted.org/packages/61/39/122222b5e85cd41c391b68a99ee296584b2a2d1d233e7ee32b4532384f2d/bz2file-0.98.tar.gz\n",
            "Requirement already satisfied: requests in /usr/local/lib/python3.6/dist-packages (from smart-open>=1.2.1->gensim) (2.18.4)\n",
            "Collecting boto3 (from smart-open>=1.2.1->gensim)\n",
            "\u001b[?25l  Downloading https://files.pythonhosted.org/packages/f8/ed/8160213941beab9bf5c352d29111e2e0cd0e580a52e902bf3bef8559fa86/boto3-1.7.14-py2.py3-none-any.whl (128kB)\n",
            "\u001b[K    100% |████████████████████████████████| 133kB 22.3MB/s \n",
            "\u001b[?25hRequirement already satisfied: idna<2.7,>=2.5 in /usr/local/lib/python3.6/dist-packages (from requests->smart-open>=1.2.1->gensim) (2.6)\n",
            "Requirement already satisfied: certifi>=2017.4.17 in /usr/local/lib/python3.6/dist-packages (from requests->smart-open>=1.2.1->gensim) (2018.4.16)\n",
            "Requirement already satisfied: urllib3<1.23,>=1.21.1 in /usr/local/lib/python3.6/dist-packages (from requests->smart-open>=1.2.1->gensim) (1.22)\n",
            "Requirement already satisfied: chardet<3.1.0,>=3.0.2 in /usr/local/lib/python3.6/dist-packages (from requests->smart-open>=1.2.1->gensim) (3.0.4)\n",
            "Collecting jmespath<1.0.0,>=0.7.1 (from boto3->smart-open>=1.2.1->gensim)\n",
            "  Downloading https://files.pythonhosted.org/packages/b7/31/05c8d001f7f87f0f07289a5fc0fc3832e9a57f2dbd4d3b0fee70e0d51365/jmespath-0.9.3-py2.py3-none-any.whl\n",
            "Collecting s3transfer<0.2.0,>=0.1.10 (from boto3->smart-open>=1.2.1->gensim)\n",
            "\u001b[?25l  Downloading https://files.pythonhosted.org/packages/d7/14/2a0004d487464d120c9fb85313a75cd3d71a7506955be458eebfe19a6b1d/s3transfer-0.1.13-py2.py3-none-any.whl (59kB)\n",
            "\u001b[K    100% |████████████████████████████████| 61kB 16.5MB/s \n",
            "\u001b[?25hCollecting botocore<1.11.0,>=1.10.14 (from boto3->smart-open>=1.2.1->gensim)\n",
            "\u001b[?25l  Downloading https://files.pythonhosted.org/packages/79/b3/28c1451630d84c3d2cd54475aff89f2ca75efd035b4325af628f67536a7c/botocore-1.10.14-py2.py3-none-any.whl (4.2MB)\n",
            "\u001b[K    100% |████████████████████████████████| 4.2MB 9.9MB/s \n",
            "\u001b[?25hRequirement already satisfied: python-dateutil<3.0.0,>=2.1; python_version >= \"2.7\" in /usr/local/lib/python3.6/dist-packages (from botocore<1.11.0,>=1.10.14->boto3->smart-open>=1.2.1->gensim) (2.5.3)\n",
            "Collecting docutils>=0.10 (from botocore<1.11.0,>=1.10.14->boto3->smart-open>=1.2.1->gensim)\n",
            "\u001b[?25l  Downloading https://files.pythonhosted.org/packages/36/fa/08e9e6e0e3cbd1d362c3bbee8d01d0aedb2155c4ac112b19ef3cae8eed8d/docutils-0.14-py3-none-any.whl (543kB)\n",
            "\u001b[K    100% |████████████████████████████████| 552kB 21.6MB/s \n",
            "\u001b[?25hBuilding wheels for collected packages: smart-open, bz2file\n",
            "  Running setup.py bdist_wheel for smart-open ... \u001b[?25l-\b \bdone\n",
            "\u001b[?25h  Stored in directory: /content/.cache/pip/wheels/b1/9e/7d/bb3d3b55c597e72617140a0638c06382a5f17283881eae163e\n",
            "  Running setup.py bdist_wheel for bz2file ... \u001b[?25l-\b \bdone\n",
            "\u001b[?25h  Stored in directory: /content/.cache/pip/wheels/81/75/d6/e1317bf09bf1af5a30befc2a007869fa6e1f516b8f7c591cb9\n",
            "Successfully built smart-open bz2file\n",
            "Installing collected packages: boto, bz2file, jmespath, docutils, botocore, s3transfer, boto3, smart-open, gensim\n",
            "Successfully installed boto-2.48.0 boto3-1.7.14 botocore-1.10.14 bz2file-0.98 docutils-0.14 gensim-3.4.0 jmespath-0.9.3 s3transfer-0.1.13 smart-open-1.5.7\n"
          ],
          "name": "stdout"
        }
      ]
    },
    {
      "metadata": {
        "id": "EcNQXb_ecDHQ",
        "colab_type": "code",
        "colab": {
          "autoexec": {
            "startup": false,
            "wait_interval": 0
          }
        }
      },
      "cell_type": "code",
      "source": [
        "import gensim\n",
        "from gensim import corpora, models\n",
        "\n",
        "dictionary = corpora.Dictionary(full_list)\n",
        "doc_term_matrix = [dictionary.doc2bow(doc) for doc in full_list]"
      ],
      "execution_count": 0,
      "outputs": []
    },
    {
      "metadata": {
        "id": "w6vHtUxqcDHR",
        "colab_type": "code",
        "colab": {
          "autoexec": {
            "startup": false,
            "wait_interval": 0
          }
        }
      },
      "cell_type": "code",
      "source": [
        "# lda = gensim.models.ldamodel.LdaModel\n",
        "# ldamodel = lda(doc_term_matrix, num_topics=100, id2word = dictionary, passes=50)\n",
        "\n",
        "# train LDA using 4 cores (1 master + 3 workers)\n",
        "lda_model = models.LdaMulticore(doc_term_matrix, id2word=dictionary, num_topics=100, passes = 50, workers=3)\n"
      ],
      "execution_count": 0,
      "outputs": []
    },
    {
      "metadata": {
        "id": "uSxhgqU-cDHV",
        "colab_type": "code",
        "colab": {
          "autoexec": {
            "startup": false,
            "wait_interval": 0
          },
          "base_uri": "https://localhost:8080/",
          "height": 54
        },
        "outputId": "e1a27a8b-682b-4011-90c0-3a3cd3426639",
        "executionInfo": {
          "status": "ok",
          "timestamp": 1525442552830,
          "user_tz": 240,
          "elapsed": 537,
          "user": {
            "displayName": "Mehul Smriti Raje",
            "photoUrl": "//lh3.googleusercontent.com/-ULNZoebPWnQ/AAAAAAAAAAI/AAAAAAAAAaQ/hC3_RchfCRs/s50-c-k-no/photo.jpg",
            "userId": "116597900982323796919"
          }
        }
      },
      "cell_type": "code",
      "source": [
        "print(ldamodel.print_topics(num_topics=10, num_words=10))"
      ],
      "execution_count": 0,
      "outputs": [
        {
          "output_type": "stream",
          "text": [
            "[(0, '0.004*\"album\" + 0.004*\"time\" + 0.004*\"life\" + 0.003*\"thing\" + 0.003*\"line\" + 0.003*\"band\" + 0.003*\"girl\" + 0.002*\"way\" + 0.002*\"relationship\" + 0.002*\"world\"'), (1, '0.005*\"time\" + 0.004*\"line\" + 0.004*\"album\" + 0.003*\"two\" + 0.003*\"life\" + 0.003*\"first\" + 0.003*\"hit\" + 0.002*\"interview\" + 0.002*\"thing\" + 0.002*\"love\"'), (2, '0.004*\"time\" + 0.003*\"life\" + 0.003*\"way\" + 0.003*\"album\" + 0.002*\"u\" + 0.002*\"relationship\" + 0.002*\"world\" + 0.002*\"someone\" + 0.002*\"end\" + 0.002*\"line\"'), (3, '0.003*\"thing\" + 0.003*\"world\" + 0.003*\"line\" + 0.003*\"way\" + 0.003*\"kind\" + 0.002*\"mean\" + 0.002*\"time\" + 0.002*\"word\" + 0.002*\"love\" + 0.002*\"money\"'), (4, '0.004*\"time\" + 0.003*\"album\" + 0.003*\"100\" + 0.003*\"life\" + 0.003*\"girl\" + 0.003*\"love\" + 0.003*\"relationship\" + 0.003*\"billboard\" + 0.003*\"part\" + 0.003*\"two\"'), (5, '0.007*\"album\" + 0.004*\"girl\" + 0.003*\"line\" + 0.003*\"life\" + 0.003*\"time\" + 0.003*\"hot\" + 0.003*\"word\" + 0.003*\"feature\" + 0.003*\"studio\" + 0.003*\"dance\"'), (6, '0.005*\"album\" + 0.005*\"love\" + 0.004*\"time\" + 0.004*\"new\" + 0.003*\"world\" + 0.003*\"line\" + 0.003*\"life\" + 0.003*\"someone\" + 0.003*\"mean\" + 0.003*\"relationship\"'), (7, '0.005*\"time\" + 0.004*\"album\" + 0.004*\"life\" + 0.003*\"relationship\" + 0.003*\"line\" + 0.003*\"u\" + 0.002*\"new\" + 0.002*\"girl\" + 0.002*\"love\" + 0.002*\"first\"'), (8, '0.004*\"album\" + 0.004*\"time\" + 0.003*\"thing\" + 0.003*\"love\" + 0.003*\"two\" + 0.003*\"way\" + 0.003*\"line\" + 0.003*\"life\" + 0.003*\"point\" + 0.002*\"first\"'), (9, '0.003*\"album\" + 0.003*\"girl\" + 0.003*\"good\" + 0.003*\"time\" + 0.002*\"band\" + 0.002*\"day\" + 0.002*\"friend\" + 0.002*\"line\" + 0.002*\"figure\" + 0.002*\"way\"')]\n"
          ],
          "name": "stdout"
        }
      ]
    },
    {
      "metadata": {
        "id": "oQdpBy_ccDHg",
        "colab_type": "text"
      },
      "cell_type": "markdown",
      "source": [
        "### 4. Classifying song emotion into 5-6 categories "
      ]
    },
    {
      "metadata": {
        "id": "C9pk5kQScDHh",
        "colab_type": "text"
      },
      "cell_type": "markdown",
      "source": [
        "### 5. Seeing how good genre classification is based on song annotations"
      ]
    },
    {
      "metadata": {
        "id": "wn4B3hbpcDHm",
        "colab_type": "text"
      },
      "cell_type": "markdown",
      "source": [
        "### 6. Extracting some keywords at song and playlist levels"
      ]
    },
    {
      "metadata": {
        "id": "jjzfPVcdcDHn",
        "colab_type": "code",
        "colab": {
          "autoexec": {
            "startup": false,
            "wait_interval": 0
          }
        }
      },
      "cell_type": "code",
      "source": [
        ""
      ],
      "execution_count": 0,
      "outputs": []
    }
  ]
}