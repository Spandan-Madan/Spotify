{
 "cells": [
  {
   "cell_type": "code",
   "execution_count": 1,
   "metadata": {
    "ExecuteTime": {
     "end_time": "2018-04-30T08:41:36.850292Z",
     "start_time": "2018-04-30T08:41:36.834747Z"
    }
   },
   "outputs": [],
   "source": [
    "import sys\n",
    "sys.path.append('../src')\n",
    "sys.path.append('../src/data/')\n",
    "sys.path.append('../src/models/')\n",
    "sys.path.append('../src/features/')\n",
    "sys.path.append('../src/visualization/')\n",
    "# will reload any library\n",
    "%load_ext autoreload\n",
    "%autoreload 2"
   ]
  },
  {
   "cell_type": "code",
   "execution_count": 2,
   "metadata": {
    "ExecuteTime": {
     "end_time": "2018-04-30T08:41:38.590711Z",
     "start_time": "2018-04-30T08:41:37.227173Z"
    }
   },
   "outputs": [],
   "source": [
    "# sportify specific\n",
    "from data.metrics_track import r_precision, cosine_sim_closest, cosine_sim_top, NDCG\n",
    "from visualization.plot_utils import write_latex_table\n",
    "# general\n",
    "import pandas as pd\n",
    "import numpy as np\n",
    "from tqdm import tqdm\n",
    "from features.audio_features import AudioFeatures\n",
    "from features.tracks_info import TrackInfo\n",
    "from collections import OrderedDict"
   ]
  },
  {
   "cell_type": "markdown",
   "metadata": {},
   "source": [
    "# Load track data"
   ]
  },
  {
   "cell_type": "code",
   "execution_count": 3,
   "metadata": {
    "ExecuteTime": {
     "end_time": "2018-04-30T08:42:18.519209Z",
     "start_time": "2018-04-30T08:41:41.656639Z"
    }
   },
   "outputs": [
    {
     "ename": "NameError",
     "evalue": "name 'get_playlist' is not defined",
     "output_type": "error",
     "traceback": [
      "\u001b[0;31m---------------------------------------------------------------------------\u001b[0m",
      "\u001b[0;31mNameError\u001b[0m                                 Traceback (most recent call last)",
      "\u001b[0;32m<ipython-input-3-d6e91be0e788>\u001b[0m in \u001b[0;36m<module>\u001b[0;34m()\u001b[0m\n\u001b[1;32m      1\u001b[0m \u001b[0mtracks\u001b[0m \u001b[0;34m=\u001b[0m \u001b[0mTrackInfo\u001b[0m\u001b[0;34m(\u001b[0m\u001b[0msubset\u001b[0m\u001b[0;34m=\u001b[0m\u001b[0;34m'5k-'\u001b[0m\u001b[0;34m)\u001b[0m\u001b[0;34m\u001b[0m\u001b[0m\n\u001b[1;32m      2\u001b[0m \u001b[0mpid\u001b[0m\u001b[0;34m=\u001b[0m\u001b[0;36m194\u001b[0m\u001b[0;34m\u001b[0m\u001b[0m\n\u001b[0;32m----> 3\u001b[0;31m \u001b[0mtracks\u001b[0m\u001b[0;34m.\u001b[0m\u001b[0mget_playlist_pooltest\u001b[0m\u001b[0;34m(\u001b[0m\u001b[0mpid\u001b[0m\u001b[0;34m=\u001b[0m\u001b[0mpid\u001b[0m\u001b[0;34m,\u001b[0m\u001b[0mk\u001b[0m\u001b[0;34m=\u001b[0m\u001b[0;36m25\u001b[0m\u001b[0;34m)\u001b[0m\u001b[0;34m\u001b[0m\u001b[0m\n\u001b[0m",
      "\u001b[0;32m~/projects/Spotify/src/features/tracks_info.py\u001b[0m in \u001b[0;36mget_playlist_pooltest\u001b[0;34m(self, pid, k)\u001b[0m\n\u001b[1;32m     62\u001b[0m \u001b[0;34m\u001b[0m\u001b[0m\n\u001b[1;32m     63\u001b[0m     \u001b[0;32mdef\u001b[0m \u001b[0mget_playlist_pooltest\u001b[0m\u001b[0;34m(\u001b[0m\u001b[0mself\u001b[0m\u001b[0;34m,\u001b[0m\u001b[0mpid\u001b[0m\u001b[0;34m,\u001b[0m\u001b[0mk\u001b[0m\u001b[0;34m)\u001b[0m\u001b[0;34m:\u001b[0m\u001b[0;34m\u001b[0m\u001b[0m\n\u001b[0;32m---> 64\u001b[0;31m         \u001b[0mturi\u001b[0m\u001b[0;34m,\u001b[0m\u001b[0mauri\u001b[0m \u001b[0;34m=\u001b[0m \u001b[0mget_playlist\u001b[0m\u001b[0;34m(\u001b[0m\u001b[0mself\u001b[0m\u001b[0;34m,\u001b[0m \u001b[0mpid\u001b[0m\u001b[0;34m)\u001b[0m\u001b[0;34m\u001b[0m\u001b[0m\n\u001b[0m\u001b[1;32m     65\u001b[0m         \u001b[0mturi_true\u001b[0m\u001b[0;34m,\u001b[0m\u001b[0mauri_true\u001b[0m \u001b[0;34m=\u001b[0m \u001b[0mturi\u001b[0m\u001b[0;34m[\u001b[0m\u001b[0mk\u001b[0m\u001b[0;34m:\u001b[0m\u001b[0;34m]\u001b[0m\u001b[0;34m,\u001b[0m\u001b[0mauri\u001b[0m\u001b[0;34m[\u001b[0m\u001b[0mk\u001b[0m\u001b[0;34m:\u001b[0m\u001b[0;34m]\u001b[0m\u001b[0;34m\u001b[0m\u001b[0m\n\u001b[1;32m     66\u001b[0m         \u001b[0mturi_sub\u001b[0m\u001b[0;34m,\u001b[0m \u001b[0mauri_sub\u001b[0m \u001b[0;34m=\u001b[0m \u001b[0mrandom_tracks\u001b[0m\u001b[0;34m(\u001b[0m\u001b[0mself\u001b[0m\u001b[0;34m,\u001b[0m\u001b[0mk\u001b[0m\u001b[0;34m,\u001b[0m\u001b[0mexclude\u001b[0m\u001b[0;34m=\u001b[0m\u001b[0;32mNone\u001b[0m\u001b[0;34m)\u001b[0m\u001b[0;34m\u001b[0m\u001b[0m\n",
      "\u001b[0;31mNameError\u001b[0m: name 'get_playlist' is not defined"
     ]
    }
   ],
   "source": [
    "tracks = TrackInfo(subset='5k-')\n"
   ]
  },
  {
   "cell_type": "code",
   "execution_count": 11,
   "metadata": {
    "ExecuteTime": {
     "end_time": "2018-04-30T08:45:47.109393Z",
     "start_time": "2018-04-30T08:45:46.981267Z"
    }
   },
   "outputs": [],
   "source": [
    "pid=194\n",
    "turi_seed,auri_seed, turi_true,auri_true, turi_pool,auri_pool = tracks.get_playlist_pooltest(pid=pid,k=25)\n",
    "\n"
   ]
  },
  {
   "cell_type": "code",
   "execution_count": null,
   "metadata": {},
   "outputs": [],
   "source": []
  },
  {
   "cell_type": "code",
   "execution_count": 6,
   "metadata": {
    "ExecuteTime": {
     "end_time": "2018-04-30T08:22:39.249472Z",
     "start_time": "2018-04-30T08:22:39.219374Z"
    }
   },
   "outputs": [],
   "source": [
    "k_range = [1, 5, 10, 25, 100]\n",
    "max_picks = 500\n",
    "# load playlist\n",
    "pid = 194\n",
    "pl_turi,pl_auri = tracks.get_playlist(pid)\n",
    "n_songs = len(pl_turi)"
   ]
  },
  {
   "cell_type": "code",
   "execution_count": null,
   "metadata": {},
   "outputs": [],
   "source": [
    "X_t = af.transform()"
   ]
  },
  {
   "cell_type": "code",
   "execution_count": 4,
   "metadata": {
    "ExecuteTime": {
     "end_time": "2018-04-30T08:22:18.756050Z",
     "start_time": "2018-04-30T08:22:17.246154Z"
    }
   },
   "outputs": [],
   "source": [
    "# audio features\n",
    "af = AudioFeatures(subset='5k-')\n",
    "X = af.transform()\n",
    "n_cols = X.shape[1]"
   ]
  },
  {
   "cell_type": "code",
   "execution_count": 7,
   "metadata": {
    "ExecuteTime": {
     "end_time": "2018-04-29T23:41:08.958340Z",
     "start_time": "2018-04-29T23:41:08.920064Z"
    }
   },
   "outputs": [
    {
     "data": {
      "text/plain": [
       "(130, 9)"
      ]
     },
     "execution_count": 7,
     "metadata": {},
     "output_type": "execute_result"
    }
   ],
   "source": [
    "xp = af.transform(pl_turi)\n",
    "xp.shape"
   ]
  },
  {
   "cell_type": "code",
   "execution_count": 17,
   "metadata": {
    "ExecuteTime": {
     "end_time": "2018-04-29T21:09:33.629527Z",
     "start_time": "2018-04-29T21:09:31.618524Z"
    }
   },
   "outputs": [
    {
     "name": "stdout",
     "output_type": "stream",
     "text": [
      "Test on playlist 194\n",
      "     k  r precision      NDGC\n",
      "0    1     0.023256  0.463649\n",
      "1    5     0.024000  0.269681\n",
      "2   10     0.033333  0.228421\n",
      "3   25     0.009524  0.000000\n",
      "4  100     0.000000  0.000000\n"
     ]
    }
   ],
   "source": [
    "suggest_df = pd.DataFrame()\n",
    "n_top = 10\n",
    "x_pred = OrderedDict()\n",
    "stats = []\n",
    "print('Test on playlist {:d}'.format(pid))\n",
    "for k in k_range:\n",
    "    x_pred[k] = []\n",
    "    k_picks = int(max_picks / k)\n",
    "    for i in range(k):\n",
    "        x_query = xp[i - 1, :]\n",
    "        ind, sim = cosine_sim_closest(X, x_query, k_picks)\n",
    "        x_pred[k] = x_pred[k] + list(ind)\n",
    "    subset_ids = pl_ints[k:]\n",
    "    result = OrderedDict()\n",
    "    result['k'] = k\n",
    "    result['r precision'] = r_precision(subset_ids, x_pred[k])\n",
    "    result['NDGC'] = NDCG(subset_ids, x_pred[k])\n",
    "    stats.append(result)\n",
    "\n",
    "sdf = pd.DataFrame(stats)\n",
    "print(sdf)\n",
    "\n",
    "write_latex_table(sdf, 'metrics', adir='.', render=True)"
   ]
  }
 ],
 "metadata": {
  "kernelspec": {
   "display_name": "Python [conda env:anaconda3]",
   "language": "python",
   "name": "conda-env-anaconda3-py"
  },
  "language_info": {
   "codemirror_mode": {
    "name": "ipython",
    "version": 3
   },
   "file_extension": ".py",
   "mimetype": "text/x-python",
   "name": "python",
   "nbconvert_exporter": "python",
   "pygments_lexer": "ipython3",
   "version": "3.6.5"
  },
  "toc": {
   "base_numbering": 1,
   "nav_menu": {},
   "number_sections": true,
   "sideBar": true,
   "skip_h1_title": false,
   "title_cell": "Table of Contents",
   "title_sidebar": "Contents",
   "toc_cell": false,
   "toc_position": {},
   "toc_section_display": true,
   "toc_window_display": true
  }
 },
 "nbformat": 4,
 "nbformat_minor": 2
}
