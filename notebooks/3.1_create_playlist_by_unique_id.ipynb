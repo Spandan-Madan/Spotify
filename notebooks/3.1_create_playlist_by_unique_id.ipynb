{
 "cells": [
  {
   "cell_type": "markdown",
   "metadata": {},
   "source": [
    "### Purpose of this script"
   ]
  },
  {
   "cell_type": "markdown",
   "metadata": {},
   "source": [
    "       This script will generate 3 text files, each extracting playlist, substitute each track with one of the following unique spotify ID (track, artist, album). The purpose of these 3 text files is to feed them into gensim word2vec training."
   ]
  },
  {
   "cell_type": "code",
   "execution_count": 4,
   "metadata": {
    "collapsed": true
   },
   "outputs": [],
   "source": [
    "from os import listdir\n",
    "from os.path import isfile, join\n",
    "import json\n",
    "import sys\n",
    "import numpy as np\n",
    "import pickle\n",
    "import os\n",
    "\n",
    "from IPython.display import clear_output"
   ]
  },
  {
   "cell_type": "markdown",
   "metadata": {},
   "source": [
    "### CREATE DIRECTORY"
   ]
  },
  {
   "cell_type": "code",
   "execution_count": 5,
   "metadata": {
    "collapsed": true
   },
   "outputs": [],
   "source": [
    "directory = \"../data/raw_playlist\"\n",
    "if not os.path.exists(directory):\n",
    "    os.makedirs(directory)"
   ]
  },
  {
   "cell_type": "markdown",
   "metadata": {},
   "source": [
    "### GENERATE CORPUS WITH TRACK ID (THIS TAKES AROUND 5~10 MINUTES)"
   ]
  },
  {
   "cell_type": "code",
   "execution_count": null,
   "metadata": {},
   "outputs": [
    {
     "name": "stdout",
     "output_type": "stream",
     "text": [
      "75.0 %\n"
     ]
    }
   ],
   "source": [
    "MYPATH = \"/Users/timlee/Desktop/spotify_stuff/spotify_data/data\" # PATH TO YOUR MILLION DATASET.\n",
    "TRACK_HEADER = \"spotify:track:\"\n",
    "ARTIST_HEADER = \"spotify:artist:\"\n",
    "ALBUM_HEADER = \"spotify:album:\"\n",
    "\n",
    "onlyfiles = sorted([f for f in listdir(MYPATH) if isfile(join(MYPATH, f))])\n",
    "\n",
    "TOTAL_NUM_FILE = len(onlyfiles)\n",
    "\n",
    "fout_track = open(\"../data/raw_playlist/track_url_playlist.txt\", 'w')\n",
    "fout_artist = open(\"../data/raw_playlist/artist_url_playlist.txt\", 'w')\n",
    "fout_album = open(\"../data/raw_playlist/album_url_playlist.txt\", 'w')\n",
    "\n",
    "print (\"TOTAL NUMBER OF MDP FILE: \", TOTAL_NUM_FILE)\n",
    "print (\"PROGRESS...\")\n",
    "cnt = 0\n",
    "for file in onlyfiles:\n",
    "    cnt += 1\n",
    "    if cnt * 1.0 % 10 == 0:\n",
    "        print (cnt * 100.0 / TOTAL_NUM_FILE, '%')\n",
    "        clear_output(wait=True)\n",
    "    data = json.load(open(MYPATH +'/'+file))\n",
    "    for playlist in data['playlists']:\n",
    "        playlist_track, playlist_artist, playlist_album = [], [], []\n",
    "        for song in playlist['tracks']:\n",
    "            track_uri = song['track_uri'][len(TRACK_HEADER):]\n",
    "            artist_uri = song['artist_uri'][len(ARTIST_HEADER):]\n",
    "            album_uri = song['album_uri'][len(ALBUM_HEADER):]\n",
    "\n",
    "            playlist_track.append(track_uri)\n",
    "            playlist_artist.append(artist_uri)\n",
    "            playlist_album.append(album_uri)\n",
    "\n",
    "        # CREATE CORPUS\n",
    "        fout_track.write(' '.join(playlist_track) + '\\n')\n",
    "        fout_artist.write(' '.join(playlist_artist) + '\\n')\n",
    "        fout_album.write(' '.join(playlist_album) + '\\n')\n",
    "\n",
    "fout_track.close()\n",
    "fout_artist.close()\n",
    "fout_album.close()\n",
    "print ('FINISHED')"
   ]
  },
  {
   "cell_type": "code",
   "execution_count": null,
   "metadata": {
    "collapsed": true
   },
   "outputs": [],
   "source": []
  }
 ],
 "metadata": {
  "kernelspec": {
   "display_name": "Python 3",
   "language": "python",
   "name": "python3"
  },
  "language_info": {
   "codemirror_mode": {
    "name": "ipython",
    "version": 3
   },
   "file_extension": ".py",
   "mimetype": "text/x-python",
   "name": "python",
   "nbconvert_exporter": "python",
   "pygments_lexer": "ipython3",
   "version": "3.6.3"
  }
 },
 "nbformat": 4,
 "nbformat_minor": 2
}
