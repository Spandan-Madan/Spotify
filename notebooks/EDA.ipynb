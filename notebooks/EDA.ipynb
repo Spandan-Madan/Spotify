{
 "cells": [
  {
   "cell_type": "code",
   "execution_count": 10,
   "metadata": {
    "collapsed": true
   },
   "outputs": [],
   "source": [
    "import pandas as pd\n",
    "import numpy as np\n",
    "import json  \n",
    "import zipfile  \n",
    "import tarfile\n",
    "from IPython.display import display\n",
    "import matplotlib.pyplot as plt"
   ]
  },
  {
   "cell_type": "code",
   "execution_count": 2,
   "metadata": {
    "collapsed": true
   },
   "outputs": [],
   "source": [
    "# DON NOT RUN AGAIN\n",
    "tar = tarfile.open(\"mpd.v1.tar\")"
   ]
  },
  {
   "cell_type": "code",
   "execution_count": 10,
   "metadata": {},
   "outputs": [
    {
     "name": "stdout",
     "output_type": "stream",
     "text": [
      "Done reading ./src/check.py\n",
      "Done dumping ./src/check.py\n",
      "Done reading ./src/deeper_stats.py\n",
      "Done dumping ./src/deeper_stats.py\n",
      "Done reading ./src/show.py\n",
      "Done dumping ./src/show.py\n",
      "Done reading ./src/descriptions.py\n",
      "Done dumping ./src/descriptions.py\n",
      "Done reading ./src/stats.py\n",
      "Done dumping ./src/stats.py\n",
      "Done reading ./src/print.py\n",
      "Done dumping ./src/print.py\n"
     ]
    }
   ],
   "source": [
    "# DO NOT RUN AGAIN\n",
    "# Extracting single file\n",
    "flist = ['./src/check.py','./src/deeper_stats.py','./src/show.py','./src/descriptions.py','./src/stats.py','./src/print.py',]\n",
    "\n",
    "for i,file in enumerate(flist):\n",
    "    f = tar.extractfile(file)\n",
    "    rf = f.read()\n",
    "    print(\"Done reading \"+file)\n",
    "    with open('Extras/'+str(i)+'.py', 'wb') as outfile:\n",
    "        outfile.write(rf)\n",
    "    print(\"Done dumping \"+file)"
   ]
  },
  {
   "cell_type": "code",
   "execution_count": 6,
   "metadata": {},
   "outputs": [
    {
     "name": "stdout",
     "output_type": "stream",
     "text": [
      "Done  0\n",
      "Done  1000\n",
      "Done  2000\n",
      "Done  3000\n",
      "Done  4000\n"
     ]
    }
   ],
   "source": [
    "# Visualising playlist-wide stats\n",
    "artists_dict = {}\n",
    "word_reference_dict = {} # Genre/tag?\n",
    "num_songs_dict = {}\n",
    "songs_dict = {}\n",
    "\n",
    "for start in [0,1000,2000,3000,4000]:\n",
    "    data = json.load(open('Data/data'+str(start)+'.json'))\n",
    "    for pcount in range(0,1000):\n",
    "        \n",
    "        # 1. Getting number of songs in each playlist\n",
    "        songs_l = data[\"playlists\"][pcount]['num_tracks']\n",
    "        if songs_l not in num_songs_dict: num_songs_dict[songs_l] = 1\n",
    "        else: num_songs_dict[songs_l] = num_songs_dict[songs_l]+1\n",
    "            \n",
    "        # 2,3. Getting count across tracks and artists\n",
    "        tracks = data[\"playlists\"][pcount][\"tracks\"]\n",
    "        for track in tracks:\n",
    "            track_name = track['track_name']\n",
    "            if track_name not in songs_dict: songs_dict[track_name] = 1\n",
    "            else: songs_dict[track_name] = songs_dict[track_name]+1\n",
    "                \n",
    "            artist = track['artist_name']\n",
    "            if artist not in artists_dict: artists_dict[artist] = 1\n",
    "            else: artists_dict[artist] = artists_dict[artist]+1\n",
    "    print(\"Done \", str(start))"
   ]
  },
  {
   "cell_type": "code",
   "execution_count": 22,
   "metadata": {},
   "outputs": [
    {
     "data": {
      "image/png": "[encoded data removed]",
      "text/plain": [
       "<matplotlib.figure.Figure at 0x1124344e0>"
      ]
     },
     "metadata": {},
     "output_type": "display_data"
    }
   ],
   "source": [
    "# Artists across lists - histogram\n",
    "a = list(artists_dict.keys())\n",
    "b = list(artists_dict.values())\n",
    "plt.bar(np.arange(1,len(a)+1),b)\n",
    "plt.ylim(0,1500)\n",
    "plt.show()"
   ]
  },
  {
   "cell_type": "code",
   "execution_count": 23,
   "metadata": {},
   "outputs": [
    {
     "data": {
      "image/png": "[encoded data removed]",
      "text/plain": [
       "<matplotlib.figure.Figure at 0x114445828>"
      ]
     },
     "metadata": {},
     "output_type": "display_data"
    }
   ],
   "source": [
    "# Number of songs per list (size of neighbourhood to be found)\n",
    "a = list(num_songs_dict.keys())\n",
    "b = list(num_songs_dict.values())\n",
    "plt.bar(np.arange(1,len(a)+1),b)\n",
    "plt.show()"
   ]
  },
  {
   "cell_type": "code",
   "execution_count": 27,
   "metadata": {},
   "outputs": [
    {
     "data": {
      "image/png": "[encoded data removed]",
      "text/plain": [
       "<matplotlib.figure.Figure at 0x118955780>"
      ]
     },
     "metadata": {},
     "output_type": "display_data"
    }
   ],
   "source": [
    "# Songs across lists - histogram\n",
    "a = list(songs_dict.keys())\n",
    "b = list(songs_dict.values())\n",
    "plt.bar(np.arange(1,len(a)+1),b)\n",
    "plt.ylim(0,160)\n",
    "plt.show()"
   ]
  },
  {
   "cell_type": "code",
   "execution_count": null,
   "metadata": {
    "collapsed": true
   },
   "outputs": [],
   "source": [
    "# Word across lists\n"
   ]
  }
 ],
 "metadata": {
  "kernelspec": {
   "display_name": "Python 3",
   "language": "python",
   "name": "python3"
  },
  "language_info": {
   "codemirror_mode": {
    "name": "ipython",
    "version": 3
   },
   "file_extension": ".py",
   "mimetype": "text/x-python",
   "name": "python",
   "nbconvert_exporter": "python",
   "pygments_lexer": "ipython3",
   "version": "3.6.1"
  }
 },
 "nbformat": 4,
 "nbformat_minor": 2
}
