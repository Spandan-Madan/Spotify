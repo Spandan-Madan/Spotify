{
 "cells": [
  {
   "cell_type": "code",
   "execution_count": 1,
   "metadata": {
    "ExecuteTime": {
     "end_time": "2018-05-09T07:14:19.270238Z",
     "start_time": "2018-05-09T07:14:19.095761Z"
    },
    "collapsed": true
   },
   "outputs": [],
   "source": [
    "import sys\n",
    "sys.path.append('../src')\n",
    "sys.path.append('../src/data/')\n",
    "sys.path.append('../src/models/')\n",
    "sys.path.append('../src/features/')\n",
    "sys.path.append('../src/visualization/')\n",
    "# will reload any library\n",
    "%load_ext autoreload\n",
    "%autoreload 2\n",
    "%config InlineBackend.figure_format = 'retina'\n",
    "%matplotlib inline"
   ]
  },
  {
   "cell_type": "code",
   "execution_count": 18,
   "metadata": {
    "ExecuteTime": {
     "end_time": "2018-05-09T07:34:29.929059Z",
     "start_time": "2018-05-09T07:34:29.904928Z"
    },
    "collapsed": true
   },
   "outputs": [],
   "source": [
    "from data.metrics import recall\n",
    "from visualization.plot_utils import write_latex_table, summary_pooling_table, pooling_plots, pandas_settings, plot_settings,  save_result\n",
    "# general\n",
    "import pandas as pd\n",
    "import numpy as np\n",
    "from tqdm import tqdm\n",
    "from features.tracks_info import TrackInfo\n",
    "from collections import OrderedDict\n",
    "from itertools import product\n",
    "from data_utils import product_size\n",
    "import matplotlib.pyplot as plt\n",
    "import seaborn as sns\n",
    "\n",
    "def pool_stats(pid,k,strat,n_pick,true_t,pool_t,true_a,pool_a):\n",
    "    r_t = recall(true_t, pool_t)\n",
    "    r_a = recall(true_a, pool_a)\n",
    "    return OrderedDict([('pid',pid),('k',k),('strategy',strat),('n',n_pick),('recall-tracks',r_t),('recall-artist',r_a)])\n",
    "\n",
    "plot_settings()\n",
    "pandas_settings()"
   ]
  },
  {
   "cell_type": "markdown",
   "metadata": {},
   "source": [
    "# create pooling model"
   ]
  },
  {
   "cell_type": "code",
   "execution_count": 5,
   "metadata": {
    "ExecuteTime": {
     "end_time": "2018-05-09T07:26:34.438509Z",
     "start_time": "2018-05-09T07:26:09.247908Z"
    }
   },
   "outputs": [
    {
     "name": "stdout",
     "output_type": "stream",
     "text": [
      "Found 3 out of 3 vecs\n",
      "Averaging representation, returning pool of size 500\n"
     ]
    }
   ],
   "source": [
    "from models.word2vec_pooler import W2VPooler\n",
    "\n",
    "pooler =  W2VPooler(verbose=True)\n",
    "tracks = TrackInfo(subset='5k-')\n",
    "list_s = [('The Scientist','Coldplay'),('Immigrant Song','Led Zeppelin'),('T.N.T.','AC/DC')]\n",
    "from sklearn.cluster import k_means\n",
    "seeds_t = [tracks.track_info2uris(tname,aname)[0] for tname,aname in list_s]\n",
    "pool, dist= pooler.recommend(seeds_t,n=500,agg_strat='mean')"
   ]
  },
  {
   "cell_type": "markdown",
   "metadata": {},
   "source": [
    "# test over metrics\n",
    "## one playlist"
   ]
  },
  {
   "cell_type": "code",
   "execution_count": 6,
   "metadata": {
    "ExecuteTime": {
     "end_time": "2018-05-09T07:26:41.202697Z",
     "start_time": "2018-05-09T07:26:40.980497Z"
    },
    "scrolled": true
   },
   "outputs": [
    {
     "name": "stdout",
     "output_type": "stream",
     "text": [
      "Found 25 out of 25 vecs\n",
      "4-medoids , returning pool of size 100\n"
     ]
    },
    {
     "data": {
      "text/html": [
       "<div>\n",
       "<style scoped>\n",
       "    .dataframe tbody tr th:only-of-type {\n",
       "        vertical-align: middle;\n",
       "    }\n",
       "\n",
       "    .dataframe tbody tr th {\n",
       "        vertical-align: top;\n",
       "    }\n",
       "\n",
       "    .dataframe thead th {\n",
       "        text-align: right;\n",
       "    }\n",
       "</style>\n",
       "<table border=\"1\" class=\"dataframe\">\n",
       "  <thead>\n",
       "    <tr style=\"text-align: right;\">\n",
       "      <th></th>\n",
       "      <th>pid</th>\n",
       "      <th>k</th>\n",
       "      <th>strat</th>\n",
       "      <th>n</th>\n",
       "      <th>recall_tracks</th>\n",
       "      <th>recall_artist</th>\n",
       "    </tr>\n",
       "  </thead>\n",
       "  <tbody>\n",
       "    <tr>\n",
       "      <th>0</th>\n",
       "      <td>2</td>\n",
       "      <td>25</td>\n",
       "      <td>medoids</td>\n",
       "      <td>100</td>\n",
       "      <td>0.18</td>\n",
       "      <td>0.23</td>\n",
       "    </tr>\n",
       "  </tbody>\n",
       "</table>\n",
       "</div>"
      ],
      "text/plain": [
       "   pid   k    strat    n  recall_tracks  recall_artist\n",
       "0    2  25  medoids  100           0.18           0.23"
      ]
     },
     "metadata": {},
     "output_type": "display_data"
    }
   ],
   "source": [
    "k=25\n",
    "pid = 2\n",
    "n_pick = 100\n",
    "strat='medoids' # there are many sampling strategies\n",
    "pl_turi,pl_auri = tracks.get_playlist(pid)\n",
    "seeds_t = pl_turi[:k]\n",
    "true_t,true_a = pl_turi[k:],pl_auri[k:]\n",
    "pool_t, dist= pooler.recommend(seeds_t,n=n_pick,agg_strat=strat)\n",
    "pool_a = [tracks.turi2auri[t] for t in pool_t]\n",
    "display(pd.DataFrame([pool_stats(pid,k,strat,n_pick,true_t,pool_t,true_a,pool_a)]))"
   ]
  },
  {
   "cell_type": "markdown",
   "metadata": {},
   "source": [
    "## how large does n have to be?"
   ]
  },
  {
   "cell_type": "code",
   "execution_count": 11,
   "metadata": {
    "ExecuteTime": {
     "end_time": "2018-05-09T07:28:37.688659Z",
     "start_time": "2018-05-09T07:28:37.131720Z"
    }
   },
   "outputs": [
    {
     "name": "stdout",
     "output_type": "stream",
     "text": [
      "Found 25 out of 25 vecs\n",
      "4-medoids , returning pool of size 100000\n"
     ]
    },
    {
     "data": {
      "text/html": [
       "<div>\n",
       "<style scoped>\n",
       "    .dataframe tbody tr th:only-of-type {\n",
       "        vertical-align: middle;\n",
       "    }\n",
       "\n",
       "    .dataframe tbody tr th {\n",
       "        vertical-align: top;\n",
       "    }\n",
       "\n",
       "    .dataframe thead th {\n",
       "        text-align: right;\n",
       "    }\n",
       "</style>\n",
       "<table border=\"1\" class=\"dataframe\">\n",
       "  <thead>\n",
       "    <tr style=\"text-align: right;\">\n",
       "      <th></th>\n",
       "      <th>pid</th>\n",
       "      <th>k</th>\n",
       "      <th>strat</th>\n",
       "      <th>n</th>\n",
       "      <th>recall_tracks</th>\n",
       "      <th>recall_artist</th>\n",
       "    </tr>\n",
       "  </thead>\n",
       "  <tbody>\n",
       "    <tr>\n",
       "      <th>0</th>\n",
       "      <td>10</td>\n",
       "      <td>25</td>\n",
       "      <td>medoids</td>\n",
       "      <td>25</td>\n",
       "      <td>0.00</td>\n",
       "      <td>0.06</td>\n",
       "    </tr>\n",
       "    <tr>\n",
       "      <th>1</th>\n",
       "      <td>10</td>\n",
       "      <td>25</td>\n",
       "      <td>medoids</td>\n",
       "      <td>125</td>\n",
       "      <td>0.00</td>\n",
       "      <td>0.06</td>\n",
       "    </tr>\n",
       "    <tr>\n",
       "      <th>2</th>\n",
       "      <td>10</td>\n",
       "      <td>25</td>\n",
       "      <td>medoids</td>\n",
       "      <td>225</td>\n",
       "      <td>0.00</td>\n",
       "      <td>0.09</td>\n",
       "    </tr>\n",
       "    <tr>\n",
       "      <th>3</th>\n",
       "      <td>10</td>\n",
       "      <td>25</td>\n",
       "      <td>medoids</td>\n",
       "      <td>325</td>\n",
       "      <td>0.00</td>\n",
       "      <td>0.12</td>\n",
       "    </tr>\n",
       "    <tr>\n",
       "      <th>4</th>\n",
       "      <td>10</td>\n",
       "      <td>25</td>\n",
       "      <td>medoids</td>\n",
       "      <td>425</td>\n",
       "      <td>0.00</td>\n",
       "      <td>0.12</td>\n",
       "    </tr>\n",
       "  </tbody>\n",
       "</table>\n",
       "</div>"
      ],
      "text/plain": [
       "   pid   k    strat    n  recall_tracks  recall_artist\n",
       "0   10  25  medoids   25           0.00           0.06\n",
       "1   10  25  medoids  125           0.00           0.06\n",
       "2   10  25  medoids  225           0.00           0.09\n",
       "3   10  25  medoids  325           0.00           0.12\n",
       "4   10  25  medoids  425           0.00           0.12"
      ]
     },
     "execution_count": 11,
     "metadata": {},
     "output_type": "execute_result"
    }
   ],
   "source": [
    "k=25\n",
    "pid = 10\n",
    "n_pick = 100000\n",
    "strat='medoids'\n",
    "pl_turi,pl_auri = tracks.get_playlist(pid)\n",
    "seeds_t = pl_turi[:k]\n",
    "true_t,true_a = pl_turi[k:],pl_auri[k:]\n",
    "pool_t, dist= pooler.recommend(seeds_t,n=n_pick,agg_strat=strat)\n",
    "pool_a = [tracks.turi2auri[t] for t in pool_t]\n",
    "# acrue results for k\n",
    "pool_range = list(range(25,1000,100))+list(range(1000,10000,1000))+list(range(10000,n_pick,2500))\n",
    "stats=[]\n",
    "for i in pool_range:\n",
    "    stats.append(pool_stats(pid,k,strat,i,true_t,pool_t[:i],true_a,pool_a[:i]))\n",
    "stats_df = pd.DataFrame(stats)\n",
    "stats_df.head()"
   ]
  },
  {
   "cell_type": "code",
   "execution_count": 12,
   "metadata": {
    "ExecuteTime": {
     "end_time": "2018-05-09T07:28:42.505328Z",
     "start_time": "2018-05-09T07:28:42.322218Z"
    }
   },
   "outputs": [
    {
     "data": {
      "image/png": "[encoded data removed]",
      "text/plain": [
       "<matplotlib.figure.Figure at 0x7f3b6d2e3780>"
      ]
     },
     "metadata": {
      "image/png": {
       "height": 439,
       "width": 648
      }
     },
     "output_type": "display_data"
    }
   ],
   "source": [
    "import matplotlib.pyplot as plt\n",
    "plt.plot(stats_df['n'],stats_df['recall_tracks'],label='Tracks')\n",
    "plt.plot(stats_df['n'],stats_df['recall_artist'],label='Artist')\n",
    "plt.ylabel('Recall')\n",
    "plt.xlabel('Pool size')\n",
    "plt.title('{} strategy (Seed size = {})'.format(strat,k))\n",
    "plt.legend()\n",
    "plt.show()"
   ]
  },
  {
   "cell_type": "markdown",
   "metadata": {},
   "source": [
    "# several random playlists"
   ]
  },
  {
   "cell_type": "code",
   "execution_count": null,
   "metadata": {
    "ExecuteTime": {
     "start_time": "2018-05-09T07:42:45.549Z"
    },
    "scrolled": true
   },
   "outputs": [
    {
     "name": "stderr",
     "output_type": "stream",
     "text": [
      "  1%|          | 127/16000 [00:04<08:56, 29.56it/s]/home/beangoben/anaconda3/lib/python3.6/site-packages/numpy/core/fromnumeric.py:2909: RuntimeWarning: Mean of empty slice.\n",
      "  out=out, **kwargs)\n",
      "/home/beangoben/anaconda3/lib/python3.6/site-packages/numpy/core/_methods.py:80: RuntimeWarning: invalid value encountered in double_scalars\n",
      "  ret = ret.dtype.type(ret / rcount)\n",
      "  1%|          | 135/16000 [00:04<08:41, 30.43it/s]"
     ]
    },
    {
     "name": "stdout",
     "output_type": "stream",
     "text": [
      "Error with ('mean', 10000, 684, 5)\n",
      "Error with ('mean', 10000, 684, 10)\n",
      "Error with ('mean', 10000, 684, 25)\n"
     ]
    },
    {
     "name": "stderr",
     "output_type": "stream",
     "text": [
      "  5%|▌         | 838/16000 [00:29<08:45, 28.86it/s]"
     ]
    },
    {
     "name": "stdout",
     "output_type": "stream",
     "text": [
      "Error with ('mean', 10000, 684, 5)\n",
      "Error with ('mean', 10000, 684, 10)\n",
      "Error with ('mean', 10000, 684, 25)\n"
     ]
    },
    {
     "name": "stderr",
     "output_type": "stream",
     "text": [
      "  5%|▌         | 867/16000 [00:29<08:43, 28.91it/s]"
     ]
    },
    {
     "name": "stdout",
     "output_type": "stream",
     "text": [
      "Error with ('mean', 10000, 1985, 5)\n",
      "Error with ('mean', 10000, 1985, 10)\n",
      "Error with ('mean', 10000, 1985, 25)\n",
      "Error with ('mean', 10000, 1769, 5)\n"
     ]
    },
    {
     "name": "stderr",
     "output_type": "stream",
     "text": [
      "  6%|▌         | 919/16000 [00:31<08:36, 29.20it/s]"
     ]
    }
   ],
   "source": [
    "pooler.verbose=False\n",
    "ks = [5, 10, 25, 100]\n",
    "stats=[]\n",
    "pids = [i for i in np.random.randint(0,5000,1000)]\n",
    "n_picks = [10000]\n",
    "strats=['mean','centroids','medoids','split']\n",
    "product_n = product_size([ks,pids,n_picks,strats])\n",
    "#for pid in :\n",
    "for combo in tqdm(product(*[strats,n_picks,pids,ks]),total=product_n):\n",
    "    try:\n",
    "        strat,n_pick,pid,k = combo\n",
    "        pl_turi,pl_auri = tracks.get_playlist(pid)\n",
    "        if len(pl_turi) > k:\n",
    "            seeds_t = pl_turi[:k]\n",
    "            true_t,true_a = pl_turi[k:],pl_auri[k:]\n",
    "            pool_t, dist= pooler.recommend(seeds_t,n=n_pick,agg_strat=strat)\n",
    "            pool_a = [tracks.turi2auri[t] for t in pool_t]\n",
    "            stats.append(pool_stats(pid,k,strat,i,true_t,pool_t,true_a,pool_a))\n",
    "    except (ValueError,TypeError,UnboundLocalError) as e:\n",
    "        print('Error with {}'.format(combo))"
   ]
  },
  {
   "cell_type": "markdown",
   "metadata": {},
   "source": [
    "## Results"
   ]
  },
  {
   "cell_type": "code",
   "execution_count": null,
   "metadata": {
    "ExecuteTime": {
     "start_time": "2018-05-09T07:43:04.571Z"
    }
   },
   "outputs": [],
   "source": [
    "summ_df = summary_pooling_table(stats)\n",
    "write_latex_table(summ_df,'pooling',adir='../reports')\n",
    "display(summ_df)\n",
    "pooling_plots(stats)"
   ]
  },
  {
   "cell_type": "markdown",
   "metadata": {},
   "source": [
    "# How big of a pool do we need (on average)?"
   ]
  },
  {
   "cell_type": "code",
   "execution_count": null,
   "metadata": {
    "ExecuteTime": {
     "start_time": "2018-05-09T07:43:06.843Z"
    }
   },
   "outputs": [],
   "source": [
    "pooler.verbose=False\n",
    "ks = [100]\n",
    "stats=[]\n",
    "pids = [i for i in np.random.randint(0,5000,2000)]\n",
    "n_picks = [25000]\n",
    "pool_range = list(range(25,1000,100))+list(range(1000,10000,1000))+list(range(10000,n_picks[0],2500))\n",
    "strats=['mean','centroids','medoids','wcentroids','wmedoids','split']\n",
    "product_n = product_size([strats,n_picks,pids,ks])\n",
    "stats=[]\n",
    "#for pid in :\n",
    "for combo in tqdm(product(*[strats,n_picks,pids,ks]),total=product_n):\n",
    "    try:\n",
    "        strat,n_pick,pid,k = combo\n",
    "        pl_turi,pl_auri = tracks.get_playlist(pid)\n",
    "        if len(pl_turi) > k:\n",
    "            seeds_t = pl_turi[:k]\n",
    "            true_t,true_a = pl_turi[k:],pl_auri[k:]\n",
    "            pool_t, dist= pooler.recommend(seeds_t,n=n_pick,agg_strat=strat)\n",
    "            pool_a = [tracks.turi2auri[t] for t in pool_t]\n",
    "            for i in pool_range:\n",
    "                stats.append(pool_stats(pid,k,strat,i,true_t,pool_t[:i],true_a,pool_a[:i]))\n",
    "    except ValueError as e:\n",
    "        print('Error with {}'.format(combo))\n",
    "# random test\n",
    "for combo in product(*[pids,ks]):\n",
    "    pid,k = combo\n",
    "    pl_turi,pl_auri = tracks.get_playlist(pid)\n",
    "    if len(pl_turi) > k:\n",
    "        seeds_t = pl_turi[:k]\n",
    "        true_t,true_a = pl_turi[k:],pl_auri[k:]\n",
    "        for i in pool_range:\n",
    "            pool_t,pool_a = tracks.random_tracks(i,exclude=seeds_t)\n",
    "            stats.append(pool_stats(pid,k,'random',i,true_t,pool_t,true_a,pool_a))\n",
    "\n",
    "stats_df = pd.DataFrame(stats)\n",
    "stats_df.head()"
   ]
  },
  {
   "cell_type": "markdown",
   "metadata": {},
   "source": [
    "## results"
   ]
  },
  {
   "cell_type": "code",
   "execution_count": null,
   "metadata": {
    "ExecuteTime": {
     "start_time": "2018-05-09T07:43:08.180Z"
    }
   },
   "outputs": [],
   "source": [
    "plt.style.use('dark_background')\n",
    "sns.factorplot(x=\"n\", y=\"recall-tracks\", hue=\"strategy\", data=stats_df,\n",
    "                   capsize=.2, palette=\"Set2\", size=6, aspect=2)\n",
    "plt.xticks(rotation=90)\n",
    "plt.ylim([0,1])\n",
    "plt.xlabel('Recall (Track)')\n",
    "plt.xlabel('Pool size')\n",
    "plt.savefig('../reports/pool_size_tracks.svg')\n",
    "plt.savefig('../reports/pool_size_tracks.png',dpi=300)\n",
    "plt.show()\n",
    "sns.factorplot(x=\"n\", y=\"recall-artist\", hue=\"strategy\", data=stats_df,\n",
    "                   capsize=.2, palette=\"Set2\", size=6, aspect=2,alpha=0.75)\n",
    "plt.xticks(rotation=90)\n",
    "plt.ylim([0,1])\n",
    "plt.xlabel('Recall (Artist)')\n",
    "plt.xlabel('Pool size')\n",
    "plt.savefig('../reports/pool_size_artist.svg')\n",
    "plt.savefig('../reports/pool_size_artist.png',dpi=300)\n",
    "plt.show()"
   ]
  },
  {
   "cell_type": "code",
   "execution_count": null,
   "metadata": {
    "collapsed": true
   },
   "outputs": [],
   "source": []
  }
 ],
 "metadata": {
  "kernelspec": {
   "display_name": "Python 3",
   "language": "python",
   "name": "python3"
  },
  "language_info": {
   "codemirror_mode": {
    "name": "ipython",
    "version": 3
   },
   "file_extension": ".py",
   "mimetype": "text/x-python",
   "name": "python",
   "nbconvert_exporter": "python",
   "pygments_lexer": "ipython3",
   "version": "3.6.3"
  },
  "toc": {
   "nav_menu": {},
   "number_sections": true,
   "sideBar": true,
   "skip_h1_title": false,
   "toc_cell": false,
   "toc_position": {},
   "toc_section_display": true,
   "toc_window_display": false
  }
 },
 "nbformat": 4,
 "nbformat_minor": 2
}
