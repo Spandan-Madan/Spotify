{
 "cells": [
  {
   "cell_type": "code",
   "execution_count": 1,
   "metadata": {
    "ExecuteTime": {
     "end_time": "2018-05-04T22:06:56.329009Z",
     "start_time": "2018-05-04T22:06:55.832768Z"
    },
    "collapsed": true
   },
   "outputs": [],
   "source": [
    "import sys\n",
    "sys.path.append('../src')\n",
    "sys.path.append('../src/data/')\n",
    "sys.path.append('../src/models/')\n",
    "sys.path.append('../src/features/')\n",
    "sys.path.append('../src/visualization/')\n",
    "# will reload any library\n",
    "%load_ext autoreload\n",
    "%autoreload 2\n",
    "%config InlineBackend.figure_format = 'retina'\n",
    "%matplotlib inline"
   ]
  },
  {
   "cell_type": "code",
   "execution_count": 2,
   "metadata": {
    "ExecuteTime": {
     "end_time": "2018-05-04T22:06:57.651195Z",
     "start_time": "2018-05-04T22:06:56.331062Z"
    },
    "collapsed": true
   },
   "outputs": [],
   "source": [
    "# sportify specific\n",
    "#from data.metrics import r_precision, cosine_sim_closest, cosine_sim_top, NDCG\n",
    "from visualization.plot_utils import write_latex_table, summary_pooling_table,\\\n",
    "pooling_plots, pandas_settings, plot_settings,  save_result\n",
    "# general\n",
    "import pandas as pd\n",
    "import numpy as np\n",
    "from tqdm import tqdm\n",
    "from features import AudioFeatures, TrackInfo, Popularity, GenreFeatures, Word2vecFeature, ContextFeatures\n",
    "from collections import OrderedDict\n",
    "import matplotlib.pyplot as plt\n",
    "import seaborn as sns\n",
    "# for bayesopt\n",
    "import GPy\n",
    "import GPyOpt\n",
    "plot_settings()\n",
    "pandas_settings()\n",
    "\n",
    "def ranked_plots(pool,true,ranked,dist,f_name,r_type):\n",
    "    sns.distplot([d for d,t in zip(dist,pool) if t in true],label='In playlist')\n",
    "    sns.distplot([d for d,t in zip(dist,pool) if t not in true],label='Not in playlist')\n",
    "    plt.ylabel('Normalized frequency')\n",
    "    plt.xlabel('Distance')\n",
    "    plt.title('{} with {}'.format(f_name,r_type))\n",
    "    plt.legend()\n",
    "    plt.show()\n",
    "    true_rank = [i for i,t in enumerate(true)]\n",
    "    estimated_rank = [i for i,t in enumerate(ranked) if t in true]\n",
    "    \n",
    "    plt.scatter(true_rank,estimated_rank)\n",
    "    plt.plot([0, len(true)],[0, len(true)],'--',c='k',label='ideal')\n",
    "    plt.xlabel('Real ranking')\n",
    "    plt.ylabel('Estimated ranking')\n",
    "    plt.title('{} with {}'.format(f_name,r_type))\n",
    "    plt.show()"
   ]
  },
  {
   "cell_type": "markdown",
   "metadata": {},
   "source": [
    "# Load track data and features"
   ]
  },
  {
   "cell_type": "code",
   "execution_count": 3,
   "metadata": {
    "ExecuteTime": {
     "end_time": "2018-05-04T22:08:21.350667Z",
     "start_time": "2018-05-04T22:06:57.653082Z"
    }
   },
   "outputs": [
    {
     "name": "stdout",
     "output_type": "stream",
     "text": [
      "../data/w2v/track_w2v_model_1min_100dim IS LOADING\n",
      "LOADED W2V\n",
      "../data/w2v/artist_w2v_model_1min_100dim IS LOADING\n",
      "LOADED W2V\n",
      "../data/w2v/album_w2v_model_1min_100dim IS LOADING\n",
      "LOADED W2V\n",
      "LOADING AUDIO FEATURE...\n",
      "FINISHED LOADING AUDIO FEATURE...\n",
      "../data/interim/track_uri2popularity.pkl.bz2 IS LOADING...\n",
      "LOADED POPULARITY\n",
      "LOADING GENRE..\n",
      "LOADING FASTTEXT...\n",
      "FINSIHED LOADING FASTTEXT..\n",
      "FINISHED LOADING GENRE FEATURE\n"
     ]
    }
   ],
   "source": [
    "tracks = TrackInfo(subset='5k-')\n",
    "feats = [Word2vecFeature(w2v_type='track', logging=True),\n",
    "        Word2vecFeature(w2v_type='artist', logging=True),\n",
    "        Word2vecFeature(w2v_type='album', logging=True),\n",
    "        AudioFeatures(),\n",
    "        Popularity(),\n",
    "        GenreFeatures()]"
   ]
  },
  {
   "cell_type": "code",
   "execution_count": 4,
   "metadata": {
    "ExecuteTime": {
     "end_time": "2018-05-04T22:08:21.485699Z",
     "start_time": "2018-05-04T22:08:21.356186Z"
    },
    "collapsed": true
   },
   "outputs": [],
   "source": [
    "from data.metrics import r_precision, NDCG\n",
    "\n",
    "def ranking_stats(pid,k,strat,n_pick,true_t,pool_t,true_a,pool_a):\n",
    "    rp_t = r_precision(true_t,pool_t)\n",
    "    ndgc_t = NDCG(true_t,pool_t)\n",
    "    rp_a = r_precision(true_a,pool_a)\n",
    "    ndgc_a = NDCG(true_a,pool_a)\n",
    "    return OrderedDict([('pid',pid),('k',k),('strat',strat),('n',n_pick),\n",
    "                        ('rprecision_tracks',rp_t),('rprecision_artist',rp_a),\n",
    "                        ('NDCG_tracks',ndgc_t),('NDCG_artist',ndgc_a)])\n"
   ]
  },
  {
   "cell_type": "markdown",
   "metadata": {},
   "source": [
    "# Test one playlist vs 1 feature"
   ]
  },
  {
   "cell_type": "code",
   "execution_count": null,
   "metadata": {
    "ExecuteTime": {
     "end_time": "2018-05-04T22:08:22.365225Z",
     "start_time": "2018-05-04T22:08:21.487617Z"
    },
    "scrolled": true
   },
   "outputs": [],
   "source": [
    "# select a feature\n",
    "f = feats[0]\n",
    "k=25\n",
    "n_picks=5000\n",
    "pid=194\n",
    "strat='mean'\n",
    "# rankign based on distances\n",
    "turi_seed,auri_seed, turi_true,auri_true, turi_pool,auri_pool = tracks.get_playlist_pooltest(pid=pid,k=k,n=n_picks)\n",
    "dist = f.distance_between_sets(turi_seed,turi_pool,strat)\n",
    "sorted_indx=np.argsort(dist)\n",
    "turi_ranked = [turi_pool[i] for i in sorted_indx]\n",
    "auri_ranked = [auri_pool[i] for i in sorted_indx]\n",
    "pd.DataFrame([ranking_stats(pid,k,strat,n_picks,turi_true,turi_pool,auri_true,auri_pool)])"
   ]
  },
  {
   "cell_type": "code",
   "execution_count": null,
   "metadata": {
    "ExecuteTime": {
     "end_time": "2018-05-04T22:08:28.753573Z",
     "start_time": "2018-05-04T22:08:28.195393Z"
    }
   },
   "outputs": [],
   "source": [
    "f_name= f.__class__.__name__\n",
    "ranked_plots(turi_pool,turi_true,turi_ranked,dist,f_name,'Tracks')"
   ]
  },
  {
   "cell_type": "markdown",
   "metadata": {},
   "source": [
    "# One playlist vs several features"
   ]
  },
  {
   "cell_type": "code",
   "execution_count": null,
   "metadata": {
    "ExecuteTime": {
     "end_time": "2018-05-04T22:08:35.396951Z",
     "start_time": "2018-05-04T22:08:35.302865Z"
    }
   },
   "outputs": [],
   "source": [
    "# select a feature\n",
    "k=25\n",
    "n_picks=5000\n",
    "pid=194\n",
    "strat='mean'\n",
    "weights= [1 for f in feats]\n",
    "# rankign based on distances\n",
    "turi_seed,auri_seed, turi_true,auri_true, turi_pool,auri_pool = tracks.get_playlist_pooltest(pid=pid,k=k,n=n_picks)\n",
    "# get scaled distance\n",
    "dist = np.zeros(len(turi_pool))\n",
    "for f,w in zip(feats,weights):\n",
    "    dist= dist + w*f.distance_between_sets(turi_seed,turi_pool,strat)\n",
    "# rank based on \n",
    "sorted_indx=np.argsort(dist)\n",
    "turi_ranked = [turi_pool[i] for i in sorted_indx]\n",
    "auri_ranked = [auri_pool[i] for i in sorted_indx]\n",
    "stats = ranking_stats(pid,k,strat,n_picks,turi_true,turi_pool,auri_true,auri_pool)\n",
    "stats['rprecision_tracks']"
   ]
  },
  {
   "cell_type": "markdown",
   "metadata": {},
   "source": [
    "# Bayesopt the weights and startegies"
   ]
  },
  {
   "cell_type": "markdown",
   "metadata": {},
   "source": [
    "## Setup optimization parameter space\n"
   ]
  },
  {
   "cell_type": "code",
   "execution_count": 5,
   "metadata": {
    "ExecuteTime": {
     "end_time": "2018-05-04T22:08:38.892726Z",
     "start_time": "2018-05-04T22:08:38.859367Z"
    }
   },
   "outputs": [
    {
     "data": {
      "text/plain": [
       "[{'domain': (0.0, 50.0),\n",
       "  'name': 'Word2vecFeature_weight',\n",
       "  'type': 'continuous'},\n",
       " {'domain': (0.0, 50.0),\n",
       "  'name': 'Word2vecFeature_weight',\n",
       "  'type': 'continuous'},\n",
       " {'domain': (0.0, 50.0),\n",
       "  'name': 'Word2vecFeature_weight',\n",
       "  'type': 'continuous'},\n",
       " {'domain': (0.0, 50.0), 'name': 'AudioFeatures_weight', 'type': 'continuous'},\n",
       " {'domain': (0.0, 50.0), 'name': 'Popularity_weight', 'type': 'continuous'},\n",
       " {'domain': (0.0, 50.0), 'name': 'GenreFeatures_weight', 'type': 'continuous'}]"
      ]
     },
     "execution_count": 5,
     "metadata": {},
     "output_type": "execute_result"
    }
   ],
   "source": [
    "domains=[]\n",
    "strats = ['mean','split']\n",
    "strat_dom = tuple(list([i for i,x in enumerate(strats)]))\n",
    "for f in feats:\n",
    "    f_name = f.__class__.__name__\n",
    "    domains.append({'name':'{}_weight'.format(f_name), 'type': 'continuous', 'domain': (0.,50.0)})\n",
    "    #domains.append({'name':'{}_strat'.format(f_name), 'type': 'categorical', 'domain': strat_dom,'dimensionality': 1})\n",
    "domains"
   ]
  },
  {
   "cell_type": "code",
   "execution_count": 6,
   "metadata": {
    "ExecuteTime": {
     "end_time": "2018-05-04T22:08:43.345891Z",
     "start_time": "2018-05-04T22:08:43.323078Z"
    },
    "collapsed": true
   },
   "outputs": [],
   "source": [
    "np.random.seed(42) \n",
    "\n",
    "verbose=True\n",
    "iter_n=0\n",
    "def rprecision_eval(x):\n",
    "    global iter_n\n",
    "    k=10\n",
    "    n_picks=10000\n",
    "    subset=500\n",
    "    strat='mean'\n",
    "    weights = [x[0][indx] for indx,i in enumerate(x[0])]\n",
    "    stats=[]\n",
    "    n_pids =100\n",
    "    pids = [i for i in np.random.randint(0,5000,n_pids)]\n",
    "    for pid in pids:\n",
    "        turi_seed,auri_seed, turi_true,auri_true, turi_pool,auri_pool = tracks.get_playlist_pooltest(pid=pid,k=k,n=n_picks)\n",
    "        if len(turi_true) > 0:\n",
    "            # get scaled distance\n",
    "            dist = np.zeros(len(turi_pool))\n",
    "            for f,w in zip(feats,weights):\n",
    "                dist= dist + w*f.distance_between_sets(turi_seed,turi_pool,strat)\n",
    "            # rank based on distance\n",
    "            sorted_indx=np.argsort(dist)\n",
    "            turi_ranked = [turi_pool[i] for i in sorted_indx][:subset]\n",
    "            auri_ranked = [auri_pool[i] for i in sorted_indx][:subset]\n",
    "            # get starts\n",
    "            stats.append(ranking_stats(pid,k,strat,n_picks,turi_true,turi_ranked,auri_true,auri_ranked))\n",
    "    stats_df = pd.DataFrame(stats)\n",
    "    # we wish to minize\n",
    "    objective  = 1.0-np.mean(stats_df['rprecision_tracks'].values)\n",
    "    #\n",
    "    if verbose:\n",
    "        print('{}: r-precision of {:.3f}'.format(iter_n,1-objective))\n",
    "        print('\\t {}'.format(str(['{:2.3f}'.format(w) for w in  weights])))\n",
    "        iter_n+=1\n",
    "    \n",
    "    return objective\n"
   ]
  },
  {
   "cell_type": "code",
   "execution_count": 14,
   "metadata": {
    "ExecuteTime": {
     "end_time": "2018-05-04T21:52:45.994476Z",
     "start_time": "2018-05-04T21:52:27.770849Z"
    }
   },
   "outputs": [
    {
     "name": "stdout",
     "output_type": "stream",
     "text": [
      "20: r-precision of 0.177\n",
      "\t ['33.859', '14.679', '13.979', '36.807', '9.431', '10.898']\n",
      "21: r-precision of 0.175\n",
      "\t ['24.705', '1.409', '41.181', '44.123', '46.776', '37.050']\n",
      "22: r-precision of 0.218\n",
      "\t ['8.160', '34.180', '32.796', '21.285', '49.791', '3.614']\n"
     ]
    }
   ],
   "source": [
    "bopt = GPyOpt.methods.BayesianOptimization(f=rprecision_eval,                     # Objective function       \n",
    "                                             domain=domains,          # Box-constraints of the problem\n",
    "                                             initial_design_numdata = 3,   # Number data initial design\n",
    "                                             acquisition_type='EI',        # Expected Improvement\n",
    "                                             exact_feval = True,\n",
    "                                             num_cores=3)           # True evaluations, no sample noise"
   ]
  },
  {
   "cell_type": "code",
   "execution_count": 15,
   "metadata": {
    "ExecuteTime": {
     "end_time": "2018-05-04T22:00:40.780987Z",
     "start_time": "2018-05-04T21:52:52.133974Z"
    }
   },
   "outputs": [
    {
     "name": "stdout",
     "output_type": "stream",
     "text": [
      "23: r-precision of 0.231\n",
      "\t ['5.480', '29.404', '19.532', '22.528', '42.405', '3.992']\n",
      "24: r-precision of 0.217\n",
      "\t ['3.055', '29.828', '28.980', '15.463', '48.890', '8.138']\n",
      "25: r-precision of 0.217\n",
      "\t ['4.643', '23.586', '26.024', '13.277', '48.526', '9.372']\n",
      "26: r-precision of 0.212\n",
      "\t ['0.000', '36.862', '3.442', '25.390', '45.728', '0.000']\n",
      "27: r-precision of 0.236\n",
      "\t ['0.000', '28.556', '23.444', '23.946', '32.513', '0.000']\n"
     ]
    }
   ],
   "source": [
    "max_iter=5\n",
    "bopt.run_optimization(max_iter,eps=0)"
   ]
  },
  {
   "cell_type": "code",
   "execution_count": 74,
   "metadata": {
    "ExecuteTime": {
     "end_time": "2018-05-04T22:00:43.384776Z",
     "start_time": "2018-05-04T22:00:42.992722Z"
    }
   },
   "outputs": [
    {
     "name": "stdout",
     "output_type": "stream",
     "text": [
      "----RESULT----\n",
      "[ 0.         28.55568619 23.44387883 23.94591094 32.51272862  0.        ]\n",
      "-----\n",
      "[0.23559144]\n",
      "[0.76440856]\n",
      "<class 'numpy.ndarray'>\n",
      "<class 'numpy.ndarray'>\n"
     ]
    }
   ],
   "source": [
    "# bopt.plot_convergence()\n",
    "print ('----RESULT----')\n",
    "print (bopt.x_opt)\n",
    "print (\"-----\")\n",
    "print (1-bopt.fx_opt)\n",
    "print (bopt.fx_opt)\n",
    "\n",
    "print (type(bopt.x_opt))\n",
    "print (type(bopt.fx_opt))\n",
    "\n",
    "k=10"
   ]
  },
  {
   "cell_type": "code",
   "execution_count": 84,
   "metadata": {},
   "outputs": [
    {
     "data": {
      "text/html": [
       "<div>\n",
       "<style>\n",
       "    .dataframe thead tr:only-child th {\n",
       "        text-align: right;\n",
       "    }\n",
       "\n",
       "    .dataframe thead th {\n",
       "        text-align: left;\n",
       "    }\n",
       "\n",
       "    .dataframe tbody tr th {\n",
       "        vertical-align: top;\n",
       "    }\n",
       "</style>\n",
       "<table border=\"1\" class=\"dataframe\">\n",
       "  <thead>\n",
       "    <tr style=\"text-align: right;\">\n",
       "      <th></th>\n",
       "      <th>rprecision_tracks</th>\n",
       "      <th>rprecision_artist</th>\n",
       "      <th>NDCG_tracks</th>\n",
       "      <th>NDCG_artist</th>\n",
       "    </tr>\n",
       "    <tr>\n",
       "      <th>k</th>\n",
       "      <th></th>\n",
       "      <th></th>\n",
       "      <th></th>\n",
       "      <th></th>\n",
       "    </tr>\n",
       "  </thead>\n",
       "  <tbody>\n",
       "    <tr>\n",
       "      <th>10</th>\n",
       "      <td>0.26</td>\n",
       "      <td>0.16</td>\n",
       "      <td>0.13</td>\n",
       "      <td>0.41</td>\n",
       "    </tr>\n",
       "  </tbody>\n",
       "</table>\n",
       "</div>"
      ],
      "text/plain": [
       "    rprecision_tracks  rprecision_artist  NDCG_tracks  NDCG_artist\n",
       "k                                                                 \n",
       "10               0.26               0.16         0.13         0.41"
      ]
     },
     "execution_count": 84,
     "metadata": {},
     "output_type": "execute_result"
    }
   ],
   "source": [
    "x = bopt.x_opt\n",
    "k=10\n",
    "n_picks=10000\n",
    "subset=5000\n",
    "strat='mean'\n",
    "weights = [x[indx] for indx,i in enumerate(x)]\n",
    "stats=[]\n",
    "n_pids =100\n",
    "pids = [i for i in np.random.randint(0,5000,n_pids)]\n",
    "for pid in pids:\n",
    "    turi_seed,auri_seed, turi_true,auri_true, turi_pool,auri_pool = tracks.get_playlist_pooltest(pid=pid,k=k,n=n_picks)\n",
    "    if len(turi_true) > 0:\n",
    "        # get scaled distance\n",
    "        dist = np.zeros(len(turi_pool))\n",
    "        for f,w in zip(feats,weights):\n",
    "            dist= dist + w*f.distance_between_sets(turi_seed,turi_pool,strat)\n",
    "        # rank based on distance\n",
    "        sorted_indx=np.argsort(dist)\n",
    "        turi_ranked = [turi_pool[i] for i in sorted_indx][:subset]\n",
    "        auri_ranked = [auri_pool[i] for i in sorted_indx][:subset]\n",
    "        # get starts\n",
    "        stats.append(ranking_stats(pid,k,strat,n_picks,turi_true,turi_ranked,auri_true,auri_ranked))\n",
    "stats_df_1 = pd.DataFrame(stats)\n",
    "stats_df_1\n",
    "stats_df_1 = stats_df_1.groupby('k').agg({'rprecision_tracks':'mean', 'rprecision_artist':'mean', 'NDCG_tracks':'mean', 'NDCG_artist':'mean'})\n",
    "stats_df_1\n"
   ]
  },
  {
   "cell_type": "code",
   "execution_count": 85,
   "metadata": {},
   "outputs": [
    {
     "data": {
      "text/html": [
       "<div>\n",
       "<style>\n",
       "    .dataframe thead tr:only-child th {\n",
       "        text-align: right;\n",
       "    }\n",
       "\n",
       "    .dataframe thead th {\n",
       "        text-align: left;\n",
       "    }\n",
       "\n",
       "    .dataframe tbody tr th {\n",
       "        vertical-align: top;\n",
       "    }\n",
       "</style>\n",
       "<table border=\"1\" class=\"dataframe\">\n",
       "  <thead>\n",
       "    <tr style=\"text-align: right;\">\n",
       "      <th></th>\n",
       "      <th>rprecision_tracks</th>\n",
       "      <th>rprecision_artist</th>\n",
       "      <th>NDCG_tracks</th>\n",
       "      <th>NDCG_artist</th>\n",
       "    </tr>\n",
       "    <tr>\n",
       "      <th>k</th>\n",
       "      <th></th>\n",
       "      <th></th>\n",
       "      <th></th>\n",
       "      <th></th>\n",
       "    </tr>\n",
       "  </thead>\n",
       "  <tbody>\n",
       "    <tr>\n",
       "      <th>25</th>\n",
       "      <td>0.19</td>\n",
       "      <td>0.16</td>\n",
       "      <td>0.13</td>\n",
       "      <td>0.36</td>\n",
       "    </tr>\n",
       "  </tbody>\n",
       "</table>\n",
       "</div>"
      ],
      "text/plain": [
       "    rprecision_tracks  rprecision_artist  NDCG_tracks  NDCG_artist\n",
       "k                                                                 \n",
       "25               0.19               0.16         0.13         0.36"
      ]
     },
     "execution_count": 85,
     "metadata": {},
     "output_type": "execute_result"
    }
   ],
   "source": [
    "x = np.array([18.72700594, 29.93292421,  2.90418061, 35.40362889, 41.62213204,  9.17022549])\n",
    "k=25\n",
    "n_picks=10000\n",
    "subset=5000\n",
    "strat='mean'\n",
    "weights = [x[indx] for indx,i in enumerate(x)]\n",
    "stats=[]\n",
    "n_pids =100\n",
    "pids = [i for i in np.random.randint(0,5000,n_pids)]\n",
    "for pid in pids:\n",
    "    turi_seed,auri_seed, turi_true,auri_true, turi_pool,auri_pool = tracks.get_playlist_pooltest(pid=pid,k=k,n=n_picks)\n",
    "    if len(turi_true) > 0:\n",
    "        # get scaled distance\n",
    "        dist = np.zeros(len(turi_pool))\n",
    "        for f,w in zip(feats,weights):\n",
    "            dist= dist + w*f.distance_between_sets(turi_seed,turi_pool,strat)\n",
    "        # rank based on distance\n",
    "        sorted_indx=np.argsort(dist)\n",
    "        turi_ranked = [turi_pool[i] for i in sorted_indx][:subset]\n",
    "        auri_ranked = [auri_pool[i] for i in sorted_indx][:subset]\n",
    "        # get starts\n",
    "        stats.append(ranking_stats(pid,k,strat,n_picks,turi_true,turi_ranked,auri_true,auri_ranked))\n",
    "stats_df_2 = pd.DataFrame(stats)\n",
    "stats_df_2\n",
    "stats_df_2 = stats_df_2.groupby('k').agg({'rprecision_tracks':'mean', 'rprecision_artist':'mean', 'NDCG_tracks':'mean', 'NDCG_artist':'mean'})\n",
    "stats_df_2"
   ]
  },
  {
   "cell_type": "code",
   "execution_count": 86,
   "metadata": {},
   "outputs": [
    {
     "data": {
      "text/html": [
       "<div>\n",
       "<style>\n",
       "    .dataframe thead tr:only-child th {\n",
       "        text-align: right;\n",
       "    }\n",
       "\n",
       "    .dataframe thead th {\n",
       "        text-align: left;\n",
       "    }\n",
       "\n",
       "    .dataframe tbody tr th {\n",
       "        vertical-align: top;\n",
       "    }\n",
       "</style>\n",
       "<table border=\"1\" class=\"dataframe\">\n",
       "  <thead>\n",
       "    <tr style=\"text-align: right;\">\n",
       "      <th></th>\n",
       "      <th>rprecision_tracks</th>\n",
       "      <th>rprecision_artist</th>\n",
       "      <th>NDCG_tracks</th>\n",
       "      <th>NDCG_artist</th>\n",
       "    </tr>\n",
       "    <tr>\n",
       "      <th>k</th>\n",
       "      <th></th>\n",
       "      <th></th>\n",
       "      <th></th>\n",
       "      <th></th>\n",
       "    </tr>\n",
       "  </thead>\n",
       "  <tbody>\n",
       "    <tr>\n",
       "      <th>50</th>\n",
       "      <td>0.15</td>\n",
       "      <td>0.14</td>\n",
       "      <td>0.15</td>\n",
       "      <td>0.36</td>\n",
       "    </tr>\n",
       "  </tbody>\n",
       "</table>\n",
       "</div>"
      ],
      "text/plain": [
       "    rprecision_tracks  rprecision_artist  NDCG_tracks  NDCG_artist\n",
       "k                                                                 \n",
       "50               0.15               0.14         0.15         0.36"
      ]
     },
     "execution_count": 86,
     "metadata": {},
     "output_type": "execute_result"
    }
   ],
   "source": [
    "x = np.array([39.90757788, 30.64030492,  0.73985602, 18.78637721, 46.2519237,  2.30703138])\n",
    "k=50\n",
    "n_picks=10000\n",
    "subset=5000\n",
    "strat='mean'\n",
    "weights = [x[indx] for indx,i in enumerate(x)]\n",
    "stats=[]\n",
    "n_pids =100\n",
    "pids = [i for i in np.random.randint(0,5000,n_pids)]\n",
    "for pid in pids:\n",
    "    turi_seed,auri_seed, turi_true,auri_true, turi_pool,auri_pool = tracks.get_playlist_pooltest(pid=pid,k=k,n=n_picks)\n",
    "    if len(turi_true) > 0:\n",
    "        # get scaled distance\n",
    "        dist = np.zeros(len(turi_pool))\n",
    "        for f,w in zip(feats,weights):\n",
    "            dist= dist + w*f.distance_between_sets(turi_seed,turi_pool,strat)\n",
    "        # rank based on distance\n",
    "        sorted_indx=np.argsort(dist)\n",
    "        turi_ranked = [turi_pool[i] for i in sorted_indx][:subset]\n",
    "        auri_ranked = [auri_pool[i] for i in sorted_indx][:subset]\n",
    "        # get starts\n",
    "        stats.append(ranking_stats(pid,k,strat,n_picks,turi_true,turi_ranked,auri_true,auri_ranked))\n",
    "stats_df_3 = pd.DataFrame(stats)\n",
    "stats_df_3\n",
    "stats_df_3 = stats_df_3.groupby('k').agg({'rprecision_tracks':'mean', 'rprecision_artist':'mean', 'NDCG_tracks':'mean', 'NDCG_artist':'mean'})\n",
    "stats_df_3"
   ]
  },
  {
   "cell_type": "code",
   "execution_count": 87,
   "metadata": {},
   "outputs": [
    {
     "data": {
      "text/html": [
       "<div>\n",
       "<style>\n",
       "    .dataframe thead tr:only-child th {\n",
       "        text-align: right;\n",
       "    }\n",
       "\n",
       "    .dataframe thead th {\n",
       "        text-align: left;\n",
       "    }\n",
       "\n",
       "    .dataframe tbody tr th {\n",
       "        vertical-align: top;\n",
       "    }\n",
       "</style>\n",
       "<table border=\"1\" class=\"dataframe\">\n",
       "  <thead>\n",
       "    <tr style=\"text-align: right;\">\n",
       "      <th></th>\n",
       "      <th>rprecision_tracks</th>\n",
       "      <th>rprecision_artist</th>\n",
       "      <th>NDCG_tracks</th>\n",
       "      <th>NDCG_artist</th>\n",
       "    </tr>\n",
       "    <tr>\n",
       "      <th>k</th>\n",
       "      <th></th>\n",
       "      <th></th>\n",
       "      <th></th>\n",
       "      <th></th>\n",
       "    </tr>\n",
       "  </thead>\n",
       "  <tbody>\n",
       "    <tr>\n",
       "      <th>100</th>\n",
       "      <td>0.11</td>\n",
       "      <td>0.12</td>\n",
       "      <td>0.17</td>\n",
       "      <td>0.43</td>\n",
       "    </tr>\n",
       "  </tbody>\n",
       "</table>\n",
       "</div>"
      ],
      "text/plain": [
       "     rprecision_tracks  rprecision_artist  NDCG_tracks  NDCG_artist\n",
       "k                                                                  \n",
       "100               0.11               0.12         0.17         0.43"
      ]
     },
     "execution_count": 87,
     "metadata": {},
     "output_type": "execute_result"
    }
   ],
   "source": [
    "x = np.array([35.94795765, 25.70359594, 34.56771241,  1.9677634,  37.11594437, 43.87648044])\n",
    "k=100\n",
    "n_picks=10000\n",
    "subset=5000\n",
    "strat='mean'\n",
    "weights = [x[indx] for indx,i in enumerate(x)]\n",
    "stats=[]\n",
    "n_pids =100\n",
    "pids = [i for i in np.random.randint(0,5000,n_pids)]\n",
    "for pid in pids:\n",
    "    turi_seed,auri_seed, turi_true,auri_true, turi_pool,auri_pool = tracks.get_playlist_pooltest(pid=pid,k=k,n=n_picks)\n",
    "    if len(turi_true) > 0:\n",
    "        # get scaled distance\n",
    "        dist = np.zeros(len(turi_pool))\n",
    "        for f,w in zip(feats,weights):\n",
    "            dist= dist + w*f.distance_between_sets(turi_seed,turi_pool,strat)\n",
    "        # rank based on distance\n",
    "        sorted_indx=np.argsort(dist)\n",
    "        turi_ranked = [turi_pool[i] for i in sorted_indx][:subset]\n",
    "        auri_ranked = [auri_pool[i] for i in sorted_indx][:subset]\n",
    "        # get starts\n",
    "        stats.append(ranking_stats(pid,k,strat,n_picks,turi_true,turi_ranked,auri_true,auri_ranked))\n",
    "stats_df_4 = pd.DataFrame(stats)\n",
    "stats_df_4\n",
    "stats_df_4 = stats_df_4.groupby('k').agg({'rprecision_tracks':'mean', 'rprecision_artist':'mean', 'NDCG_tracks':'mean', 'NDCG_artist':'mean'})\n",
    "stats_df_4\n"
   ]
  },
  {
   "cell_type": "code",
   "execution_count": 88,
   "metadata": {},
   "outputs": [
    {
     "data": {
      "text/html": [
       "<div>\n",
       "<style>\n",
       "    .dataframe thead tr:only-child th {\n",
       "        text-align: right;\n",
       "    }\n",
       "\n",
       "    .dataframe thead th {\n",
       "        text-align: left;\n",
       "    }\n",
       "\n",
       "    .dataframe tbody tr th {\n",
       "        vertical-align: top;\n",
       "    }\n",
       "</style>\n",
       "<table border=\"1\" class=\"dataframe\">\n",
       "  <thead>\n",
       "    <tr style=\"text-align: right;\">\n",
       "      <th></th>\n",
       "      <th>rprecision_tracks</th>\n",
       "      <th>rprecision_artist</th>\n",
       "      <th>NDCG_tracks</th>\n",
       "      <th>NDCG_artist</th>\n",
       "    </tr>\n",
       "    <tr>\n",
       "      <th>k</th>\n",
       "      <th></th>\n",
       "      <th></th>\n",
       "      <th></th>\n",
       "      <th></th>\n",
       "    </tr>\n",
       "  </thead>\n",
       "  <tbody>\n",
       "    <tr>\n",
       "      <th>10</th>\n",
       "      <td>0.26</td>\n",
       "      <td>0.16</td>\n",
       "      <td>0.13</td>\n",
       "      <td>0.41</td>\n",
       "    </tr>\n",
       "    <tr>\n",
       "      <th>25</th>\n",
       "      <td>0.19</td>\n",
       "      <td>0.16</td>\n",
       "      <td>0.13</td>\n",
       "      <td>0.36</td>\n",
       "    </tr>\n",
       "    <tr>\n",
       "      <th>50</th>\n",
       "      <td>0.15</td>\n",
       "      <td>0.14</td>\n",
       "      <td>0.15</td>\n",
       "      <td>0.36</td>\n",
       "    </tr>\n",
       "    <tr>\n",
       "      <th>100</th>\n",
       "      <td>0.11</td>\n",
       "      <td>0.12</td>\n",
       "      <td>0.17</td>\n",
       "      <td>0.43</td>\n",
       "    </tr>\n",
       "  </tbody>\n",
       "</table>\n",
       "</div>"
      ],
      "text/plain": [
       "     rprecision_tracks  rprecision_artist  NDCG_tracks  NDCG_artist\n",
       "k                                                                  \n",
       "10                0.26               0.16         0.13         0.41\n",
       "25                0.19               0.16         0.13         0.36\n",
       "50                0.15               0.14         0.15         0.36\n",
       "100               0.11               0.12         0.17         0.43"
      ]
     },
     "execution_count": 88,
     "metadata": {},
     "output_type": "execute_result"
    }
   ],
   "source": [
    "final = pd.concat([stats_df_1, stats_df_2,stats_df_3, stats_df_4])\n",
    "df = final\n",
    "\n",
    "\n",
    "df\n"
   ]
  },
  {
   "cell_type": "code",
   "execution_count": 72,
   "metadata": {},
   "outputs": [
    {
     "data": {
      "image/png": "[encoded data removed]",
      "text/plain": [
       "<matplotlib.figure.Figure at 0x1b91b710f0>"
      ]
     },
     "metadata": {
      "image/png": {
       "height": 674,
       "width": 1219
      }
     },
     "output_type": "display_data"
    }
   ],
   "source": [
    "# average weight\n",
    "\n",
    "a = np.array([ 0,         28.55568619, 23.44387883, 23.94591094, 32.51272862,  0        ])\n",
    "b = np.array([18.72700594, 29.93292421,  2.90418061, 35.40362889, 41.62213204,  9.17022549])\n",
    "c = np.array([39.90757788, 30.64030492,  0.73985602, 18.78637721, 46.2519237,  2.30703138])\n",
    "d = np.array([35.94795765, 25.70359594, 34.56771241,  1.9677634,  37.11594437, 43.87648044])\n",
    "\n",
    "x = ['3_track', '2_artist', '5_album', '4_audio', '1_popularity', '6_genre']\n",
    "final = [a,b,c,d]\n",
    "np.array(final).shape\n",
    "\n",
    "out = np.mean(np.array(final), axis=0)\n",
    "\n",
    "\n",
    "fig, ax = plt.subplots(figsize=(20, 10))\n",
    "plt.bar(x, out)\n",
    "plt.title('Weight Bar Chart (Bayesian Optimized)', fontsize=40)\n",
    "plt.ylabel('Weight', fontsize=40)\n",
    "plt.xlabel('Feature Type', fontsize=40)\n",
    "plt.xticks(fontsize=30)\n",
    "plt.yticks(fontsize=30)\n",
    "fig.savefig('test2png.png', dpi=300)\n"
   ]
  }
 ],
 "metadata": {
  "kernelspec": {
   "display_name": "Python 3",
   "language": "python",
   "name": "python3"
  },
  "language_info": {
   "codemirror_mode": {
    "name": "ipython",
    "version": 3
   },
   "file_extension": ".py",
   "mimetype": "text/x-python",
   "name": "python",
   "nbconvert_exporter": "python",
   "pygments_lexer": "ipython3",
   "version": "3.6.3"
  },
  "toc": {
   "base_numbering": 1,
   "nav_menu": {},
   "number_sections": true,
   "sideBar": true,
   "skip_h1_title": false,
   "title_cell": "Table of Contents",
   "title_sidebar": "Contents",
   "toc_cell": false,
   "toc_position": {
    "height": "calc(100% - 180px)",
    "left": "10px",
    "top": "150px",
    "width": "337px"
   },
   "toc_section_display": true,
   "toc_window_display": true
  }
 },
 "nbformat": 4,
 "nbformat_minor": 2
}
