{
 "cells": [
  {
   "cell_type": "code",
   "execution_count": 2,
   "metadata": {
    "ExecuteTime": {
     "end_time": "2018-05-04T22:06:56.329009Z",
     "start_time": "2018-05-04T22:06:55.832768Z"
    }
   },
   "outputs": [
    {
     "name": "stdout",
     "output_type": "stream",
     "text": [
      "The autoreload extension is already loaded. To reload it, use:\n",
      "  %reload_ext autoreload\n",
      "finished\n"
     ]
    }
   ],
   "source": [
    "import sys\n",
    "sys.path.append('../src')\n",
    "sys.path.append('../src/data/')\n",
    "sys.path.append('../src/models/')\n",
    "sys.path.append('../src/features/')\n",
    "sys.path.append('../src/visualization/')\n",
    "# will reload any library\n",
    "%load_ext autoreload\n",
    "%autoreload 2\n",
    "%config InlineBackend.figure_format = 'retina'\n",
    "%matplotlib inline\n",
    "\n",
    "print (\"finished\")"
   ]
  },
  {
   "cell_type": "code",
   "execution_count": 3,
   "metadata": {
    "ExecuteTime": {
     "end_time": "2018-05-04T22:06:57.651195Z",
     "start_time": "2018-05-04T22:06:56.331062Z"
    }
   },
   "outputs": [
    {
     "name": "stdout",
     "output_type": "stream",
     "text": [
      "FINISHED\n"
     ]
    }
   ],
   "source": [
    "# sportify specific\n",
    "#from data.metrics import r_precision, cosine_sim_closest, cosine_sim_top, NDCG\n",
    "from visualization.plot_utils import write_latex_table, summary_pooling_table,\\\n",
    "pooling_plots, pandas_settings, plot_settings,  save_result\n",
    "# general\n",
    "import pandas as pd\n",
    "import numpy as np\n",
    "from tqdm import tqdm\n",
    "from features import AudioFeatures, TrackInfo, Popularity, GenreFeatures, Word2vecFeature\n",
    "from collections import OrderedDict\n",
    "import matplotlib.pyplot as plt\n",
    "import seaborn as sns\n",
    "# for bayesopt\n",
    "import GPy\n",
    "import GPyOpt\n",
    "plot_settings()\n",
    "pandas_settings()\n",
    "\n",
    "def ranked_plots(pool,true,ranked,dist,f_name,r_type):\n",
    "    sns.distplot([d for d,t in zip(dist,pool) if t in true],label='In playlist')\n",
    "    sns.distplot([d for d,t in zip(dist,pool) if t not in true],label='Not in playlist')\n",
    "    plt.ylabel('Normalized frequency')\n",
    "    plt.xlabel('Distance')\n",
    "    plt.title('{} with {}'.format(f_name,r_type))\n",
    "    plt.legend()\n",
    "    plt.show()\n",
    "    true_rank = [i for i,t in enumerate(true)]\n",
    "    estimated_rank = [i for i,t in enumerate(ranked) if t in true]\n",
    "    \n",
    "    plt.scatter(true_rank,estimated_rank)\n",
    "    plt.plot([0, len(true)],[0, len(true)],'--',c='k',label='ideal')\n",
    "    plt.xlabel('Real ranking')\n",
    "    plt.ylabel('Estimated ranking')\n",
    "    plt.title('{} with {}'.format(f_name,r_type))\n",
    "    plt.show()\n",
    "print (\"FINISHED\")"
   ]
  },
  {
   "cell_type": "markdown",
   "metadata": {},
   "source": [
    "# Load track data and features"
   ]
  },
  {
   "cell_type": "code",
   "execution_count": 4,
   "metadata": {
    "ExecuteTime": {
     "end_time": "2018-05-04T22:08:21.350667Z",
     "start_time": "2018-05-04T22:06:57.653082Z"
    }
   },
   "outputs": [
    {
     "name": "stdout",
     "output_type": "stream",
     "text": [
      "loaded\n"
     ]
    }
   ],
   "source": [
    "tracks = TrackInfo(subset='5k-')\n",
    "print(\"loaded\")"
   ]
  },
  {
   "cell_type": "code",
   "execution_count": 5,
   "metadata": {},
   "outputs": [
    {
     "name": "stdout",
     "output_type": "stream",
     "text": [
      "../data/w2v/track_w2v_model_1min_100dim IS LOADING\n",
      "LOADED W2V\n",
      "../data/w2v/artist_w2v_model_1min_100dim IS LOADING\n",
      "LOADED W2V\n",
      "../data/w2v/album_w2v_model_1min_100dim IS LOADING\n",
      "LOADED W2V\n",
      "LOADING AUDIO FEATURE...\n",
      "FINISHED LOADING AUDIO FEATURE...\n",
      "../data/interim/track_uri2popularity.pkl.bz2 IS LOADING...\n",
      "LOADED POPULARITY\n",
      "LOADING GENRE..\n",
      "LOADING FASTTEXT...\n"
     ]
    },
    {
     "ename": "KeyboardInterrupt",
     "evalue": "",
     "output_type": "error",
     "traceback": [
      "\u001b[0;31m---------------------------------------------------------------------------\u001b[0m",
      "\u001b[0;31mKeyboardInterrupt\u001b[0m                         Traceback (most recent call last)",
      "\u001b[0;32m<ipython-input-5-860b6ad4886e>\u001b[0m in \u001b[0;36m<module>\u001b[0;34m()\u001b[0m\n\u001b[1;32m      4\u001b[0m         \u001b[0mAudioFeatures\u001b[0m\u001b[0;34m(\u001b[0m\u001b[0;34m)\u001b[0m\u001b[0;34m,\u001b[0m\u001b[0;34m\u001b[0m\u001b[0m\n\u001b[1;32m      5\u001b[0m         \u001b[0mPopularity\u001b[0m\u001b[0;34m(\u001b[0m\u001b[0;34m)\u001b[0m\u001b[0;34m,\u001b[0m\u001b[0;34m\u001b[0m\u001b[0m\n\u001b[0;32m----> 6\u001b[0;31m         GenreFeatures()]\n\u001b[0m\u001b[1;32m      7\u001b[0m \u001b[0;34m\u001b[0m\u001b[0m\n\u001b[1;32m      8\u001b[0m \u001b[0;31m# feats = [GenreFeatures()]\u001b[0m\u001b[0;34m\u001b[0m\u001b[0;34m\u001b[0m\u001b[0m\n",
      "\u001b[0;32m~/Desktop/Spotify/src/features/genre_features.py\u001b[0m in \u001b[0;36m__init__\u001b[0;34m(self, subset, fasttext_path, logging)\u001b[0m\n\u001b[1;32m     44\u001b[0m                         \u001b[0mprint\u001b[0m \u001b[0;34m(\u001b[0m\u001b[0;34m\"LOADING FASTTEXT...\"\u001b[0m\u001b[0;34m)\u001b[0m\u001b[0;34m\u001b[0m\u001b[0m\n\u001b[1;32m     45\u001b[0m \u001b[0;34m\u001b[0m\u001b[0m\n\u001b[0;32m---> 46\u001b[0;31m                 \u001b[0mself\u001b[0m\u001b[0;34m.\u001b[0m\u001b[0mmodel\u001b[0m \u001b[0;34m=\u001b[0m \u001b[0mfastText\u001b[0m\u001b[0;34m.\u001b[0m\u001b[0mload_model\u001b[0m\u001b[0;34m(\u001b[0m\u001b[0mFASTTEXT_PATH\u001b[0m\u001b[0;34m)\u001b[0m\u001b[0;34m\u001b[0m\u001b[0m\n\u001b[0m\u001b[1;32m     47\u001b[0m \u001b[0;34m\u001b[0m\u001b[0m\n\u001b[1;32m     48\u001b[0m                 \u001b[0;32mif\u001b[0m \u001b[0mlogging\u001b[0m\u001b[0;34m:\u001b[0m\u001b[0;34m\u001b[0m\u001b[0m\n",
      "\u001b[0;32m/anaconda3/lib/python3.6/site-packages/fastText/FastText.py\u001b[0m in \u001b[0;36mload_model\u001b[0;34m(path)\u001b[0m\n\u001b[1;32m    302\u001b[0m \u001b[0;32mdef\u001b[0m \u001b[0mload_model\u001b[0m\u001b[0;34m(\u001b[0m\u001b[0mpath\u001b[0m\u001b[0;34m)\u001b[0m\u001b[0;34m:\u001b[0m\u001b[0;34m\u001b[0m\u001b[0m\n\u001b[1;32m    303\u001b[0m     \u001b[0;34m\"\"\"Load a model given a filepath and return a model object.\"\"\"\u001b[0m\u001b[0;34m\u001b[0m\u001b[0m\n\u001b[0;32m--> 304\u001b[0;31m     \u001b[0;32mreturn\u001b[0m \u001b[0m_FastText\u001b[0m\u001b[0;34m(\u001b[0m\u001b[0mpath\u001b[0m\u001b[0;34m)\u001b[0m\u001b[0;34m\u001b[0m\u001b[0m\n\u001b[0m\u001b[1;32m    305\u001b[0m \u001b[0;34m\u001b[0m\u001b[0m\n\u001b[1;32m    306\u001b[0m \u001b[0;34m\u001b[0m\u001b[0m\n",
      "\u001b[0;32m/anaconda3/lib/python3.6/site-packages/fastText/FastText.py\u001b[0m in \u001b[0;36m__init__\u001b[0;34m(self, model)\u001b[0m\n\u001b[1;32m     35\u001b[0m         \u001b[0mself\u001b[0m\u001b[0;34m.\u001b[0m\u001b[0mf\u001b[0m \u001b[0;34m=\u001b[0m \u001b[0mfasttext\u001b[0m\u001b[0;34m.\u001b[0m\u001b[0mfasttext\u001b[0m\u001b[0;34m(\u001b[0m\u001b[0;34m)\u001b[0m\u001b[0;34m\u001b[0m\u001b[0m\n\u001b[1;32m     36\u001b[0m         \u001b[0;32mif\u001b[0m \u001b[0mmodel\u001b[0m \u001b[0;32mis\u001b[0m \u001b[0;32mnot\u001b[0m \u001b[0;32mNone\u001b[0m\u001b[0;34m:\u001b[0m\u001b[0;34m\u001b[0m\u001b[0m\n\u001b[0;32m---> 37\u001b[0;31m             \u001b[0mself\u001b[0m\u001b[0;34m.\u001b[0m\u001b[0mf\u001b[0m\u001b[0;34m.\u001b[0m\u001b[0mloadModel\u001b[0m\u001b[0;34m(\u001b[0m\u001b[0mmodel\u001b[0m\u001b[0;34m)\u001b[0m\u001b[0;34m\u001b[0m\u001b[0m\n\u001b[0m\u001b[1;32m     38\u001b[0m \u001b[0;34m\u001b[0m\u001b[0m\n\u001b[1;32m     39\u001b[0m     \u001b[0;32mdef\u001b[0m \u001b[0mis_quantized\u001b[0m\u001b[0;34m(\u001b[0m\u001b[0mself\u001b[0m\u001b[0;34m)\u001b[0m\u001b[0;34m:\u001b[0m\u001b[0;34m\u001b[0m\u001b[0m\n",
      "\u001b[0;31mKeyboardInterrupt\u001b[0m: "
     ]
    }
   ],
   "source": [
    "feats = [Word2vecFeature(w2v_type='track', logging=True),\n",
    "        Word2vecFeature(w2v_type='artist', logging=True),\n",
    "        Word2vecFeature(w2v_type='album', logging=True),\n",
    "        AudioFeatures(),\n",
    "        Popularity(),\n",
    "        GenreFeatures()]\n",
    "\n",
    "# feats = [GenreFeatures()]"
   ]
  },
  {
   "cell_type": "code",
   "execution_count": null,
   "metadata": {
    "ExecuteTime": {
     "end_time": "2018-05-04T22:08:21.485699Z",
     "start_time": "2018-05-04T22:08:21.356186Z"
    }
   },
   "outputs": [],
   "source": [
    "from data.metrics import r_precision, NDCG\n",
    "\n",
    "def ranking_stats(pid,k,strat,n_pick,true_t,pool_t,true_a,pool_a):\n",
    "    rp_t = r_precision(true_t,pool_t)\n",
    "    ndgc_t = NDCG(true_t,pool_t)\n",
    "    rp_a = r_precision(true_a,pool_a)\n",
    "    ndgc_a = NDCG(true_a,pool_a)\n",
    "    return OrderedDict([('pid',pid),('k',k),('strat',strat),('n',n_pick),\n",
    "                        ('rprecision_tracks',rp_t),('rprecision_artist',rp_a),\n",
    "                        ('NDCG_tracks',ndgc_t),('NDCG_artist',ndgc_a)])\n",
    "\n",
    "print (\"FINISHED\")"
   ]
  },
  {
   "cell_type": "markdown",
   "metadata": {},
   "source": [
    "# Test one playlist vs 1 feature"
   ]
  },
  {
   "cell_type": "code",
   "execution_count": null,
   "metadata": {
    "ExecuteTime": {
     "end_time": "2018-05-04T22:08:22.365225Z",
     "start_time": "2018-05-04T22:08:21.487617Z"
    },
    "scrolled": true
   },
   "outputs": [],
   "source": [
    "# select a feature\n",
    "f = feats[0]\n",
    "k=25\n",
    "n_picks=5000\n",
    "pid=194\n",
    "strat='mean'\n",
    "# rankign based on distances\n",
    "turi_seed,auri_seed, turi_true,auri_true, turi_pool,auri_pool = tracks.get_playlist_pooltest(pid=pid,k=k,n=n_picks)\n",
    "dist = f.distance_between_sets(turi_seed,turi_pool,strat)\n",
    "sorted_indx=np.argsort(dist)\n",
    "turi_ranked = [turi_pool[i] for i in sorted_indx]\n",
    "auri_ranked = [auri_pool[i] for i in sorted_indx]\n",
    "pd.DataFrame([ranking_stats(pid,k,strat,n_picks,turi_true,turi_pool,auri_true,auri_pool)])"
   ]
  },
  {
   "cell_type": "code",
   "execution_count": null,
   "metadata": {
    "ExecuteTime": {
     "end_time": "2018-05-04T22:08:28.753573Z",
     "start_time": "2018-05-04T22:08:28.195393Z"
    }
   },
   "outputs": [],
   "source": [
    "f_name= f.__class__.__name__\n",
    "ranked_plots(turi_pool,turi_true,turi_ranked,dist,f_name,'Tracks')"
   ]
  },
  {
   "cell_type": "markdown",
   "metadata": {},
   "source": [
    "# One playlist vs several features"
   ]
  },
  {
   "cell_type": "code",
   "execution_count": null,
   "metadata": {
    "ExecuteTime": {
     "end_time": "2018-05-04T22:08:35.396951Z",
     "start_time": "2018-05-04T22:08:35.302865Z"
    }
   },
   "outputs": [],
   "source": [
    "# select a feature\n",
    "k=25\n",
    "n_picks=5000\n",
    "pid=194\n",
    "strat='mean'\n",
    "weights= [1 for f in feats]\n",
    "# rankign based on distances\n",
    "turi_seed,auri_seed, turi_true,auri_true, turi_pool,auri_pool = tracks.get_playlist_pooltest(pid=pid,k=k,n=n_picks)\n",
    "# get scaled distance\n",
    "dist = np.zeros(len(turi_pool))\n",
    "for f,w in zip(feats,weights):\n",
    "    dist= dist + w*f.distance_between_sets(turi_seed,turi_pool,strat)\n",
    "# rank based on \n",
    "sorted_indx=np.argsort(dist)\n",
    "turi_ranked = [turi_pool[i] for i in sorted_indx]\n",
    "auri_ranked = [auri_pool[i] for i in sorted_indx]\n",
    "stats = ranking_stats(pid,k,strat,n_picks,turi_true,turi_pool,auri_true,auri_pool)\n",
    "stats['rprecision_tracks']"
   ]
  },
  {
   "cell_type": "markdown",
   "metadata": {},
   "source": [
    "# Bayesopt the weights and startegies"
   ]
  },
  {
   "cell_type": "markdown",
   "metadata": {},
   "source": [
    "### FIX RANDOM SEED"
   ]
  },
  {
   "cell_type": "code",
   "execution_count": null,
   "metadata": {
    "collapsed": true
   },
   "outputs": [],
   "source": [
    "np.random.seed(0) "
   ]
  },
  {
   "cell_type": "markdown",
   "metadata": {},
   "source": [
    "## Setup optimization parameter space\n"
   ]
  },
  {
   "cell_type": "code",
   "execution_count": null,
   "metadata": {
    "ExecuteTime": {
     "end_time": "2018-05-04T22:08:38.892726Z",
     "start_time": "2018-05-04T22:08:38.859367Z"
    }
   },
   "outputs": [],
   "source": [
    "domains=[]\n",
    "strats = ['mean','split']\n",
    "strat_dom = tuple(list([i for i,x in enumerate(strats)]))\n",
    "for f in feats:\n",
    "    f_name = f.__class__.__name__\n",
    "    domains.append({'name':'{}_weight'.format(f_name), 'type': 'continuous', 'domain': (0.,50.0)})\n",
    "    #domains.append({'name':'{}_strat'.format(f_name), 'type': 'categorical', 'domain': strat_dom,'dimensionality': 1})\n",
    "domains\n",
    "\n",
    "print (\"FINISHED\")"
   ]
  },
  {
   "cell_type": "code",
   "execution_count": null,
   "metadata": {
    "ExecuteTime": {
     "end_time": "2018-05-04T22:08:43.345891Z",
     "start_time": "2018-05-04T22:08:43.323078Z"
    }
   },
   "outputs": [],
   "source": [
    "verbose=True\n",
    "iter_n=0\n",
    "def rprecision_eval(x):\n",
    "    global iter_n\n",
    "    #print(x[0])\n",
    "    k=25\n",
    "    n_picks=10000\n",
    "    subset=500\n",
    "    strat='mean'\n",
    "    weights = [x[0][indx] for indx,i in enumerate(x[0])]\n",
    "    stats=[]\n",
    "    n_pids =100\n",
    "    pids = [i for i in np.random.randint(0,5000,n_pids)]\n",
    "    for pid in pids:\n",
    "        turi_seed,auri_seed, turi_true,auri_true, turi_pool,auri_pool = tracks.get_playlist_pooltest(pid=pid,k=k,n=n_picks)\n",
    "        if len(turi_true) > 0:\n",
    "            # get scaled distance\n",
    "            dist = np.zeros(len(turi_pool))\n",
    "            for f,w in zip(feats,weights):\n",
    "                dist= dist + w*f.distance_between_sets(turi_seed,turi_pool,strat)\n",
    "            # rank based on distance\n",
    "            sorted_indx=np.argsort(dist)\n",
    "            turi_ranked = [turi_pool[i] for i in sorted_indx][:subset]\n",
    "            auri_ranked = [auri_pool[i] for i in sorted_indx][:subset]\n",
    "            # get starts\n",
    "            stats.append(ranking_stats(pid,k,strat,n_picks,turi_true,turi_ranked,auri_true,auri_ranked))\n",
    "    stats_df = pd.DataFrame(stats)\n",
    "    # we wish to minize\n",
    "    objective  = 1.0-np.mean(stats_df['rprecision_tracks'].values)\n",
    "    #\n",
    "    if verbose:\n",
    "        print('{}: r-precision of {:.3f}'.format(iter_n,1-objective))\n",
    "        print('\\t {}'.format(str(['{:2.3f}'.format(w) for w in  weights])))\n",
    "        iter_n+=1\n",
    "    \n",
    "    return objective\n",
    "print ('finished')"
   ]
  },
  {
   "cell_type": "code",
   "execution_count": null,
   "metadata": {
    "ExecuteTime": {
     "end_time": "2018-05-04T21:52:45.994476Z",
     "start_time": "2018-05-04T21:52:27.770849Z"
    }
   },
   "outputs": [],
   "source": [
    "bopt = GPyOpt.methods.BayesianOptimization(f=rprecision_eval,                     # Objective function       \n",
    "                                             domain=domains,          # Box-constraints of the problem\n",
    "                                             initial_design_numdata = 5,   # Number data initial design\n",
    "                                             acquisition_type='EI',        # Expected Improvement\n",
    "                                             exact_feval = True)           # True evaluations, no sample noise\n",
    "\n",
    "print ('finished')"
   ]
  },
  {
   "cell_type": "code",
   "execution_count": null,
   "metadata": {
    "ExecuteTime": {
     "end_time": "2018-05-04T22:00:40.780987Z",
     "start_time": "2018-05-04T21:52:52.133974Z"
    }
   },
   "outputs": [],
   "source": [
    "max_iter=100\n",
    "bopt.run_optimization(max_iter,eps=0)"
   ]
  },
  {
   "cell_type": "code",
   "execution_count": null,
   "metadata": {
    "ExecuteTime": {
     "end_time": "2018-05-04T22:00:43.384776Z",
     "start_time": "2018-05-04T22:00:42.992722Z"
    }
   },
   "outputs": [],
   "source": [
    "bopt.plot_convergence()"
   ]
  },
  {
   "cell_type": "code",
   "execution_count": null,
   "metadata": {
    "collapsed": true
   },
   "outputs": [],
   "source": []
  }
 ],
 "metadata": {
  "kernelspec": {
   "display_name": "Python 3",
   "language": "python",
   "name": "python3"
  },
  "language_info": {
   "codemirror_mode": {
    "name": "ipython",
    "version": 3
   },
   "file_extension": ".py",
   "mimetype": "text/x-python",
   "name": "python",
   "nbconvert_exporter": "python",
   "pygments_lexer": "ipython3",
   "version": "3.6.3"
  },
  "toc": {
   "base_numbering": 1,
   "nav_menu": {},
   "number_sections": true,
   "sideBar": true,
   "skip_h1_title": false,
   "title_cell": "Table of Contents",
   "title_sidebar": "Contents",
   "toc_cell": false,
   "toc_position": {
    "height": "calc(100% - 180px)",
    "left": "10px",
    "top": "150px",
    "width": "337px"
   },
   "toc_section_display": true,
   "toc_window_display": true
  }
 },
 "nbformat": 4,
 "nbformat_minor": 2
}
