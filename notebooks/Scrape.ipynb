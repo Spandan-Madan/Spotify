{
 "cells": [
  {
   "cell_type": "code",
   "execution_count": 1,
   "metadata": {},
   "outputs": [],
   "source": [
    "import os\n",
    "import json\n",
    "import lyricwikia\n",
    "import pickle\n",
    "import sys"
   ]
  },
  {
   "cell_type": "code",
   "execution_count": 2,
   "metadata": {},
   "outputs": [],
   "source": [
    "import sys\n",
    "sys.path.append('../src')\n",
    "sys.path.append('../src/data/')\n",
    "sys.path.append('../src/models/')\n",
    "sys.path.append('../src/features/')\n",
    "sys.path.append('../src/visualization/')\n",
    "# will reload any library\n",
    "%load_ext autoreload\n",
    "%autoreload 2\n",
    "%config InlineBackend.figure_format = 'retina'\n",
    "%matplotlib inline\n",
    "from data.metrics import recall\n",
    "from visualization.plot_utils import write_latex_table, summary_pooling_table, pooling_plots, pandas_settings, plot_settings,  save_result\n",
    "# general\n",
    "import pandas as pd\n",
    "import numpy as np\n",
    "from tqdm import tqdm\n",
    "from features.tracks_info import TrackInfo\n",
    "from collections import OrderedDict\n",
    "from itertools import product\n",
    "from data_utils import product_size\n",
    "import matplotlib.pyplot as plt\n",
    "import seaborn as sns\n",
    "from collections import Counter\n"
   ]
  },
  {
   "cell_type": "code",
   "execution_count": 3,
   "metadata": {},
   "outputs": [],
   "source": [
    "from features.tracks_info import TrackInfo\n",
    "from features.popularity_feature import Popularity\n",
    "\n",
    "tracks = TrackInfo(subset='5k-')\n",
    "popularity = Popularity()"
   ]
  },
  {
   "cell_type": "code",
   "execution_count": 4,
   "metadata": {},
   "outputs": [],
   "source": [
    "import json\n",
    "from random import randint\n",
    "import os\n",
    "import json\n",
    "import lyricwikia\n",
    "import pickle\n",
    "import sys\n",
    "import numpy as np\n",
    "\n",
    "def artists_in_playlist(playlist):\n",
    "    all_ = []\n",
    "    for track in playlist['tracks']:\n",
    "        all_.append(track['artist_name'])\n",
    "    return list(set(all_))\n",
    "\n",
    "def albums_in_playlist(playlist):\n",
    "    all_ = []\n",
    "    for track in playlist['tracks']:\n",
    "        all_.append(track['album_name'])\n",
    "    return list(set(all_))\n",
    "\n",
    "def tracks_in_playlist(playlist):\n",
    "    all_ = []\n",
    "    for track in playlist['tracks']:\n",
    "        all_.append(track['track_uri'])\n",
    "    return list(set(all_))\n",
    "\n",
    "def track_names_in_playlist(playlist):\n",
    "    all_ = []\n",
    "    for track in playlist['tracks']:\n",
    "        all_.append(track['track_name'])\n",
    "    return list(set(all_))\n",
    "\n",
    "def lyrics_in_playlist(playlist):\n",
    "    all_ = {}\n",
    "    info = {}\n",
    "    ct = 0\n",
    "    failed = []\n",
    "    for track in playlist['tracks']:\n",
    "        track_uri = track['track_uri']\n",
    "        song_name = track['track_name']\n",
    "        artist_name = track['artist_name']\n",
    "        try:\n",
    "            lyrics = lyricwikia.get_lyrics(artist_name, song_name)\n",
    "            all_[track_uri] = lyrics\n",
    "            info[track_uri] = (song_name,artist_name)\n",
    "        except:\n",
    "            failed.append(ct)\n",
    "        ct += 1\n",
    "    return all_,failed,info\n",
    "\n",
    "f = open('../data/pooling/uri_to_track_info.pckl','rb')\n",
    "uri_to_name_artist = pickle.load(f)\n",
    "f.close()\n",
    "\n",
    "f = open('../data/pooling/artist_to_songs.p','rb')\n",
    "artist_to_songs = pickle.load(f)\n",
    "f.close()\n",
    "\n",
    "clean_artist_to_songs = {}\n",
    "for artist in artist_to_songs.keys():\n",
    "    clean_artist_to_songs[artist] = list(set(artist_to_songs[artist]))\n",
    "\n",
    "name_artist_to_uri = {}\n",
    "for uri in uri_to_name_artist.keys():\n",
    "    tup = uri_to_name_artist[uri]\n",
    "    name_artist_to_uri[tup] = uri\n",
    "\n",
    "from gensim.models import Word2Vec\n",
    "model = Word2Vec.load('../data/pooling/model_min5_new.bin')"
   ]
  },
  {
   "cell_type": "code",
   "execution_count": 5,
   "metadata": {},
   "outputs": [],
   "source": [
    "def scrape_lyrics(pid):\n",
    "    pl_turi,pl_auri = tracks.get_playlist(pid)\n",
    "    lyrics_list = []\n",
    "    ct = 0\n",
    "    uris = []\n",
    "    for uri in pl_turi:\n",
    "        song,artist = uri_to_name_artist['spotify:track:'+uri]\n",
    "        try:\n",
    "            lyrics = lyricwikia.get_lyrics(artist, song)\n",
    "            lyrics_list.append(lyrics.split())\n",
    "            uris.append(uri)\n",
    "        except:\n",
    "            pass\n",
    "    f = open('/Users/spandanmadan/Desktop/Spotify/Spotify/data/pooling/scraped_lyrics_%s.p'%pid,'wb')\n",
    "    pickle.dump(lyrics_list,f)\n",
    "    f.close()\n",
    "    f = open('/Users/spandanmadan/Desktop/Spotify/Spotify/data/pooling/scraped_lyrics_uris_%s.p'%pid,'wb')\n",
    "    pickle.dump(uris,f)\n",
    "    f.close()\n",
    "    return lyrics_list"
   ]
  },
  {
   "cell_type": "code",
   "execution_count": 6,
   "metadata": {},
   "outputs": [],
   "source": [
    "# scrape_lyrics(1)\n",
    "\n",
    "# pid = 1\n",
    "# f = open('/Users/spandanmadan/Desktop/Spotify/Spotify/data/pooling/scraped_lyrics_%s.p'%pid,'rb')\n",
    "# lyrics_list = pickle.load(f)\n",
    "# f.close()\n",
    "# f = open('/Users/spandanmadan/Desktop/Spotify/Spotify/data/pooling/scraped_lyrics_uris_%s.p'%pid,'rb')\n",
    "# uris = pickle.load(f)\n",
    "# f.close()"
   ]
  },
  {
   "cell_type": "code",
   "execution_count": null,
   "metadata": {},
   "outputs": [
    {
     "name": "stdout",
     "output_type": "stream",
     "text": [
      "working on pid  1800\n",
      "working on pid  1850\n",
      "working on pid  1900\n",
      "working on pid  1950\n",
      "working on pid  2000\n",
      "working on pid  2050\n",
      "working on pid  2100\n",
      "working on pid  2150\n",
      "working on pid  2200\n",
      "working on pid  2250\n",
      "working on pid  2300\n",
      "working on pid  2350\n"
     ]
    }
   ],
   "source": [
    "# all_lyrics = []\n",
    "for pid in range(1798,5000):\n",
    "    if pid % 50 == 0:\n",
    "        print('working on pid ',pid)\n",
    "    lyrics_playlist = scrape_lyrics(pid)\n",
    "#     all_lyrics += lyrics_playlist"
   ]
  },
  {
   "cell_type": "code",
   "execution_count": null,
   "metadata": {},
   "outputs": [],
   "source": [
    "f = open('/Users/spandanmadan/Desktop/Spotify/Spotify/data/pooling/all_lyrics.p','wb')\n",
    "pickle.dump(all_lyrics,f)\n",
    "f.close()"
   ]
  },
  {
   "cell_type": "code",
   "execution_count": null,
   "metadata": {},
   "outputs": [],
   "source": [
    "from sklearn.feature_extraction.text import TfidfVectorizer\n",
    "# list of text documents\n",
    "text = [' '.join(words) for words in all_lyrics]\n",
    "# create the transform\n",
    "vectorizer = TfidfVectorizer(max_df = 0.9,min_df = 0.05)\n",
    "# tokenize and build vocab\n",
    "vectorizer.fit(text)\n",
    "# # summarize\n",
    "# print(vectorizer.vocabulary_)\n",
    "# print(vectorizer.idf_)\n",
    "# # encode document\n",
    "# vector = vectorizer.transform([text[0]])\n",
    "# # summarize encoded vector\n",
    "# print(vector.shape)\n",
    "# print(vector.toarray())"
   ]
  },
  {
   "cell_type": "code",
   "execution_count": 34,
   "metadata": {},
   "outputs": [],
   "source": [
    "f = open('/Users/spandanmadan/Desktop/Spotify/Spotify/data/pooling/all_lyrics.p','wb')\n",
    "pickle.dump(text,f)\n",
    "f.close()"
   ]
  },
  {
   "cell_type": "code",
   "execution_count": null,
   "metadata": {},
   "outputs": [],
   "source": [
    "f = open('/Users/spandanmadan/Desktop/Spotify/Spotify/data/pooling/tfidf.p','wb')\n",
    "pickle.dump(vectorizer,f)\n",
    "f.close()"
   ]
  },
  {
   "cell_type": "code",
   "execution_count": null,
   "metadata": {},
   "outputs": [],
   "source": []
  }
 ],
 "metadata": {
  "kernelspec": {
   "display_name": "Python 3",
   "language": "python",
   "name": "python3"
  },
  "language_info": {
   "codemirror_mode": {
    "name": "ipython",
    "version": 3
   },
   "file_extension": ".py",
   "mimetype": "text/x-python",
   "name": "python",
   "nbconvert_exporter": "python",
   "pygments_lexer": "ipython3",
   "version": "3.6.4"
  }
 },
 "nbformat": 4,
 "nbformat_minor": 2
}
