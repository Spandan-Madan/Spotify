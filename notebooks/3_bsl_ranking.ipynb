{
 "cells": [
  {
   "cell_type": "code",
   "execution_count": 1,
   "metadata": {
    "ExecuteTime": {
     "end_time": "2018-05-01T01:13:55.437643Z",
     "start_time": "2018-05-01T01:13:55.424806Z"
    }
   },
   "outputs": [],
   "source": [
    "import sys\n",
    "sys.path.append('../src')\n",
    "sys.path.append('../src/data/')\n",
    "sys.path.append('../src/models/')\n",
    "sys.path.append('../src/features/')\n",
    "sys.path.append('../src/visualization/')\n",
    "# will reload any library\n",
    "%load_ext autoreload\n",
    "%autoreload 2"
   ]
  },
  {
   "cell_type": "code",
   "execution_count": 2,
   "metadata": {
    "ExecuteTime": {
     "end_time": "2018-05-01T01:13:56.918071Z",
     "start_time": "2018-05-01T01:13:55.441037Z"
    }
   },
   "outputs": [],
   "source": [
    "# sportify specific\n",
    "from data.metrics_track import r_precision, cosine_sim_closest, cosine_sim_top, NDCG\n",
    "from visualization.plot_utils import write_latex_table\n",
    "# general\n",
    "import pandas as pd\n",
    "import numpy as np\n",
    "from tqdm import tqdm\n",
    "from features.audio_features import AudioFeatures\n",
    "from features.popularity_feature import Popularity\n",
    "\n",
    "from features.tracks_info import TrackInfo\n",
    "from collections import OrderedDict\n",
    "import data.compressed_pickle as cpick\n",
    "from visualization.plot_utils import glance_dict"
   ]
  },
  {
   "cell_type": "markdown",
   "metadata": {},
   "source": [
    "# Load track data"
   ]
  },
  {
   "cell_type": "code",
   "execution_count": 18,
   "metadata": {
    "ExecuteTime": {
     "end_time": "2018-05-01T01:01:20.324216Z",
     "start_time": "2018-05-01T01:01:09.655450Z"
    }
   },
   "outputs": [
    {
     "name": "stdout",
     "output_type": "stream",
     "text": [
      "Saving to ../data/interim/popularity.pkl.bz2\n"
     ]
    }
   ],
   "source": [
    "cpick.save('../data/interim/popularity.pkl.bz2',result.to_dict()['popularity'])"
   ]
  },
  {
   "cell_type": "code",
   "execution_count": 19,
   "metadata": {
    "ExecuteTime": {
     "end_time": "2018-05-01T01:01:57.720589Z",
     "start_time": "2018-05-01T01:01:47.672206Z"
    }
   },
   "outputs": [
    {
     "data": {
      "text/plain": [
       "{'0UaMYEvWZi0ZqiDOoHU3YI': 66.0,\n",
       " '6I9VzXrHxO9rA9A5euc8Ak': 78.0,\n",
       " '0WqIKmW4BTrj3eJFmnCKMv': 60.0}"
      ]
     },
     "execution_count": 19,
     "metadata": {},
     "output_type": "execute_result"
    }
   ],
   "source": [
    "result = cpick.load('../data/interim/popularity.pkl.bz2')\n",
    "glance_dict(result)"
   ]
  },
  {
   "cell_type": "code",
   "execution_count": 26,
   "metadata": {
    "ExecuteTime": {
     "end_time": "2018-05-01T01:05:48.024678Z",
     "start_time": "2018-05-01T01:05:47.862845Z"
    }
   },
   "outputs": [
    {
     "data": {
      "text/plain": [
       "34859818.39690124"
      ]
     },
     "execution_count": 26,
     "metadata": {},
     "output_type": "execute_result"
    }
   ],
   "source": [
    "np.sum(list(result.values()))"
   ]
  },
  {
   "cell_type": "code",
   "execution_count": 25,
   "metadata": {
    "ExecuteTime": {
     "end_time": "2018-05-01T01:05:31.921222Z",
     "start_time": "2018-05-01T01:05:28.612043Z"
    }
   },
   "outputs": [],
   "source": [
    "mean_v = np.mean([v for v in list(result.values()) if not np.isnan(v) ])\n",
    "for key,val in result.items():\n",
    "    if np.isnan(val):\n",
    "        result[key]=mean_v"
   ]
  },
  {
   "cell_type": "code",
   "execution_count": 3,
   "metadata": {
    "ExecuteTime": {
     "end_time": "2018-05-01T01:15:03.925236Z",
     "start_time": "2018-05-01T01:14:05.306428Z"
    },
    "scrolled": true
   },
   "outputs": [
    {
     "ename": "TypeError",
     "evalue": "preprocess() missing 1 required positional argument: 'df'",
     "output_type": "error",
     "traceback": [
      "\u001b[0;31m---------------------------------------------------------------------------\u001b[0m",
      "\u001b[0;31mTypeError\u001b[0m                                 Traceback (most recent call last)",
      "\u001b[0;32m<ipython-input-3-16cd9ca354e9>\u001b[0m in \u001b[0;36m<module>\u001b[0;34m()\u001b[0m\n\u001b[1;32m      1\u001b[0m \u001b[0mtracks\u001b[0m \u001b[0;34m=\u001b[0m \u001b[0mTrackInfo\u001b[0m\u001b[0;34m(\u001b[0m\u001b[0msubset\u001b[0m\u001b[0;34m=\u001b[0m\u001b[0;34m'5k-'\u001b[0m\u001b[0;34m)\u001b[0m\u001b[0;34m\u001b[0m\u001b[0m\n\u001b[0;32m----> 2\u001b[0;31m \u001b[0mfeat\u001b[0m \u001b[0;34m=\u001b[0m \u001b[0mPopularity\u001b[0m\u001b[0;34m(\u001b[0m\u001b[0;34m)\u001b[0m\u001b[0;34m\u001b[0m\u001b[0m\n\u001b[0m",
      "\u001b[0;32m~/projects/Spotify/src/features/popularity_feature.py\u001b[0m in \u001b[0;36m__init__\u001b[0;34m(self, subset)\u001b[0m\n\u001b[1;32m     16\u001b[0m         \u001b[0mafile\u001b[0m \u001b[0;34m=\u001b[0m \u001b[0mjoin_path\u001b[0m\u001b[0;34m(\u001b[0m\u001b[0mDATA_PATH\u001b[0m\u001b[0;34m,\u001b[0m \u001b[0;34m'{}popularity.pkl.bz2'\u001b[0m\u001b[0;34m.\u001b[0m\u001b[0mformat\u001b[0m\u001b[0;34m(\u001b[0m\u001b[0msubset\u001b[0m\u001b[0;34m)\u001b[0m\u001b[0;34m)\u001b[0m\u001b[0;34m\u001b[0m\u001b[0m\n\u001b[1;32m     17\u001b[0m         \u001b[0mself\u001b[0m\u001b[0;34m.\u001b[0m\u001b[0mpop\u001b[0m \u001b[0;34m=\u001b[0m \u001b[0mcpick\u001b[0m\u001b[0;34m.\u001b[0m\u001b[0mload\u001b[0m\u001b[0;34m(\u001b[0m\u001b[0mafile\u001b[0m\u001b[0;34m)\u001b[0m\u001b[0;34m\u001b[0m\u001b[0m\n\u001b[0;32m---> 18\u001b[0;31m         \u001b[0mself\u001b[0m\u001b[0;34m.\u001b[0m\u001b[0mpreprocess\u001b[0m\u001b[0;34m(\u001b[0m\u001b[0;34m)\u001b[0m\u001b[0;34m\u001b[0m\u001b[0m\n\u001b[0m\u001b[1;32m     19\u001b[0m \u001b[0;34m\u001b[0m\u001b[0m\n\u001b[1;32m     20\u001b[0m     \u001b[0;32mdef\u001b[0m \u001b[0mpreprocess\u001b[0m\u001b[0;34m(\u001b[0m\u001b[0mself\u001b[0m\u001b[0;34m,\u001b[0m \u001b[0mdf\u001b[0m\u001b[0;34m)\u001b[0m\u001b[0;34m:\u001b[0m\u001b[0;34m\u001b[0m\u001b[0m\n",
      "\u001b[0;31mTypeError\u001b[0m: preprocess() missing 1 required positional argument: 'df'"
     ]
    }
   ],
   "source": [
    "tracks = TrackInfo(subset='5k-')\n"
   ]
  },
  {
   "cell_type": "code",
   "execution_count": 5,
   "metadata": {
    "ExecuteTime": {
     "end_time": "2018-05-01T01:15:59.215636Z",
     "start_time": "2018-05-01T01:15:44.288849Z"
    }
   },
   "outputs": [],
   "source": [
    "feat = Popularity()"
   ]
  },
  {
   "cell_type": "code",
   "execution_count": 7,
   "metadata": {
    "ExecuteTime": {
     "end_time": "2018-05-01T01:16:01.818975Z",
     "start_time": "2018-05-01T01:16:01.795156Z"
    }
   },
   "outputs": [],
   "source": [
    "pid=194\n",
    "seed_t,seed_a, true_t,true_a,pool_t,pool_a = tracks.get_playlist_pooltest(pid=pid,k=25)"
   ]
  },
  {
   "cell_type": "code",
   "execution_count": null,
   "metadata": {},
   "outputs": [],
   "source": [
    "tra"
   ]
  },
  {
   "cell_type": "code",
   "execution_count": 13,
   "metadata": {
    "ExecuteTime": {
     "end_time": "2018-05-01T01:17:26.975158Z",
     "start_time": "2018-05-01T01:17:26.958123Z"
    }
   },
   "outputs": [
    {
     "name": "stdout",
     "output_type": "stream",
     "text": [
      "[[ 3.98241073]\n",
      " [ 3.12275737]\n",
      " [ 3.83913517]\n",
      " [ 1.33181287]\n",
      " [ 3.33767071]\n",
      " [ 1.18853731]\n",
      " [ 4.1256863 ]\n",
      " [ 3.62422183]\n",
      " [ 3.33767071]\n",
      " [ 4.34059964]\n",
      " [ 4.26896186]\n",
      " [ 3.83913517]\n",
      " [ 1.97655289]\n",
      " [ 4.34059964]\n",
      " [ 4.41223742]\n",
      " [ 3.83913517]\n",
      " [-1.03223387]\n",
      " [ 3.40930849]\n",
      " [ 3.62422183]\n",
      " [ 0.90198619]\n",
      " [ 3.55258405]\n",
      " [ 3.62422183]\n",
      " [ 4.4838752 ]\n",
      " [ 3.91077295]\n",
      " [ 3.69585961]]\n"
     ]
    }
   ],
   "source": [
    "seed_f = feat.transform(seed_t)\n",
    "pool_f = feat.transform(pool_t)"
   ]
  },
  {
   "cell_type": "code",
   "execution_count": 6,
   "metadata": {
    "ExecuteTime": {
     "end_time": "2018-04-30T08:22:39.249472Z",
     "start_time": "2018-04-30T08:22:39.219374Z"
    }
   },
   "outputs": [],
   "source": [
    "k_range = [1, 5, 10, 25, 100]\n",
    "max_picks = 500\n",
    "# load playlist\n",
    "pid = 194\n",
    "pl_turi,pl_auri = tracks.get_playlist(pid)\n",
    "n_songs = len(pl_turi)"
   ]
  },
  {
   "cell_type": "code",
   "execution_count": 17,
   "metadata": {
    "ExecuteTime": {
     "end_time": "2018-04-29T21:09:33.629527Z",
     "start_time": "2018-04-29T21:09:31.618524Z"
    }
   },
   "outputs": [
    {
     "name": "stdout",
     "output_type": "stream",
     "text": [
      "Test on playlist 194\n",
      "     k  r precision      NDGC\n",
      "0    1     0.023256  0.463649\n",
      "1    5     0.024000  0.269681\n",
      "2   10     0.033333  0.228421\n",
      "3   25     0.009524  0.000000\n",
      "4  100     0.000000  0.000000\n"
     ]
    }
   ],
   "source": [
    "suggest_df = pd.DataFrame()\n",
    "n_top = 10\n",
    "x_pred = OrderedDict()\n",
    "stats = []\n",
    "print('Test on playlist {:d}'.format(pid))\n",
    "for k in k_range:\n",
    "    x_pred[k] = []\n",
    "    k_picks = int(max_picks / k)\n",
    "    for i in range(k):\n",
    "        x_query = xp[i - 1, :]\n",
    "        ind, sim = cosine_sim_closest(X, x_query, k_picks)\n",
    "        x_pred[k] = x_pred[k] + list(ind)\n",
    "    subset_ids = pl_ints[k:]\n",
    "    result = OrderedDict()\n",
    "    result['k'] = k\n",
    "    result['r precision'] = r_precision(subset_ids, x_pred[k])\n",
    "    result['NDGC'] = NDCG(subset_ids, x_pred[k])\n",
    "    stats.append(result)\n",
    "\n",
    "sdf = pd.DataFrame(stats)\n",
    "print(sdf)\n",
    "\n",
    "write_latex_table(sdf, 'metrics', adir='.', render=True)"
   ]
  }
 ],
 "metadata": {
  "kernelspec": {
   "display_name": "Python [conda env:anaconda3]",
   "language": "python",
   "name": "conda-env-anaconda3-py"
  },
  "language_info": {
   "codemirror_mode": {
    "name": "ipython",
    "version": 3
   },
   "file_extension": ".py",
   "mimetype": "text/x-python",
   "name": "python",
   "nbconvert_exporter": "python",
   "pygments_lexer": "ipython3",
   "version": "3.6.5"
  },
  "toc": {
   "base_numbering": 1,
   "nav_menu": {},
   "number_sections": true,
   "sideBar": true,
   "skip_h1_title": false,
   "title_cell": "Table of Contents",
   "title_sidebar": "Contents",
   "toc_cell": false,
   "toc_position": {
    "height": "calc(100% - 180px)",
    "left": "10px",
    "top": "150px",
    "width": "371px"
   },
   "toc_section_display": true,
   "toc_window_display": true
  }
 },
 "nbformat": 4,
 "nbformat_minor": 2
}
